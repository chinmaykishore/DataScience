{
 "cells": [
  {
   "cell_type": "markdown",
   "metadata": {},
   "source": [
    "___\n",
    "\n",
    "<a href='http://www.pieriandata.com'> <img src='../Pierian_Data_Logo.png' /></a>\n",
    "___\n",
    "# Plotly and Cufflinks"
   ]
  },
  {
   "cell_type": "markdown",
   "metadata": {},
   "source": [
    "Plotly is a library that allows you to create interactive plots that you can use in dashboards or websites (you can save them as html files or static images).\n",
    "\n",
    "## Installation\n",
    "\n",
    "In order for this all to work, you'll need to install plotly and cufflinks to call plots directly off of a pandas dataframe. These libraries are not currently available through **conda** but are available through **pip**. Install the libraries at your command line/terminal using:\n",
    "\n",
    "    pip install plotly\n",
    "    pip install cufflinks\n",
    "\n",
    "** NOTE: Make sure you only have one installation of Python on your computer when you do this, otherwise the installation may not work. **\n",
    "\n",
    "## Imports and Set-up"
   ]
  },
  {
   "cell_type": "code",
   "execution_count": 1,
   "metadata": {},
   "outputs": [],
   "source": [
    "import pandas as pd\n",
    "import numpy as np\n",
    "%matplotlib inline"
   ]
  },
  {
   "cell_type": "code",
   "execution_count": 2,
   "metadata": {},
   "outputs": [
    {
     "name": "stdout",
     "output_type": "stream",
     "text": [
      "4.4.1\n"
     ]
    }
   ],
   "source": [
    "from plotly import __version__\n",
    "from plotly.offline import download_plotlyjs, init_notebook_mode, plot, iplot\n",
    "\n",
    "print(__version__) # requires version >= 1.9.0"
   ]
  },
  {
   "cell_type": "code",
   "execution_count": 3,
   "metadata": {},
   "outputs": [],
   "source": [
    "import cufflinks as cf"
   ]
  },
  {
   "cell_type": "code",
   "execution_count": 4,
   "metadata": {},
   "outputs": [
    {
     "data": {
      "text/html": [
       "        <script type=\"text/javascript\">\n",
       "        window.PlotlyConfig = {MathJaxConfig: 'local'};\n",
       "        if (window.MathJax) {MathJax.Hub.Config({SVG: {font: \"STIX-Web\"}});}\n",
       "        if (typeof require !== 'undefined') {\n",
       "        require.undef(\"plotly\");\n",
       "        requirejs.config({\n",
       "            paths: {\n",
       "                'plotly': ['https://cdn.plot.ly/plotly-latest.min']\n",
       "            }\n",
       "        });\n",
       "        require(['plotly'], function(Plotly) {\n",
       "            window._Plotly = Plotly;\n",
       "        });\n",
       "        }\n",
       "        </script>\n",
       "        "
      ]
     },
     "metadata": {},
     "output_type": "display_data"
    }
   ],
   "source": [
    "# For Notebooks\n",
    "init_notebook_mode(connected=True)"
   ]
  },
  {
   "cell_type": "code",
   "execution_count": 5,
   "metadata": {},
   "outputs": [
    {
     "data": {
      "text/html": [
       "        <script type=\"text/javascript\">\n",
       "        window.PlotlyConfig = {MathJaxConfig: 'local'};\n",
       "        if (window.MathJax) {MathJax.Hub.Config({SVG: {font: \"STIX-Web\"}});}\n",
       "        if (typeof require !== 'undefined') {\n",
       "        require.undef(\"plotly\");\n",
       "        requirejs.config({\n",
       "            paths: {\n",
       "                'plotly': ['https://cdn.plot.ly/plotly-latest.min']\n",
       "            }\n",
       "        });\n",
       "        require(['plotly'], function(Plotly) {\n",
       "            window._Plotly = Plotly;\n",
       "        });\n",
       "        }\n",
       "        </script>\n",
       "        "
      ]
     },
     "metadata": {},
     "output_type": "display_data"
    }
   ],
   "source": [
    "# For offline use\n",
    "cf.go_offline()"
   ]
  },
  {
   "cell_type": "markdown",
   "metadata": {},
   "source": [
    "### Fake Data"
   ]
  },
  {
   "cell_type": "code",
   "execution_count": 7,
   "metadata": {},
   "outputs": [],
   "source": [
    "df = pd.DataFrame(np.random.randn(100,4),columns='A B C D'.split())"
   ]
  },
  {
   "cell_type": "code",
   "execution_count": 8,
   "metadata": {},
   "outputs": [
    {
     "data": {
      "text/html": [
       "<div>\n",
       "<style scoped>\n",
       "    .dataframe tbody tr th:only-of-type {\n",
       "        vertical-align: middle;\n",
       "    }\n",
       "\n",
       "    .dataframe tbody tr th {\n",
       "        vertical-align: top;\n",
       "    }\n",
       "\n",
       "    .dataframe thead th {\n",
       "        text-align: right;\n",
       "    }\n",
       "</style>\n",
       "<table border=\"1\" class=\"dataframe\">\n",
       "  <thead>\n",
       "    <tr style=\"text-align: right;\">\n",
       "      <th></th>\n",
       "      <th>A</th>\n",
       "      <th>B</th>\n",
       "      <th>C</th>\n",
       "      <th>D</th>\n",
       "    </tr>\n",
       "  </thead>\n",
       "  <tbody>\n",
       "    <tr>\n",
       "      <td>0</td>\n",
       "      <td>1.510149</td>\n",
       "      <td>0.054979</td>\n",
       "      <td>-0.369978</td>\n",
       "      <td>-1.386370</td>\n",
       "    </tr>\n",
       "    <tr>\n",
       "      <td>1</td>\n",
       "      <td>-0.640528</td>\n",
       "      <td>1.436856</td>\n",
       "      <td>0.014667</td>\n",
       "      <td>0.956181</td>\n",
       "    </tr>\n",
       "    <tr>\n",
       "      <td>2</td>\n",
       "      <td>-0.512956</td>\n",
       "      <td>-0.226078</td>\n",
       "      <td>1.053045</td>\n",
       "      <td>0.802448</td>\n",
       "    </tr>\n",
       "    <tr>\n",
       "      <td>3</td>\n",
       "      <td>1.994554</td>\n",
       "      <td>0.201477</td>\n",
       "      <td>1.334724</td>\n",
       "      <td>1.350288</td>\n",
       "    </tr>\n",
       "    <tr>\n",
       "      <td>4</td>\n",
       "      <td>0.723955</td>\n",
       "      <td>-1.455550</td>\n",
       "      <td>0.439057</td>\n",
       "      <td>-0.115844</td>\n",
       "    </tr>\n",
       "  </tbody>\n",
       "</table>\n",
       "</div>"
      ],
      "text/plain": [
       "          A         B         C         D\n",
       "0  1.510149  0.054979 -0.369978 -1.386370\n",
       "1 -0.640528  1.436856  0.014667  0.956181\n",
       "2 -0.512956 -0.226078  1.053045  0.802448\n",
       "3  1.994554  0.201477  1.334724  1.350288\n",
       "4  0.723955 -1.455550  0.439057 -0.115844"
      ]
     },
     "execution_count": 8,
     "metadata": {},
     "output_type": "execute_result"
    }
   ],
   "source": [
    "df.head()"
   ]
  },
  {
   "cell_type": "code",
   "execution_count": 9,
   "metadata": {},
   "outputs": [],
   "source": [
    "df2 = pd.DataFrame({'Category':['A','B','C'],'Values':[32,43,50]})"
   ]
  },
  {
   "cell_type": "code",
   "execution_count": 10,
   "metadata": {},
   "outputs": [
    {
     "data": {
      "text/html": [
       "<div>\n",
       "<style scoped>\n",
       "    .dataframe tbody tr th:only-of-type {\n",
       "        vertical-align: middle;\n",
       "    }\n",
       "\n",
       "    .dataframe tbody tr th {\n",
       "        vertical-align: top;\n",
       "    }\n",
       "\n",
       "    .dataframe thead th {\n",
       "        text-align: right;\n",
       "    }\n",
       "</style>\n",
       "<table border=\"1\" class=\"dataframe\">\n",
       "  <thead>\n",
       "    <tr style=\"text-align: right;\">\n",
       "      <th></th>\n",
       "      <th>Category</th>\n",
       "      <th>Values</th>\n",
       "    </tr>\n",
       "  </thead>\n",
       "  <tbody>\n",
       "    <tr>\n",
       "      <td>0</td>\n",
       "      <td>A</td>\n",
       "      <td>32</td>\n",
       "    </tr>\n",
       "    <tr>\n",
       "      <td>1</td>\n",
       "      <td>B</td>\n",
       "      <td>43</td>\n",
       "    </tr>\n",
       "    <tr>\n",
       "      <td>2</td>\n",
       "      <td>C</td>\n",
       "      <td>50</td>\n",
       "    </tr>\n",
       "  </tbody>\n",
       "</table>\n",
       "</div>"
      ],
      "text/plain": [
       "  Category  Values\n",
       "0        A      32\n",
       "1        B      43\n",
       "2        C      50"
      ]
     },
     "execution_count": 10,
     "metadata": {},
     "output_type": "execute_result"
    }
   ],
   "source": [
    "df2.head()"
   ]
  },
  {
   "cell_type": "markdown",
   "metadata": {},
   "source": [
    "## Using Cufflinks and iplot()\n",
    "\n",
    "* scatter\n",
    "* bar\n",
    "* box\n",
    "* spread\n",
    "* ratio\n",
    "* heatmap\n",
    "* surface\n",
    "* histogram\n",
    "* bubble"
   ]
  },
  {
   "cell_type": "markdown",
   "metadata": {},
   "source": [
    "## Scatter"
   ]
  },
  {
   "cell_type": "code",
   "execution_count": 11,
   "metadata": {},
   "outputs": [
    {
     "data": {
      "application/vnd.plotly.v1+json": {
       "config": {
        "linkText": "Export to plot.ly",
        "plotlyServerURL": "https://plot.ly",
        "showLink": true
       },
       "data": [
        {
         "line": {
          "color": "rgba(255, 153, 51, 1.0)",
          "dash": "solid",
          "shape": "linear",
          "width": 1.3
         },
         "marker": {
          "size": 10,
          "symbol": "circle"
         },
         "mode": "markers",
         "name": "B",
         "text": "",
         "type": "scatter",
         "x": [
          1.5101490399848538,
          -0.6405275834738976,
          -0.512955812775037,
          1.9945535110166155,
          0.7239546875357956,
          0.8193567705112613,
          1.192205706744129,
          -0.06787383362506158,
          -0.9802554854905633,
          0.6983271064470218,
          -0.09113355613425492,
          1.2313007346971012,
          0.5877414638414414,
          0.44701759506099287,
          -1.4625771180718434,
          -2.652004600843019,
          0.09877482172888144,
          1.1629678060014554,
          0.7691594293148781,
          -0.1364317997818323,
          -0.16022426763322922,
          0.325414195254767,
          0.2688277762024969,
          1.841688695638128,
          -0.3097790041736717,
          -0.27035022527693,
          -0.3223095653633265,
          -0.1461980419232848,
          2.3170839799717053,
          1.8369084706357632,
          -0.7221143171938086,
          -0.6348791926259997,
          0.041316979821828165,
          -2.6008465783966845,
          0.1232552893656748,
          0.7240482389471554,
          -1.1566478307252988,
          0.06803529895168065,
          -0.08971460905870797,
          0.18012357430894557,
          0.9225730627109227,
          -1.445603452520163,
          -0.2895665306804073,
          0.09538268325347563,
          1.287372036995754,
          -0.6105013600450948,
          -0.7654308216950918,
          0.6525813929540183,
          1.3259746476590089,
          2.3626108894511493,
          -0.8445790982577436,
          0.01824503703149911,
          -0.9283950022622932,
          0.33636857025188516,
          -0.8613816355113362,
          0.40466279012072576,
          0.8363332121586713,
          -1.239556920419094,
          0.27739221030357436,
          -0.4021079811857981,
          1.4712926754951638,
          0.25657991140085984,
          -0.8310974348171803,
          0.6114113100084001,
          -0.955427588323675,
          0.5184833162831455,
          -1.0452960939323077,
          0.4667513077038204,
          -0.723458426308934,
          -2.5867925551081035,
          0.7903424657093867,
          -0.4936357686129681,
          -0.7627359863188906,
          0.3536789889194609,
          -1.2902491381524273,
          0.1912991604086632,
          0.9121151372265259,
          0.7373090629882498,
          0.5037650361608089,
          1.1318384618076784,
          -0.32154075364181933,
          0.9361876383988863,
          1.0476083383554216,
          0.4720998866594356,
          -0.4088347948063875,
          -0.2047000651934584,
          -0.8547597310671836,
          0.9836937217040943,
          1.5744087429243852,
          1.4033565625484767,
          -0.7242927426020687,
          -0.6910896152379462,
          0.7961011916043215,
          -0.1451686332386725,
          0.23618649203945938,
          -0.9005205826485293,
          0.5929153455591286,
          -1.3558193667814635,
          1.555509083173195,
          1.5661931184442937
         ],
         "y": [
          0.054979191128094816,
          1.4368555640509848,
          -0.22607750843614138,
          0.20147652277293557,
          -1.4555502346439408,
          1.235727105253792,
          0.45538137880566887,
          -1.3010732893534303,
          -1.2691000601151483,
          1.6370568366415919,
          0.3071655217652912,
          -0.5990722768644184,
          -2.647254678769929,
          0.702738372406523,
          0.07191205239778133,
          1.2001027658925585,
          0.3102254510934988,
          -2.907098840258816,
          -1.2688217753814637,
          -0.9838590414229287,
          0.9115690199446567,
          0.9469701010827166,
          0.15696478517473111,
          1.6471109893762343,
          -0.8977548136067434,
          -0.9199482432111052,
          0.8687462611039781,
          -0.49259127413312087,
          1.9997186565748608,
          0.28299432369597044,
          0.5636013029300263,
          -0.533031353093187,
          -2.3004571749120823,
          0.5371737481378878,
          0.8350225602155451,
          -0.5948402186277807,
          -0.1895541588040986,
          -0.05861025295657063,
          -2.0990765127482067,
          0.12005665584931399,
          -1.1097215512147067,
          0.3041362882859407,
          0.9611494673654635,
          -0.7724740028745279,
          1.8364041184574287,
          0.5150682119767902,
          -0.7953027555580844,
          1.5755045849174594,
          -0.8625472207013256,
          -0.3765871069608661,
          -0.35965627007750917,
          0.8907945673388414,
          -0.5211463173335591,
          0.229942887701415,
          1.2070059543372178,
          -1.747909478166768,
          -1.2544204297967272,
          -0.39345806939876377,
          1.3525798011451498,
          -1.5634681769462817,
          1.5231440386058803,
          0.5615698709650291,
          -0.5986586180194643,
          0.060079755434575555,
          2.140389869307584,
          0.11628915233426852,
          0.5943641768616253,
          1.4935800759035067,
          -0.4025470502298976,
          -2.179590754822418,
          0.46750448914317605,
          1.477145305796776,
          -1.665319404483263,
          0.3085561347371331,
          -0.3453710286044497,
          0.5562338663194516,
          -0.2790322781489596,
          -0.9642744260233003,
          -0.4545174340207927,
          -0.23539992106019608,
          -0.7628340515598176,
          -1.5311459626066464,
          0.7231843780477117,
          0.44513667647675115,
          0.7252438502557419,
          0.010664927582359943,
          -1.2889237131715514,
          0.9850276280938937,
          0.24092972415915567,
          -0.9866877607378947,
          -2.154137554731013,
          -0.1285673748219936,
          -0.24435316549739328,
          0.7796057011313241,
          -0.37089112604330343,
          1.7190997934959267,
          0.11110381508124938,
          -0.19742003370703887,
          0.3459687603740203,
          -1.1825722115533015
         ]
        }
       ],
       "layout": {
        "legend": {
         "bgcolor": "#F5F6F9",
         "font": {
          "color": "#4D5663"
         }
        },
        "paper_bgcolor": "#F5F6F9",
        "plot_bgcolor": "#F5F6F9",
        "template": {
         "data": {
          "bar": [
           {
            "error_x": {
             "color": "#2a3f5f"
            },
            "error_y": {
             "color": "#2a3f5f"
            },
            "marker": {
             "line": {
              "color": "#E5ECF6",
              "width": 0.5
             }
            },
            "type": "bar"
           }
          ],
          "barpolar": [
           {
            "marker": {
             "line": {
              "color": "#E5ECF6",
              "width": 0.5
             }
            },
            "type": "barpolar"
           }
          ],
          "carpet": [
           {
            "aaxis": {
             "endlinecolor": "#2a3f5f",
             "gridcolor": "white",
             "linecolor": "white",
             "minorgridcolor": "white",
             "startlinecolor": "#2a3f5f"
            },
            "baxis": {
             "endlinecolor": "#2a3f5f",
             "gridcolor": "white",
             "linecolor": "white",
             "minorgridcolor": "white",
             "startlinecolor": "#2a3f5f"
            },
            "type": "carpet"
           }
          ],
          "choropleth": [
           {
            "colorbar": {
             "outlinewidth": 0,
             "ticks": ""
            },
            "type": "choropleth"
           }
          ],
          "contour": [
           {
            "colorbar": {
             "outlinewidth": 0,
             "ticks": ""
            },
            "colorscale": [
             [
              0,
              "#0d0887"
             ],
             [
              0.1111111111111111,
              "#46039f"
             ],
             [
              0.2222222222222222,
              "#7201a8"
             ],
             [
              0.3333333333333333,
              "#9c179e"
             ],
             [
              0.4444444444444444,
              "#bd3786"
             ],
             [
              0.5555555555555556,
              "#d8576b"
             ],
             [
              0.6666666666666666,
              "#ed7953"
             ],
             [
              0.7777777777777778,
              "#fb9f3a"
             ],
             [
              0.8888888888888888,
              "#fdca26"
             ],
             [
              1,
              "#f0f921"
             ]
            ],
            "type": "contour"
           }
          ],
          "contourcarpet": [
           {
            "colorbar": {
             "outlinewidth": 0,
             "ticks": ""
            },
            "type": "contourcarpet"
           }
          ],
          "heatmap": [
           {
            "colorbar": {
             "outlinewidth": 0,
             "ticks": ""
            },
            "colorscale": [
             [
              0,
              "#0d0887"
             ],
             [
              0.1111111111111111,
              "#46039f"
             ],
             [
              0.2222222222222222,
              "#7201a8"
             ],
             [
              0.3333333333333333,
              "#9c179e"
             ],
             [
              0.4444444444444444,
              "#bd3786"
             ],
             [
              0.5555555555555556,
              "#d8576b"
             ],
             [
              0.6666666666666666,
              "#ed7953"
             ],
             [
              0.7777777777777778,
              "#fb9f3a"
             ],
             [
              0.8888888888888888,
              "#fdca26"
             ],
             [
              1,
              "#f0f921"
             ]
            ],
            "type": "heatmap"
           }
          ],
          "heatmapgl": [
           {
            "colorbar": {
             "outlinewidth": 0,
             "ticks": ""
            },
            "colorscale": [
             [
              0,
              "#0d0887"
             ],
             [
              0.1111111111111111,
              "#46039f"
             ],
             [
              0.2222222222222222,
              "#7201a8"
             ],
             [
              0.3333333333333333,
              "#9c179e"
             ],
             [
              0.4444444444444444,
              "#bd3786"
             ],
             [
              0.5555555555555556,
              "#d8576b"
             ],
             [
              0.6666666666666666,
              "#ed7953"
             ],
             [
              0.7777777777777778,
              "#fb9f3a"
             ],
             [
              0.8888888888888888,
              "#fdca26"
             ],
             [
              1,
              "#f0f921"
             ]
            ],
            "type": "heatmapgl"
           }
          ],
          "histogram": [
           {
            "marker": {
             "colorbar": {
              "outlinewidth": 0,
              "ticks": ""
             }
            },
            "type": "histogram"
           }
          ],
          "histogram2d": [
           {
            "colorbar": {
             "outlinewidth": 0,
             "ticks": ""
            },
            "colorscale": [
             [
              0,
              "#0d0887"
             ],
             [
              0.1111111111111111,
              "#46039f"
             ],
             [
              0.2222222222222222,
              "#7201a8"
             ],
             [
              0.3333333333333333,
              "#9c179e"
             ],
             [
              0.4444444444444444,
              "#bd3786"
             ],
             [
              0.5555555555555556,
              "#d8576b"
             ],
             [
              0.6666666666666666,
              "#ed7953"
             ],
             [
              0.7777777777777778,
              "#fb9f3a"
             ],
             [
              0.8888888888888888,
              "#fdca26"
             ],
             [
              1,
              "#f0f921"
             ]
            ],
            "type": "histogram2d"
           }
          ],
          "histogram2dcontour": [
           {
            "colorbar": {
             "outlinewidth": 0,
             "ticks": ""
            },
            "colorscale": [
             [
              0,
              "#0d0887"
             ],
             [
              0.1111111111111111,
              "#46039f"
             ],
             [
              0.2222222222222222,
              "#7201a8"
             ],
             [
              0.3333333333333333,
              "#9c179e"
             ],
             [
              0.4444444444444444,
              "#bd3786"
             ],
             [
              0.5555555555555556,
              "#d8576b"
             ],
             [
              0.6666666666666666,
              "#ed7953"
             ],
             [
              0.7777777777777778,
              "#fb9f3a"
             ],
             [
              0.8888888888888888,
              "#fdca26"
             ],
             [
              1,
              "#f0f921"
             ]
            ],
            "type": "histogram2dcontour"
           }
          ],
          "mesh3d": [
           {
            "colorbar": {
             "outlinewidth": 0,
             "ticks": ""
            },
            "type": "mesh3d"
           }
          ],
          "parcoords": [
           {
            "line": {
             "colorbar": {
              "outlinewidth": 0,
              "ticks": ""
             }
            },
            "type": "parcoords"
           }
          ],
          "pie": [
           {
            "automargin": true,
            "type": "pie"
           }
          ],
          "scatter": [
           {
            "marker": {
             "colorbar": {
              "outlinewidth": 0,
              "ticks": ""
             }
            },
            "type": "scatter"
           }
          ],
          "scatter3d": [
           {
            "line": {
             "colorbar": {
              "outlinewidth": 0,
              "ticks": ""
             }
            },
            "marker": {
             "colorbar": {
              "outlinewidth": 0,
              "ticks": ""
             }
            },
            "type": "scatter3d"
           }
          ],
          "scattercarpet": [
           {
            "marker": {
             "colorbar": {
              "outlinewidth": 0,
              "ticks": ""
             }
            },
            "type": "scattercarpet"
           }
          ],
          "scattergeo": [
           {
            "marker": {
             "colorbar": {
              "outlinewidth": 0,
              "ticks": ""
             }
            },
            "type": "scattergeo"
           }
          ],
          "scattergl": [
           {
            "marker": {
             "colorbar": {
              "outlinewidth": 0,
              "ticks": ""
             }
            },
            "type": "scattergl"
           }
          ],
          "scattermapbox": [
           {
            "marker": {
             "colorbar": {
              "outlinewidth": 0,
              "ticks": ""
             }
            },
            "type": "scattermapbox"
           }
          ],
          "scatterpolar": [
           {
            "marker": {
             "colorbar": {
              "outlinewidth": 0,
              "ticks": ""
             }
            },
            "type": "scatterpolar"
           }
          ],
          "scatterpolargl": [
           {
            "marker": {
             "colorbar": {
              "outlinewidth": 0,
              "ticks": ""
             }
            },
            "type": "scatterpolargl"
           }
          ],
          "scatterternary": [
           {
            "marker": {
             "colorbar": {
              "outlinewidth": 0,
              "ticks": ""
             }
            },
            "type": "scatterternary"
           }
          ],
          "surface": [
           {
            "colorbar": {
             "outlinewidth": 0,
             "ticks": ""
            },
            "colorscale": [
             [
              0,
              "#0d0887"
             ],
             [
              0.1111111111111111,
              "#46039f"
             ],
             [
              0.2222222222222222,
              "#7201a8"
             ],
             [
              0.3333333333333333,
              "#9c179e"
             ],
             [
              0.4444444444444444,
              "#bd3786"
             ],
             [
              0.5555555555555556,
              "#d8576b"
             ],
             [
              0.6666666666666666,
              "#ed7953"
             ],
             [
              0.7777777777777778,
              "#fb9f3a"
             ],
             [
              0.8888888888888888,
              "#fdca26"
             ],
             [
              1,
              "#f0f921"
             ]
            ],
            "type": "surface"
           }
          ],
          "table": [
           {
            "cells": {
             "fill": {
              "color": "#EBF0F8"
             },
             "line": {
              "color": "white"
             }
            },
            "header": {
             "fill": {
              "color": "#C8D4E3"
             },
             "line": {
              "color": "white"
             }
            },
            "type": "table"
           }
          ]
         },
         "layout": {
          "annotationdefaults": {
           "arrowcolor": "#2a3f5f",
           "arrowhead": 0,
           "arrowwidth": 1
          },
          "coloraxis": {
           "colorbar": {
            "outlinewidth": 0,
            "ticks": ""
           }
          },
          "colorscale": {
           "diverging": [
            [
             0,
             "#8e0152"
            ],
            [
             0.1,
             "#c51b7d"
            ],
            [
             0.2,
             "#de77ae"
            ],
            [
             0.3,
             "#f1b6da"
            ],
            [
             0.4,
             "#fde0ef"
            ],
            [
             0.5,
             "#f7f7f7"
            ],
            [
             0.6,
             "#e6f5d0"
            ],
            [
             0.7,
             "#b8e186"
            ],
            [
             0.8,
             "#7fbc41"
            ],
            [
             0.9,
             "#4d9221"
            ],
            [
             1,
             "#276419"
            ]
           ],
           "sequential": [
            [
             0,
             "#0d0887"
            ],
            [
             0.1111111111111111,
             "#46039f"
            ],
            [
             0.2222222222222222,
             "#7201a8"
            ],
            [
             0.3333333333333333,
             "#9c179e"
            ],
            [
             0.4444444444444444,
             "#bd3786"
            ],
            [
             0.5555555555555556,
             "#d8576b"
            ],
            [
             0.6666666666666666,
             "#ed7953"
            ],
            [
             0.7777777777777778,
             "#fb9f3a"
            ],
            [
             0.8888888888888888,
             "#fdca26"
            ],
            [
             1,
             "#f0f921"
            ]
           ],
           "sequentialminus": [
            [
             0,
             "#0d0887"
            ],
            [
             0.1111111111111111,
             "#46039f"
            ],
            [
             0.2222222222222222,
             "#7201a8"
            ],
            [
             0.3333333333333333,
             "#9c179e"
            ],
            [
             0.4444444444444444,
             "#bd3786"
            ],
            [
             0.5555555555555556,
             "#d8576b"
            ],
            [
             0.6666666666666666,
             "#ed7953"
            ],
            [
             0.7777777777777778,
             "#fb9f3a"
            ],
            [
             0.8888888888888888,
             "#fdca26"
            ],
            [
             1,
             "#f0f921"
            ]
           ]
          },
          "colorway": [
           "#636efa",
           "#EF553B",
           "#00cc96",
           "#ab63fa",
           "#FFA15A",
           "#19d3f3",
           "#FF6692",
           "#B6E880",
           "#FF97FF",
           "#FECB52"
          ],
          "font": {
           "color": "#2a3f5f"
          },
          "geo": {
           "bgcolor": "white",
           "lakecolor": "white",
           "landcolor": "#E5ECF6",
           "showlakes": true,
           "showland": true,
           "subunitcolor": "white"
          },
          "hoverlabel": {
           "align": "left"
          },
          "hovermode": "closest",
          "mapbox": {
           "style": "light"
          },
          "paper_bgcolor": "white",
          "plot_bgcolor": "#E5ECF6",
          "polar": {
           "angularaxis": {
            "gridcolor": "white",
            "linecolor": "white",
            "ticks": ""
           },
           "bgcolor": "#E5ECF6",
           "radialaxis": {
            "gridcolor": "white",
            "linecolor": "white",
            "ticks": ""
           }
          },
          "scene": {
           "xaxis": {
            "backgroundcolor": "#E5ECF6",
            "gridcolor": "white",
            "gridwidth": 2,
            "linecolor": "white",
            "showbackground": true,
            "ticks": "",
            "zerolinecolor": "white"
           },
           "yaxis": {
            "backgroundcolor": "#E5ECF6",
            "gridcolor": "white",
            "gridwidth": 2,
            "linecolor": "white",
            "showbackground": true,
            "ticks": "",
            "zerolinecolor": "white"
           },
           "zaxis": {
            "backgroundcolor": "#E5ECF6",
            "gridcolor": "white",
            "gridwidth": 2,
            "linecolor": "white",
            "showbackground": true,
            "ticks": "",
            "zerolinecolor": "white"
           }
          },
          "shapedefaults": {
           "line": {
            "color": "#2a3f5f"
           }
          },
          "ternary": {
           "aaxis": {
            "gridcolor": "white",
            "linecolor": "white",
            "ticks": ""
           },
           "baxis": {
            "gridcolor": "white",
            "linecolor": "white",
            "ticks": ""
           },
           "bgcolor": "#E5ECF6",
           "caxis": {
            "gridcolor": "white",
            "linecolor": "white",
            "ticks": ""
           }
          },
          "title": {
           "x": 0.05
          },
          "xaxis": {
           "automargin": true,
           "gridcolor": "white",
           "linecolor": "white",
           "ticks": "",
           "title": {
            "standoff": 15
           },
           "zerolinecolor": "white",
           "zerolinewidth": 2
          },
          "yaxis": {
           "automargin": true,
           "gridcolor": "white",
           "linecolor": "white",
           "ticks": "",
           "title": {
            "standoff": 15
           },
           "zerolinecolor": "white",
           "zerolinewidth": 2
          }
         }
        },
        "title": {
         "font": {
          "color": "#4D5663"
         }
        },
        "xaxis": {
         "gridcolor": "#E1E5ED",
         "showgrid": true,
         "tickfont": {
          "color": "#4D5663"
         },
         "title": {
          "font": {
           "color": "#4D5663"
          },
          "text": ""
         },
         "zerolinecolor": "#E1E5ED"
        },
        "yaxis": {
         "gridcolor": "#E1E5ED",
         "showgrid": true,
         "tickfont": {
          "color": "#4D5663"
         },
         "title": {
          "font": {
           "color": "#4D5663"
          },
          "text": ""
         },
         "zerolinecolor": "#E1E5ED"
        }
       }
      },
      "text/html": [
       "<div>\n",
       "        \n",
       "        \n",
       "            <div id=\"c1092e3f-8279-4f30-b208-cd710e02dfc4\" class=\"plotly-graph-div\" style=\"height:525px; width:100%;\"></div>\n",
       "            <script type=\"text/javascript\">\n",
       "                require([\"plotly\"], function(Plotly) {\n",
       "                    window.PLOTLYENV=window.PLOTLYENV || {};\n",
       "                    window.PLOTLYENV.BASE_URL='https://plot.ly';\n",
       "                    \n",
       "                if (document.getElementById(\"c1092e3f-8279-4f30-b208-cd710e02dfc4\")) {\n",
       "                    Plotly.newPlot(\n",
       "                        'c1092e3f-8279-4f30-b208-cd710e02dfc4',\n",
       "                        [{\"line\": {\"color\": \"rgba(255, 153, 51, 1.0)\", \"dash\": \"solid\", \"shape\": \"linear\", \"width\": 1.3}, \"marker\": {\"size\": 10, \"symbol\": \"circle\"}, \"mode\": \"markers\", \"name\": \"B\", \"text\": \"\", \"type\": \"scatter\", \"x\": [1.5101490399848538, -0.6405275834738976, -0.512955812775037, 1.9945535110166155, 0.7239546875357956, 0.8193567705112613, 1.192205706744129, -0.06787383362506158, -0.9802554854905633, 0.6983271064470218, -0.09113355613425492, 1.2313007346971012, 0.5877414638414414, 0.44701759506099287, -1.4625771180718434, -2.652004600843019, 0.09877482172888144, 1.1629678060014554, 0.7691594293148781, -0.1364317997818323, -0.16022426763322922, 0.325414195254767, 0.2688277762024969, 1.841688695638128, -0.3097790041736717, -0.27035022527693, -0.3223095653633265, -0.1461980419232848, 2.3170839799717053, 1.8369084706357632, -0.7221143171938086, -0.6348791926259997, 0.041316979821828165, -2.6008465783966845, 0.1232552893656748, 0.7240482389471554, -1.1566478307252988, 0.06803529895168065, -0.08971460905870797, 0.18012357430894557, 0.9225730627109227, -1.445603452520163, -0.2895665306804073, 0.09538268325347563, 1.287372036995754, -0.6105013600450948, -0.7654308216950918, 0.6525813929540183, 1.3259746476590089, 2.3626108894511493, -0.8445790982577436, 0.01824503703149911, -0.9283950022622932, 0.33636857025188516, -0.8613816355113362, 0.40466279012072576, 0.8363332121586713, -1.239556920419094, 0.27739221030357436, -0.4021079811857981, 1.4712926754951638, 0.25657991140085984, -0.8310974348171803, 0.6114113100084001, -0.955427588323675, 0.5184833162831455, -1.0452960939323077, 0.4667513077038204, -0.723458426308934, -2.5867925551081035, 0.7903424657093867, -0.4936357686129681, -0.7627359863188906, 0.3536789889194609, -1.2902491381524273, 0.1912991604086632, 0.9121151372265259, 0.7373090629882498, 0.5037650361608089, 1.1318384618076784, -0.32154075364181933, 0.9361876383988863, 1.0476083383554216, 0.4720998866594356, -0.4088347948063875, -0.2047000651934584, -0.8547597310671836, 0.9836937217040943, 1.5744087429243852, 1.4033565625484767, -0.7242927426020687, -0.6910896152379462, 0.7961011916043215, -0.1451686332386725, 0.23618649203945938, -0.9005205826485293, 0.5929153455591286, -1.3558193667814635, 1.555509083173195, 1.5661931184442937], \"y\": [0.054979191128094816, 1.4368555640509848, -0.22607750843614138, 0.20147652277293557, -1.4555502346439408, 1.235727105253792, 0.45538137880566887, -1.3010732893534303, -1.2691000601151483, 1.6370568366415919, 0.3071655217652912, -0.5990722768644184, -2.647254678769929, 0.702738372406523, 0.07191205239778133, 1.2001027658925585, 0.3102254510934988, -2.907098840258816, -1.2688217753814637, -0.9838590414229287, 0.9115690199446567, 0.9469701010827166, 0.15696478517473111, 1.6471109893762343, -0.8977548136067434, -0.9199482432111052, 0.8687462611039781, -0.49259127413312087, 1.9997186565748608, 0.28299432369597044, 0.5636013029300263, -0.533031353093187, -2.3004571749120823, 0.5371737481378878, 0.8350225602155451, -0.5948402186277807, -0.1895541588040986, -0.05861025295657063, -2.0990765127482067, 0.12005665584931399, -1.1097215512147067, 0.3041362882859407, 0.9611494673654635, -0.7724740028745279, 1.8364041184574287, 0.5150682119767902, -0.7953027555580844, 1.5755045849174594, -0.8625472207013256, -0.3765871069608661, -0.35965627007750917, 0.8907945673388414, -0.5211463173335591, 0.229942887701415, 1.2070059543372178, -1.747909478166768, -1.2544204297967272, -0.39345806939876377, 1.3525798011451498, -1.5634681769462817, 1.5231440386058803, 0.5615698709650291, -0.5986586180194643, 0.060079755434575555, 2.140389869307584, 0.11628915233426852, 0.5943641768616253, 1.4935800759035067, -0.4025470502298976, -2.179590754822418, 0.46750448914317605, 1.477145305796776, -1.665319404483263, 0.3085561347371331, -0.3453710286044497, 0.5562338663194516, -0.2790322781489596, -0.9642744260233003, -0.4545174340207927, -0.23539992106019608, -0.7628340515598176, -1.5311459626066464, 0.7231843780477117, 0.44513667647675115, 0.7252438502557419, 0.010664927582359943, -1.2889237131715514, 0.9850276280938937, 0.24092972415915567, -0.9866877607378947, -2.154137554731013, -0.1285673748219936, -0.24435316549739328, 0.7796057011313241, -0.37089112604330343, 1.7190997934959267, 0.11110381508124938, -0.19742003370703887, 0.3459687603740203, -1.1825722115533015]}],\n",
       "                        {\"legend\": {\"bgcolor\": \"#F5F6F9\", \"font\": {\"color\": \"#4D5663\"}}, \"paper_bgcolor\": \"#F5F6F9\", \"plot_bgcolor\": \"#F5F6F9\", \"template\": {\"data\": {\"bar\": [{\"error_x\": {\"color\": \"#2a3f5f\"}, \"error_y\": {\"color\": \"#2a3f5f\"}, \"marker\": {\"line\": {\"color\": \"#E5ECF6\", \"width\": 0.5}}, \"type\": \"bar\"}], \"barpolar\": [{\"marker\": {\"line\": {\"color\": \"#E5ECF6\", \"width\": 0.5}}, \"type\": \"barpolar\"}], \"carpet\": [{\"aaxis\": {\"endlinecolor\": \"#2a3f5f\", \"gridcolor\": \"white\", \"linecolor\": \"white\", \"minorgridcolor\": \"white\", \"startlinecolor\": \"#2a3f5f\"}, \"baxis\": {\"endlinecolor\": \"#2a3f5f\", \"gridcolor\": \"white\", \"linecolor\": \"white\", \"minorgridcolor\": \"white\", \"startlinecolor\": \"#2a3f5f\"}, \"type\": \"carpet\"}], \"choropleth\": [{\"colorbar\": {\"outlinewidth\": 0, \"ticks\": \"\"}, \"type\": \"choropleth\"}], \"contour\": [{\"colorbar\": {\"outlinewidth\": 0, \"ticks\": \"\"}, \"colorscale\": [[0.0, \"#0d0887\"], [0.1111111111111111, \"#46039f\"], [0.2222222222222222, \"#7201a8\"], [0.3333333333333333, \"#9c179e\"], [0.4444444444444444, \"#bd3786\"], [0.5555555555555556, \"#d8576b\"], [0.6666666666666666, \"#ed7953\"], [0.7777777777777778, \"#fb9f3a\"], [0.8888888888888888, \"#fdca26\"], [1.0, \"#f0f921\"]], \"type\": \"contour\"}], \"contourcarpet\": [{\"colorbar\": {\"outlinewidth\": 0, \"ticks\": \"\"}, \"type\": \"contourcarpet\"}], \"heatmap\": [{\"colorbar\": {\"outlinewidth\": 0, \"ticks\": \"\"}, \"colorscale\": [[0.0, \"#0d0887\"], [0.1111111111111111, \"#46039f\"], [0.2222222222222222, \"#7201a8\"], [0.3333333333333333, \"#9c179e\"], [0.4444444444444444, \"#bd3786\"], [0.5555555555555556, \"#d8576b\"], [0.6666666666666666, \"#ed7953\"], [0.7777777777777778, \"#fb9f3a\"], [0.8888888888888888, \"#fdca26\"], [1.0, \"#f0f921\"]], \"type\": \"heatmap\"}], \"heatmapgl\": [{\"colorbar\": {\"outlinewidth\": 0, \"ticks\": \"\"}, \"colorscale\": [[0.0, \"#0d0887\"], [0.1111111111111111, \"#46039f\"], [0.2222222222222222, \"#7201a8\"], [0.3333333333333333, \"#9c179e\"], [0.4444444444444444, \"#bd3786\"], [0.5555555555555556, \"#d8576b\"], [0.6666666666666666, \"#ed7953\"], [0.7777777777777778, \"#fb9f3a\"], [0.8888888888888888, \"#fdca26\"], [1.0, \"#f0f921\"]], \"type\": \"heatmapgl\"}], \"histogram\": [{\"marker\": {\"colorbar\": {\"outlinewidth\": 0, \"ticks\": \"\"}}, \"type\": \"histogram\"}], \"histogram2d\": [{\"colorbar\": {\"outlinewidth\": 0, \"ticks\": \"\"}, \"colorscale\": [[0.0, \"#0d0887\"], [0.1111111111111111, \"#46039f\"], [0.2222222222222222, \"#7201a8\"], [0.3333333333333333, \"#9c179e\"], [0.4444444444444444, \"#bd3786\"], [0.5555555555555556, \"#d8576b\"], [0.6666666666666666, \"#ed7953\"], [0.7777777777777778, \"#fb9f3a\"], [0.8888888888888888, \"#fdca26\"], [1.0, \"#f0f921\"]], \"type\": \"histogram2d\"}], \"histogram2dcontour\": [{\"colorbar\": {\"outlinewidth\": 0, \"ticks\": \"\"}, \"colorscale\": [[0.0, \"#0d0887\"], [0.1111111111111111, \"#46039f\"], [0.2222222222222222, \"#7201a8\"], [0.3333333333333333, \"#9c179e\"], [0.4444444444444444, \"#bd3786\"], [0.5555555555555556, \"#d8576b\"], [0.6666666666666666, \"#ed7953\"], [0.7777777777777778, \"#fb9f3a\"], [0.8888888888888888, \"#fdca26\"], [1.0, \"#f0f921\"]], \"type\": \"histogram2dcontour\"}], \"mesh3d\": [{\"colorbar\": {\"outlinewidth\": 0, \"ticks\": \"\"}, \"type\": \"mesh3d\"}], \"parcoords\": [{\"line\": {\"colorbar\": {\"outlinewidth\": 0, \"ticks\": \"\"}}, \"type\": \"parcoords\"}], \"pie\": [{\"automargin\": true, \"type\": \"pie\"}], \"scatter\": [{\"marker\": {\"colorbar\": {\"outlinewidth\": 0, \"ticks\": \"\"}}, \"type\": \"scatter\"}], \"scatter3d\": [{\"line\": {\"colorbar\": {\"outlinewidth\": 0, \"ticks\": \"\"}}, \"marker\": {\"colorbar\": {\"outlinewidth\": 0, \"ticks\": \"\"}}, \"type\": \"scatter3d\"}], \"scattercarpet\": [{\"marker\": {\"colorbar\": {\"outlinewidth\": 0, \"ticks\": \"\"}}, \"type\": \"scattercarpet\"}], \"scattergeo\": [{\"marker\": {\"colorbar\": {\"outlinewidth\": 0, \"ticks\": \"\"}}, \"type\": \"scattergeo\"}], \"scattergl\": [{\"marker\": {\"colorbar\": {\"outlinewidth\": 0, \"ticks\": \"\"}}, \"type\": \"scattergl\"}], \"scattermapbox\": [{\"marker\": {\"colorbar\": {\"outlinewidth\": 0, \"ticks\": \"\"}}, \"type\": \"scattermapbox\"}], \"scatterpolar\": [{\"marker\": {\"colorbar\": {\"outlinewidth\": 0, \"ticks\": \"\"}}, \"type\": \"scatterpolar\"}], \"scatterpolargl\": [{\"marker\": {\"colorbar\": {\"outlinewidth\": 0, \"ticks\": \"\"}}, \"type\": \"scatterpolargl\"}], \"scatterternary\": [{\"marker\": {\"colorbar\": {\"outlinewidth\": 0, \"ticks\": \"\"}}, \"type\": \"scatterternary\"}], \"surface\": [{\"colorbar\": {\"outlinewidth\": 0, \"ticks\": \"\"}, \"colorscale\": [[0.0, \"#0d0887\"], [0.1111111111111111, \"#46039f\"], [0.2222222222222222, \"#7201a8\"], [0.3333333333333333, \"#9c179e\"], [0.4444444444444444, \"#bd3786\"], [0.5555555555555556, \"#d8576b\"], [0.6666666666666666, \"#ed7953\"], [0.7777777777777778, \"#fb9f3a\"], [0.8888888888888888, \"#fdca26\"], [1.0, \"#f0f921\"]], \"type\": \"surface\"}], \"table\": [{\"cells\": {\"fill\": {\"color\": \"#EBF0F8\"}, \"line\": {\"color\": \"white\"}}, \"header\": {\"fill\": {\"color\": \"#C8D4E3\"}, \"line\": {\"color\": \"white\"}}, \"type\": \"table\"}]}, \"layout\": {\"annotationdefaults\": {\"arrowcolor\": \"#2a3f5f\", \"arrowhead\": 0, \"arrowwidth\": 1}, \"coloraxis\": {\"colorbar\": {\"outlinewidth\": 0, \"ticks\": \"\"}}, \"colorscale\": {\"diverging\": [[0, \"#8e0152\"], [0.1, \"#c51b7d\"], [0.2, \"#de77ae\"], [0.3, \"#f1b6da\"], [0.4, \"#fde0ef\"], [0.5, \"#f7f7f7\"], [0.6, \"#e6f5d0\"], [0.7, \"#b8e186\"], [0.8, \"#7fbc41\"], [0.9, \"#4d9221\"], [1, \"#276419\"]], \"sequential\": [[0.0, \"#0d0887\"], [0.1111111111111111, \"#46039f\"], [0.2222222222222222, \"#7201a8\"], [0.3333333333333333, \"#9c179e\"], [0.4444444444444444, \"#bd3786\"], [0.5555555555555556, \"#d8576b\"], [0.6666666666666666, \"#ed7953\"], [0.7777777777777778, \"#fb9f3a\"], [0.8888888888888888, \"#fdca26\"], [1.0, \"#f0f921\"]], \"sequentialminus\": [[0.0, \"#0d0887\"], [0.1111111111111111, \"#46039f\"], [0.2222222222222222, \"#7201a8\"], [0.3333333333333333, \"#9c179e\"], [0.4444444444444444, \"#bd3786\"], [0.5555555555555556, \"#d8576b\"], [0.6666666666666666, \"#ed7953\"], [0.7777777777777778, \"#fb9f3a\"], [0.8888888888888888, \"#fdca26\"], [1.0, \"#f0f921\"]]}, \"colorway\": [\"#636efa\", \"#EF553B\", \"#00cc96\", \"#ab63fa\", \"#FFA15A\", \"#19d3f3\", \"#FF6692\", \"#B6E880\", \"#FF97FF\", \"#FECB52\"], \"font\": {\"color\": \"#2a3f5f\"}, \"geo\": {\"bgcolor\": \"white\", \"lakecolor\": \"white\", \"landcolor\": \"#E5ECF6\", \"showlakes\": true, \"showland\": true, \"subunitcolor\": \"white\"}, \"hoverlabel\": {\"align\": \"left\"}, \"hovermode\": \"closest\", \"mapbox\": {\"style\": \"light\"}, \"paper_bgcolor\": \"white\", \"plot_bgcolor\": \"#E5ECF6\", \"polar\": {\"angularaxis\": {\"gridcolor\": \"white\", \"linecolor\": \"white\", \"ticks\": \"\"}, \"bgcolor\": \"#E5ECF6\", \"radialaxis\": {\"gridcolor\": \"white\", \"linecolor\": \"white\", \"ticks\": \"\"}}, \"scene\": {\"xaxis\": {\"backgroundcolor\": \"#E5ECF6\", \"gridcolor\": \"white\", \"gridwidth\": 2, \"linecolor\": \"white\", \"showbackground\": true, \"ticks\": \"\", \"zerolinecolor\": \"white\"}, \"yaxis\": {\"backgroundcolor\": \"#E5ECF6\", \"gridcolor\": \"white\", \"gridwidth\": 2, \"linecolor\": \"white\", \"showbackground\": true, \"ticks\": \"\", \"zerolinecolor\": \"white\"}, \"zaxis\": {\"backgroundcolor\": \"#E5ECF6\", \"gridcolor\": \"white\", \"gridwidth\": 2, \"linecolor\": \"white\", \"showbackground\": true, \"ticks\": \"\", \"zerolinecolor\": \"white\"}}, \"shapedefaults\": {\"line\": {\"color\": \"#2a3f5f\"}}, \"ternary\": {\"aaxis\": {\"gridcolor\": \"white\", \"linecolor\": \"white\", \"ticks\": \"\"}, \"baxis\": {\"gridcolor\": \"white\", \"linecolor\": \"white\", \"ticks\": \"\"}, \"bgcolor\": \"#E5ECF6\", \"caxis\": {\"gridcolor\": \"white\", \"linecolor\": \"white\", \"ticks\": \"\"}}, \"title\": {\"x\": 0.05}, \"xaxis\": {\"automargin\": true, \"gridcolor\": \"white\", \"linecolor\": \"white\", \"ticks\": \"\", \"title\": {\"standoff\": 15}, \"zerolinecolor\": \"white\", \"zerolinewidth\": 2}, \"yaxis\": {\"automargin\": true, \"gridcolor\": \"white\", \"linecolor\": \"white\", \"ticks\": \"\", \"title\": {\"standoff\": 15}, \"zerolinecolor\": \"white\", \"zerolinewidth\": 2}}}, \"title\": {\"font\": {\"color\": \"#4D5663\"}}, \"xaxis\": {\"gridcolor\": \"#E1E5ED\", \"showgrid\": true, \"tickfont\": {\"color\": \"#4D5663\"}, \"title\": {\"font\": {\"color\": \"#4D5663\"}, \"text\": \"\"}, \"zerolinecolor\": \"#E1E5ED\"}, \"yaxis\": {\"gridcolor\": \"#E1E5ED\", \"showgrid\": true, \"tickfont\": {\"color\": \"#4D5663\"}, \"title\": {\"font\": {\"color\": \"#4D5663\"}, \"text\": \"\"}, \"zerolinecolor\": \"#E1E5ED\"}},\n",
       "                        {\"showLink\": true, \"linkText\": \"Export to plot.ly\", \"plotlyServerURL\": \"https://plot.ly\", \"responsive\": true}\n",
       "                    ).then(function(){\n",
       "                            \n",
       "var gd = document.getElementById('c1092e3f-8279-4f30-b208-cd710e02dfc4');\n",
       "var x = new MutationObserver(function (mutations, observer) {{\n",
       "        var display = window.getComputedStyle(gd).display;\n",
       "        if (!display || display === 'none') {{\n",
       "            console.log([gd, 'removed!']);\n",
       "            Plotly.purge(gd);\n",
       "            observer.disconnect();\n",
       "        }}\n",
       "}});\n",
       "\n",
       "// Listen for the removal of the full notebook cells\n",
       "var notebookContainer = gd.closest('#notebook-container');\n",
       "if (notebookContainer) {{\n",
       "    x.observe(notebookContainer, {childList: true});\n",
       "}}\n",
       "\n",
       "// Listen for the clearing of the current output cell\n",
       "var outputEl = gd.closest('.output');\n",
       "if (outputEl) {{\n",
       "    x.observe(outputEl, {childList: true});\n",
       "}}\n",
       "\n",
       "                        })\n",
       "                };\n",
       "                });\n",
       "            </script>\n",
       "        </div>"
      ]
     },
     "metadata": {},
     "output_type": "display_data"
    }
   ],
   "source": [
    "df.iplot(kind='scatter',x='A',y='B',mode='markers',size=10)"
   ]
  },
  {
   "cell_type": "markdown",
   "metadata": {},
   "source": [
    "## Bar Plots"
   ]
  },
  {
   "cell_type": "code",
   "execution_count": 12,
   "metadata": {},
   "outputs": [
    {
     "data": {
      "application/vnd.plotly.v1+json": {
       "config": {
        "linkText": "Export to plot.ly",
        "plotlyServerURL": "https://plot.ly",
        "showLink": true
       },
       "data": [
        {
         "marker": {
          "color": "rgba(255, 153, 51, 0.6)",
          "line": {
           "color": "rgba(255, 153, 51, 1.0)",
           "width": 1
          }
         },
         "name": "Values",
         "orientation": "v",
         "text": "",
         "type": "bar",
         "x": [
          "A",
          "B",
          "C"
         ],
         "y": [
          32,
          43,
          50
         ]
        }
       ],
       "layout": {
        "legend": {
         "bgcolor": "#F5F6F9",
         "font": {
          "color": "#4D5663"
         }
        },
        "paper_bgcolor": "#F5F6F9",
        "plot_bgcolor": "#F5F6F9",
        "template": {
         "data": {
          "bar": [
           {
            "error_x": {
             "color": "#2a3f5f"
            },
            "error_y": {
             "color": "#2a3f5f"
            },
            "marker": {
             "line": {
              "color": "#E5ECF6",
              "width": 0.5
             }
            },
            "type": "bar"
           }
          ],
          "barpolar": [
           {
            "marker": {
             "line": {
              "color": "#E5ECF6",
              "width": 0.5
             }
            },
            "type": "barpolar"
           }
          ],
          "carpet": [
           {
            "aaxis": {
             "endlinecolor": "#2a3f5f",
             "gridcolor": "white",
             "linecolor": "white",
             "minorgridcolor": "white",
             "startlinecolor": "#2a3f5f"
            },
            "baxis": {
             "endlinecolor": "#2a3f5f",
             "gridcolor": "white",
             "linecolor": "white",
             "minorgridcolor": "white",
             "startlinecolor": "#2a3f5f"
            },
            "type": "carpet"
           }
          ],
          "choropleth": [
           {
            "colorbar": {
             "outlinewidth": 0,
             "ticks": ""
            },
            "type": "choropleth"
           }
          ],
          "contour": [
           {
            "colorbar": {
             "outlinewidth": 0,
             "ticks": ""
            },
            "colorscale": [
             [
              0,
              "#0d0887"
             ],
             [
              0.1111111111111111,
              "#46039f"
             ],
             [
              0.2222222222222222,
              "#7201a8"
             ],
             [
              0.3333333333333333,
              "#9c179e"
             ],
             [
              0.4444444444444444,
              "#bd3786"
             ],
             [
              0.5555555555555556,
              "#d8576b"
             ],
             [
              0.6666666666666666,
              "#ed7953"
             ],
             [
              0.7777777777777778,
              "#fb9f3a"
             ],
             [
              0.8888888888888888,
              "#fdca26"
             ],
             [
              1,
              "#f0f921"
             ]
            ],
            "type": "contour"
           }
          ],
          "contourcarpet": [
           {
            "colorbar": {
             "outlinewidth": 0,
             "ticks": ""
            },
            "type": "contourcarpet"
           }
          ],
          "heatmap": [
           {
            "colorbar": {
             "outlinewidth": 0,
             "ticks": ""
            },
            "colorscale": [
             [
              0,
              "#0d0887"
             ],
             [
              0.1111111111111111,
              "#46039f"
             ],
             [
              0.2222222222222222,
              "#7201a8"
             ],
             [
              0.3333333333333333,
              "#9c179e"
             ],
             [
              0.4444444444444444,
              "#bd3786"
             ],
             [
              0.5555555555555556,
              "#d8576b"
             ],
             [
              0.6666666666666666,
              "#ed7953"
             ],
             [
              0.7777777777777778,
              "#fb9f3a"
             ],
             [
              0.8888888888888888,
              "#fdca26"
             ],
             [
              1,
              "#f0f921"
             ]
            ],
            "type": "heatmap"
           }
          ],
          "heatmapgl": [
           {
            "colorbar": {
             "outlinewidth": 0,
             "ticks": ""
            },
            "colorscale": [
             [
              0,
              "#0d0887"
             ],
             [
              0.1111111111111111,
              "#46039f"
             ],
             [
              0.2222222222222222,
              "#7201a8"
             ],
             [
              0.3333333333333333,
              "#9c179e"
             ],
             [
              0.4444444444444444,
              "#bd3786"
             ],
             [
              0.5555555555555556,
              "#d8576b"
             ],
             [
              0.6666666666666666,
              "#ed7953"
             ],
             [
              0.7777777777777778,
              "#fb9f3a"
             ],
             [
              0.8888888888888888,
              "#fdca26"
             ],
             [
              1,
              "#f0f921"
             ]
            ],
            "type": "heatmapgl"
           }
          ],
          "histogram": [
           {
            "marker": {
             "colorbar": {
              "outlinewidth": 0,
              "ticks": ""
             }
            },
            "type": "histogram"
           }
          ],
          "histogram2d": [
           {
            "colorbar": {
             "outlinewidth": 0,
             "ticks": ""
            },
            "colorscale": [
             [
              0,
              "#0d0887"
             ],
             [
              0.1111111111111111,
              "#46039f"
             ],
             [
              0.2222222222222222,
              "#7201a8"
             ],
             [
              0.3333333333333333,
              "#9c179e"
             ],
             [
              0.4444444444444444,
              "#bd3786"
             ],
             [
              0.5555555555555556,
              "#d8576b"
             ],
             [
              0.6666666666666666,
              "#ed7953"
             ],
             [
              0.7777777777777778,
              "#fb9f3a"
             ],
             [
              0.8888888888888888,
              "#fdca26"
             ],
             [
              1,
              "#f0f921"
             ]
            ],
            "type": "histogram2d"
           }
          ],
          "histogram2dcontour": [
           {
            "colorbar": {
             "outlinewidth": 0,
             "ticks": ""
            },
            "colorscale": [
             [
              0,
              "#0d0887"
             ],
             [
              0.1111111111111111,
              "#46039f"
             ],
             [
              0.2222222222222222,
              "#7201a8"
             ],
             [
              0.3333333333333333,
              "#9c179e"
             ],
             [
              0.4444444444444444,
              "#bd3786"
             ],
             [
              0.5555555555555556,
              "#d8576b"
             ],
             [
              0.6666666666666666,
              "#ed7953"
             ],
             [
              0.7777777777777778,
              "#fb9f3a"
             ],
             [
              0.8888888888888888,
              "#fdca26"
             ],
             [
              1,
              "#f0f921"
             ]
            ],
            "type": "histogram2dcontour"
           }
          ],
          "mesh3d": [
           {
            "colorbar": {
             "outlinewidth": 0,
             "ticks": ""
            },
            "type": "mesh3d"
           }
          ],
          "parcoords": [
           {
            "line": {
             "colorbar": {
              "outlinewidth": 0,
              "ticks": ""
             }
            },
            "type": "parcoords"
           }
          ],
          "pie": [
           {
            "automargin": true,
            "type": "pie"
           }
          ],
          "scatter": [
           {
            "marker": {
             "colorbar": {
              "outlinewidth": 0,
              "ticks": ""
             }
            },
            "type": "scatter"
           }
          ],
          "scatter3d": [
           {
            "line": {
             "colorbar": {
              "outlinewidth": 0,
              "ticks": ""
             }
            },
            "marker": {
             "colorbar": {
              "outlinewidth": 0,
              "ticks": ""
             }
            },
            "type": "scatter3d"
           }
          ],
          "scattercarpet": [
           {
            "marker": {
             "colorbar": {
              "outlinewidth": 0,
              "ticks": ""
             }
            },
            "type": "scattercarpet"
           }
          ],
          "scattergeo": [
           {
            "marker": {
             "colorbar": {
              "outlinewidth": 0,
              "ticks": ""
             }
            },
            "type": "scattergeo"
           }
          ],
          "scattergl": [
           {
            "marker": {
             "colorbar": {
              "outlinewidth": 0,
              "ticks": ""
             }
            },
            "type": "scattergl"
           }
          ],
          "scattermapbox": [
           {
            "marker": {
             "colorbar": {
              "outlinewidth": 0,
              "ticks": ""
             }
            },
            "type": "scattermapbox"
           }
          ],
          "scatterpolar": [
           {
            "marker": {
             "colorbar": {
              "outlinewidth": 0,
              "ticks": ""
             }
            },
            "type": "scatterpolar"
           }
          ],
          "scatterpolargl": [
           {
            "marker": {
             "colorbar": {
              "outlinewidth": 0,
              "ticks": ""
             }
            },
            "type": "scatterpolargl"
           }
          ],
          "scatterternary": [
           {
            "marker": {
             "colorbar": {
              "outlinewidth": 0,
              "ticks": ""
             }
            },
            "type": "scatterternary"
           }
          ],
          "surface": [
           {
            "colorbar": {
             "outlinewidth": 0,
             "ticks": ""
            },
            "colorscale": [
             [
              0,
              "#0d0887"
             ],
             [
              0.1111111111111111,
              "#46039f"
             ],
             [
              0.2222222222222222,
              "#7201a8"
             ],
             [
              0.3333333333333333,
              "#9c179e"
             ],
             [
              0.4444444444444444,
              "#bd3786"
             ],
             [
              0.5555555555555556,
              "#d8576b"
             ],
             [
              0.6666666666666666,
              "#ed7953"
             ],
             [
              0.7777777777777778,
              "#fb9f3a"
             ],
             [
              0.8888888888888888,
              "#fdca26"
             ],
             [
              1,
              "#f0f921"
             ]
            ],
            "type": "surface"
           }
          ],
          "table": [
           {
            "cells": {
             "fill": {
              "color": "#EBF0F8"
             },
             "line": {
              "color": "white"
             }
            },
            "header": {
             "fill": {
              "color": "#C8D4E3"
             },
             "line": {
              "color": "white"
             }
            },
            "type": "table"
           }
          ]
         },
         "layout": {
          "annotationdefaults": {
           "arrowcolor": "#2a3f5f",
           "arrowhead": 0,
           "arrowwidth": 1
          },
          "coloraxis": {
           "colorbar": {
            "outlinewidth": 0,
            "ticks": ""
           }
          },
          "colorscale": {
           "diverging": [
            [
             0,
             "#8e0152"
            ],
            [
             0.1,
             "#c51b7d"
            ],
            [
             0.2,
             "#de77ae"
            ],
            [
             0.3,
             "#f1b6da"
            ],
            [
             0.4,
             "#fde0ef"
            ],
            [
             0.5,
             "#f7f7f7"
            ],
            [
             0.6,
             "#e6f5d0"
            ],
            [
             0.7,
             "#b8e186"
            ],
            [
             0.8,
             "#7fbc41"
            ],
            [
             0.9,
             "#4d9221"
            ],
            [
             1,
             "#276419"
            ]
           ],
           "sequential": [
            [
             0,
             "#0d0887"
            ],
            [
             0.1111111111111111,
             "#46039f"
            ],
            [
             0.2222222222222222,
             "#7201a8"
            ],
            [
             0.3333333333333333,
             "#9c179e"
            ],
            [
             0.4444444444444444,
             "#bd3786"
            ],
            [
             0.5555555555555556,
             "#d8576b"
            ],
            [
             0.6666666666666666,
             "#ed7953"
            ],
            [
             0.7777777777777778,
             "#fb9f3a"
            ],
            [
             0.8888888888888888,
             "#fdca26"
            ],
            [
             1,
             "#f0f921"
            ]
           ],
           "sequentialminus": [
            [
             0,
             "#0d0887"
            ],
            [
             0.1111111111111111,
             "#46039f"
            ],
            [
             0.2222222222222222,
             "#7201a8"
            ],
            [
             0.3333333333333333,
             "#9c179e"
            ],
            [
             0.4444444444444444,
             "#bd3786"
            ],
            [
             0.5555555555555556,
             "#d8576b"
            ],
            [
             0.6666666666666666,
             "#ed7953"
            ],
            [
             0.7777777777777778,
             "#fb9f3a"
            ],
            [
             0.8888888888888888,
             "#fdca26"
            ],
            [
             1,
             "#f0f921"
            ]
           ]
          },
          "colorway": [
           "#636efa",
           "#EF553B",
           "#00cc96",
           "#ab63fa",
           "#FFA15A",
           "#19d3f3",
           "#FF6692",
           "#B6E880",
           "#FF97FF",
           "#FECB52"
          ],
          "font": {
           "color": "#2a3f5f"
          },
          "geo": {
           "bgcolor": "white",
           "lakecolor": "white",
           "landcolor": "#E5ECF6",
           "showlakes": true,
           "showland": true,
           "subunitcolor": "white"
          },
          "hoverlabel": {
           "align": "left"
          },
          "hovermode": "closest",
          "mapbox": {
           "style": "light"
          },
          "paper_bgcolor": "white",
          "plot_bgcolor": "#E5ECF6",
          "polar": {
           "angularaxis": {
            "gridcolor": "white",
            "linecolor": "white",
            "ticks": ""
           },
           "bgcolor": "#E5ECF6",
           "radialaxis": {
            "gridcolor": "white",
            "linecolor": "white",
            "ticks": ""
           }
          },
          "scene": {
           "xaxis": {
            "backgroundcolor": "#E5ECF6",
            "gridcolor": "white",
            "gridwidth": 2,
            "linecolor": "white",
            "showbackground": true,
            "ticks": "",
            "zerolinecolor": "white"
           },
           "yaxis": {
            "backgroundcolor": "#E5ECF6",
            "gridcolor": "white",
            "gridwidth": 2,
            "linecolor": "white",
            "showbackground": true,
            "ticks": "",
            "zerolinecolor": "white"
           },
           "zaxis": {
            "backgroundcolor": "#E5ECF6",
            "gridcolor": "white",
            "gridwidth": 2,
            "linecolor": "white",
            "showbackground": true,
            "ticks": "",
            "zerolinecolor": "white"
           }
          },
          "shapedefaults": {
           "line": {
            "color": "#2a3f5f"
           }
          },
          "ternary": {
           "aaxis": {
            "gridcolor": "white",
            "linecolor": "white",
            "ticks": ""
           },
           "baxis": {
            "gridcolor": "white",
            "linecolor": "white",
            "ticks": ""
           },
           "bgcolor": "#E5ECF6",
           "caxis": {
            "gridcolor": "white",
            "linecolor": "white",
            "ticks": ""
           }
          },
          "title": {
           "x": 0.05
          },
          "xaxis": {
           "automargin": true,
           "gridcolor": "white",
           "linecolor": "white",
           "ticks": "",
           "title": {
            "standoff": 15
           },
           "zerolinecolor": "white",
           "zerolinewidth": 2
          },
          "yaxis": {
           "automargin": true,
           "gridcolor": "white",
           "linecolor": "white",
           "ticks": "",
           "title": {
            "standoff": 15
           },
           "zerolinecolor": "white",
           "zerolinewidth": 2
          }
         }
        },
        "title": {
         "font": {
          "color": "#4D5663"
         }
        },
        "xaxis": {
         "gridcolor": "#E1E5ED",
         "showgrid": true,
         "tickfont": {
          "color": "#4D5663"
         },
         "title": {
          "font": {
           "color": "#4D5663"
          },
          "text": ""
         },
         "zerolinecolor": "#E1E5ED"
        },
        "yaxis": {
         "gridcolor": "#E1E5ED",
         "showgrid": true,
         "tickfont": {
          "color": "#4D5663"
         },
         "title": {
          "font": {
           "color": "#4D5663"
          },
          "text": ""
         },
         "zerolinecolor": "#E1E5ED"
        }
       }
      },
      "text/html": [
       "<div>\n",
       "        \n",
       "        \n",
       "            <div id=\"631a4461-7154-499e-af6d-d18b2f297ebd\" class=\"plotly-graph-div\" style=\"height:525px; width:100%;\"></div>\n",
       "            <script type=\"text/javascript\">\n",
       "                require([\"plotly\"], function(Plotly) {\n",
       "                    window.PLOTLYENV=window.PLOTLYENV || {};\n",
       "                    window.PLOTLYENV.BASE_URL='https://plot.ly';\n",
       "                    \n",
       "                if (document.getElementById(\"631a4461-7154-499e-af6d-d18b2f297ebd\")) {\n",
       "                    Plotly.newPlot(\n",
       "                        '631a4461-7154-499e-af6d-d18b2f297ebd',\n",
       "                        [{\"marker\": {\"color\": \"rgba(255, 153, 51, 0.6)\", \"line\": {\"color\": \"rgba(255, 153, 51, 1.0)\", \"width\": 1}}, \"name\": \"Values\", \"orientation\": \"v\", \"text\": \"\", \"type\": \"bar\", \"x\": [\"A\", \"B\", \"C\"], \"y\": [32, 43, 50]}],\n",
       "                        {\"legend\": {\"bgcolor\": \"#F5F6F9\", \"font\": {\"color\": \"#4D5663\"}}, \"paper_bgcolor\": \"#F5F6F9\", \"plot_bgcolor\": \"#F5F6F9\", \"template\": {\"data\": {\"bar\": [{\"error_x\": {\"color\": \"#2a3f5f\"}, \"error_y\": {\"color\": \"#2a3f5f\"}, \"marker\": {\"line\": {\"color\": \"#E5ECF6\", \"width\": 0.5}}, \"type\": \"bar\"}], \"barpolar\": [{\"marker\": {\"line\": {\"color\": \"#E5ECF6\", \"width\": 0.5}}, \"type\": \"barpolar\"}], \"carpet\": [{\"aaxis\": {\"endlinecolor\": \"#2a3f5f\", \"gridcolor\": \"white\", \"linecolor\": \"white\", \"minorgridcolor\": \"white\", \"startlinecolor\": \"#2a3f5f\"}, \"baxis\": {\"endlinecolor\": \"#2a3f5f\", \"gridcolor\": \"white\", \"linecolor\": \"white\", \"minorgridcolor\": \"white\", \"startlinecolor\": \"#2a3f5f\"}, \"type\": \"carpet\"}], \"choropleth\": [{\"colorbar\": {\"outlinewidth\": 0, \"ticks\": \"\"}, \"type\": \"choropleth\"}], \"contour\": [{\"colorbar\": {\"outlinewidth\": 0, \"ticks\": \"\"}, \"colorscale\": [[0.0, \"#0d0887\"], [0.1111111111111111, \"#46039f\"], [0.2222222222222222, \"#7201a8\"], [0.3333333333333333, \"#9c179e\"], [0.4444444444444444, \"#bd3786\"], [0.5555555555555556, \"#d8576b\"], [0.6666666666666666, \"#ed7953\"], [0.7777777777777778, \"#fb9f3a\"], [0.8888888888888888, \"#fdca26\"], [1.0, \"#f0f921\"]], \"type\": \"contour\"}], \"contourcarpet\": [{\"colorbar\": {\"outlinewidth\": 0, \"ticks\": \"\"}, \"type\": \"contourcarpet\"}], \"heatmap\": [{\"colorbar\": {\"outlinewidth\": 0, \"ticks\": \"\"}, \"colorscale\": [[0.0, \"#0d0887\"], [0.1111111111111111, \"#46039f\"], [0.2222222222222222, \"#7201a8\"], [0.3333333333333333, \"#9c179e\"], [0.4444444444444444, \"#bd3786\"], [0.5555555555555556, \"#d8576b\"], [0.6666666666666666, \"#ed7953\"], [0.7777777777777778, \"#fb9f3a\"], [0.8888888888888888, \"#fdca26\"], [1.0, \"#f0f921\"]], \"type\": \"heatmap\"}], \"heatmapgl\": [{\"colorbar\": {\"outlinewidth\": 0, \"ticks\": \"\"}, \"colorscale\": [[0.0, \"#0d0887\"], [0.1111111111111111, \"#46039f\"], [0.2222222222222222, \"#7201a8\"], [0.3333333333333333, \"#9c179e\"], [0.4444444444444444, \"#bd3786\"], [0.5555555555555556, \"#d8576b\"], [0.6666666666666666, \"#ed7953\"], [0.7777777777777778, \"#fb9f3a\"], [0.8888888888888888, \"#fdca26\"], [1.0, \"#f0f921\"]], \"type\": \"heatmapgl\"}], \"histogram\": [{\"marker\": {\"colorbar\": {\"outlinewidth\": 0, \"ticks\": \"\"}}, \"type\": \"histogram\"}], \"histogram2d\": [{\"colorbar\": {\"outlinewidth\": 0, \"ticks\": \"\"}, \"colorscale\": [[0.0, \"#0d0887\"], [0.1111111111111111, \"#46039f\"], [0.2222222222222222, \"#7201a8\"], [0.3333333333333333, \"#9c179e\"], [0.4444444444444444, \"#bd3786\"], [0.5555555555555556, \"#d8576b\"], [0.6666666666666666, \"#ed7953\"], [0.7777777777777778, \"#fb9f3a\"], [0.8888888888888888, \"#fdca26\"], [1.0, \"#f0f921\"]], \"type\": \"histogram2d\"}], \"histogram2dcontour\": [{\"colorbar\": {\"outlinewidth\": 0, \"ticks\": \"\"}, \"colorscale\": [[0.0, \"#0d0887\"], [0.1111111111111111, \"#46039f\"], [0.2222222222222222, \"#7201a8\"], [0.3333333333333333, \"#9c179e\"], [0.4444444444444444, \"#bd3786\"], [0.5555555555555556, \"#d8576b\"], [0.6666666666666666, \"#ed7953\"], [0.7777777777777778, \"#fb9f3a\"], [0.8888888888888888, \"#fdca26\"], [1.0, \"#f0f921\"]], \"type\": \"histogram2dcontour\"}], \"mesh3d\": [{\"colorbar\": {\"outlinewidth\": 0, \"ticks\": \"\"}, \"type\": \"mesh3d\"}], \"parcoords\": [{\"line\": {\"colorbar\": {\"outlinewidth\": 0, \"ticks\": \"\"}}, \"type\": \"parcoords\"}], \"pie\": [{\"automargin\": true, \"type\": \"pie\"}], \"scatter\": [{\"marker\": {\"colorbar\": {\"outlinewidth\": 0, \"ticks\": \"\"}}, \"type\": \"scatter\"}], \"scatter3d\": [{\"line\": {\"colorbar\": {\"outlinewidth\": 0, \"ticks\": \"\"}}, \"marker\": {\"colorbar\": {\"outlinewidth\": 0, \"ticks\": \"\"}}, \"type\": \"scatter3d\"}], \"scattercarpet\": [{\"marker\": {\"colorbar\": {\"outlinewidth\": 0, \"ticks\": \"\"}}, \"type\": \"scattercarpet\"}], \"scattergeo\": [{\"marker\": {\"colorbar\": {\"outlinewidth\": 0, \"ticks\": \"\"}}, \"type\": \"scattergeo\"}], \"scattergl\": [{\"marker\": {\"colorbar\": {\"outlinewidth\": 0, \"ticks\": \"\"}}, \"type\": \"scattergl\"}], \"scattermapbox\": [{\"marker\": {\"colorbar\": {\"outlinewidth\": 0, \"ticks\": \"\"}}, \"type\": \"scattermapbox\"}], \"scatterpolar\": [{\"marker\": {\"colorbar\": {\"outlinewidth\": 0, \"ticks\": \"\"}}, \"type\": \"scatterpolar\"}], \"scatterpolargl\": [{\"marker\": {\"colorbar\": {\"outlinewidth\": 0, \"ticks\": \"\"}}, \"type\": \"scatterpolargl\"}], \"scatterternary\": [{\"marker\": {\"colorbar\": {\"outlinewidth\": 0, \"ticks\": \"\"}}, \"type\": \"scatterternary\"}], \"surface\": [{\"colorbar\": {\"outlinewidth\": 0, \"ticks\": \"\"}, \"colorscale\": [[0.0, \"#0d0887\"], [0.1111111111111111, \"#46039f\"], [0.2222222222222222, \"#7201a8\"], [0.3333333333333333, \"#9c179e\"], [0.4444444444444444, \"#bd3786\"], [0.5555555555555556, \"#d8576b\"], [0.6666666666666666, \"#ed7953\"], [0.7777777777777778, \"#fb9f3a\"], [0.8888888888888888, \"#fdca26\"], [1.0, \"#f0f921\"]], \"type\": \"surface\"}], \"table\": [{\"cells\": {\"fill\": {\"color\": \"#EBF0F8\"}, \"line\": {\"color\": \"white\"}}, \"header\": {\"fill\": {\"color\": \"#C8D4E3\"}, \"line\": {\"color\": \"white\"}}, \"type\": \"table\"}]}, \"layout\": {\"annotationdefaults\": {\"arrowcolor\": \"#2a3f5f\", \"arrowhead\": 0, \"arrowwidth\": 1}, \"coloraxis\": {\"colorbar\": {\"outlinewidth\": 0, \"ticks\": \"\"}}, \"colorscale\": {\"diverging\": [[0, \"#8e0152\"], [0.1, \"#c51b7d\"], [0.2, \"#de77ae\"], [0.3, \"#f1b6da\"], [0.4, \"#fde0ef\"], [0.5, \"#f7f7f7\"], [0.6, \"#e6f5d0\"], [0.7, \"#b8e186\"], [0.8, \"#7fbc41\"], [0.9, \"#4d9221\"], [1, \"#276419\"]], \"sequential\": [[0.0, \"#0d0887\"], [0.1111111111111111, \"#46039f\"], [0.2222222222222222, \"#7201a8\"], [0.3333333333333333, \"#9c179e\"], [0.4444444444444444, \"#bd3786\"], [0.5555555555555556, \"#d8576b\"], [0.6666666666666666, \"#ed7953\"], [0.7777777777777778, \"#fb9f3a\"], [0.8888888888888888, \"#fdca26\"], [1.0, \"#f0f921\"]], \"sequentialminus\": [[0.0, \"#0d0887\"], [0.1111111111111111, \"#46039f\"], [0.2222222222222222, \"#7201a8\"], [0.3333333333333333, \"#9c179e\"], [0.4444444444444444, \"#bd3786\"], [0.5555555555555556, \"#d8576b\"], [0.6666666666666666, \"#ed7953\"], [0.7777777777777778, \"#fb9f3a\"], [0.8888888888888888, \"#fdca26\"], [1.0, \"#f0f921\"]]}, \"colorway\": [\"#636efa\", \"#EF553B\", \"#00cc96\", \"#ab63fa\", \"#FFA15A\", \"#19d3f3\", \"#FF6692\", \"#B6E880\", \"#FF97FF\", \"#FECB52\"], \"font\": {\"color\": \"#2a3f5f\"}, \"geo\": {\"bgcolor\": \"white\", \"lakecolor\": \"white\", \"landcolor\": \"#E5ECF6\", \"showlakes\": true, \"showland\": true, \"subunitcolor\": \"white\"}, \"hoverlabel\": {\"align\": \"left\"}, \"hovermode\": \"closest\", \"mapbox\": {\"style\": \"light\"}, \"paper_bgcolor\": \"white\", \"plot_bgcolor\": \"#E5ECF6\", \"polar\": {\"angularaxis\": {\"gridcolor\": \"white\", \"linecolor\": \"white\", \"ticks\": \"\"}, \"bgcolor\": \"#E5ECF6\", \"radialaxis\": {\"gridcolor\": \"white\", \"linecolor\": \"white\", \"ticks\": \"\"}}, \"scene\": {\"xaxis\": {\"backgroundcolor\": \"#E5ECF6\", \"gridcolor\": \"white\", \"gridwidth\": 2, \"linecolor\": \"white\", \"showbackground\": true, \"ticks\": \"\", \"zerolinecolor\": \"white\"}, \"yaxis\": {\"backgroundcolor\": \"#E5ECF6\", \"gridcolor\": \"white\", \"gridwidth\": 2, \"linecolor\": \"white\", \"showbackground\": true, \"ticks\": \"\", \"zerolinecolor\": \"white\"}, \"zaxis\": {\"backgroundcolor\": \"#E5ECF6\", \"gridcolor\": \"white\", \"gridwidth\": 2, \"linecolor\": \"white\", \"showbackground\": true, \"ticks\": \"\", \"zerolinecolor\": \"white\"}}, \"shapedefaults\": {\"line\": {\"color\": \"#2a3f5f\"}}, \"ternary\": {\"aaxis\": {\"gridcolor\": \"white\", \"linecolor\": \"white\", \"ticks\": \"\"}, \"baxis\": {\"gridcolor\": \"white\", \"linecolor\": \"white\", \"ticks\": \"\"}, \"bgcolor\": \"#E5ECF6\", \"caxis\": {\"gridcolor\": \"white\", \"linecolor\": \"white\", \"ticks\": \"\"}}, \"title\": {\"x\": 0.05}, \"xaxis\": {\"automargin\": true, \"gridcolor\": \"white\", \"linecolor\": \"white\", \"ticks\": \"\", \"title\": {\"standoff\": 15}, \"zerolinecolor\": \"white\", \"zerolinewidth\": 2}, \"yaxis\": {\"automargin\": true, \"gridcolor\": \"white\", \"linecolor\": \"white\", \"ticks\": \"\", \"title\": {\"standoff\": 15}, \"zerolinecolor\": \"white\", \"zerolinewidth\": 2}}}, \"title\": {\"font\": {\"color\": \"#4D5663\"}}, \"xaxis\": {\"gridcolor\": \"#E1E5ED\", \"showgrid\": true, \"tickfont\": {\"color\": \"#4D5663\"}, \"title\": {\"font\": {\"color\": \"#4D5663\"}, \"text\": \"\"}, \"zerolinecolor\": \"#E1E5ED\"}, \"yaxis\": {\"gridcolor\": \"#E1E5ED\", \"showgrid\": true, \"tickfont\": {\"color\": \"#4D5663\"}, \"title\": {\"font\": {\"color\": \"#4D5663\"}, \"text\": \"\"}, \"zerolinecolor\": \"#E1E5ED\"}},\n",
       "                        {\"showLink\": true, \"linkText\": \"Export to plot.ly\", \"plotlyServerURL\": \"https://plot.ly\", \"responsive\": true}\n",
       "                    ).then(function(){\n",
       "                            \n",
       "var gd = document.getElementById('631a4461-7154-499e-af6d-d18b2f297ebd');\n",
       "var x = new MutationObserver(function (mutations, observer) {{\n",
       "        var display = window.getComputedStyle(gd).display;\n",
       "        if (!display || display === 'none') {{\n",
       "            console.log([gd, 'removed!']);\n",
       "            Plotly.purge(gd);\n",
       "            observer.disconnect();\n",
       "        }}\n",
       "}});\n",
       "\n",
       "// Listen for the removal of the full notebook cells\n",
       "var notebookContainer = gd.closest('#notebook-container');\n",
       "if (notebookContainer) {{\n",
       "    x.observe(notebookContainer, {childList: true});\n",
       "}}\n",
       "\n",
       "// Listen for the clearing of the current output cell\n",
       "var outputEl = gd.closest('.output');\n",
       "if (outputEl) {{\n",
       "    x.observe(outputEl, {childList: true});\n",
       "}}\n",
       "\n",
       "                        })\n",
       "                };\n",
       "                });\n",
       "            </script>\n",
       "        </div>"
      ]
     },
     "metadata": {},
     "output_type": "display_data"
    }
   ],
   "source": [
    "df2.iplot(kind='bar',x='Category',y='Values')"
   ]
  },
  {
   "cell_type": "code",
   "execution_count": 13,
   "metadata": {},
   "outputs": [
    {
     "data": {
      "application/vnd.plotly.v1+json": {
       "config": {
        "linkText": "Export to plot.ly",
        "plotlyServerURL": "https://plot.ly",
        "showLink": true
       },
       "data": [
        {
         "marker": {
          "color": "rgba(255, 153, 51, 0.6)",
          "line": {
           "color": "rgba(255, 153, 51, 1.0)",
           "width": 1
          }
         },
         "name": "None",
         "orientation": "v",
         "text": "",
         "type": "bar",
         "x": [
          "A",
          "B",
          "C",
          "D"
         ],
         "y": [
          100,
          100,
          100,
          100
         ]
        }
       ],
       "layout": {
        "legend": {
         "bgcolor": "#F5F6F9",
         "font": {
          "color": "#4D5663"
         }
        },
        "paper_bgcolor": "#F5F6F9",
        "plot_bgcolor": "#F5F6F9",
        "template": {
         "data": {
          "bar": [
           {
            "error_x": {
             "color": "#2a3f5f"
            },
            "error_y": {
             "color": "#2a3f5f"
            },
            "marker": {
             "line": {
              "color": "#E5ECF6",
              "width": 0.5
             }
            },
            "type": "bar"
           }
          ],
          "barpolar": [
           {
            "marker": {
             "line": {
              "color": "#E5ECF6",
              "width": 0.5
             }
            },
            "type": "barpolar"
           }
          ],
          "carpet": [
           {
            "aaxis": {
             "endlinecolor": "#2a3f5f",
             "gridcolor": "white",
             "linecolor": "white",
             "minorgridcolor": "white",
             "startlinecolor": "#2a3f5f"
            },
            "baxis": {
             "endlinecolor": "#2a3f5f",
             "gridcolor": "white",
             "linecolor": "white",
             "minorgridcolor": "white",
             "startlinecolor": "#2a3f5f"
            },
            "type": "carpet"
           }
          ],
          "choropleth": [
           {
            "colorbar": {
             "outlinewidth": 0,
             "ticks": ""
            },
            "type": "choropleth"
           }
          ],
          "contour": [
           {
            "colorbar": {
             "outlinewidth": 0,
             "ticks": ""
            },
            "colorscale": [
             [
              0,
              "#0d0887"
             ],
             [
              0.1111111111111111,
              "#46039f"
             ],
             [
              0.2222222222222222,
              "#7201a8"
             ],
             [
              0.3333333333333333,
              "#9c179e"
             ],
             [
              0.4444444444444444,
              "#bd3786"
             ],
             [
              0.5555555555555556,
              "#d8576b"
             ],
             [
              0.6666666666666666,
              "#ed7953"
             ],
             [
              0.7777777777777778,
              "#fb9f3a"
             ],
             [
              0.8888888888888888,
              "#fdca26"
             ],
             [
              1,
              "#f0f921"
             ]
            ],
            "type": "contour"
           }
          ],
          "contourcarpet": [
           {
            "colorbar": {
             "outlinewidth": 0,
             "ticks": ""
            },
            "type": "contourcarpet"
           }
          ],
          "heatmap": [
           {
            "colorbar": {
             "outlinewidth": 0,
             "ticks": ""
            },
            "colorscale": [
             [
              0,
              "#0d0887"
             ],
             [
              0.1111111111111111,
              "#46039f"
             ],
             [
              0.2222222222222222,
              "#7201a8"
             ],
             [
              0.3333333333333333,
              "#9c179e"
             ],
             [
              0.4444444444444444,
              "#bd3786"
             ],
             [
              0.5555555555555556,
              "#d8576b"
             ],
             [
              0.6666666666666666,
              "#ed7953"
             ],
             [
              0.7777777777777778,
              "#fb9f3a"
             ],
             [
              0.8888888888888888,
              "#fdca26"
             ],
             [
              1,
              "#f0f921"
             ]
            ],
            "type": "heatmap"
           }
          ],
          "heatmapgl": [
           {
            "colorbar": {
             "outlinewidth": 0,
             "ticks": ""
            },
            "colorscale": [
             [
              0,
              "#0d0887"
             ],
             [
              0.1111111111111111,
              "#46039f"
             ],
             [
              0.2222222222222222,
              "#7201a8"
             ],
             [
              0.3333333333333333,
              "#9c179e"
             ],
             [
              0.4444444444444444,
              "#bd3786"
             ],
             [
              0.5555555555555556,
              "#d8576b"
             ],
             [
              0.6666666666666666,
              "#ed7953"
             ],
             [
              0.7777777777777778,
              "#fb9f3a"
             ],
             [
              0.8888888888888888,
              "#fdca26"
             ],
             [
              1,
              "#f0f921"
             ]
            ],
            "type": "heatmapgl"
           }
          ],
          "histogram": [
           {
            "marker": {
             "colorbar": {
              "outlinewidth": 0,
              "ticks": ""
             }
            },
            "type": "histogram"
           }
          ],
          "histogram2d": [
           {
            "colorbar": {
             "outlinewidth": 0,
             "ticks": ""
            },
            "colorscale": [
             [
              0,
              "#0d0887"
             ],
             [
              0.1111111111111111,
              "#46039f"
             ],
             [
              0.2222222222222222,
              "#7201a8"
             ],
             [
              0.3333333333333333,
              "#9c179e"
             ],
             [
              0.4444444444444444,
              "#bd3786"
             ],
             [
              0.5555555555555556,
              "#d8576b"
             ],
             [
              0.6666666666666666,
              "#ed7953"
             ],
             [
              0.7777777777777778,
              "#fb9f3a"
             ],
             [
              0.8888888888888888,
              "#fdca26"
             ],
             [
              1,
              "#f0f921"
             ]
            ],
            "type": "histogram2d"
           }
          ],
          "histogram2dcontour": [
           {
            "colorbar": {
             "outlinewidth": 0,
             "ticks": ""
            },
            "colorscale": [
             [
              0,
              "#0d0887"
             ],
             [
              0.1111111111111111,
              "#46039f"
             ],
             [
              0.2222222222222222,
              "#7201a8"
             ],
             [
              0.3333333333333333,
              "#9c179e"
             ],
             [
              0.4444444444444444,
              "#bd3786"
             ],
             [
              0.5555555555555556,
              "#d8576b"
             ],
             [
              0.6666666666666666,
              "#ed7953"
             ],
             [
              0.7777777777777778,
              "#fb9f3a"
             ],
             [
              0.8888888888888888,
              "#fdca26"
             ],
             [
              1,
              "#f0f921"
             ]
            ],
            "type": "histogram2dcontour"
           }
          ],
          "mesh3d": [
           {
            "colorbar": {
             "outlinewidth": 0,
             "ticks": ""
            },
            "type": "mesh3d"
           }
          ],
          "parcoords": [
           {
            "line": {
             "colorbar": {
              "outlinewidth": 0,
              "ticks": ""
             }
            },
            "type": "parcoords"
           }
          ],
          "pie": [
           {
            "automargin": true,
            "type": "pie"
           }
          ],
          "scatter": [
           {
            "marker": {
             "colorbar": {
              "outlinewidth": 0,
              "ticks": ""
             }
            },
            "type": "scatter"
           }
          ],
          "scatter3d": [
           {
            "line": {
             "colorbar": {
              "outlinewidth": 0,
              "ticks": ""
             }
            },
            "marker": {
             "colorbar": {
              "outlinewidth": 0,
              "ticks": ""
             }
            },
            "type": "scatter3d"
           }
          ],
          "scattercarpet": [
           {
            "marker": {
             "colorbar": {
              "outlinewidth": 0,
              "ticks": ""
             }
            },
            "type": "scattercarpet"
           }
          ],
          "scattergeo": [
           {
            "marker": {
             "colorbar": {
              "outlinewidth": 0,
              "ticks": ""
             }
            },
            "type": "scattergeo"
           }
          ],
          "scattergl": [
           {
            "marker": {
             "colorbar": {
              "outlinewidth": 0,
              "ticks": ""
             }
            },
            "type": "scattergl"
           }
          ],
          "scattermapbox": [
           {
            "marker": {
             "colorbar": {
              "outlinewidth": 0,
              "ticks": ""
             }
            },
            "type": "scattermapbox"
           }
          ],
          "scatterpolar": [
           {
            "marker": {
             "colorbar": {
              "outlinewidth": 0,
              "ticks": ""
             }
            },
            "type": "scatterpolar"
           }
          ],
          "scatterpolargl": [
           {
            "marker": {
             "colorbar": {
              "outlinewidth": 0,
              "ticks": ""
             }
            },
            "type": "scatterpolargl"
           }
          ],
          "scatterternary": [
           {
            "marker": {
             "colorbar": {
              "outlinewidth": 0,
              "ticks": ""
             }
            },
            "type": "scatterternary"
           }
          ],
          "surface": [
           {
            "colorbar": {
             "outlinewidth": 0,
             "ticks": ""
            },
            "colorscale": [
             [
              0,
              "#0d0887"
             ],
             [
              0.1111111111111111,
              "#46039f"
             ],
             [
              0.2222222222222222,
              "#7201a8"
             ],
             [
              0.3333333333333333,
              "#9c179e"
             ],
             [
              0.4444444444444444,
              "#bd3786"
             ],
             [
              0.5555555555555556,
              "#d8576b"
             ],
             [
              0.6666666666666666,
              "#ed7953"
             ],
             [
              0.7777777777777778,
              "#fb9f3a"
             ],
             [
              0.8888888888888888,
              "#fdca26"
             ],
             [
              1,
              "#f0f921"
             ]
            ],
            "type": "surface"
           }
          ],
          "table": [
           {
            "cells": {
             "fill": {
              "color": "#EBF0F8"
             },
             "line": {
              "color": "white"
             }
            },
            "header": {
             "fill": {
              "color": "#C8D4E3"
             },
             "line": {
              "color": "white"
             }
            },
            "type": "table"
           }
          ]
         },
         "layout": {
          "annotationdefaults": {
           "arrowcolor": "#2a3f5f",
           "arrowhead": 0,
           "arrowwidth": 1
          },
          "coloraxis": {
           "colorbar": {
            "outlinewidth": 0,
            "ticks": ""
           }
          },
          "colorscale": {
           "diverging": [
            [
             0,
             "#8e0152"
            ],
            [
             0.1,
             "#c51b7d"
            ],
            [
             0.2,
             "#de77ae"
            ],
            [
             0.3,
             "#f1b6da"
            ],
            [
             0.4,
             "#fde0ef"
            ],
            [
             0.5,
             "#f7f7f7"
            ],
            [
             0.6,
             "#e6f5d0"
            ],
            [
             0.7,
             "#b8e186"
            ],
            [
             0.8,
             "#7fbc41"
            ],
            [
             0.9,
             "#4d9221"
            ],
            [
             1,
             "#276419"
            ]
           ],
           "sequential": [
            [
             0,
             "#0d0887"
            ],
            [
             0.1111111111111111,
             "#46039f"
            ],
            [
             0.2222222222222222,
             "#7201a8"
            ],
            [
             0.3333333333333333,
             "#9c179e"
            ],
            [
             0.4444444444444444,
             "#bd3786"
            ],
            [
             0.5555555555555556,
             "#d8576b"
            ],
            [
             0.6666666666666666,
             "#ed7953"
            ],
            [
             0.7777777777777778,
             "#fb9f3a"
            ],
            [
             0.8888888888888888,
             "#fdca26"
            ],
            [
             1,
             "#f0f921"
            ]
           ],
           "sequentialminus": [
            [
             0,
             "#0d0887"
            ],
            [
             0.1111111111111111,
             "#46039f"
            ],
            [
             0.2222222222222222,
             "#7201a8"
            ],
            [
             0.3333333333333333,
             "#9c179e"
            ],
            [
             0.4444444444444444,
             "#bd3786"
            ],
            [
             0.5555555555555556,
             "#d8576b"
            ],
            [
             0.6666666666666666,
             "#ed7953"
            ],
            [
             0.7777777777777778,
             "#fb9f3a"
            ],
            [
             0.8888888888888888,
             "#fdca26"
            ],
            [
             1,
             "#f0f921"
            ]
           ]
          },
          "colorway": [
           "#636efa",
           "#EF553B",
           "#00cc96",
           "#ab63fa",
           "#FFA15A",
           "#19d3f3",
           "#FF6692",
           "#B6E880",
           "#FF97FF",
           "#FECB52"
          ],
          "font": {
           "color": "#2a3f5f"
          },
          "geo": {
           "bgcolor": "white",
           "lakecolor": "white",
           "landcolor": "#E5ECF6",
           "showlakes": true,
           "showland": true,
           "subunitcolor": "white"
          },
          "hoverlabel": {
           "align": "left"
          },
          "hovermode": "closest",
          "mapbox": {
           "style": "light"
          },
          "paper_bgcolor": "white",
          "plot_bgcolor": "#E5ECF6",
          "polar": {
           "angularaxis": {
            "gridcolor": "white",
            "linecolor": "white",
            "ticks": ""
           },
           "bgcolor": "#E5ECF6",
           "radialaxis": {
            "gridcolor": "white",
            "linecolor": "white",
            "ticks": ""
           }
          },
          "scene": {
           "xaxis": {
            "backgroundcolor": "#E5ECF6",
            "gridcolor": "white",
            "gridwidth": 2,
            "linecolor": "white",
            "showbackground": true,
            "ticks": "",
            "zerolinecolor": "white"
           },
           "yaxis": {
            "backgroundcolor": "#E5ECF6",
            "gridcolor": "white",
            "gridwidth": 2,
            "linecolor": "white",
            "showbackground": true,
            "ticks": "",
            "zerolinecolor": "white"
           },
           "zaxis": {
            "backgroundcolor": "#E5ECF6",
            "gridcolor": "white",
            "gridwidth": 2,
            "linecolor": "white",
            "showbackground": true,
            "ticks": "",
            "zerolinecolor": "white"
           }
          },
          "shapedefaults": {
           "line": {
            "color": "#2a3f5f"
           }
          },
          "ternary": {
           "aaxis": {
            "gridcolor": "white",
            "linecolor": "white",
            "ticks": ""
           },
           "baxis": {
            "gridcolor": "white",
            "linecolor": "white",
            "ticks": ""
           },
           "bgcolor": "#E5ECF6",
           "caxis": {
            "gridcolor": "white",
            "linecolor": "white",
            "ticks": ""
           }
          },
          "title": {
           "x": 0.05
          },
          "xaxis": {
           "automargin": true,
           "gridcolor": "white",
           "linecolor": "white",
           "ticks": "",
           "title": {
            "standoff": 15
           },
           "zerolinecolor": "white",
           "zerolinewidth": 2
          },
          "yaxis": {
           "automargin": true,
           "gridcolor": "white",
           "linecolor": "white",
           "ticks": "",
           "title": {
            "standoff": 15
           },
           "zerolinecolor": "white",
           "zerolinewidth": 2
          }
         }
        },
        "title": {
         "font": {
          "color": "#4D5663"
         }
        },
        "xaxis": {
         "gridcolor": "#E1E5ED",
         "showgrid": true,
         "tickfont": {
          "color": "#4D5663"
         },
         "title": {
          "font": {
           "color": "#4D5663"
          },
          "text": ""
         },
         "zerolinecolor": "#E1E5ED"
        },
        "yaxis": {
         "gridcolor": "#E1E5ED",
         "showgrid": true,
         "tickfont": {
          "color": "#4D5663"
         },
         "title": {
          "font": {
           "color": "#4D5663"
          },
          "text": ""
         },
         "zerolinecolor": "#E1E5ED"
        }
       }
      },
      "text/html": [
       "<div>\n",
       "        \n",
       "        \n",
       "            <div id=\"ee24c812-93e4-4954-ab51-bc6ba298d017\" class=\"plotly-graph-div\" style=\"height:525px; width:100%;\"></div>\n",
       "            <script type=\"text/javascript\">\n",
       "                require([\"plotly\"], function(Plotly) {\n",
       "                    window.PLOTLYENV=window.PLOTLYENV || {};\n",
       "                    window.PLOTLYENV.BASE_URL='https://plot.ly';\n",
       "                    \n",
       "                if (document.getElementById(\"ee24c812-93e4-4954-ab51-bc6ba298d017\")) {\n",
       "                    Plotly.newPlot(\n",
       "                        'ee24c812-93e4-4954-ab51-bc6ba298d017',\n",
       "                        [{\"marker\": {\"color\": \"rgba(255, 153, 51, 0.6)\", \"line\": {\"color\": \"rgba(255, 153, 51, 1.0)\", \"width\": 1}}, \"name\": \"None\", \"orientation\": \"v\", \"text\": \"\", \"type\": \"bar\", \"x\": [\"A\", \"B\", \"C\", \"D\"], \"y\": [100, 100, 100, 100]}],\n",
       "                        {\"legend\": {\"bgcolor\": \"#F5F6F9\", \"font\": {\"color\": \"#4D5663\"}}, \"paper_bgcolor\": \"#F5F6F9\", \"plot_bgcolor\": \"#F5F6F9\", \"template\": {\"data\": {\"bar\": [{\"error_x\": {\"color\": \"#2a3f5f\"}, \"error_y\": {\"color\": \"#2a3f5f\"}, \"marker\": {\"line\": {\"color\": \"#E5ECF6\", \"width\": 0.5}}, \"type\": \"bar\"}], \"barpolar\": [{\"marker\": {\"line\": {\"color\": \"#E5ECF6\", \"width\": 0.5}}, \"type\": \"barpolar\"}], \"carpet\": [{\"aaxis\": {\"endlinecolor\": \"#2a3f5f\", \"gridcolor\": \"white\", \"linecolor\": \"white\", \"minorgridcolor\": \"white\", \"startlinecolor\": \"#2a3f5f\"}, \"baxis\": {\"endlinecolor\": \"#2a3f5f\", \"gridcolor\": \"white\", \"linecolor\": \"white\", \"minorgridcolor\": \"white\", \"startlinecolor\": \"#2a3f5f\"}, \"type\": \"carpet\"}], \"choropleth\": [{\"colorbar\": {\"outlinewidth\": 0, \"ticks\": \"\"}, \"type\": \"choropleth\"}], \"contour\": [{\"colorbar\": {\"outlinewidth\": 0, \"ticks\": \"\"}, \"colorscale\": [[0.0, \"#0d0887\"], [0.1111111111111111, \"#46039f\"], [0.2222222222222222, \"#7201a8\"], [0.3333333333333333, \"#9c179e\"], [0.4444444444444444, \"#bd3786\"], [0.5555555555555556, \"#d8576b\"], [0.6666666666666666, \"#ed7953\"], [0.7777777777777778, \"#fb9f3a\"], [0.8888888888888888, \"#fdca26\"], [1.0, \"#f0f921\"]], \"type\": \"contour\"}], \"contourcarpet\": [{\"colorbar\": {\"outlinewidth\": 0, \"ticks\": \"\"}, \"type\": \"contourcarpet\"}], \"heatmap\": [{\"colorbar\": {\"outlinewidth\": 0, \"ticks\": \"\"}, \"colorscale\": [[0.0, \"#0d0887\"], [0.1111111111111111, \"#46039f\"], [0.2222222222222222, \"#7201a8\"], [0.3333333333333333, \"#9c179e\"], [0.4444444444444444, \"#bd3786\"], [0.5555555555555556, \"#d8576b\"], [0.6666666666666666, \"#ed7953\"], [0.7777777777777778, \"#fb9f3a\"], [0.8888888888888888, \"#fdca26\"], [1.0, \"#f0f921\"]], \"type\": \"heatmap\"}], \"heatmapgl\": [{\"colorbar\": {\"outlinewidth\": 0, \"ticks\": \"\"}, \"colorscale\": [[0.0, \"#0d0887\"], [0.1111111111111111, \"#46039f\"], [0.2222222222222222, \"#7201a8\"], [0.3333333333333333, \"#9c179e\"], [0.4444444444444444, \"#bd3786\"], [0.5555555555555556, \"#d8576b\"], [0.6666666666666666, \"#ed7953\"], [0.7777777777777778, \"#fb9f3a\"], [0.8888888888888888, \"#fdca26\"], [1.0, \"#f0f921\"]], \"type\": \"heatmapgl\"}], \"histogram\": [{\"marker\": {\"colorbar\": {\"outlinewidth\": 0, \"ticks\": \"\"}}, \"type\": \"histogram\"}], \"histogram2d\": [{\"colorbar\": {\"outlinewidth\": 0, \"ticks\": \"\"}, \"colorscale\": [[0.0, \"#0d0887\"], [0.1111111111111111, \"#46039f\"], [0.2222222222222222, \"#7201a8\"], [0.3333333333333333, \"#9c179e\"], [0.4444444444444444, \"#bd3786\"], [0.5555555555555556, \"#d8576b\"], [0.6666666666666666, \"#ed7953\"], [0.7777777777777778, \"#fb9f3a\"], [0.8888888888888888, \"#fdca26\"], [1.0, \"#f0f921\"]], \"type\": \"histogram2d\"}], \"histogram2dcontour\": [{\"colorbar\": {\"outlinewidth\": 0, \"ticks\": \"\"}, \"colorscale\": [[0.0, \"#0d0887\"], [0.1111111111111111, \"#46039f\"], [0.2222222222222222, \"#7201a8\"], [0.3333333333333333, \"#9c179e\"], [0.4444444444444444, \"#bd3786\"], [0.5555555555555556, \"#d8576b\"], [0.6666666666666666, \"#ed7953\"], [0.7777777777777778, \"#fb9f3a\"], [0.8888888888888888, \"#fdca26\"], [1.0, \"#f0f921\"]], \"type\": \"histogram2dcontour\"}], \"mesh3d\": [{\"colorbar\": {\"outlinewidth\": 0, \"ticks\": \"\"}, \"type\": \"mesh3d\"}], \"parcoords\": [{\"line\": {\"colorbar\": {\"outlinewidth\": 0, \"ticks\": \"\"}}, \"type\": \"parcoords\"}], \"pie\": [{\"automargin\": true, \"type\": \"pie\"}], \"scatter\": [{\"marker\": {\"colorbar\": {\"outlinewidth\": 0, \"ticks\": \"\"}}, \"type\": \"scatter\"}], \"scatter3d\": [{\"line\": {\"colorbar\": {\"outlinewidth\": 0, \"ticks\": \"\"}}, \"marker\": {\"colorbar\": {\"outlinewidth\": 0, \"ticks\": \"\"}}, \"type\": \"scatter3d\"}], \"scattercarpet\": [{\"marker\": {\"colorbar\": {\"outlinewidth\": 0, \"ticks\": \"\"}}, \"type\": \"scattercarpet\"}], \"scattergeo\": [{\"marker\": {\"colorbar\": {\"outlinewidth\": 0, \"ticks\": \"\"}}, \"type\": \"scattergeo\"}], \"scattergl\": [{\"marker\": {\"colorbar\": {\"outlinewidth\": 0, \"ticks\": \"\"}}, \"type\": \"scattergl\"}], \"scattermapbox\": [{\"marker\": {\"colorbar\": {\"outlinewidth\": 0, \"ticks\": \"\"}}, \"type\": \"scattermapbox\"}], \"scatterpolar\": [{\"marker\": {\"colorbar\": {\"outlinewidth\": 0, \"ticks\": \"\"}}, \"type\": \"scatterpolar\"}], \"scatterpolargl\": [{\"marker\": {\"colorbar\": {\"outlinewidth\": 0, \"ticks\": \"\"}}, \"type\": \"scatterpolargl\"}], \"scatterternary\": [{\"marker\": {\"colorbar\": {\"outlinewidth\": 0, \"ticks\": \"\"}}, \"type\": \"scatterternary\"}], \"surface\": [{\"colorbar\": {\"outlinewidth\": 0, \"ticks\": \"\"}, \"colorscale\": [[0.0, \"#0d0887\"], [0.1111111111111111, \"#46039f\"], [0.2222222222222222, \"#7201a8\"], [0.3333333333333333, \"#9c179e\"], [0.4444444444444444, \"#bd3786\"], [0.5555555555555556, \"#d8576b\"], [0.6666666666666666, \"#ed7953\"], [0.7777777777777778, \"#fb9f3a\"], [0.8888888888888888, \"#fdca26\"], [1.0, \"#f0f921\"]], \"type\": \"surface\"}], \"table\": [{\"cells\": {\"fill\": {\"color\": \"#EBF0F8\"}, \"line\": {\"color\": \"white\"}}, \"header\": {\"fill\": {\"color\": \"#C8D4E3\"}, \"line\": {\"color\": \"white\"}}, \"type\": \"table\"}]}, \"layout\": {\"annotationdefaults\": {\"arrowcolor\": \"#2a3f5f\", \"arrowhead\": 0, \"arrowwidth\": 1}, \"coloraxis\": {\"colorbar\": {\"outlinewidth\": 0, \"ticks\": \"\"}}, \"colorscale\": {\"diverging\": [[0, \"#8e0152\"], [0.1, \"#c51b7d\"], [0.2, \"#de77ae\"], [0.3, \"#f1b6da\"], [0.4, \"#fde0ef\"], [0.5, \"#f7f7f7\"], [0.6, \"#e6f5d0\"], [0.7, \"#b8e186\"], [0.8, \"#7fbc41\"], [0.9, \"#4d9221\"], [1, \"#276419\"]], \"sequential\": [[0.0, \"#0d0887\"], [0.1111111111111111, \"#46039f\"], [0.2222222222222222, \"#7201a8\"], [0.3333333333333333, \"#9c179e\"], [0.4444444444444444, \"#bd3786\"], [0.5555555555555556, \"#d8576b\"], [0.6666666666666666, \"#ed7953\"], [0.7777777777777778, \"#fb9f3a\"], [0.8888888888888888, \"#fdca26\"], [1.0, \"#f0f921\"]], \"sequentialminus\": [[0.0, \"#0d0887\"], [0.1111111111111111, \"#46039f\"], [0.2222222222222222, \"#7201a8\"], [0.3333333333333333, \"#9c179e\"], [0.4444444444444444, \"#bd3786\"], [0.5555555555555556, \"#d8576b\"], [0.6666666666666666, \"#ed7953\"], [0.7777777777777778, \"#fb9f3a\"], [0.8888888888888888, \"#fdca26\"], [1.0, \"#f0f921\"]]}, \"colorway\": [\"#636efa\", \"#EF553B\", \"#00cc96\", \"#ab63fa\", \"#FFA15A\", \"#19d3f3\", \"#FF6692\", \"#B6E880\", \"#FF97FF\", \"#FECB52\"], \"font\": {\"color\": \"#2a3f5f\"}, \"geo\": {\"bgcolor\": \"white\", \"lakecolor\": \"white\", \"landcolor\": \"#E5ECF6\", \"showlakes\": true, \"showland\": true, \"subunitcolor\": \"white\"}, \"hoverlabel\": {\"align\": \"left\"}, \"hovermode\": \"closest\", \"mapbox\": {\"style\": \"light\"}, \"paper_bgcolor\": \"white\", \"plot_bgcolor\": \"#E5ECF6\", \"polar\": {\"angularaxis\": {\"gridcolor\": \"white\", \"linecolor\": \"white\", \"ticks\": \"\"}, \"bgcolor\": \"#E5ECF6\", \"radialaxis\": {\"gridcolor\": \"white\", \"linecolor\": \"white\", \"ticks\": \"\"}}, \"scene\": {\"xaxis\": {\"backgroundcolor\": \"#E5ECF6\", \"gridcolor\": \"white\", \"gridwidth\": 2, \"linecolor\": \"white\", \"showbackground\": true, \"ticks\": \"\", \"zerolinecolor\": \"white\"}, \"yaxis\": {\"backgroundcolor\": \"#E5ECF6\", \"gridcolor\": \"white\", \"gridwidth\": 2, \"linecolor\": \"white\", \"showbackground\": true, \"ticks\": \"\", \"zerolinecolor\": \"white\"}, \"zaxis\": {\"backgroundcolor\": \"#E5ECF6\", \"gridcolor\": \"white\", \"gridwidth\": 2, \"linecolor\": \"white\", \"showbackground\": true, \"ticks\": \"\", \"zerolinecolor\": \"white\"}}, \"shapedefaults\": {\"line\": {\"color\": \"#2a3f5f\"}}, \"ternary\": {\"aaxis\": {\"gridcolor\": \"white\", \"linecolor\": \"white\", \"ticks\": \"\"}, \"baxis\": {\"gridcolor\": \"white\", \"linecolor\": \"white\", \"ticks\": \"\"}, \"bgcolor\": \"#E5ECF6\", \"caxis\": {\"gridcolor\": \"white\", \"linecolor\": \"white\", \"ticks\": \"\"}}, \"title\": {\"x\": 0.05}, \"xaxis\": {\"automargin\": true, \"gridcolor\": \"white\", \"linecolor\": \"white\", \"ticks\": \"\", \"title\": {\"standoff\": 15}, \"zerolinecolor\": \"white\", \"zerolinewidth\": 2}, \"yaxis\": {\"automargin\": true, \"gridcolor\": \"white\", \"linecolor\": \"white\", \"ticks\": \"\", \"title\": {\"standoff\": 15}, \"zerolinecolor\": \"white\", \"zerolinewidth\": 2}}}, \"title\": {\"font\": {\"color\": \"#4D5663\"}}, \"xaxis\": {\"gridcolor\": \"#E1E5ED\", \"showgrid\": true, \"tickfont\": {\"color\": \"#4D5663\"}, \"title\": {\"font\": {\"color\": \"#4D5663\"}, \"text\": \"\"}, \"zerolinecolor\": \"#E1E5ED\"}, \"yaxis\": {\"gridcolor\": \"#E1E5ED\", \"showgrid\": true, \"tickfont\": {\"color\": \"#4D5663\"}, \"title\": {\"font\": {\"color\": \"#4D5663\"}, \"text\": \"\"}, \"zerolinecolor\": \"#E1E5ED\"}},\n",
       "                        {\"showLink\": true, \"linkText\": \"Export to plot.ly\", \"plotlyServerURL\": \"https://plot.ly\", \"responsive\": true}\n",
       "                    ).then(function(){\n",
       "                            \n",
       "var gd = document.getElementById('ee24c812-93e4-4954-ab51-bc6ba298d017');\n",
       "var x = new MutationObserver(function (mutations, observer) {{\n",
       "        var display = window.getComputedStyle(gd).display;\n",
       "        if (!display || display === 'none') {{\n",
       "            console.log([gd, 'removed!']);\n",
       "            Plotly.purge(gd);\n",
       "            observer.disconnect();\n",
       "        }}\n",
       "}});\n",
       "\n",
       "// Listen for the removal of the full notebook cells\n",
       "var notebookContainer = gd.closest('#notebook-container');\n",
       "if (notebookContainer) {{\n",
       "    x.observe(notebookContainer, {childList: true});\n",
       "}}\n",
       "\n",
       "// Listen for the clearing of the current output cell\n",
       "var outputEl = gd.closest('.output');\n",
       "if (outputEl) {{\n",
       "    x.observe(outputEl, {childList: true});\n",
       "}}\n",
       "\n",
       "                        })\n",
       "                };\n",
       "                });\n",
       "            </script>\n",
       "        </div>"
      ]
     },
     "metadata": {},
     "output_type": "display_data"
    }
   ],
   "source": [
    "df.count().iplot(kind='bar')"
   ]
  },
  {
   "cell_type": "markdown",
   "metadata": {},
   "source": [
    "## Boxplots"
   ]
  },
  {
   "cell_type": "code",
   "execution_count": 14,
   "metadata": {},
   "outputs": [
    {
     "data": {
      "application/vnd.plotly.v1+json": {
       "config": {
        "linkText": "Export to plot.ly",
        "plotlyServerURL": "https://plot.ly",
        "showLink": true
       },
       "data": [
        {
         "boxpoints": false,
         "line": {
          "width": 1.3
         },
         "marker": {
          "color": "rgba(255, 153, 51, 1.0)"
         },
         "name": "A",
         "orientation": "v",
         "type": "box",
         "y": [
          1.5101490399848538,
          -0.6405275834738976,
          -0.512955812775037,
          1.9945535110166155,
          0.7239546875357956,
          0.8193567705112613,
          1.192205706744129,
          -0.06787383362506158,
          -0.9802554854905633,
          0.6983271064470218,
          -0.09113355613425492,
          1.2313007346971012,
          0.5877414638414414,
          0.44701759506099287,
          -1.4625771180718434,
          -2.652004600843019,
          0.09877482172888144,
          1.1629678060014554,
          0.7691594293148781,
          -0.1364317997818323,
          -0.16022426763322922,
          0.325414195254767,
          0.2688277762024969,
          1.841688695638128,
          -0.3097790041736717,
          -0.27035022527693,
          -0.3223095653633265,
          -0.1461980419232848,
          2.3170839799717053,
          1.8369084706357632,
          -0.7221143171938086,
          -0.6348791926259997,
          0.041316979821828165,
          -2.6008465783966845,
          0.1232552893656748,
          0.7240482389471554,
          -1.1566478307252988,
          0.06803529895168065,
          -0.08971460905870797,
          0.18012357430894557,
          0.9225730627109227,
          -1.445603452520163,
          -0.2895665306804073,
          0.09538268325347563,
          1.287372036995754,
          -0.6105013600450948,
          -0.7654308216950918,
          0.6525813929540183,
          1.3259746476590089,
          2.3626108894511493,
          -0.8445790982577436,
          0.01824503703149911,
          -0.9283950022622932,
          0.33636857025188516,
          -0.8613816355113362,
          0.40466279012072576,
          0.8363332121586713,
          -1.239556920419094,
          0.27739221030357436,
          -0.4021079811857981,
          1.4712926754951638,
          0.25657991140085984,
          -0.8310974348171803,
          0.6114113100084001,
          -0.955427588323675,
          0.5184833162831455,
          -1.0452960939323077,
          0.4667513077038204,
          -0.723458426308934,
          -2.5867925551081035,
          0.7903424657093867,
          -0.4936357686129681,
          -0.7627359863188906,
          0.3536789889194609,
          -1.2902491381524273,
          0.1912991604086632,
          0.9121151372265259,
          0.7373090629882498,
          0.5037650361608089,
          1.1318384618076784,
          -0.32154075364181933,
          0.9361876383988863,
          1.0476083383554216,
          0.4720998866594356,
          -0.4088347948063875,
          -0.2047000651934584,
          -0.8547597310671836,
          0.9836937217040943,
          1.5744087429243852,
          1.4033565625484767,
          -0.7242927426020687,
          -0.6910896152379462,
          0.7961011916043215,
          -0.1451686332386725,
          0.23618649203945938,
          -0.9005205826485293,
          0.5929153455591286,
          -1.3558193667814635,
          1.555509083173195,
          1.5661931184442937
         ]
        },
        {
         "boxpoints": false,
         "line": {
          "width": 1.3
         },
         "marker": {
          "color": "rgba(55, 128, 191, 1.0)"
         },
         "name": "B",
         "orientation": "v",
         "type": "box",
         "y": [
          0.054979191128094816,
          1.4368555640509848,
          -0.22607750843614138,
          0.20147652277293557,
          -1.4555502346439408,
          1.235727105253792,
          0.45538137880566887,
          -1.3010732893534303,
          -1.2691000601151483,
          1.6370568366415919,
          0.3071655217652912,
          -0.5990722768644184,
          -2.647254678769929,
          0.702738372406523,
          0.07191205239778133,
          1.2001027658925585,
          0.3102254510934988,
          -2.907098840258816,
          -1.2688217753814637,
          -0.9838590414229287,
          0.9115690199446567,
          0.9469701010827166,
          0.15696478517473111,
          1.6471109893762343,
          -0.8977548136067434,
          -0.9199482432111052,
          0.8687462611039781,
          -0.49259127413312087,
          1.9997186565748608,
          0.28299432369597044,
          0.5636013029300263,
          -0.533031353093187,
          -2.3004571749120823,
          0.5371737481378878,
          0.8350225602155451,
          -0.5948402186277807,
          -0.1895541588040986,
          -0.05861025295657063,
          -2.0990765127482067,
          0.12005665584931399,
          -1.1097215512147067,
          0.3041362882859407,
          0.9611494673654635,
          -0.7724740028745279,
          1.8364041184574287,
          0.5150682119767902,
          -0.7953027555580844,
          1.5755045849174594,
          -0.8625472207013256,
          -0.3765871069608661,
          -0.35965627007750917,
          0.8907945673388414,
          -0.5211463173335591,
          0.229942887701415,
          1.2070059543372178,
          -1.747909478166768,
          -1.2544204297967272,
          -0.39345806939876377,
          1.3525798011451498,
          -1.5634681769462817,
          1.5231440386058803,
          0.5615698709650291,
          -0.5986586180194643,
          0.060079755434575555,
          2.140389869307584,
          0.11628915233426852,
          0.5943641768616253,
          1.4935800759035067,
          -0.4025470502298976,
          -2.179590754822418,
          0.46750448914317605,
          1.477145305796776,
          -1.665319404483263,
          0.3085561347371331,
          -0.3453710286044497,
          0.5562338663194516,
          -0.2790322781489596,
          -0.9642744260233003,
          -0.4545174340207927,
          -0.23539992106019608,
          -0.7628340515598176,
          -1.5311459626066464,
          0.7231843780477117,
          0.44513667647675115,
          0.7252438502557419,
          0.010664927582359943,
          -1.2889237131715514,
          0.9850276280938937,
          0.24092972415915567,
          -0.9866877607378947,
          -2.154137554731013,
          -0.1285673748219936,
          -0.24435316549739328,
          0.7796057011313241,
          -0.37089112604330343,
          1.7190997934959267,
          0.11110381508124938,
          -0.19742003370703887,
          0.3459687603740203,
          -1.1825722115533015
         ]
        },
        {
         "boxpoints": false,
         "line": {
          "width": 1.3
         },
         "marker": {
          "color": "rgba(50, 171, 96, 1.0)"
         },
         "name": "C",
         "orientation": "v",
         "type": "box",
         "y": [
          -0.3699781401072991,
          0.014666525778796255,
          1.0530454979308128,
          1.3347242185804256,
          0.43905726188422833,
          -0.5693718713084631,
          -2.25535961919125,
          -0.7152786630596007,
          -0.09561467051906766,
          0.8003395212866454,
          -1.2647570835866317,
          1.053283591042986,
          -0.0983263703685516,
          -0.2540368996779051,
          0.3870154878492967,
          1.726478466346719,
          0.5732071431879369,
          2.2150632282989857,
          0.31910035503356143,
          0.28982242092364024,
          -1.148567074313695,
          0.15395629071155595,
          1.525463781739682,
          0.07066215676636697,
          0.8978878304568622,
          1.1280238256836097,
          1.2725713345243703,
          0.7396102639233508,
          0.8697856004738943,
          1.7159182149501446,
          0.5654919600474853,
          0.8783803882689514,
          -0.22443173904006908,
          0.7903887495024083,
          -1.1356650018129308,
          1.0864899554782066,
          -0.19145432530466677,
          1.0263877857566044,
          -1.2426764034787228,
          0.755972690374339,
          -0.3080948937153945,
          -0.9089048202162897,
          0.08773774307987836,
          0.37346578493517113,
          -0.21829959274557942,
          0.7472882772397567,
          0.12475864153448532,
          0.10719084735452485,
          -0.9650709580743985,
          -0.32734725869903164,
          0.290432477796843,
          -0.4318512657465015,
          0.546100087535669,
          0.16882415124890723,
          0.0625627434318641,
          -0.45111345153140514,
          -1.035800298608654,
          -1.1755826012034793,
          -0.5887579822623921,
          -0.936012737378819,
          0.8641850724565397,
          0.2260731732418727,
          -0.0796786180204319,
          0.28979130885627713,
          1.1460541429713298,
          -1.000717010584556,
          -0.6595316037691642,
          1.9016790870899154,
          -0.21940494229947125,
          0.8130959862423774,
          -1.5716840067383513,
          0.8418073633792109,
          0.28950143573949405,
          0.8816021466187254,
          0.5337866283889577,
          0.2715537049077293,
          -0.5984284499957764,
          1.5332171216992303,
          0.7778781429861782,
          0.17196691282409546,
          -0.8117837624181126,
          -0.3023510398571448,
          0.10008463721285718,
          1.3338420511450306,
          -0.7581750788470961,
          0.3016527346606335,
          -0.39718496454650665,
          0.6788152804439113,
          2.152973446351624,
          -0.2730366986958714,
          -0.8681988229280707,
          0.7878230209305109,
          1.2416464932761073,
          1.120402684702779,
          -0.15711509417868788,
          -1.0852033515334814,
          0.2540149848663791,
          -0.9443103947243021,
          0.9616598758998366,
          -0.0063800398525212165
         ]
        },
        {
         "boxpoints": false,
         "line": {
          "width": 1.3
         },
         "marker": {
          "color": "rgba(128, 0, 128, 1.0)"
         },
         "name": "D",
         "orientation": "v",
         "type": "box",
         "y": [
          -1.3863703005882506,
          0.9561806674417825,
          0.8024482942155324,
          1.3502875548777409,
          -0.11584356492870602,
          0.10367331696848246,
          1.926302269024144,
          1.5771120906387193,
          1.512181985361918,
          -0.04564802133766652,
          0.501311621973258,
          1.073860999955962,
          1.0101192453318664,
          -0.47535900976737633,
          1.2190010760002734,
          -1.2051124722034434,
          -2.470923035842003,
          2.523356604589166,
          0.20803531250547286,
          1.55235556212803,
          0.09649951763697989,
          0.08304102059454187,
          -1.1717205020460235,
          -1.7982933553494254,
          -0.09321011435384796,
          -2.0968477349768113,
          -0.0640547593089291,
          0.9998286136482293,
          -1.3031379435595272,
          -0.09026076492219864,
          1.894838617903795,
          -2.191556038125103,
          -0.4210717492171106,
          -1.195424865623432,
          0.5302085599011223,
          1.1851137109794267,
          -1.1692292675114115,
          -0.913032417499362,
          0.24326871201117606,
          2.1560604672884285,
          -0.6688512174324619,
          1.0200065766367674,
          0.6002331808470721,
          -0.043412156893427166,
          -0.8671513360322314,
          0.2874592347944582,
          -0.6562084436753164,
          -0.14283125440691152,
          -0.491920659839441,
          0.4986039765898339,
          -1.6845497201155823,
          -0.148612857688365,
          -0.04727014898835525,
          -0.14569467345231785,
          -0.734904286077995,
          -0.18368227995621608,
          0.893869005755252,
          0.6589661962741505,
          -0.5623950551486403,
          -1.1683652708102397,
          1.1638027314573847,
          -0.2670817785258052,
          0.3685070651182318,
          -1.047214988857629,
          2.0915845334862495,
          -2.304703641539677,
          0.9362202841423164,
          -0.9929147080569665,
          0.3060436847411801,
          0.2766989502804425,
          1.418180627732183,
          1.0578619287432207,
          1.6376170559858814,
          -0.35472459698035186,
          0.11773476865906649,
          1.160076263349918,
          -0.26390833391661583,
          -0.8091437251617222,
          0.0303119309416289,
          0.5621048300532147,
          -1.2438331785331898,
          1.9229595935911648,
          0.4888912873270648,
          -1.8540611502054942,
          -1.3387978316270563,
          1.412503396034427,
          -0.2401122092435843,
          -0.86010557214549,
          1.6244228971898325,
          0.2888338448708431,
          0.3312228594431208,
          -0.3439553033475485,
          -0.08822405107016175,
          -0.6334445853895129,
          1.608848493642066,
          -0.6335725839225381,
          0.19655516350095992,
          0.1486030674825538,
          -0.7638520137638168,
          2.223452236992757
         ]
        }
       ],
       "layout": {
        "legend": {
         "bgcolor": "#F5F6F9",
         "font": {
          "color": "#4D5663"
         }
        },
        "paper_bgcolor": "#F5F6F9",
        "plot_bgcolor": "#F5F6F9",
        "template": {
         "data": {
          "bar": [
           {
            "error_x": {
             "color": "#2a3f5f"
            },
            "error_y": {
             "color": "#2a3f5f"
            },
            "marker": {
             "line": {
              "color": "#E5ECF6",
              "width": 0.5
             }
            },
            "type": "bar"
           }
          ],
          "barpolar": [
           {
            "marker": {
             "line": {
              "color": "#E5ECF6",
              "width": 0.5
             }
            },
            "type": "barpolar"
           }
          ],
          "carpet": [
           {
            "aaxis": {
             "endlinecolor": "#2a3f5f",
             "gridcolor": "white",
             "linecolor": "white",
             "minorgridcolor": "white",
             "startlinecolor": "#2a3f5f"
            },
            "baxis": {
             "endlinecolor": "#2a3f5f",
             "gridcolor": "white",
             "linecolor": "white",
             "minorgridcolor": "white",
             "startlinecolor": "#2a3f5f"
            },
            "type": "carpet"
           }
          ],
          "choropleth": [
           {
            "colorbar": {
             "outlinewidth": 0,
             "ticks": ""
            },
            "type": "choropleth"
           }
          ],
          "contour": [
           {
            "colorbar": {
             "outlinewidth": 0,
             "ticks": ""
            },
            "colorscale": [
             [
              0,
              "#0d0887"
             ],
             [
              0.1111111111111111,
              "#46039f"
             ],
             [
              0.2222222222222222,
              "#7201a8"
             ],
             [
              0.3333333333333333,
              "#9c179e"
             ],
             [
              0.4444444444444444,
              "#bd3786"
             ],
             [
              0.5555555555555556,
              "#d8576b"
             ],
             [
              0.6666666666666666,
              "#ed7953"
             ],
             [
              0.7777777777777778,
              "#fb9f3a"
             ],
             [
              0.8888888888888888,
              "#fdca26"
             ],
             [
              1,
              "#f0f921"
             ]
            ],
            "type": "contour"
           }
          ],
          "contourcarpet": [
           {
            "colorbar": {
             "outlinewidth": 0,
             "ticks": ""
            },
            "type": "contourcarpet"
           }
          ],
          "heatmap": [
           {
            "colorbar": {
             "outlinewidth": 0,
             "ticks": ""
            },
            "colorscale": [
             [
              0,
              "#0d0887"
             ],
             [
              0.1111111111111111,
              "#46039f"
             ],
             [
              0.2222222222222222,
              "#7201a8"
             ],
             [
              0.3333333333333333,
              "#9c179e"
             ],
             [
              0.4444444444444444,
              "#bd3786"
             ],
             [
              0.5555555555555556,
              "#d8576b"
             ],
             [
              0.6666666666666666,
              "#ed7953"
             ],
             [
              0.7777777777777778,
              "#fb9f3a"
             ],
             [
              0.8888888888888888,
              "#fdca26"
             ],
             [
              1,
              "#f0f921"
             ]
            ],
            "type": "heatmap"
           }
          ],
          "heatmapgl": [
           {
            "colorbar": {
             "outlinewidth": 0,
             "ticks": ""
            },
            "colorscale": [
             [
              0,
              "#0d0887"
             ],
             [
              0.1111111111111111,
              "#46039f"
             ],
             [
              0.2222222222222222,
              "#7201a8"
             ],
             [
              0.3333333333333333,
              "#9c179e"
             ],
             [
              0.4444444444444444,
              "#bd3786"
             ],
             [
              0.5555555555555556,
              "#d8576b"
             ],
             [
              0.6666666666666666,
              "#ed7953"
             ],
             [
              0.7777777777777778,
              "#fb9f3a"
             ],
             [
              0.8888888888888888,
              "#fdca26"
             ],
             [
              1,
              "#f0f921"
             ]
            ],
            "type": "heatmapgl"
           }
          ],
          "histogram": [
           {
            "marker": {
             "colorbar": {
              "outlinewidth": 0,
              "ticks": ""
             }
            },
            "type": "histogram"
           }
          ],
          "histogram2d": [
           {
            "colorbar": {
             "outlinewidth": 0,
             "ticks": ""
            },
            "colorscale": [
             [
              0,
              "#0d0887"
             ],
             [
              0.1111111111111111,
              "#46039f"
             ],
             [
              0.2222222222222222,
              "#7201a8"
             ],
             [
              0.3333333333333333,
              "#9c179e"
             ],
             [
              0.4444444444444444,
              "#bd3786"
             ],
             [
              0.5555555555555556,
              "#d8576b"
             ],
             [
              0.6666666666666666,
              "#ed7953"
             ],
             [
              0.7777777777777778,
              "#fb9f3a"
             ],
             [
              0.8888888888888888,
              "#fdca26"
             ],
             [
              1,
              "#f0f921"
             ]
            ],
            "type": "histogram2d"
           }
          ],
          "histogram2dcontour": [
           {
            "colorbar": {
             "outlinewidth": 0,
             "ticks": ""
            },
            "colorscale": [
             [
              0,
              "#0d0887"
             ],
             [
              0.1111111111111111,
              "#46039f"
             ],
             [
              0.2222222222222222,
              "#7201a8"
             ],
             [
              0.3333333333333333,
              "#9c179e"
             ],
             [
              0.4444444444444444,
              "#bd3786"
             ],
             [
              0.5555555555555556,
              "#d8576b"
             ],
             [
              0.6666666666666666,
              "#ed7953"
             ],
             [
              0.7777777777777778,
              "#fb9f3a"
             ],
             [
              0.8888888888888888,
              "#fdca26"
             ],
             [
              1,
              "#f0f921"
             ]
            ],
            "type": "histogram2dcontour"
           }
          ],
          "mesh3d": [
           {
            "colorbar": {
             "outlinewidth": 0,
             "ticks": ""
            },
            "type": "mesh3d"
           }
          ],
          "parcoords": [
           {
            "line": {
             "colorbar": {
              "outlinewidth": 0,
              "ticks": ""
             }
            },
            "type": "parcoords"
           }
          ],
          "pie": [
           {
            "automargin": true,
            "type": "pie"
           }
          ],
          "scatter": [
           {
            "marker": {
             "colorbar": {
              "outlinewidth": 0,
              "ticks": ""
             }
            },
            "type": "scatter"
           }
          ],
          "scatter3d": [
           {
            "line": {
             "colorbar": {
              "outlinewidth": 0,
              "ticks": ""
             }
            },
            "marker": {
             "colorbar": {
              "outlinewidth": 0,
              "ticks": ""
             }
            },
            "type": "scatter3d"
           }
          ],
          "scattercarpet": [
           {
            "marker": {
             "colorbar": {
              "outlinewidth": 0,
              "ticks": ""
             }
            },
            "type": "scattercarpet"
           }
          ],
          "scattergeo": [
           {
            "marker": {
             "colorbar": {
              "outlinewidth": 0,
              "ticks": ""
             }
            },
            "type": "scattergeo"
           }
          ],
          "scattergl": [
           {
            "marker": {
             "colorbar": {
              "outlinewidth": 0,
              "ticks": ""
             }
            },
            "type": "scattergl"
           }
          ],
          "scattermapbox": [
           {
            "marker": {
             "colorbar": {
              "outlinewidth": 0,
              "ticks": ""
             }
            },
            "type": "scattermapbox"
           }
          ],
          "scatterpolar": [
           {
            "marker": {
             "colorbar": {
              "outlinewidth": 0,
              "ticks": ""
             }
            },
            "type": "scatterpolar"
           }
          ],
          "scatterpolargl": [
           {
            "marker": {
             "colorbar": {
              "outlinewidth": 0,
              "ticks": ""
             }
            },
            "type": "scatterpolargl"
           }
          ],
          "scatterternary": [
           {
            "marker": {
             "colorbar": {
              "outlinewidth": 0,
              "ticks": ""
             }
            },
            "type": "scatterternary"
           }
          ],
          "surface": [
           {
            "colorbar": {
             "outlinewidth": 0,
             "ticks": ""
            },
            "colorscale": [
             [
              0,
              "#0d0887"
             ],
             [
              0.1111111111111111,
              "#46039f"
             ],
             [
              0.2222222222222222,
              "#7201a8"
             ],
             [
              0.3333333333333333,
              "#9c179e"
             ],
             [
              0.4444444444444444,
              "#bd3786"
             ],
             [
              0.5555555555555556,
              "#d8576b"
             ],
             [
              0.6666666666666666,
              "#ed7953"
             ],
             [
              0.7777777777777778,
              "#fb9f3a"
             ],
             [
              0.8888888888888888,
              "#fdca26"
             ],
             [
              1,
              "#f0f921"
             ]
            ],
            "type": "surface"
           }
          ],
          "table": [
           {
            "cells": {
             "fill": {
              "color": "#EBF0F8"
             },
             "line": {
              "color": "white"
             }
            },
            "header": {
             "fill": {
              "color": "#C8D4E3"
             },
             "line": {
              "color": "white"
             }
            },
            "type": "table"
           }
          ]
         },
         "layout": {
          "annotationdefaults": {
           "arrowcolor": "#2a3f5f",
           "arrowhead": 0,
           "arrowwidth": 1
          },
          "coloraxis": {
           "colorbar": {
            "outlinewidth": 0,
            "ticks": ""
           }
          },
          "colorscale": {
           "diverging": [
            [
             0,
             "#8e0152"
            ],
            [
             0.1,
             "#c51b7d"
            ],
            [
             0.2,
             "#de77ae"
            ],
            [
             0.3,
             "#f1b6da"
            ],
            [
             0.4,
             "#fde0ef"
            ],
            [
             0.5,
             "#f7f7f7"
            ],
            [
             0.6,
             "#e6f5d0"
            ],
            [
             0.7,
             "#b8e186"
            ],
            [
             0.8,
             "#7fbc41"
            ],
            [
             0.9,
             "#4d9221"
            ],
            [
             1,
             "#276419"
            ]
           ],
           "sequential": [
            [
             0,
             "#0d0887"
            ],
            [
             0.1111111111111111,
             "#46039f"
            ],
            [
             0.2222222222222222,
             "#7201a8"
            ],
            [
             0.3333333333333333,
             "#9c179e"
            ],
            [
             0.4444444444444444,
             "#bd3786"
            ],
            [
             0.5555555555555556,
             "#d8576b"
            ],
            [
             0.6666666666666666,
             "#ed7953"
            ],
            [
             0.7777777777777778,
             "#fb9f3a"
            ],
            [
             0.8888888888888888,
             "#fdca26"
            ],
            [
             1,
             "#f0f921"
            ]
           ],
           "sequentialminus": [
            [
             0,
             "#0d0887"
            ],
            [
             0.1111111111111111,
             "#46039f"
            ],
            [
             0.2222222222222222,
             "#7201a8"
            ],
            [
             0.3333333333333333,
             "#9c179e"
            ],
            [
             0.4444444444444444,
             "#bd3786"
            ],
            [
             0.5555555555555556,
             "#d8576b"
            ],
            [
             0.6666666666666666,
             "#ed7953"
            ],
            [
             0.7777777777777778,
             "#fb9f3a"
            ],
            [
             0.8888888888888888,
             "#fdca26"
            ],
            [
             1,
             "#f0f921"
            ]
           ]
          },
          "colorway": [
           "#636efa",
           "#EF553B",
           "#00cc96",
           "#ab63fa",
           "#FFA15A",
           "#19d3f3",
           "#FF6692",
           "#B6E880",
           "#FF97FF",
           "#FECB52"
          ],
          "font": {
           "color": "#2a3f5f"
          },
          "geo": {
           "bgcolor": "white",
           "lakecolor": "white",
           "landcolor": "#E5ECF6",
           "showlakes": true,
           "showland": true,
           "subunitcolor": "white"
          },
          "hoverlabel": {
           "align": "left"
          },
          "hovermode": "closest",
          "mapbox": {
           "style": "light"
          },
          "paper_bgcolor": "white",
          "plot_bgcolor": "#E5ECF6",
          "polar": {
           "angularaxis": {
            "gridcolor": "white",
            "linecolor": "white",
            "ticks": ""
           },
           "bgcolor": "#E5ECF6",
           "radialaxis": {
            "gridcolor": "white",
            "linecolor": "white",
            "ticks": ""
           }
          },
          "scene": {
           "xaxis": {
            "backgroundcolor": "#E5ECF6",
            "gridcolor": "white",
            "gridwidth": 2,
            "linecolor": "white",
            "showbackground": true,
            "ticks": "",
            "zerolinecolor": "white"
           },
           "yaxis": {
            "backgroundcolor": "#E5ECF6",
            "gridcolor": "white",
            "gridwidth": 2,
            "linecolor": "white",
            "showbackground": true,
            "ticks": "",
            "zerolinecolor": "white"
           },
           "zaxis": {
            "backgroundcolor": "#E5ECF6",
            "gridcolor": "white",
            "gridwidth": 2,
            "linecolor": "white",
            "showbackground": true,
            "ticks": "",
            "zerolinecolor": "white"
           }
          },
          "shapedefaults": {
           "line": {
            "color": "#2a3f5f"
           }
          },
          "ternary": {
           "aaxis": {
            "gridcolor": "white",
            "linecolor": "white",
            "ticks": ""
           },
           "baxis": {
            "gridcolor": "white",
            "linecolor": "white",
            "ticks": ""
           },
           "bgcolor": "#E5ECF6",
           "caxis": {
            "gridcolor": "white",
            "linecolor": "white",
            "ticks": ""
           }
          },
          "title": {
           "x": 0.05
          },
          "xaxis": {
           "automargin": true,
           "gridcolor": "white",
           "linecolor": "white",
           "ticks": "",
           "title": {
            "standoff": 15
           },
           "zerolinecolor": "white",
           "zerolinewidth": 2
          },
          "yaxis": {
           "automargin": true,
           "gridcolor": "white",
           "linecolor": "white",
           "ticks": "",
           "title": {
            "standoff": 15
           },
           "zerolinecolor": "white",
           "zerolinewidth": 2
          }
         }
        },
        "title": {
         "font": {
          "color": "#4D5663"
         }
        },
        "xaxis": {
         "gridcolor": "#E1E5ED",
         "showgrid": true,
         "tickfont": {
          "color": "#4D5663"
         },
         "title": {
          "font": {
           "color": "#4D5663"
          },
          "text": ""
         },
         "zerolinecolor": "#E1E5ED"
        },
        "yaxis": {
         "gridcolor": "#E1E5ED",
         "showgrid": true,
         "tickfont": {
          "color": "#4D5663"
         },
         "title": {
          "font": {
           "color": "#4D5663"
          },
          "text": ""
         },
         "zerolinecolor": "#E1E5ED"
        }
       }
      },
      "text/html": [
       "<div>\n",
       "        \n",
       "        \n",
       "            <div id=\"b5565fd3-eb0c-46e0-92e4-21fc1915f829\" class=\"plotly-graph-div\" style=\"height:525px; width:100%;\"></div>\n",
       "            <script type=\"text/javascript\">\n",
       "                require([\"plotly\"], function(Plotly) {\n",
       "                    window.PLOTLYENV=window.PLOTLYENV || {};\n",
       "                    window.PLOTLYENV.BASE_URL='https://plot.ly';\n",
       "                    \n",
       "                if (document.getElementById(\"b5565fd3-eb0c-46e0-92e4-21fc1915f829\")) {\n",
       "                    Plotly.newPlot(\n",
       "                        'b5565fd3-eb0c-46e0-92e4-21fc1915f829',\n",
       "                        [{\"boxpoints\": false, \"line\": {\"width\": 1.3}, \"marker\": {\"color\": \"rgba(255, 153, 51, 1.0)\"}, \"name\": \"A\", \"orientation\": \"v\", \"type\": \"box\", \"y\": [1.5101490399848538, -0.6405275834738976, -0.512955812775037, 1.9945535110166155, 0.7239546875357956, 0.8193567705112613, 1.192205706744129, -0.06787383362506158, -0.9802554854905633, 0.6983271064470218, -0.09113355613425492, 1.2313007346971012, 0.5877414638414414, 0.44701759506099287, -1.4625771180718434, -2.652004600843019, 0.09877482172888144, 1.1629678060014554, 0.7691594293148781, -0.1364317997818323, -0.16022426763322922, 0.325414195254767, 0.2688277762024969, 1.841688695638128, -0.3097790041736717, -0.27035022527693, -0.3223095653633265, -0.1461980419232848, 2.3170839799717053, 1.8369084706357632, -0.7221143171938086, -0.6348791926259997, 0.041316979821828165, -2.6008465783966845, 0.1232552893656748, 0.7240482389471554, -1.1566478307252988, 0.06803529895168065, -0.08971460905870797, 0.18012357430894557, 0.9225730627109227, -1.445603452520163, -0.2895665306804073, 0.09538268325347563, 1.287372036995754, -0.6105013600450948, -0.7654308216950918, 0.6525813929540183, 1.3259746476590089, 2.3626108894511493, -0.8445790982577436, 0.01824503703149911, -0.9283950022622932, 0.33636857025188516, -0.8613816355113362, 0.40466279012072576, 0.8363332121586713, -1.239556920419094, 0.27739221030357436, -0.4021079811857981, 1.4712926754951638, 0.25657991140085984, -0.8310974348171803, 0.6114113100084001, -0.955427588323675, 0.5184833162831455, -1.0452960939323077, 0.4667513077038204, -0.723458426308934, -2.5867925551081035, 0.7903424657093867, -0.4936357686129681, -0.7627359863188906, 0.3536789889194609, -1.2902491381524273, 0.1912991604086632, 0.9121151372265259, 0.7373090629882498, 0.5037650361608089, 1.1318384618076784, -0.32154075364181933, 0.9361876383988863, 1.0476083383554216, 0.4720998866594356, -0.4088347948063875, -0.2047000651934584, -0.8547597310671836, 0.9836937217040943, 1.5744087429243852, 1.4033565625484767, -0.7242927426020687, -0.6910896152379462, 0.7961011916043215, -0.1451686332386725, 0.23618649203945938, -0.9005205826485293, 0.5929153455591286, -1.3558193667814635, 1.555509083173195, 1.5661931184442937]}, {\"boxpoints\": false, \"line\": {\"width\": 1.3}, \"marker\": {\"color\": \"rgba(55, 128, 191, 1.0)\"}, \"name\": \"B\", \"orientation\": \"v\", \"type\": \"box\", \"y\": [0.054979191128094816, 1.4368555640509848, -0.22607750843614138, 0.20147652277293557, -1.4555502346439408, 1.235727105253792, 0.45538137880566887, -1.3010732893534303, -1.2691000601151483, 1.6370568366415919, 0.3071655217652912, -0.5990722768644184, -2.647254678769929, 0.702738372406523, 0.07191205239778133, 1.2001027658925585, 0.3102254510934988, -2.907098840258816, -1.2688217753814637, -0.9838590414229287, 0.9115690199446567, 0.9469701010827166, 0.15696478517473111, 1.6471109893762343, -0.8977548136067434, -0.9199482432111052, 0.8687462611039781, -0.49259127413312087, 1.9997186565748608, 0.28299432369597044, 0.5636013029300263, -0.533031353093187, -2.3004571749120823, 0.5371737481378878, 0.8350225602155451, -0.5948402186277807, -0.1895541588040986, -0.05861025295657063, -2.0990765127482067, 0.12005665584931399, -1.1097215512147067, 0.3041362882859407, 0.9611494673654635, -0.7724740028745279, 1.8364041184574287, 0.5150682119767902, -0.7953027555580844, 1.5755045849174594, -0.8625472207013256, -0.3765871069608661, -0.35965627007750917, 0.8907945673388414, -0.5211463173335591, 0.229942887701415, 1.2070059543372178, -1.747909478166768, -1.2544204297967272, -0.39345806939876377, 1.3525798011451498, -1.5634681769462817, 1.5231440386058803, 0.5615698709650291, -0.5986586180194643, 0.060079755434575555, 2.140389869307584, 0.11628915233426852, 0.5943641768616253, 1.4935800759035067, -0.4025470502298976, -2.179590754822418, 0.46750448914317605, 1.477145305796776, -1.665319404483263, 0.3085561347371331, -0.3453710286044497, 0.5562338663194516, -0.2790322781489596, -0.9642744260233003, -0.4545174340207927, -0.23539992106019608, -0.7628340515598176, -1.5311459626066464, 0.7231843780477117, 0.44513667647675115, 0.7252438502557419, 0.010664927582359943, -1.2889237131715514, 0.9850276280938937, 0.24092972415915567, -0.9866877607378947, -2.154137554731013, -0.1285673748219936, -0.24435316549739328, 0.7796057011313241, -0.37089112604330343, 1.7190997934959267, 0.11110381508124938, -0.19742003370703887, 0.3459687603740203, -1.1825722115533015]}, {\"boxpoints\": false, \"line\": {\"width\": 1.3}, \"marker\": {\"color\": \"rgba(50, 171, 96, 1.0)\"}, \"name\": \"C\", \"orientation\": \"v\", \"type\": \"box\", \"y\": [-0.3699781401072991, 0.014666525778796255, 1.0530454979308128, 1.3347242185804256, 0.43905726188422833, -0.5693718713084631, -2.25535961919125, -0.7152786630596007, -0.09561467051906766, 0.8003395212866454, -1.2647570835866317, 1.053283591042986, -0.0983263703685516, -0.2540368996779051, 0.3870154878492967, 1.726478466346719, 0.5732071431879369, 2.2150632282989857, 0.31910035503356143, 0.28982242092364024, -1.148567074313695, 0.15395629071155595, 1.525463781739682, 0.07066215676636697, 0.8978878304568622, 1.1280238256836097, 1.2725713345243703, 0.7396102639233508, 0.8697856004738943, 1.7159182149501446, 0.5654919600474853, 0.8783803882689514, -0.22443173904006908, 0.7903887495024083, -1.1356650018129308, 1.0864899554782066, -0.19145432530466677, 1.0263877857566044, -1.2426764034787228, 0.755972690374339, -0.3080948937153945, -0.9089048202162897, 0.08773774307987836, 0.37346578493517113, -0.21829959274557942, 0.7472882772397567, 0.12475864153448532, 0.10719084735452485, -0.9650709580743985, -0.32734725869903164, 0.290432477796843, -0.4318512657465015, 0.546100087535669, 0.16882415124890723, 0.0625627434318641, -0.45111345153140514, -1.035800298608654, -1.1755826012034793, -0.5887579822623921, -0.936012737378819, 0.8641850724565397, 0.2260731732418727, -0.0796786180204319, 0.28979130885627713, 1.1460541429713298, -1.000717010584556, -0.6595316037691642, 1.9016790870899154, -0.21940494229947125, 0.8130959862423774, -1.5716840067383513, 0.8418073633792109, 0.28950143573949405, 0.8816021466187254, 0.5337866283889577, 0.2715537049077293, -0.5984284499957764, 1.5332171216992303, 0.7778781429861782, 0.17196691282409546, -0.8117837624181126, -0.3023510398571448, 0.10008463721285718, 1.3338420511450306, -0.7581750788470961, 0.3016527346606335, -0.39718496454650665, 0.6788152804439113, 2.152973446351624, -0.2730366986958714, -0.8681988229280707, 0.7878230209305109, 1.2416464932761073, 1.120402684702779, -0.15711509417868788, -1.0852033515334814, 0.2540149848663791, -0.9443103947243021, 0.9616598758998366, -0.0063800398525212165]}, {\"boxpoints\": false, \"line\": {\"width\": 1.3}, \"marker\": {\"color\": \"rgba(128, 0, 128, 1.0)\"}, \"name\": \"D\", \"orientation\": \"v\", \"type\": \"box\", \"y\": [-1.3863703005882506, 0.9561806674417825, 0.8024482942155324, 1.3502875548777409, -0.11584356492870602, 0.10367331696848246, 1.926302269024144, 1.5771120906387193, 1.512181985361918, -0.04564802133766652, 0.501311621973258, 1.073860999955962, 1.0101192453318664, -0.47535900976737633, 1.2190010760002734, -1.2051124722034434, -2.470923035842003, 2.523356604589166, 0.20803531250547286, 1.55235556212803, 0.09649951763697989, 0.08304102059454187, -1.1717205020460235, -1.7982933553494254, -0.09321011435384796, -2.0968477349768113, -0.0640547593089291, 0.9998286136482293, -1.3031379435595272, -0.09026076492219864, 1.894838617903795, -2.191556038125103, -0.4210717492171106, -1.195424865623432, 0.5302085599011223, 1.1851137109794267, -1.1692292675114115, -0.913032417499362, 0.24326871201117606, 2.1560604672884285, -0.6688512174324619, 1.0200065766367674, 0.6002331808470721, -0.043412156893427166, -0.8671513360322314, 0.2874592347944582, -0.6562084436753164, -0.14283125440691152, -0.491920659839441, 0.4986039765898339, -1.6845497201155823, -0.148612857688365, -0.04727014898835525, -0.14569467345231785, -0.734904286077995, -0.18368227995621608, 0.893869005755252, 0.6589661962741505, -0.5623950551486403, -1.1683652708102397, 1.1638027314573847, -0.2670817785258052, 0.3685070651182318, -1.047214988857629, 2.0915845334862495, -2.304703641539677, 0.9362202841423164, -0.9929147080569665, 0.3060436847411801, 0.2766989502804425, 1.418180627732183, 1.0578619287432207, 1.6376170559858814, -0.35472459698035186, 0.11773476865906649, 1.160076263349918, -0.26390833391661583, -0.8091437251617222, 0.0303119309416289, 0.5621048300532147, -1.2438331785331898, 1.9229595935911648, 0.4888912873270648, -1.8540611502054942, -1.3387978316270563, 1.412503396034427, -0.2401122092435843, -0.86010557214549, 1.6244228971898325, 0.2888338448708431, 0.3312228594431208, -0.3439553033475485, -0.08822405107016175, -0.6334445853895129, 1.608848493642066, -0.6335725839225381, 0.19655516350095992, 0.1486030674825538, -0.7638520137638168, 2.223452236992757]}],\n",
       "                        {\"legend\": {\"bgcolor\": \"#F5F6F9\", \"font\": {\"color\": \"#4D5663\"}}, \"paper_bgcolor\": \"#F5F6F9\", \"plot_bgcolor\": \"#F5F6F9\", \"template\": {\"data\": {\"bar\": [{\"error_x\": {\"color\": \"#2a3f5f\"}, \"error_y\": {\"color\": \"#2a3f5f\"}, \"marker\": {\"line\": {\"color\": \"#E5ECF6\", \"width\": 0.5}}, \"type\": \"bar\"}], \"barpolar\": [{\"marker\": {\"line\": {\"color\": \"#E5ECF6\", \"width\": 0.5}}, \"type\": \"barpolar\"}], \"carpet\": [{\"aaxis\": {\"endlinecolor\": \"#2a3f5f\", \"gridcolor\": \"white\", \"linecolor\": \"white\", \"minorgridcolor\": \"white\", \"startlinecolor\": \"#2a3f5f\"}, \"baxis\": {\"endlinecolor\": \"#2a3f5f\", \"gridcolor\": \"white\", \"linecolor\": \"white\", \"minorgridcolor\": \"white\", \"startlinecolor\": \"#2a3f5f\"}, \"type\": \"carpet\"}], \"choropleth\": [{\"colorbar\": {\"outlinewidth\": 0, \"ticks\": \"\"}, \"type\": \"choropleth\"}], \"contour\": [{\"colorbar\": {\"outlinewidth\": 0, \"ticks\": \"\"}, \"colorscale\": [[0.0, \"#0d0887\"], [0.1111111111111111, \"#46039f\"], [0.2222222222222222, \"#7201a8\"], [0.3333333333333333, \"#9c179e\"], [0.4444444444444444, \"#bd3786\"], [0.5555555555555556, \"#d8576b\"], [0.6666666666666666, \"#ed7953\"], [0.7777777777777778, \"#fb9f3a\"], [0.8888888888888888, \"#fdca26\"], [1.0, \"#f0f921\"]], \"type\": \"contour\"}], \"contourcarpet\": [{\"colorbar\": {\"outlinewidth\": 0, \"ticks\": \"\"}, \"type\": \"contourcarpet\"}], \"heatmap\": [{\"colorbar\": {\"outlinewidth\": 0, \"ticks\": \"\"}, \"colorscale\": [[0.0, \"#0d0887\"], [0.1111111111111111, \"#46039f\"], [0.2222222222222222, \"#7201a8\"], [0.3333333333333333, \"#9c179e\"], [0.4444444444444444, \"#bd3786\"], [0.5555555555555556, \"#d8576b\"], [0.6666666666666666, \"#ed7953\"], [0.7777777777777778, \"#fb9f3a\"], [0.8888888888888888, \"#fdca26\"], [1.0, \"#f0f921\"]], \"type\": \"heatmap\"}], \"heatmapgl\": [{\"colorbar\": {\"outlinewidth\": 0, \"ticks\": \"\"}, \"colorscale\": [[0.0, \"#0d0887\"], [0.1111111111111111, \"#46039f\"], [0.2222222222222222, \"#7201a8\"], [0.3333333333333333, \"#9c179e\"], [0.4444444444444444, \"#bd3786\"], [0.5555555555555556, \"#d8576b\"], [0.6666666666666666, \"#ed7953\"], [0.7777777777777778, \"#fb9f3a\"], [0.8888888888888888, \"#fdca26\"], [1.0, \"#f0f921\"]], \"type\": \"heatmapgl\"}], \"histogram\": [{\"marker\": {\"colorbar\": {\"outlinewidth\": 0, \"ticks\": \"\"}}, \"type\": \"histogram\"}], \"histogram2d\": [{\"colorbar\": {\"outlinewidth\": 0, \"ticks\": \"\"}, \"colorscale\": [[0.0, \"#0d0887\"], [0.1111111111111111, \"#46039f\"], [0.2222222222222222, \"#7201a8\"], [0.3333333333333333, \"#9c179e\"], [0.4444444444444444, \"#bd3786\"], [0.5555555555555556, \"#d8576b\"], [0.6666666666666666, \"#ed7953\"], [0.7777777777777778, \"#fb9f3a\"], [0.8888888888888888, \"#fdca26\"], [1.0, \"#f0f921\"]], \"type\": \"histogram2d\"}], \"histogram2dcontour\": [{\"colorbar\": {\"outlinewidth\": 0, \"ticks\": \"\"}, \"colorscale\": [[0.0, \"#0d0887\"], [0.1111111111111111, \"#46039f\"], [0.2222222222222222, \"#7201a8\"], [0.3333333333333333, \"#9c179e\"], [0.4444444444444444, \"#bd3786\"], [0.5555555555555556, \"#d8576b\"], [0.6666666666666666, \"#ed7953\"], [0.7777777777777778, \"#fb9f3a\"], [0.8888888888888888, \"#fdca26\"], [1.0, \"#f0f921\"]], \"type\": \"histogram2dcontour\"}], \"mesh3d\": [{\"colorbar\": {\"outlinewidth\": 0, \"ticks\": \"\"}, \"type\": \"mesh3d\"}], \"parcoords\": [{\"line\": {\"colorbar\": {\"outlinewidth\": 0, \"ticks\": \"\"}}, \"type\": \"parcoords\"}], \"pie\": [{\"automargin\": true, \"type\": \"pie\"}], \"scatter\": [{\"marker\": {\"colorbar\": {\"outlinewidth\": 0, \"ticks\": \"\"}}, \"type\": \"scatter\"}], \"scatter3d\": [{\"line\": {\"colorbar\": {\"outlinewidth\": 0, \"ticks\": \"\"}}, \"marker\": {\"colorbar\": {\"outlinewidth\": 0, \"ticks\": \"\"}}, \"type\": \"scatter3d\"}], \"scattercarpet\": [{\"marker\": {\"colorbar\": {\"outlinewidth\": 0, \"ticks\": \"\"}}, \"type\": \"scattercarpet\"}], \"scattergeo\": [{\"marker\": {\"colorbar\": {\"outlinewidth\": 0, \"ticks\": \"\"}}, \"type\": \"scattergeo\"}], \"scattergl\": [{\"marker\": {\"colorbar\": {\"outlinewidth\": 0, \"ticks\": \"\"}}, \"type\": \"scattergl\"}], \"scattermapbox\": [{\"marker\": {\"colorbar\": {\"outlinewidth\": 0, \"ticks\": \"\"}}, \"type\": \"scattermapbox\"}], \"scatterpolar\": [{\"marker\": {\"colorbar\": {\"outlinewidth\": 0, \"ticks\": \"\"}}, \"type\": \"scatterpolar\"}], \"scatterpolargl\": [{\"marker\": {\"colorbar\": {\"outlinewidth\": 0, \"ticks\": \"\"}}, \"type\": \"scatterpolargl\"}], \"scatterternary\": [{\"marker\": {\"colorbar\": {\"outlinewidth\": 0, \"ticks\": \"\"}}, \"type\": \"scatterternary\"}], \"surface\": [{\"colorbar\": {\"outlinewidth\": 0, \"ticks\": \"\"}, \"colorscale\": [[0.0, \"#0d0887\"], [0.1111111111111111, \"#46039f\"], [0.2222222222222222, \"#7201a8\"], [0.3333333333333333, \"#9c179e\"], [0.4444444444444444, \"#bd3786\"], [0.5555555555555556, \"#d8576b\"], [0.6666666666666666, \"#ed7953\"], [0.7777777777777778, \"#fb9f3a\"], [0.8888888888888888, \"#fdca26\"], [1.0, \"#f0f921\"]], \"type\": \"surface\"}], \"table\": [{\"cells\": {\"fill\": {\"color\": \"#EBF0F8\"}, \"line\": {\"color\": \"white\"}}, \"header\": {\"fill\": {\"color\": \"#C8D4E3\"}, \"line\": {\"color\": \"white\"}}, \"type\": \"table\"}]}, \"layout\": {\"annotationdefaults\": {\"arrowcolor\": \"#2a3f5f\", \"arrowhead\": 0, \"arrowwidth\": 1}, \"coloraxis\": {\"colorbar\": {\"outlinewidth\": 0, \"ticks\": \"\"}}, \"colorscale\": {\"diverging\": [[0, \"#8e0152\"], [0.1, \"#c51b7d\"], [0.2, \"#de77ae\"], [0.3, \"#f1b6da\"], [0.4, \"#fde0ef\"], [0.5, \"#f7f7f7\"], [0.6, \"#e6f5d0\"], [0.7, \"#b8e186\"], [0.8, \"#7fbc41\"], [0.9, \"#4d9221\"], [1, \"#276419\"]], \"sequential\": [[0.0, \"#0d0887\"], [0.1111111111111111, \"#46039f\"], [0.2222222222222222, \"#7201a8\"], [0.3333333333333333, \"#9c179e\"], [0.4444444444444444, \"#bd3786\"], [0.5555555555555556, \"#d8576b\"], [0.6666666666666666, \"#ed7953\"], [0.7777777777777778, \"#fb9f3a\"], [0.8888888888888888, \"#fdca26\"], [1.0, \"#f0f921\"]], \"sequentialminus\": [[0.0, \"#0d0887\"], [0.1111111111111111, \"#46039f\"], [0.2222222222222222, \"#7201a8\"], [0.3333333333333333, \"#9c179e\"], [0.4444444444444444, \"#bd3786\"], [0.5555555555555556, \"#d8576b\"], [0.6666666666666666, \"#ed7953\"], [0.7777777777777778, \"#fb9f3a\"], [0.8888888888888888, \"#fdca26\"], [1.0, \"#f0f921\"]]}, \"colorway\": [\"#636efa\", \"#EF553B\", \"#00cc96\", \"#ab63fa\", \"#FFA15A\", \"#19d3f3\", \"#FF6692\", \"#B6E880\", \"#FF97FF\", \"#FECB52\"], \"font\": {\"color\": \"#2a3f5f\"}, \"geo\": {\"bgcolor\": \"white\", \"lakecolor\": \"white\", \"landcolor\": \"#E5ECF6\", \"showlakes\": true, \"showland\": true, \"subunitcolor\": \"white\"}, \"hoverlabel\": {\"align\": \"left\"}, \"hovermode\": \"closest\", \"mapbox\": {\"style\": \"light\"}, \"paper_bgcolor\": \"white\", \"plot_bgcolor\": \"#E5ECF6\", \"polar\": {\"angularaxis\": {\"gridcolor\": \"white\", \"linecolor\": \"white\", \"ticks\": \"\"}, \"bgcolor\": \"#E5ECF6\", \"radialaxis\": {\"gridcolor\": \"white\", \"linecolor\": \"white\", \"ticks\": \"\"}}, \"scene\": {\"xaxis\": {\"backgroundcolor\": \"#E5ECF6\", \"gridcolor\": \"white\", \"gridwidth\": 2, \"linecolor\": \"white\", \"showbackground\": true, \"ticks\": \"\", \"zerolinecolor\": \"white\"}, \"yaxis\": {\"backgroundcolor\": \"#E5ECF6\", \"gridcolor\": \"white\", \"gridwidth\": 2, \"linecolor\": \"white\", \"showbackground\": true, \"ticks\": \"\", \"zerolinecolor\": \"white\"}, \"zaxis\": {\"backgroundcolor\": \"#E5ECF6\", \"gridcolor\": \"white\", \"gridwidth\": 2, \"linecolor\": \"white\", \"showbackground\": true, \"ticks\": \"\", \"zerolinecolor\": \"white\"}}, \"shapedefaults\": {\"line\": {\"color\": \"#2a3f5f\"}}, \"ternary\": {\"aaxis\": {\"gridcolor\": \"white\", \"linecolor\": \"white\", \"ticks\": \"\"}, \"baxis\": {\"gridcolor\": \"white\", \"linecolor\": \"white\", \"ticks\": \"\"}, \"bgcolor\": \"#E5ECF6\", \"caxis\": {\"gridcolor\": \"white\", \"linecolor\": \"white\", \"ticks\": \"\"}}, \"title\": {\"x\": 0.05}, \"xaxis\": {\"automargin\": true, \"gridcolor\": \"white\", \"linecolor\": \"white\", \"ticks\": \"\", \"title\": {\"standoff\": 15}, \"zerolinecolor\": \"white\", \"zerolinewidth\": 2}, \"yaxis\": {\"automargin\": true, \"gridcolor\": \"white\", \"linecolor\": \"white\", \"ticks\": \"\", \"title\": {\"standoff\": 15}, \"zerolinecolor\": \"white\", \"zerolinewidth\": 2}}}, \"title\": {\"font\": {\"color\": \"#4D5663\"}}, \"xaxis\": {\"gridcolor\": \"#E1E5ED\", \"showgrid\": true, \"tickfont\": {\"color\": \"#4D5663\"}, \"title\": {\"font\": {\"color\": \"#4D5663\"}, \"text\": \"\"}, \"zerolinecolor\": \"#E1E5ED\"}, \"yaxis\": {\"gridcolor\": \"#E1E5ED\", \"showgrid\": true, \"tickfont\": {\"color\": \"#4D5663\"}, \"title\": {\"font\": {\"color\": \"#4D5663\"}, \"text\": \"\"}, \"zerolinecolor\": \"#E1E5ED\"}},\n",
       "                        {\"showLink\": true, \"linkText\": \"Export to plot.ly\", \"plotlyServerURL\": \"https://plot.ly\", \"responsive\": true}\n",
       "                    ).then(function(){\n",
       "                            \n",
       "var gd = document.getElementById('b5565fd3-eb0c-46e0-92e4-21fc1915f829');\n",
       "var x = new MutationObserver(function (mutations, observer) {{\n",
       "        var display = window.getComputedStyle(gd).display;\n",
       "        if (!display || display === 'none') {{\n",
       "            console.log([gd, 'removed!']);\n",
       "            Plotly.purge(gd);\n",
       "            observer.disconnect();\n",
       "        }}\n",
       "}});\n",
       "\n",
       "// Listen for the removal of the full notebook cells\n",
       "var notebookContainer = gd.closest('#notebook-container');\n",
       "if (notebookContainer) {{\n",
       "    x.observe(notebookContainer, {childList: true});\n",
       "}}\n",
       "\n",
       "// Listen for the clearing of the current output cell\n",
       "var outputEl = gd.closest('.output');\n",
       "if (outputEl) {{\n",
       "    x.observe(outputEl, {childList: true});\n",
       "}}\n",
       "\n",
       "                        })\n",
       "                };\n",
       "                });\n",
       "            </script>\n",
       "        </div>"
      ]
     },
     "metadata": {},
     "output_type": "display_data"
    }
   ],
   "source": [
    "df.iplot(kind='box')"
   ]
  },
  {
   "cell_type": "markdown",
   "metadata": {},
   "source": [
    "## 3d Surface"
   ]
  },
  {
   "cell_type": "code",
   "execution_count": 15,
   "metadata": {},
   "outputs": [
    {
     "data": {
      "application/vnd.plotly.v1+json": {
       "config": {
        "linkText": "Export to plot.ly",
        "plotlyServerURL": "https://plot.ly",
        "showLink": true
       },
       "data": [
        {
         "colorscale": [
          [
           0,
           "rgb(165,0,38)"
          ],
          [
           0.1,
           "rgb(215,48,39)"
          ],
          [
           0.2,
           "rgb(244,109,67)"
          ],
          [
           0.3,
           "rgb(253,174,97)"
          ],
          [
           0.4,
           "rgb(254,224,144)"
          ],
          [
           0.5,
           "rgb(255,255,191)"
          ],
          [
           0.6,
           "rgb(224,243,248)"
          ],
          [
           0.7,
           "rgb(171,217,233)"
          ],
          [
           0.8,
           "rgb(116,173,209)"
          ],
          [
           0.9,
           "rgb(69,117,180)"
          ],
          [
           1,
           "rgb(49,54,149)"
          ]
         ],
         "type": "surface",
         "x": [
          0,
          1,
          2,
          3,
          4
         ],
         "y": [
          "x",
          "y",
          "z"
         ],
         "z": [
          [
           1,
           2,
           3,
           4,
           5
          ],
          [
           10,
           20,
           30,
           20,
           10
          ],
          [
           5,
           4,
           3,
           2,
           1
          ]
         ]
        }
       ],
       "layout": {
        "legend": {
         "bgcolor": "#F5F6F9",
         "font": {
          "color": "#4D5663"
         }
        },
        "paper_bgcolor": "#F5F6F9",
        "plot_bgcolor": "#F5F6F9",
        "template": {
         "data": {
          "bar": [
           {
            "error_x": {
             "color": "#2a3f5f"
            },
            "error_y": {
             "color": "#2a3f5f"
            },
            "marker": {
             "line": {
              "color": "#E5ECF6",
              "width": 0.5
             }
            },
            "type": "bar"
           }
          ],
          "barpolar": [
           {
            "marker": {
             "line": {
              "color": "#E5ECF6",
              "width": 0.5
             }
            },
            "type": "barpolar"
           }
          ],
          "carpet": [
           {
            "aaxis": {
             "endlinecolor": "#2a3f5f",
             "gridcolor": "white",
             "linecolor": "white",
             "minorgridcolor": "white",
             "startlinecolor": "#2a3f5f"
            },
            "baxis": {
             "endlinecolor": "#2a3f5f",
             "gridcolor": "white",
             "linecolor": "white",
             "minorgridcolor": "white",
             "startlinecolor": "#2a3f5f"
            },
            "type": "carpet"
           }
          ],
          "choropleth": [
           {
            "colorbar": {
             "outlinewidth": 0,
             "ticks": ""
            },
            "type": "choropleth"
           }
          ],
          "contour": [
           {
            "colorbar": {
             "outlinewidth": 0,
             "ticks": ""
            },
            "colorscale": [
             [
              0,
              "#0d0887"
             ],
             [
              0.1111111111111111,
              "#46039f"
             ],
             [
              0.2222222222222222,
              "#7201a8"
             ],
             [
              0.3333333333333333,
              "#9c179e"
             ],
             [
              0.4444444444444444,
              "#bd3786"
             ],
             [
              0.5555555555555556,
              "#d8576b"
             ],
             [
              0.6666666666666666,
              "#ed7953"
             ],
             [
              0.7777777777777778,
              "#fb9f3a"
             ],
             [
              0.8888888888888888,
              "#fdca26"
             ],
             [
              1,
              "#f0f921"
             ]
            ],
            "type": "contour"
           }
          ],
          "contourcarpet": [
           {
            "colorbar": {
             "outlinewidth": 0,
             "ticks": ""
            },
            "type": "contourcarpet"
           }
          ],
          "heatmap": [
           {
            "colorbar": {
             "outlinewidth": 0,
             "ticks": ""
            },
            "colorscale": [
             [
              0,
              "#0d0887"
             ],
             [
              0.1111111111111111,
              "#46039f"
             ],
             [
              0.2222222222222222,
              "#7201a8"
             ],
             [
              0.3333333333333333,
              "#9c179e"
             ],
             [
              0.4444444444444444,
              "#bd3786"
             ],
             [
              0.5555555555555556,
              "#d8576b"
             ],
             [
              0.6666666666666666,
              "#ed7953"
             ],
             [
              0.7777777777777778,
              "#fb9f3a"
             ],
             [
              0.8888888888888888,
              "#fdca26"
             ],
             [
              1,
              "#f0f921"
             ]
            ],
            "type": "heatmap"
           }
          ],
          "heatmapgl": [
           {
            "colorbar": {
             "outlinewidth": 0,
             "ticks": ""
            },
            "colorscale": [
             [
              0,
              "#0d0887"
             ],
             [
              0.1111111111111111,
              "#46039f"
             ],
             [
              0.2222222222222222,
              "#7201a8"
             ],
             [
              0.3333333333333333,
              "#9c179e"
             ],
             [
              0.4444444444444444,
              "#bd3786"
             ],
             [
              0.5555555555555556,
              "#d8576b"
             ],
             [
              0.6666666666666666,
              "#ed7953"
             ],
             [
              0.7777777777777778,
              "#fb9f3a"
             ],
             [
              0.8888888888888888,
              "#fdca26"
             ],
             [
              1,
              "#f0f921"
             ]
            ],
            "type": "heatmapgl"
           }
          ],
          "histogram": [
           {
            "marker": {
             "colorbar": {
              "outlinewidth": 0,
              "ticks": ""
             }
            },
            "type": "histogram"
           }
          ],
          "histogram2d": [
           {
            "colorbar": {
             "outlinewidth": 0,
             "ticks": ""
            },
            "colorscale": [
             [
              0,
              "#0d0887"
             ],
             [
              0.1111111111111111,
              "#46039f"
             ],
             [
              0.2222222222222222,
              "#7201a8"
             ],
             [
              0.3333333333333333,
              "#9c179e"
             ],
             [
              0.4444444444444444,
              "#bd3786"
             ],
             [
              0.5555555555555556,
              "#d8576b"
             ],
             [
              0.6666666666666666,
              "#ed7953"
             ],
             [
              0.7777777777777778,
              "#fb9f3a"
             ],
             [
              0.8888888888888888,
              "#fdca26"
             ],
             [
              1,
              "#f0f921"
             ]
            ],
            "type": "histogram2d"
           }
          ],
          "histogram2dcontour": [
           {
            "colorbar": {
             "outlinewidth": 0,
             "ticks": ""
            },
            "colorscale": [
             [
              0,
              "#0d0887"
             ],
             [
              0.1111111111111111,
              "#46039f"
             ],
             [
              0.2222222222222222,
              "#7201a8"
             ],
             [
              0.3333333333333333,
              "#9c179e"
             ],
             [
              0.4444444444444444,
              "#bd3786"
             ],
             [
              0.5555555555555556,
              "#d8576b"
             ],
             [
              0.6666666666666666,
              "#ed7953"
             ],
             [
              0.7777777777777778,
              "#fb9f3a"
             ],
             [
              0.8888888888888888,
              "#fdca26"
             ],
             [
              1,
              "#f0f921"
             ]
            ],
            "type": "histogram2dcontour"
           }
          ],
          "mesh3d": [
           {
            "colorbar": {
             "outlinewidth": 0,
             "ticks": ""
            },
            "type": "mesh3d"
           }
          ],
          "parcoords": [
           {
            "line": {
             "colorbar": {
              "outlinewidth": 0,
              "ticks": ""
             }
            },
            "type": "parcoords"
           }
          ],
          "pie": [
           {
            "automargin": true,
            "type": "pie"
           }
          ],
          "scatter": [
           {
            "marker": {
             "colorbar": {
              "outlinewidth": 0,
              "ticks": ""
             }
            },
            "type": "scatter"
           }
          ],
          "scatter3d": [
           {
            "line": {
             "colorbar": {
              "outlinewidth": 0,
              "ticks": ""
             }
            },
            "marker": {
             "colorbar": {
              "outlinewidth": 0,
              "ticks": ""
             }
            },
            "type": "scatter3d"
           }
          ],
          "scattercarpet": [
           {
            "marker": {
             "colorbar": {
              "outlinewidth": 0,
              "ticks": ""
             }
            },
            "type": "scattercarpet"
           }
          ],
          "scattergeo": [
           {
            "marker": {
             "colorbar": {
              "outlinewidth": 0,
              "ticks": ""
             }
            },
            "type": "scattergeo"
           }
          ],
          "scattergl": [
           {
            "marker": {
             "colorbar": {
              "outlinewidth": 0,
              "ticks": ""
             }
            },
            "type": "scattergl"
           }
          ],
          "scattermapbox": [
           {
            "marker": {
             "colorbar": {
              "outlinewidth": 0,
              "ticks": ""
             }
            },
            "type": "scattermapbox"
           }
          ],
          "scatterpolar": [
           {
            "marker": {
             "colorbar": {
              "outlinewidth": 0,
              "ticks": ""
             }
            },
            "type": "scatterpolar"
           }
          ],
          "scatterpolargl": [
           {
            "marker": {
             "colorbar": {
              "outlinewidth": 0,
              "ticks": ""
             }
            },
            "type": "scatterpolargl"
           }
          ],
          "scatterternary": [
           {
            "marker": {
             "colorbar": {
              "outlinewidth": 0,
              "ticks": ""
             }
            },
            "type": "scatterternary"
           }
          ],
          "surface": [
           {
            "colorbar": {
             "outlinewidth": 0,
             "ticks": ""
            },
            "colorscale": [
             [
              0,
              "#0d0887"
             ],
             [
              0.1111111111111111,
              "#46039f"
             ],
             [
              0.2222222222222222,
              "#7201a8"
             ],
             [
              0.3333333333333333,
              "#9c179e"
             ],
             [
              0.4444444444444444,
              "#bd3786"
             ],
             [
              0.5555555555555556,
              "#d8576b"
             ],
             [
              0.6666666666666666,
              "#ed7953"
             ],
             [
              0.7777777777777778,
              "#fb9f3a"
             ],
             [
              0.8888888888888888,
              "#fdca26"
             ],
             [
              1,
              "#f0f921"
             ]
            ],
            "type": "surface"
           }
          ],
          "table": [
           {
            "cells": {
             "fill": {
              "color": "#EBF0F8"
             },
             "line": {
              "color": "white"
             }
            },
            "header": {
             "fill": {
              "color": "#C8D4E3"
             },
             "line": {
              "color": "white"
             }
            },
            "type": "table"
           }
          ]
         },
         "layout": {
          "annotationdefaults": {
           "arrowcolor": "#2a3f5f",
           "arrowhead": 0,
           "arrowwidth": 1
          },
          "coloraxis": {
           "colorbar": {
            "outlinewidth": 0,
            "ticks": ""
           }
          },
          "colorscale": {
           "diverging": [
            [
             0,
             "#8e0152"
            ],
            [
             0.1,
             "#c51b7d"
            ],
            [
             0.2,
             "#de77ae"
            ],
            [
             0.3,
             "#f1b6da"
            ],
            [
             0.4,
             "#fde0ef"
            ],
            [
             0.5,
             "#f7f7f7"
            ],
            [
             0.6,
             "#e6f5d0"
            ],
            [
             0.7,
             "#b8e186"
            ],
            [
             0.8,
             "#7fbc41"
            ],
            [
             0.9,
             "#4d9221"
            ],
            [
             1,
             "#276419"
            ]
           ],
           "sequential": [
            [
             0,
             "#0d0887"
            ],
            [
             0.1111111111111111,
             "#46039f"
            ],
            [
             0.2222222222222222,
             "#7201a8"
            ],
            [
             0.3333333333333333,
             "#9c179e"
            ],
            [
             0.4444444444444444,
             "#bd3786"
            ],
            [
             0.5555555555555556,
             "#d8576b"
            ],
            [
             0.6666666666666666,
             "#ed7953"
            ],
            [
             0.7777777777777778,
             "#fb9f3a"
            ],
            [
             0.8888888888888888,
             "#fdca26"
            ],
            [
             1,
             "#f0f921"
            ]
           ],
           "sequentialminus": [
            [
             0,
             "#0d0887"
            ],
            [
             0.1111111111111111,
             "#46039f"
            ],
            [
             0.2222222222222222,
             "#7201a8"
            ],
            [
             0.3333333333333333,
             "#9c179e"
            ],
            [
             0.4444444444444444,
             "#bd3786"
            ],
            [
             0.5555555555555556,
             "#d8576b"
            ],
            [
             0.6666666666666666,
             "#ed7953"
            ],
            [
             0.7777777777777778,
             "#fb9f3a"
            ],
            [
             0.8888888888888888,
             "#fdca26"
            ],
            [
             1,
             "#f0f921"
            ]
           ]
          },
          "colorway": [
           "#636efa",
           "#EF553B",
           "#00cc96",
           "#ab63fa",
           "#FFA15A",
           "#19d3f3",
           "#FF6692",
           "#B6E880",
           "#FF97FF",
           "#FECB52"
          ],
          "font": {
           "color": "#2a3f5f"
          },
          "geo": {
           "bgcolor": "white",
           "lakecolor": "white",
           "landcolor": "#E5ECF6",
           "showlakes": true,
           "showland": true,
           "subunitcolor": "white"
          },
          "hoverlabel": {
           "align": "left"
          },
          "hovermode": "closest",
          "mapbox": {
           "style": "light"
          },
          "paper_bgcolor": "white",
          "plot_bgcolor": "#E5ECF6",
          "polar": {
           "angularaxis": {
            "gridcolor": "white",
            "linecolor": "white",
            "ticks": ""
           },
           "bgcolor": "#E5ECF6",
           "radialaxis": {
            "gridcolor": "white",
            "linecolor": "white",
            "ticks": ""
           }
          },
          "scene": {
           "xaxis": {
            "backgroundcolor": "#E5ECF6",
            "gridcolor": "white",
            "gridwidth": 2,
            "linecolor": "white",
            "showbackground": true,
            "ticks": "",
            "zerolinecolor": "white"
           },
           "yaxis": {
            "backgroundcolor": "#E5ECF6",
            "gridcolor": "white",
            "gridwidth": 2,
            "linecolor": "white",
            "showbackground": true,
            "ticks": "",
            "zerolinecolor": "white"
           },
           "zaxis": {
            "backgroundcolor": "#E5ECF6",
            "gridcolor": "white",
            "gridwidth": 2,
            "linecolor": "white",
            "showbackground": true,
            "ticks": "",
            "zerolinecolor": "white"
           }
          },
          "shapedefaults": {
           "line": {
            "color": "#2a3f5f"
           }
          },
          "ternary": {
           "aaxis": {
            "gridcolor": "white",
            "linecolor": "white",
            "ticks": ""
           },
           "baxis": {
            "gridcolor": "white",
            "linecolor": "white",
            "ticks": ""
           },
           "bgcolor": "#E5ECF6",
           "caxis": {
            "gridcolor": "white",
            "linecolor": "white",
            "ticks": ""
           }
          },
          "title": {
           "x": 0.05
          },
          "xaxis": {
           "automargin": true,
           "gridcolor": "white",
           "linecolor": "white",
           "ticks": "",
           "title": {
            "standoff": 15
           },
           "zerolinecolor": "white",
           "zerolinewidth": 2
          },
          "yaxis": {
           "automargin": true,
           "gridcolor": "white",
           "linecolor": "white",
           "ticks": "",
           "title": {
            "standoff": 15
           },
           "zerolinecolor": "white",
           "zerolinewidth": 2
          }
         }
        },
        "title": {
         "font": {
          "color": "#4D5663"
         }
        },
        "xaxis": {
         "gridcolor": "#E1E5ED",
         "showgrid": true,
         "tickfont": {
          "color": "#4D5663"
         },
         "title": {
          "font": {
           "color": "#4D5663"
          },
          "text": ""
         },
         "zerolinecolor": "#E1E5ED"
        },
        "yaxis": {
         "gridcolor": "#E1E5ED",
         "showgrid": true,
         "tickfont": {
          "color": "#4D5663"
         },
         "title": {
          "font": {
           "color": "#4D5663"
          },
          "text": ""
         },
         "zerolinecolor": "#E1E5ED"
        }
       }
      },
      "text/html": [
       "<div>\n",
       "        \n",
       "        \n",
       "            <div id=\"cded1566-3d65-46b7-8503-8854ebf3675b\" class=\"plotly-graph-div\" style=\"height:525px; width:100%;\"></div>\n",
       "            <script type=\"text/javascript\">\n",
       "                require([\"plotly\"], function(Plotly) {\n",
       "                    window.PLOTLYENV=window.PLOTLYENV || {};\n",
       "                    window.PLOTLYENV.BASE_URL='https://plot.ly';\n",
       "                    \n",
       "                if (document.getElementById(\"cded1566-3d65-46b7-8503-8854ebf3675b\")) {\n",
       "                    Plotly.newPlot(\n",
       "                        'cded1566-3d65-46b7-8503-8854ebf3675b',\n",
       "                        [{\"colorscale\": [[0.0, \"rgb(165,0,38)\"], [0.1, \"rgb(215,48,39)\"], [0.2, \"rgb(244,109,67)\"], [0.3, \"rgb(253,174,97)\"], [0.4, \"rgb(254,224,144)\"], [0.5, \"rgb(255,255,191)\"], [0.6, \"rgb(224,243,248)\"], [0.7, \"rgb(171,217,233)\"], [0.8, \"rgb(116,173,209)\"], [0.9, \"rgb(69,117,180)\"], [1.0, \"rgb(49,54,149)\"]], \"type\": \"surface\", \"x\": [0, 1, 2, 3, 4], \"y\": [\"x\", \"y\", \"z\"], \"z\": [[1, 2, 3, 4, 5], [10, 20, 30, 20, 10], [5, 4, 3, 2, 1]]}],\n",
       "                        {\"legend\": {\"bgcolor\": \"#F5F6F9\", \"font\": {\"color\": \"#4D5663\"}}, \"paper_bgcolor\": \"#F5F6F9\", \"plot_bgcolor\": \"#F5F6F9\", \"template\": {\"data\": {\"bar\": [{\"error_x\": {\"color\": \"#2a3f5f\"}, \"error_y\": {\"color\": \"#2a3f5f\"}, \"marker\": {\"line\": {\"color\": \"#E5ECF6\", \"width\": 0.5}}, \"type\": \"bar\"}], \"barpolar\": [{\"marker\": {\"line\": {\"color\": \"#E5ECF6\", \"width\": 0.5}}, \"type\": \"barpolar\"}], \"carpet\": [{\"aaxis\": {\"endlinecolor\": \"#2a3f5f\", \"gridcolor\": \"white\", \"linecolor\": \"white\", \"minorgridcolor\": \"white\", \"startlinecolor\": \"#2a3f5f\"}, \"baxis\": {\"endlinecolor\": \"#2a3f5f\", \"gridcolor\": \"white\", \"linecolor\": \"white\", \"minorgridcolor\": \"white\", \"startlinecolor\": \"#2a3f5f\"}, \"type\": \"carpet\"}], \"choropleth\": [{\"colorbar\": {\"outlinewidth\": 0, \"ticks\": \"\"}, \"type\": \"choropleth\"}], \"contour\": [{\"colorbar\": {\"outlinewidth\": 0, \"ticks\": \"\"}, \"colorscale\": [[0.0, \"#0d0887\"], [0.1111111111111111, \"#46039f\"], [0.2222222222222222, \"#7201a8\"], [0.3333333333333333, \"#9c179e\"], [0.4444444444444444, \"#bd3786\"], [0.5555555555555556, \"#d8576b\"], [0.6666666666666666, \"#ed7953\"], [0.7777777777777778, \"#fb9f3a\"], [0.8888888888888888, \"#fdca26\"], [1.0, \"#f0f921\"]], \"type\": \"contour\"}], \"contourcarpet\": [{\"colorbar\": {\"outlinewidth\": 0, \"ticks\": \"\"}, \"type\": \"contourcarpet\"}], \"heatmap\": [{\"colorbar\": {\"outlinewidth\": 0, \"ticks\": \"\"}, \"colorscale\": [[0.0, \"#0d0887\"], [0.1111111111111111, \"#46039f\"], [0.2222222222222222, \"#7201a8\"], [0.3333333333333333, \"#9c179e\"], [0.4444444444444444, \"#bd3786\"], [0.5555555555555556, \"#d8576b\"], [0.6666666666666666, \"#ed7953\"], [0.7777777777777778, \"#fb9f3a\"], [0.8888888888888888, \"#fdca26\"], [1.0, \"#f0f921\"]], \"type\": \"heatmap\"}], \"heatmapgl\": [{\"colorbar\": {\"outlinewidth\": 0, \"ticks\": \"\"}, \"colorscale\": [[0.0, \"#0d0887\"], [0.1111111111111111, \"#46039f\"], [0.2222222222222222, \"#7201a8\"], [0.3333333333333333, \"#9c179e\"], [0.4444444444444444, \"#bd3786\"], [0.5555555555555556, \"#d8576b\"], [0.6666666666666666, \"#ed7953\"], [0.7777777777777778, \"#fb9f3a\"], [0.8888888888888888, \"#fdca26\"], [1.0, \"#f0f921\"]], \"type\": \"heatmapgl\"}], \"histogram\": [{\"marker\": {\"colorbar\": {\"outlinewidth\": 0, \"ticks\": \"\"}}, \"type\": \"histogram\"}], \"histogram2d\": [{\"colorbar\": {\"outlinewidth\": 0, \"ticks\": \"\"}, \"colorscale\": [[0.0, \"#0d0887\"], [0.1111111111111111, \"#46039f\"], [0.2222222222222222, \"#7201a8\"], [0.3333333333333333, \"#9c179e\"], [0.4444444444444444, \"#bd3786\"], [0.5555555555555556, \"#d8576b\"], [0.6666666666666666, \"#ed7953\"], [0.7777777777777778, \"#fb9f3a\"], [0.8888888888888888, \"#fdca26\"], [1.0, \"#f0f921\"]], \"type\": \"histogram2d\"}], \"histogram2dcontour\": [{\"colorbar\": {\"outlinewidth\": 0, \"ticks\": \"\"}, \"colorscale\": [[0.0, \"#0d0887\"], [0.1111111111111111, \"#46039f\"], [0.2222222222222222, \"#7201a8\"], [0.3333333333333333, \"#9c179e\"], [0.4444444444444444, \"#bd3786\"], [0.5555555555555556, \"#d8576b\"], [0.6666666666666666, \"#ed7953\"], [0.7777777777777778, \"#fb9f3a\"], [0.8888888888888888, \"#fdca26\"], [1.0, \"#f0f921\"]], \"type\": \"histogram2dcontour\"}], \"mesh3d\": [{\"colorbar\": {\"outlinewidth\": 0, \"ticks\": \"\"}, \"type\": \"mesh3d\"}], \"parcoords\": [{\"line\": {\"colorbar\": {\"outlinewidth\": 0, \"ticks\": \"\"}}, \"type\": \"parcoords\"}], \"pie\": [{\"automargin\": true, \"type\": \"pie\"}], \"scatter\": [{\"marker\": {\"colorbar\": {\"outlinewidth\": 0, \"ticks\": \"\"}}, \"type\": \"scatter\"}], \"scatter3d\": [{\"line\": {\"colorbar\": {\"outlinewidth\": 0, \"ticks\": \"\"}}, \"marker\": {\"colorbar\": {\"outlinewidth\": 0, \"ticks\": \"\"}}, \"type\": \"scatter3d\"}], \"scattercarpet\": [{\"marker\": {\"colorbar\": {\"outlinewidth\": 0, \"ticks\": \"\"}}, \"type\": \"scattercarpet\"}], \"scattergeo\": [{\"marker\": {\"colorbar\": {\"outlinewidth\": 0, \"ticks\": \"\"}}, \"type\": \"scattergeo\"}], \"scattergl\": [{\"marker\": {\"colorbar\": {\"outlinewidth\": 0, \"ticks\": \"\"}}, \"type\": \"scattergl\"}], \"scattermapbox\": [{\"marker\": {\"colorbar\": {\"outlinewidth\": 0, \"ticks\": \"\"}}, \"type\": \"scattermapbox\"}], \"scatterpolar\": [{\"marker\": {\"colorbar\": {\"outlinewidth\": 0, \"ticks\": \"\"}}, \"type\": \"scatterpolar\"}], \"scatterpolargl\": [{\"marker\": {\"colorbar\": {\"outlinewidth\": 0, \"ticks\": \"\"}}, \"type\": \"scatterpolargl\"}], \"scatterternary\": [{\"marker\": {\"colorbar\": {\"outlinewidth\": 0, \"ticks\": \"\"}}, \"type\": \"scatterternary\"}], \"surface\": [{\"colorbar\": {\"outlinewidth\": 0, \"ticks\": \"\"}, \"colorscale\": [[0.0, \"#0d0887\"], [0.1111111111111111, \"#46039f\"], [0.2222222222222222, \"#7201a8\"], [0.3333333333333333, \"#9c179e\"], [0.4444444444444444, \"#bd3786\"], [0.5555555555555556, \"#d8576b\"], [0.6666666666666666, \"#ed7953\"], [0.7777777777777778, \"#fb9f3a\"], [0.8888888888888888, \"#fdca26\"], [1.0, \"#f0f921\"]], \"type\": \"surface\"}], \"table\": [{\"cells\": {\"fill\": {\"color\": \"#EBF0F8\"}, \"line\": {\"color\": \"white\"}}, \"header\": {\"fill\": {\"color\": \"#C8D4E3\"}, \"line\": {\"color\": \"white\"}}, \"type\": \"table\"}]}, \"layout\": {\"annotationdefaults\": {\"arrowcolor\": \"#2a3f5f\", \"arrowhead\": 0, \"arrowwidth\": 1}, \"coloraxis\": {\"colorbar\": {\"outlinewidth\": 0, \"ticks\": \"\"}}, \"colorscale\": {\"diverging\": [[0, \"#8e0152\"], [0.1, \"#c51b7d\"], [0.2, \"#de77ae\"], [0.3, \"#f1b6da\"], [0.4, \"#fde0ef\"], [0.5, \"#f7f7f7\"], [0.6, \"#e6f5d0\"], [0.7, \"#b8e186\"], [0.8, \"#7fbc41\"], [0.9, \"#4d9221\"], [1, \"#276419\"]], \"sequential\": [[0.0, \"#0d0887\"], [0.1111111111111111, \"#46039f\"], [0.2222222222222222, \"#7201a8\"], [0.3333333333333333, \"#9c179e\"], [0.4444444444444444, \"#bd3786\"], [0.5555555555555556, \"#d8576b\"], [0.6666666666666666, \"#ed7953\"], [0.7777777777777778, \"#fb9f3a\"], [0.8888888888888888, \"#fdca26\"], [1.0, \"#f0f921\"]], \"sequentialminus\": [[0.0, \"#0d0887\"], [0.1111111111111111, \"#46039f\"], [0.2222222222222222, \"#7201a8\"], [0.3333333333333333, \"#9c179e\"], [0.4444444444444444, \"#bd3786\"], [0.5555555555555556, \"#d8576b\"], [0.6666666666666666, \"#ed7953\"], [0.7777777777777778, \"#fb9f3a\"], [0.8888888888888888, \"#fdca26\"], [1.0, \"#f0f921\"]]}, \"colorway\": [\"#636efa\", \"#EF553B\", \"#00cc96\", \"#ab63fa\", \"#FFA15A\", \"#19d3f3\", \"#FF6692\", \"#B6E880\", \"#FF97FF\", \"#FECB52\"], \"font\": {\"color\": \"#2a3f5f\"}, \"geo\": {\"bgcolor\": \"white\", \"lakecolor\": \"white\", \"landcolor\": \"#E5ECF6\", \"showlakes\": true, \"showland\": true, \"subunitcolor\": \"white\"}, \"hoverlabel\": {\"align\": \"left\"}, \"hovermode\": \"closest\", \"mapbox\": {\"style\": \"light\"}, \"paper_bgcolor\": \"white\", \"plot_bgcolor\": \"#E5ECF6\", \"polar\": {\"angularaxis\": {\"gridcolor\": \"white\", \"linecolor\": \"white\", \"ticks\": \"\"}, \"bgcolor\": \"#E5ECF6\", \"radialaxis\": {\"gridcolor\": \"white\", \"linecolor\": \"white\", \"ticks\": \"\"}}, \"scene\": {\"xaxis\": {\"backgroundcolor\": \"#E5ECF6\", \"gridcolor\": \"white\", \"gridwidth\": 2, \"linecolor\": \"white\", \"showbackground\": true, \"ticks\": \"\", \"zerolinecolor\": \"white\"}, \"yaxis\": {\"backgroundcolor\": \"#E5ECF6\", \"gridcolor\": \"white\", \"gridwidth\": 2, \"linecolor\": \"white\", \"showbackground\": true, \"ticks\": \"\", \"zerolinecolor\": \"white\"}, \"zaxis\": {\"backgroundcolor\": \"#E5ECF6\", \"gridcolor\": \"white\", \"gridwidth\": 2, \"linecolor\": \"white\", \"showbackground\": true, \"ticks\": \"\", \"zerolinecolor\": \"white\"}}, \"shapedefaults\": {\"line\": {\"color\": \"#2a3f5f\"}}, \"ternary\": {\"aaxis\": {\"gridcolor\": \"white\", \"linecolor\": \"white\", \"ticks\": \"\"}, \"baxis\": {\"gridcolor\": \"white\", \"linecolor\": \"white\", \"ticks\": \"\"}, \"bgcolor\": \"#E5ECF6\", \"caxis\": {\"gridcolor\": \"white\", \"linecolor\": \"white\", \"ticks\": \"\"}}, \"title\": {\"x\": 0.05}, \"xaxis\": {\"automargin\": true, \"gridcolor\": \"white\", \"linecolor\": \"white\", \"ticks\": \"\", \"title\": {\"standoff\": 15}, \"zerolinecolor\": \"white\", \"zerolinewidth\": 2}, \"yaxis\": {\"automargin\": true, \"gridcolor\": \"white\", \"linecolor\": \"white\", \"ticks\": \"\", \"title\": {\"standoff\": 15}, \"zerolinecolor\": \"white\", \"zerolinewidth\": 2}}}, \"title\": {\"font\": {\"color\": \"#4D5663\"}}, \"xaxis\": {\"gridcolor\": \"#E1E5ED\", \"showgrid\": true, \"tickfont\": {\"color\": \"#4D5663\"}, \"title\": {\"font\": {\"color\": \"#4D5663\"}, \"text\": \"\"}, \"zerolinecolor\": \"#E1E5ED\"}, \"yaxis\": {\"gridcolor\": \"#E1E5ED\", \"showgrid\": true, \"tickfont\": {\"color\": \"#4D5663\"}, \"title\": {\"font\": {\"color\": \"#4D5663\"}, \"text\": \"\"}, \"zerolinecolor\": \"#E1E5ED\"}},\n",
       "                        {\"showLink\": true, \"linkText\": \"Export to plot.ly\", \"plotlyServerURL\": \"https://plot.ly\", \"responsive\": true}\n",
       "                    ).then(function(){\n",
       "                            \n",
       "var gd = document.getElementById('cded1566-3d65-46b7-8503-8854ebf3675b');\n",
       "var x = new MutationObserver(function (mutations, observer) {{\n",
       "        var display = window.getComputedStyle(gd).display;\n",
       "        if (!display || display === 'none') {{\n",
       "            console.log([gd, 'removed!']);\n",
       "            Plotly.purge(gd);\n",
       "            observer.disconnect();\n",
       "        }}\n",
       "}});\n",
       "\n",
       "// Listen for the removal of the full notebook cells\n",
       "var notebookContainer = gd.closest('#notebook-container');\n",
       "if (notebookContainer) {{\n",
       "    x.observe(notebookContainer, {childList: true});\n",
       "}}\n",
       "\n",
       "// Listen for the clearing of the current output cell\n",
       "var outputEl = gd.closest('.output');\n",
       "if (outputEl) {{\n",
       "    x.observe(outputEl, {childList: true});\n",
       "}}\n",
       "\n",
       "                        })\n",
       "                };\n",
       "                });\n",
       "            </script>\n",
       "        </div>"
      ]
     },
     "metadata": {},
     "output_type": "display_data"
    }
   ],
   "source": [
    "df3 = pd.DataFrame({'x':[1,2,3,4,5],'y':[10,20,30,20,10],'z':[5,4,3,2,1]})\n",
    "df3.iplot(kind='surface',colorscale='rdylbu')"
   ]
  },
  {
   "cell_type": "markdown",
   "metadata": {},
   "source": [
    "## Spread"
   ]
  },
  {
   "cell_type": "code",
   "execution_count": 16,
   "metadata": {},
   "outputs": [
    {
     "data": {
      "application/vnd.plotly.v1+json": {
       "config": {
        "linkText": "Export to plot.ly",
        "plotlyServerURL": "https://plot.ly",
        "showLink": true
       },
       "data": [
        {
         "line": {
          "color": "rgba(255, 153, 51, 1.0)",
          "dash": "solid",
          "shape": "linear",
          "width": 1.3
         },
         "mode": "lines",
         "name": "A",
         "text": "",
         "type": "scatter",
         "x": [
          0,
          1,
          2,
          3,
          4,
          5,
          6,
          7,
          8,
          9,
          10,
          11,
          12,
          13,
          14,
          15,
          16,
          17,
          18,
          19,
          20,
          21,
          22,
          23,
          24,
          25,
          26,
          27,
          28,
          29,
          30,
          31,
          32,
          33,
          34,
          35,
          36,
          37,
          38,
          39,
          40,
          41,
          42,
          43,
          44,
          45,
          46,
          47,
          48,
          49,
          50,
          51,
          52,
          53,
          54,
          55,
          56,
          57,
          58,
          59,
          60,
          61,
          62,
          63,
          64,
          65,
          66,
          67,
          68,
          69,
          70,
          71,
          72,
          73,
          74,
          75,
          76,
          77,
          78,
          79,
          80,
          81,
          82,
          83,
          84,
          85,
          86,
          87,
          88,
          89,
          90,
          91,
          92,
          93,
          94,
          95,
          96,
          97,
          98,
          99
         ],
         "y": [
          1.5101490399848538,
          -0.6405275834738976,
          -0.512955812775037,
          1.9945535110166155,
          0.7239546875357956,
          0.8193567705112613,
          1.192205706744129,
          -0.06787383362506158,
          -0.9802554854905633,
          0.6983271064470218,
          -0.09113355613425492,
          1.2313007346971012,
          0.5877414638414414,
          0.44701759506099287,
          -1.4625771180718434,
          -2.652004600843019,
          0.09877482172888144,
          1.1629678060014554,
          0.7691594293148781,
          -0.1364317997818323,
          -0.16022426763322922,
          0.325414195254767,
          0.2688277762024969,
          1.841688695638128,
          -0.3097790041736717,
          -0.27035022527693,
          -0.3223095653633265,
          -0.1461980419232848,
          2.3170839799717053,
          1.8369084706357632,
          -0.7221143171938086,
          -0.6348791926259997,
          0.041316979821828165,
          -2.6008465783966845,
          0.1232552893656748,
          0.7240482389471554,
          -1.1566478307252988,
          0.06803529895168065,
          -0.08971460905870797,
          0.18012357430894557,
          0.9225730627109227,
          -1.445603452520163,
          -0.2895665306804073,
          0.09538268325347563,
          1.287372036995754,
          -0.6105013600450948,
          -0.7654308216950918,
          0.6525813929540183,
          1.3259746476590089,
          2.3626108894511493,
          -0.8445790982577436,
          0.01824503703149911,
          -0.9283950022622932,
          0.33636857025188516,
          -0.8613816355113362,
          0.40466279012072576,
          0.8363332121586713,
          -1.239556920419094,
          0.27739221030357436,
          -0.4021079811857981,
          1.4712926754951638,
          0.25657991140085984,
          -0.8310974348171803,
          0.6114113100084001,
          -0.955427588323675,
          0.5184833162831455,
          -1.0452960939323077,
          0.4667513077038204,
          -0.723458426308934,
          -2.5867925551081035,
          0.7903424657093867,
          -0.4936357686129681,
          -0.7627359863188906,
          0.3536789889194609,
          -1.2902491381524273,
          0.1912991604086632,
          0.9121151372265259,
          0.7373090629882498,
          0.5037650361608089,
          1.1318384618076784,
          -0.32154075364181933,
          0.9361876383988863,
          1.0476083383554216,
          0.4720998866594356,
          -0.4088347948063875,
          -0.2047000651934584,
          -0.8547597310671836,
          0.9836937217040943,
          1.5744087429243852,
          1.4033565625484767,
          -0.7242927426020687,
          -0.6910896152379462,
          0.7961011916043215,
          -0.1451686332386725,
          0.23618649203945938,
          -0.9005205826485293,
          0.5929153455591286,
          -1.3558193667814635,
          1.555509083173195,
          1.5661931184442937
         ]
        },
        {
         "line": {
          "color": "rgba(55, 128, 191, 1.0)",
          "dash": "solid",
          "shape": "linear",
          "width": 1.3
         },
         "mode": "lines",
         "name": "B",
         "text": "",
         "type": "scatter",
         "x": [
          0,
          1,
          2,
          3,
          4,
          5,
          6,
          7,
          8,
          9,
          10,
          11,
          12,
          13,
          14,
          15,
          16,
          17,
          18,
          19,
          20,
          21,
          22,
          23,
          24,
          25,
          26,
          27,
          28,
          29,
          30,
          31,
          32,
          33,
          34,
          35,
          36,
          37,
          38,
          39,
          40,
          41,
          42,
          43,
          44,
          45,
          46,
          47,
          48,
          49,
          50,
          51,
          52,
          53,
          54,
          55,
          56,
          57,
          58,
          59,
          60,
          61,
          62,
          63,
          64,
          65,
          66,
          67,
          68,
          69,
          70,
          71,
          72,
          73,
          74,
          75,
          76,
          77,
          78,
          79,
          80,
          81,
          82,
          83,
          84,
          85,
          86,
          87,
          88,
          89,
          90,
          91,
          92,
          93,
          94,
          95,
          96,
          97,
          98,
          99
         ],
         "y": [
          0.054979191128094816,
          1.4368555640509848,
          -0.22607750843614138,
          0.20147652277293557,
          -1.4555502346439408,
          1.235727105253792,
          0.45538137880566887,
          -1.3010732893534303,
          -1.2691000601151483,
          1.6370568366415919,
          0.3071655217652912,
          -0.5990722768644184,
          -2.647254678769929,
          0.702738372406523,
          0.07191205239778133,
          1.2001027658925585,
          0.3102254510934988,
          -2.907098840258816,
          -1.2688217753814637,
          -0.9838590414229287,
          0.9115690199446567,
          0.9469701010827166,
          0.15696478517473111,
          1.6471109893762343,
          -0.8977548136067434,
          -0.9199482432111052,
          0.8687462611039781,
          -0.49259127413312087,
          1.9997186565748608,
          0.28299432369597044,
          0.5636013029300263,
          -0.533031353093187,
          -2.3004571749120823,
          0.5371737481378878,
          0.8350225602155451,
          -0.5948402186277807,
          -0.1895541588040986,
          -0.05861025295657063,
          -2.0990765127482067,
          0.12005665584931399,
          -1.1097215512147067,
          0.3041362882859407,
          0.9611494673654635,
          -0.7724740028745279,
          1.8364041184574287,
          0.5150682119767902,
          -0.7953027555580844,
          1.5755045849174594,
          -0.8625472207013256,
          -0.3765871069608661,
          -0.35965627007750917,
          0.8907945673388414,
          -0.5211463173335591,
          0.229942887701415,
          1.2070059543372178,
          -1.747909478166768,
          -1.2544204297967272,
          -0.39345806939876377,
          1.3525798011451498,
          -1.5634681769462817,
          1.5231440386058803,
          0.5615698709650291,
          -0.5986586180194643,
          0.060079755434575555,
          2.140389869307584,
          0.11628915233426852,
          0.5943641768616253,
          1.4935800759035067,
          -0.4025470502298976,
          -2.179590754822418,
          0.46750448914317605,
          1.477145305796776,
          -1.665319404483263,
          0.3085561347371331,
          -0.3453710286044497,
          0.5562338663194516,
          -0.2790322781489596,
          -0.9642744260233003,
          -0.4545174340207927,
          -0.23539992106019608,
          -0.7628340515598176,
          -1.5311459626066464,
          0.7231843780477117,
          0.44513667647675115,
          0.7252438502557419,
          0.010664927582359943,
          -1.2889237131715514,
          0.9850276280938937,
          0.24092972415915567,
          -0.9866877607378947,
          -2.154137554731013,
          -0.1285673748219936,
          -0.24435316549739328,
          0.7796057011313241,
          -0.37089112604330343,
          1.7190997934959267,
          0.11110381508124938,
          -0.19742003370703887,
          0.3459687603740203,
          -1.1825722115533015
         ]
        },
        {
         "connectgaps": false,
         "fill": "tozeroy",
         "line": {
          "color": "green",
          "dash": "solid",
          "shape": "linear",
          "width": 0.5
         },
         "mode": "lines",
         "name": "Spread",
         "showlegend": false,
         "type": "scatter",
         "x": [
          0,
          1,
          2,
          3,
          4,
          5,
          6,
          7,
          8,
          9,
          10,
          11,
          12,
          13,
          14,
          15,
          16,
          17,
          18,
          19,
          20,
          21,
          22,
          23,
          24,
          25,
          26,
          27,
          28,
          29,
          30,
          31,
          32,
          33,
          34,
          35,
          36,
          37,
          38,
          39,
          40,
          41,
          42,
          43,
          44,
          45,
          46,
          47,
          48,
          49,
          50,
          51,
          52,
          53,
          54,
          55,
          56,
          57,
          58,
          59,
          60,
          61,
          62,
          63,
          64,
          65,
          66,
          67,
          68,
          69,
          70,
          71,
          72,
          73,
          74,
          75,
          76,
          77,
          78,
          79,
          80,
          81,
          82,
          83,
          84,
          85,
          86,
          87,
          88,
          89,
          90,
          91,
          92,
          93,
          94,
          95,
          96,
          97,
          98,
          99
         ],
         "xaxis": "x2",
         "y": [
          1.455169848856759,
          "",
          "",
          1.79307698824368,
          2.1795049221797367,
          "",
          0.7368243279384601,
          1.2331994557283688,
          0.288844574624585,
          "",
          "",
          1.8303730115615195,
          3.2349961426113705,
          "",
          "",
          "",
          "",
          4.070066646260271,
          2.037981204696342,
          0.8474272416410964,
          "",
          "",
          0.11186299102776581,
          0.19457770626189363,
          0.5879758094330716,
          0.6495980179341753,
          "",
          0.3463932322098361,
          0.31736532339684453,
          1.5539141469397928,
          "",
          "",
          2.3417741547339106,
          "",
          "",
          1.318888457574936,
          "",
          0.12664555190825127,
          2.009361903689499,
          0.06006691845963158,
          2.0322946139256293,
          "",
          "",
          0.8678566861280036,
          "",
          "",
          0.029871933862992583,
          "",
          2.1885218683603345,
          2.7391979964120154,
          "",
          "",
          "",
          0.10642568255047016,
          "",
          2.1525722682874937,
          2.0907536419553985,
          "",
          "",
          1.1613601957604835,
          "",
          "",
          "",
          0.5513315545738245,
          "",
          0.40219416394887697,
          "",
          "",
          "",
          "",
          0.32283797656621066,
          "",
          0.9025834181643725,
          0.04512285418232781,
          "",
          "",
          1.1911474153754855,
          1.7015834890115502,
          0.9582824701816016,
          1.3672383828678745,
          0.4412932979179983,
          2.4673336010055325,
          0.3244239603077098,
          0.02696321018268444,
          "",
          "",
          0.4341639821043678,
          "",
          1.3334790187652295,
          2.3900443232863715,
          1.4298448121289444,
          "",
          1.0404543571017149,
          "",
          0.6070776180827628,
          "",
          0.4818115304778792,
          "",
          1.2095403227991748,
          2.748765329997595
         ],
         "yaxis": "y2"
        },
        {
         "connectgaps": false,
         "fill": "tozeroy",
         "line": {
          "color": "red",
          "dash": "solid",
          "shape": "linear",
          "width": 0.5
         },
         "mode": "lines",
         "name": "Spread",
         "showlegend": false,
         "type": "scatter",
         "x": [
          0,
          1,
          2,
          3,
          4,
          5,
          6,
          7,
          8,
          9,
          10,
          11,
          12,
          13,
          14,
          15,
          16,
          17,
          18,
          19,
          20,
          21,
          22,
          23,
          24,
          25,
          26,
          27,
          28,
          29,
          30,
          31,
          32,
          33,
          34,
          35,
          36,
          37,
          38,
          39,
          40,
          41,
          42,
          43,
          44,
          45,
          46,
          47,
          48,
          49,
          50,
          51,
          52,
          53,
          54,
          55,
          56,
          57,
          58,
          59,
          60,
          61,
          62,
          63,
          64,
          65,
          66,
          67,
          68,
          69,
          70,
          71,
          72,
          73,
          74,
          75,
          76,
          77,
          78,
          79,
          80,
          81,
          82,
          83,
          84,
          85,
          86,
          87,
          88,
          89,
          90,
          91,
          92,
          93,
          94,
          95,
          96,
          97,
          98,
          99
         ],
         "xaxis": "x2",
         "y": [
          "",
          -2.0773831475248823,
          -0.2868783043388956,
          "",
          "",
          -0.4163703347425306,
          "",
          "",
          "",
          -0.9387297301945701,
          -0.3982990778995461,
          "",
          "",
          -0.25572077734553017,
          -1.5344891704696249,
          -3.8521073667355776,
          -0.21145062936461737,
          "",
          "",
          "",
          -1.071793287577886,
          -0.6215559058279496,
          "",
          "",
          "",
          "",
          -1.1910558264673046,
          "",
          "",
          "",
          -1.285715620123835,
          -0.10184783953281262,
          "",
          -3.1380203265345723,
          -0.7117672708498703,
          "",
          -0.9670936719212002,
          "",
          "",
          "",
          "",
          -1.7497397408061037,
          -1.2507159980458709,
          "",
          -0.5490320814616747,
          -1.125569572021885,
          "",
          -0.9229231919634411,
          "",
          "",
          -0.4849228281802344,
          -0.8725495303073423,
          -0.4072486849287341,
          "",
          -2.068387589848554,
          "",
          "",
          -0.8460988510203302,
          -1.0751875908415753,
          "",
          -0.051851363110716475,
          -0.30498995956416924,
          -0.23243881679771605,
          "",
          -3.095817457631259,
          "",
          -1.6396602707939332,
          -1.0268287681996864,
          -0.32091137607903636,
          -0.4072018002856854,
          "",
          -1.9707810744097443,
          "",
          "",
          -0.9448781095479776,
          -0.36493470591078836,
          "",
          "",
          "",
          "",
          "",
          "",
          "",
          "",
          -1.1340786450621294,
          -0.21536499277581833,
          "",
          -0.0013339063897993553,
          "",
          "",
          "",
          -0.5625222404159527,
          "",
          -0.9247743343699966,
          "",
          -2.619620376144456,
          "",
          -1.1583993330744247,
          "",
          ""
         ],
         "yaxis": "y2"
        }
       ],
       "layout": {
        "hovermode": "x",
        "legend": {
         "bgcolor": "#F5F6F9",
         "font": {
          "color": "#4D5663"
         }
        },
        "paper_bgcolor": "#F5F6F9",
        "plot_bgcolor": "#F5F6F9",
        "template": {
         "data": {
          "bar": [
           {
            "error_x": {
             "color": "#2a3f5f"
            },
            "error_y": {
             "color": "#2a3f5f"
            },
            "marker": {
             "line": {
              "color": "#E5ECF6",
              "width": 0.5
             }
            },
            "type": "bar"
           }
          ],
          "barpolar": [
           {
            "marker": {
             "line": {
              "color": "#E5ECF6",
              "width": 0.5
             }
            },
            "type": "barpolar"
           }
          ],
          "carpet": [
           {
            "aaxis": {
             "endlinecolor": "#2a3f5f",
             "gridcolor": "white",
             "linecolor": "white",
             "minorgridcolor": "white",
             "startlinecolor": "#2a3f5f"
            },
            "baxis": {
             "endlinecolor": "#2a3f5f",
             "gridcolor": "white",
             "linecolor": "white",
             "minorgridcolor": "white",
             "startlinecolor": "#2a3f5f"
            },
            "type": "carpet"
           }
          ],
          "choropleth": [
           {
            "colorbar": {
             "outlinewidth": 0,
             "ticks": ""
            },
            "type": "choropleth"
           }
          ],
          "contour": [
           {
            "colorbar": {
             "outlinewidth": 0,
             "ticks": ""
            },
            "colorscale": [
             [
              0,
              "#0d0887"
             ],
             [
              0.1111111111111111,
              "#46039f"
             ],
             [
              0.2222222222222222,
              "#7201a8"
             ],
             [
              0.3333333333333333,
              "#9c179e"
             ],
             [
              0.4444444444444444,
              "#bd3786"
             ],
             [
              0.5555555555555556,
              "#d8576b"
             ],
             [
              0.6666666666666666,
              "#ed7953"
             ],
             [
              0.7777777777777778,
              "#fb9f3a"
             ],
             [
              0.8888888888888888,
              "#fdca26"
             ],
             [
              1,
              "#f0f921"
             ]
            ],
            "type": "contour"
           }
          ],
          "contourcarpet": [
           {
            "colorbar": {
             "outlinewidth": 0,
             "ticks": ""
            },
            "type": "contourcarpet"
           }
          ],
          "heatmap": [
           {
            "colorbar": {
             "outlinewidth": 0,
             "ticks": ""
            },
            "colorscale": [
             [
              0,
              "#0d0887"
             ],
             [
              0.1111111111111111,
              "#46039f"
             ],
             [
              0.2222222222222222,
              "#7201a8"
             ],
             [
              0.3333333333333333,
              "#9c179e"
             ],
             [
              0.4444444444444444,
              "#bd3786"
             ],
             [
              0.5555555555555556,
              "#d8576b"
             ],
             [
              0.6666666666666666,
              "#ed7953"
             ],
             [
              0.7777777777777778,
              "#fb9f3a"
             ],
             [
              0.8888888888888888,
              "#fdca26"
             ],
             [
              1,
              "#f0f921"
             ]
            ],
            "type": "heatmap"
           }
          ],
          "heatmapgl": [
           {
            "colorbar": {
             "outlinewidth": 0,
             "ticks": ""
            },
            "colorscale": [
             [
              0,
              "#0d0887"
             ],
             [
              0.1111111111111111,
              "#46039f"
             ],
             [
              0.2222222222222222,
              "#7201a8"
             ],
             [
              0.3333333333333333,
              "#9c179e"
             ],
             [
              0.4444444444444444,
              "#bd3786"
             ],
             [
              0.5555555555555556,
              "#d8576b"
             ],
             [
              0.6666666666666666,
              "#ed7953"
             ],
             [
              0.7777777777777778,
              "#fb9f3a"
             ],
             [
              0.8888888888888888,
              "#fdca26"
             ],
             [
              1,
              "#f0f921"
             ]
            ],
            "type": "heatmapgl"
           }
          ],
          "histogram": [
           {
            "marker": {
             "colorbar": {
              "outlinewidth": 0,
              "ticks": ""
             }
            },
            "type": "histogram"
           }
          ],
          "histogram2d": [
           {
            "colorbar": {
             "outlinewidth": 0,
             "ticks": ""
            },
            "colorscale": [
             [
              0,
              "#0d0887"
             ],
             [
              0.1111111111111111,
              "#46039f"
             ],
             [
              0.2222222222222222,
              "#7201a8"
             ],
             [
              0.3333333333333333,
              "#9c179e"
             ],
             [
              0.4444444444444444,
              "#bd3786"
             ],
             [
              0.5555555555555556,
              "#d8576b"
             ],
             [
              0.6666666666666666,
              "#ed7953"
             ],
             [
              0.7777777777777778,
              "#fb9f3a"
             ],
             [
              0.8888888888888888,
              "#fdca26"
             ],
             [
              1,
              "#f0f921"
             ]
            ],
            "type": "histogram2d"
           }
          ],
          "histogram2dcontour": [
           {
            "colorbar": {
             "outlinewidth": 0,
             "ticks": ""
            },
            "colorscale": [
             [
              0,
              "#0d0887"
             ],
             [
              0.1111111111111111,
              "#46039f"
             ],
             [
              0.2222222222222222,
              "#7201a8"
             ],
             [
              0.3333333333333333,
              "#9c179e"
             ],
             [
              0.4444444444444444,
              "#bd3786"
             ],
             [
              0.5555555555555556,
              "#d8576b"
             ],
             [
              0.6666666666666666,
              "#ed7953"
             ],
             [
              0.7777777777777778,
              "#fb9f3a"
             ],
             [
              0.8888888888888888,
              "#fdca26"
             ],
             [
              1,
              "#f0f921"
             ]
            ],
            "type": "histogram2dcontour"
           }
          ],
          "mesh3d": [
           {
            "colorbar": {
             "outlinewidth": 0,
             "ticks": ""
            },
            "type": "mesh3d"
           }
          ],
          "parcoords": [
           {
            "line": {
             "colorbar": {
              "outlinewidth": 0,
              "ticks": ""
             }
            },
            "type": "parcoords"
           }
          ],
          "pie": [
           {
            "automargin": true,
            "type": "pie"
           }
          ],
          "scatter": [
           {
            "marker": {
             "colorbar": {
              "outlinewidth": 0,
              "ticks": ""
             }
            },
            "type": "scatter"
           }
          ],
          "scatter3d": [
           {
            "line": {
             "colorbar": {
              "outlinewidth": 0,
              "ticks": ""
             }
            },
            "marker": {
             "colorbar": {
              "outlinewidth": 0,
              "ticks": ""
             }
            },
            "type": "scatter3d"
           }
          ],
          "scattercarpet": [
           {
            "marker": {
             "colorbar": {
              "outlinewidth": 0,
              "ticks": ""
             }
            },
            "type": "scattercarpet"
           }
          ],
          "scattergeo": [
           {
            "marker": {
             "colorbar": {
              "outlinewidth": 0,
              "ticks": ""
             }
            },
            "type": "scattergeo"
           }
          ],
          "scattergl": [
           {
            "marker": {
             "colorbar": {
              "outlinewidth": 0,
              "ticks": ""
             }
            },
            "type": "scattergl"
           }
          ],
          "scattermapbox": [
           {
            "marker": {
             "colorbar": {
              "outlinewidth": 0,
              "ticks": ""
             }
            },
            "type": "scattermapbox"
           }
          ],
          "scatterpolar": [
           {
            "marker": {
             "colorbar": {
              "outlinewidth": 0,
              "ticks": ""
             }
            },
            "type": "scatterpolar"
           }
          ],
          "scatterpolargl": [
           {
            "marker": {
             "colorbar": {
              "outlinewidth": 0,
              "ticks": ""
             }
            },
            "type": "scatterpolargl"
           }
          ],
          "scatterternary": [
           {
            "marker": {
             "colorbar": {
              "outlinewidth": 0,
              "ticks": ""
             }
            },
            "type": "scatterternary"
           }
          ],
          "surface": [
           {
            "colorbar": {
             "outlinewidth": 0,
             "ticks": ""
            },
            "colorscale": [
             [
              0,
              "#0d0887"
             ],
             [
              0.1111111111111111,
              "#46039f"
             ],
             [
              0.2222222222222222,
              "#7201a8"
             ],
             [
              0.3333333333333333,
              "#9c179e"
             ],
             [
              0.4444444444444444,
              "#bd3786"
             ],
             [
              0.5555555555555556,
              "#d8576b"
             ],
             [
              0.6666666666666666,
              "#ed7953"
             ],
             [
              0.7777777777777778,
              "#fb9f3a"
             ],
             [
              0.8888888888888888,
              "#fdca26"
             ],
             [
              1,
              "#f0f921"
             ]
            ],
            "type": "surface"
           }
          ],
          "table": [
           {
            "cells": {
             "fill": {
              "color": "#EBF0F8"
             },
             "line": {
              "color": "white"
             }
            },
            "header": {
             "fill": {
              "color": "#C8D4E3"
             },
             "line": {
              "color": "white"
             }
            },
            "type": "table"
           }
          ]
         },
         "layout": {
          "annotationdefaults": {
           "arrowcolor": "#2a3f5f",
           "arrowhead": 0,
           "arrowwidth": 1
          },
          "coloraxis": {
           "colorbar": {
            "outlinewidth": 0,
            "ticks": ""
           }
          },
          "colorscale": {
           "diverging": [
            [
             0,
             "#8e0152"
            ],
            [
             0.1,
             "#c51b7d"
            ],
            [
             0.2,
             "#de77ae"
            ],
            [
             0.3,
             "#f1b6da"
            ],
            [
             0.4,
             "#fde0ef"
            ],
            [
             0.5,
             "#f7f7f7"
            ],
            [
             0.6,
             "#e6f5d0"
            ],
            [
             0.7,
             "#b8e186"
            ],
            [
             0.8,
             "#7fbc41"
            ],
            [
             0.9,
             "#4d9221"
            ],
            [
             1,
             "#276419"
            ]
           ],
           "sequential": [
            [
             0,
             "#0d0887"
            ],
            [
             0.1111111111111111,
             "#46039f"
            ],
            [
             0.2222222222222222,
             "#7201a8"
            ],
            [
             0.3333333333333333,
             "#9c179e"
            ],
            [
             0.4444444444444444,
             "#bd3786"
            ],
            [
             0.5555555555555556,
             "#d8576b"
            ],
            [
             0.6666666666666666,
             "#ed7953"
            ],
            [
             0.7777777777777778,
             "#fb9f3a"
            ],
            [
             0.8888888888888888,
             "#fdca26"
            ],
            [
             1,
             "#f0f921"
            ]
           ],
           "sequentialminus": [
            [
             0,
             "#0d0887"
            ],
            [
             0.1111111111111111,
             "#46039f"
            ],
            [
             0.2222222222222222,
             "#7201a8"
            ],
            [
             0.3333333333333333,
             "#9c179e"
            ],
            [
             0.4444444444444444,
             "#bd3786"
            ],
            [
             0.5555555555555556,
             "#d8576b"
            ],
            [
             0.6666666666666666,
             "#ed7953"
            ],
            [
             0.7777777777777778,
             "#fb9f3a"
            ],
            [
             0.8888888888888888,
             "#fdca26"
            ],
            [
             1,
             "#f0f921"
            ]
           ]
          },
          "colorway": [
           "#636efa",
           "#EF553B",
           "#00cc96",
           "#ab63fa",
           "#FFA15A",
           "#19d3f3",
           "#FF6692",
           "#B6E880",
           "#FF97FF",
           "#FECB52"
          ],
          "font": {
           "color": "#2a3f5f"
          },
          "geo": {
           "bgcolor": "white",
           "lakecolor": "white",
           "landcolor": "#E5ECF6",
           "showlakes": true,
           "showland": true,
           "subunitcolor": "white"
          },
          "hoverlabel": {
           "align": "left"
          },
          "hovermode": "closest",
          "mapbox": {
           "style": "light"
          },
          "paper_bgcolor": "white",
          "plot_bgcolor": "#E5ECF6",
          "polar": {
           "angularaxis": {
            "gridcolor": "white",
            "linecolor": "white",
            "ticks": ""
           },
           "bgcolor": "#E5ECF6",
           "radialaxis": {
            "gridcolor": "white",
            "linecolor": "white",
            "ticks": ""
           }
          },
          "scene": {
           "xaxis": {
            "backgroundcolor": "#E5ECF6",
            "gridcolor": "white",
            "gridwidth": 2,
            "linecolor": "white",
            "showbackground": true,
            "ticks": "",
            "zerolinecolor": "white"
           },
           "yaxis": {
            "backgroundcolor": "#E5ECF6",
            "gridcolor": "white",
            "gridwidth": 2,
            "linecolor": "white",
            "showbackground": true,
            "ticks": "",
            "zerolinecolor": "white"
           },
           "zaxis": {
            "backgroundcolor": "#E5ECF6",
            "gridcolor": "white",
            "gridwidth": 2,
            "linecolor": "white",
            "showbackground": true,
            "ticks": "",
            "zerolinecolor": "white"
           }
          },
          "shapedefaults": {
           "line": {
            "color": "#2a3f5f"
           }
          },
          "ternary": {
           "aaxis": {
            "gridcolor": "white",
            "linecolor": "white",
            "ticks": ""
           },
           "baxis": {
            "gridcolor": "white",
            "linecolor": "white",
            "ticks": ""
           },
           "bgcolor": "#E5ECF6",
           "caxis": {
            "gridcolor": "white",
            "linecolor": "white",
            "ticks": ""
           }
          },
          "title": {
           "x": 0.05
          },
          "xaxis": {
           "automargin": true,
           "gridcolor": "white",
           "linecolor": "white",
           "ticks": "",
           "title": {
            "standoff": 15
           },
           "zerolinecolor": "white",
           "zerolinewidth": 2
          },
          "yaxis": {
           "automargin": true,
           "gridcolor": "white",
           "linecolor": "white",
           "ticks": "",
           "title": {
            "standoff": 15
           },
           "zerolinecolor": "white",
           "zerolinewidth": 2
          }
         }
        },
        "title": {
         "font": {
          "color": "#4D5663"
         }
        },
        "xaxis": {
         "gridcolor": "#E1E5ED",
         "showgrid": true,
         "tickfont": {
          "color": "#4D5663"
         },
         "title": {
          "font": {
           "color": "#4D5663"
          },
          "text": ""
         },
         "zerolinecolor": "#E1E5ED"
        },
        "xaxis2": {
         "anchor": "y2",
         "gridcolor": "#E1E5ED",
         "showgrid": true,
         "showticklabels": false,
         "tickfont": {
          "color": "#4D5663"
         },
         "title": {
          "font": {
           "color": "#4D5663"
          },
          "text": ""
         },
         "zerolinecolor": "#E1E5ED"
        },
        "yaxis": {
         "domain": [
          0.3,
          1
         ],
         "gridcolor": "#E1E5ED",
         "showgrid": true,
         "tickfont": {
          "color": "#4D5663"
         },
         "title": {
          "font": {
           "color": "#4D5663"
          },
          "text": ""
         },
         "zerolinecolor": "#E1E5ED"
        },
        "yaxis2": {
         "domain": [
          0,
          0.25
         ],
         "gridcolor": "#E1E5ED",
         "showgrid": true,
         "tickfont": {
          "color": "#4D5663"
         },
         "title": {
          "font": {
           "color": "#4D5663"
          },
          "text": "Spread"
         },
         "zerolinecolor": "#E1E5ED"
        }
       }
      },
      "text/html": [
       "<div>\n",
       "        \n",
       "        \n",
       "            <div id=\"3e463b4c-e7a3-4696-8910-0f58db177486\" class=\"plotly-graph-div\" style=\"height:525px; width:100%;\"></div>\n",
       "            <script type=\"text/javascript\">\n",
       "                require([\"plotly\"], function(Plotly) {\n",
       "                    window.PLOTLYENV=window.PLOTLYENV || {};\n",
       "                    window.PLOTLYENV.BASE_URL='https://plot.ly';\n",
       "                    \n",
       "                if (document.getElementById(\"3e463b4c-e7a3-4696-8910-0f58db177486\")) {\n",
       "                    Plotly.newPlot(\n",
       "                        '3e463b4c-e7a3-4696-8910-0f58db177486',\n",
       "                        [{\"line\": {\"color\": \"rgba(255, 153, 51, 1.0)\", \"dash\": \"solid\", \"shape\": \"linear\", \"width\": 1.3}, \"mode\": \"lines\", \"name\": \"A\", \"text\": \"\", \"type\": \"scatter\", \"x\": [0, 1, 2, 3, 4, 5, 6, 7, 8, 9, 10, 11, 12, 13, 14, 15, 16, 17, 18, 19, 20, 21, 22, 23, 24, 25, 26, 27, 28, 29, 30, 31, 32, 33, 34, 35, 36, 37, 38, 39, 40, 41, 42, 43, 44, 45, 46, 47, 48, 49, 50, 51, 52, 53, 54, 55, 56, 57, 58, 59, 60, 61, 62, 63, 64, 65, 66, 67, 68, 69, 70, 71, 72, 73, 74, 75, 76, 77, 78, 79, 80, 81, 82, 83, 84, 85, 86, 87, 88, 89, 90, 91, 92, 93, 94, 95, 96, 97, 98, 99], \"y\": [1.5101490399848538, -0.6405275834738976, -0.512955812775037, 1.9945535110166155, 0.7239546875357956, 0.8193567705112613, 1.192205706744129, -0.06787383362506158, -0.9802554854905633, 0.6983271064470218, -0.09113355613425492, 1.2313007346971012, 0.5877414638414414, 0.44701759506099287, -1.4625771180718434, -2.652004600843019, 0.09877482172888144, 1.1629678060014554, 0.7691594293148781, -0.1364317997818323, -0.16022426763322922, 0.325414195254767, 0.2688277762024969, 1.841688695638128, -0.3097790041736717, -0.27035022527693, -0.3223095653633265, -0.1461980419232848, 2.3170839799717053, 1.8369084706357632, -0.7221143171938086, -0.6348791926259997, 0.041316979821828165, -2.6008465783966845, 0.1232552893656748, 0.7240482389471554, -1.1566478307252988, 0.06803529895168065, -0.08971460905870797, 0.18012357430894557, 0.9225730627109227, -1.445603452520163, -0.2895665306804073, 0.09538268325347563, 1.287372036995754, -0.6105013600450948, -0.7654308216950918, 0.6525813929540183, 1.3259746476590089, 2.3626108894511493, -0.8445790982577436, 0.01824503703149911, -0.9283950022622932, 0.33636857025188516, -0.8613816355113362, 0.40466279012072576, 0.8363332121586713, -1.239556920419094, 0.27739221030357436, -0.4021079811857981, 1.4712926754951638, 0.25657991140085984, -0.8310974348171803, 0.6114113100084001, -0.955427588323675, 0.5184833162831455, -1.0452960939323077, 0.4667513077038204, -0.723458426308934, -2.5867925551081035, 0.7903424657093867, -0.4936357686129681, -0.7627359863188906, 0.3536789889194609, -1.2902491381524273, 0.1912991604086632, 0.9121151372265259, 0.7373090629882498, 0.5037650361608089, 1.1318384618076784, -0.32154075364181933, 0.9361876383988863, 1.0476083383554216, 0.4720998866594356, -0.4088347948063875, -0.2047000651934584, -0.8547597310671836, 0.9836937217040943, 1.5744087429243852, 1.4033565625484767, -0.7242927426020687, -0.6910896152379462, 0.7961011916043215, -0.1451686332386725, 0.23618649203945938, -0.9005205826485293, 0.5929153455591286, -1.3558193667814635, 1.555509083173195, 1.5661931184442937]}, {\"line\": {\"color\": \"rgba(55, 128, 191, 1.0)\", \"dash\": \"solid\", \"shape\": \"linear\", \"width\": 1.3}, \"mode\": \"lines\", \"name\": \"B\", \"text\": \"\", \"type\": \"scatter\", \"x\": [0, 1, 2, 3, 4, 5, 6, 7, 8, 9, 10, 11, 12, 13, 14, 15, 16, 17, 18, 19, 20, 21, 22, 23, 24, 25, 26, 27, 28, 29, 30, 31, 32, 33, 34, 35, 36, 37, 38, 39, 40, 41, 42, 43, 44, 45, 46, 47, 48, 49, 50, 51, 52, 53, 54, 55, 56, 57, 58, 59, 60, 61, 62, 63, 64, 65, 66, 67, 68, 69, 70, 71, 72, 73, 74, 75, 76, 77, 78, 79, 80, 81, 82, 83, 84, 85, 86, 87, 88, 89, 90, 91, 92, 93, 94, 95, 96, 97, 98, 99], \"y\": [0.054979191128094816, 1.4368555640509848, -0.22607750843614138, 0.20147652277293557, -1.4555502346439408, 1.235727105253792, 0.45538137880566887, -1.3010732893534303, -1.2691000601151483, 1.6370568366415919, 0.3071655217652912, -0.5990722768644184, -2.647254678769929, 0.702738372406523, 0.07191205239778133, 1.2001027658925585, 0.3102254510934988, -2.907098840258816, -1.2688217753814637, -0.9838590414229287, 0.9115690199446567, 0.9469701010827166, 0.15696478517473111, 1.6471109893762343, -0.8977548136067434, -0.9199482432111052, 0.8687462611039781, -0.49259127413312087, 1.9997186565748608, 0.28299432369597044, 0.5636013029300263, -0.533031353093187, -2.3004571749120823, 0.5371737481378878, 0.8350225602155451, -0.5948402186277807, -0.1895541588040986, -0.05861025295657063, -2.0990765127482067, 0.12005665584931399, -1.1097215512147067, 0.3041362882859407, 0.9611494673654635, -0.7724740028745279, 1.8364041184574287, 0.5150682119767902, -0.7953027555580844, 1.5755045849174594, -0.8625472207013256, -0.3765871069608661, -0.35965627007750917, 0.8907945673388414, -0.5211463173335591, 0.229942887701415, 1.2070059543372178, -1.747909478166768, -1.2544204297967272, -0.39345806939876377, 1.3525798011451498, -1.5634681769462817, 1.5231440386058803, 0.5615698709650291, -0.5986586180194643, 0.060079755434575555, 2.140389869307584, 0.11628915233426852, 0.5943641768616253, 1.4935800759035067, -0.4025470502298976, -2.179590754822418, 0.46750448914317605, 1.477145305796776, -1.665319404483263, 0.3085561347371331, -0.3453710286044497, 0.5562338663194516, -0.2790322781489596, -0.9642744260233003, -0.4545174340207927, -0.23539992106019608, -0.7628340515598176, -1.5311459626066464, 0.7231843780477117, 0.44513667647675115, 0.7252438502557419, 0.010664927582359943, -1.2889237131715514, 0.9850276280938937, 0.24092972415915567, -0.9866877607378947, -2.154137554731013, -0.1285673748219936, -0.24435316549739328, 0.7796057011313241, -0.37089112604330343, 1.7190997934959267, 0.11110381508124938, -0.19742003370703887, 0.3459687603740203, -1.1825722115533015]}, {\"connectgaps\": false, \"fill\": \"tozeroy\", \"line\": {\"color\": \"green\", \"dash\": \"solid\", \"shape\": \"linear\", \"width\": 0.5}, \"mode\": \"lines\", \"name\": \"Spread\", \"showlegend\": false, \"type\": \"scatter\", \"x\": [0, 1, 2, 3, 4, 5, 6, 7, 8, 9, 10, 11, 12, 13, 14, 15, 16, 17, 18, 19, 20, 21, 22, 23, 24, 25, 26, 27, 28, 29, 30, 31, 32, 33, 34, 35, 36, 37, 38, 39, 40, 41, 42, 43, 44, 45, 46, 47, 48, 49, 50, 51, 52, 53, 54, 55, 56, 57, 58, 59, 60, 61, 62, 63, 64, 65, 66, 67, 68, 69, 70, 71, 72, 73, 74, 75, 76, 77, 78, 79, 80, 81, 82, 83, 84, 85, 86, 87, 88, 89, 90, 91, 92, 93, 94, 95, 96, 97, 98, 99], \"xaxis\": \"x2\", \"y\": [1.455169848856759, \"\", \"\", 1.79307698824368, 2.1795049221797367, \"\", 0.7368243279384601, 1.2331994557283688, 0.288844574624585, \"\", \"\", 1.8303730115615195, 3.2349961426113705, \"\", \"\", \"\", \"\", 4.070066646260271, 2.037981204696342, 0.8474272416410964, \"\", \"\", 0.11186299102776581, 0.19457770626189363, 0.5879758094330716, 0.6495980179341753, \"\", 0.3463932322098361, 0.31736532339684453, 1.5539141469397928, \"\", \"\", 2.3417741547339106, \"\", \"\", 1.318888457574936, \"\", 0.12664555190825127, 2.009361903689499, 0.06006691845963158, 2.0322946139256293, \"\", \"\", 0.8678566861280036, \"\", \"\", 0.029871933862992583, \"\", 2.1885218683603345, 2.7391979964120154, \"\", \"\", \"\", 0.10642568255047016, \"\", 2.1525722682874937, 2.0907536419553985, \"\", \"\", 1.1613601957604835, \"\", \"\", \"\", 0.5513315545738245, \"\", 0.40219416394887697, \"\", \"\", \"\", \"\", 0.32283797656621066, \"\", 0.9025834181643725, 0.04512285418232781, \"\", \"\", 1.1911474153754855, 1.7015834890115502, 0.9582824701816016, 1.3672383828678745, 0.4412932979179983, 2.4673336010055325, 0.3244239603077098, 0.02696321018268444, \"\", \"\", 0.4341639821043678, \"\", 1.3334790187652295, 2.3900443232863715, 1.4298448121289444, \"\", 1.0404543571017149, \"\", 0.6070776180827628, \"\", 0.4818115304778792, \"\", 1.2095403227991748, 2.748765329997595], \"yaxis\": \"y2\"}, {\"connectgaps\": false, \"fill\": \"tozeroy\", \"line\": {\"color\": \"red\", \"dash\": \"solid\", \"shape\": \"linear\", \"width\": 0.5}, \"mode\": \"lines\", \"name\": \"Spread\", \"showlegend\": false, \"type\": \"scatter\", \"x\": [0, 1, 2, 3, 4, 5, 6, 7, 8, 9, 10, 11, 12, 13, 14, 15, 16, 17, 18, 19, 20, 21, 22, 23, 24, 25, 26, 27, 28, 29, 30, 31, 32, 33, 34, 35, 36, 37, 38, 39, 40, 41, 42, 43, 44, 45, 46, 47, 48, 49, 50, 51, 52, 53, 54, 55, 56, 57, 58, 59, 60, 61, 62, 63, 64, 65, 66, 67, 68, 69, 70, 71, 72, 73, 74, 75, 76, 77, 78, 79, 80, 81, 82, 83, 84, 85, 86, 87, 88, 89, 90, 91, 92, 93, 94, 95, 96, 97, 98, 99], \"xaxis\": \"x2\", \"y\": [\"\", -2.0773831475248823, -0.2868783043388956, \"\", \"\", -0.4163703347425306, \"\", \"\", \"\", -0.9387297301945701, -0.3982990778995461, \"\", \"\", -0.25572077734553017, -1.5344891704696249, -3.8521073667355776, -0.21145062936461737, \"\", \"\", \"\", -1.071793287577886, -0.6215559058279496, \"\", \"\", \"\", \"\", -1.1910558264673046, \"\", \"\", \"\", -1.285715620123835, -0.10184783953281262, \"\", -3.1380203265345723, -0.7117672708498703, \"\", -0.9670936719212002, \"\", \"\", \"\", \"\", -1.7497397408061037, -1.2507159980458709, \"\", -0.5490320814616747, -1.125569572021885, \"\", -0.9229231919634411, \"\", \"\", -0.4849228281802344, -0.8725495303073423, -0.4072486849287341, \"\", -2.068387589848554, \"\", \"\", -0.8460988510203302, -1.0751875908415753, \"\", -0.051851363110716475, -0.30498995956416924, -0.23243881679771605, \"\", -3.095817457631259, \"\", -1.6396602707939332, -1.0268287681996864, -0.32091137607903636, -0.4072018002856854, \"\", -1.9707810744097443, \"\", \"\", -0.9448781095479776, -0.36493470591078836, \"\", \"\", \"\", \"\", \"\", \"\", \"\", \"\", -1.1340786450621294, -0.21536499277581833, \"\", -0.0013339063897993553, \"\", \"\", \"\", -0.5625222404159527, \"\", -0.9247743343699966, \"\", -2.619620376144456, \"\", -1.1583993330744247, \"\", \"\"], \"yaxis\": \"y2\"}],\n",
       "                        {\"hovermode\": \"x\", \"legend\": {\"bgcolor\": \"#F5F6F9\", \"font\": {\"color\": \"#4D5663\"}}, \"paper_bgcolor\": \"#F5F6F9\", \"plot_bgcolor\": \"#F5F6F9\", \"template\": {\"data\": {\"bar\": [{\"error_x\": {\"color\": \"#2a3f5f\"}, \"error_y\": {\"color\": \"#2a3f5f\"}, \"marker\": {\"line\": {\"color\": \"#E5ECF6\", \"width\": 0.5}}, \"type\": \"bar\"}], \"barpolar\": [{\"marker\": {\"line\": {\"color\": \"#E5ECF6\", \"width\": 0.5}}, \"type\": \"barpolar\"}], \"carpet\": [{\"aaxis\": {\"endlinecolor\": \"#2a3f5f\", \"gridcolor\": \"white\", \"linecolor\": \"white\", \"minorgridcolor\": \"white\", \"startlinecolor\": \"#2a3f5f\"}, \"baxis\": {\"endlinecolor\": \"#2a3f5f\", \"gridcolor\": \"white\", \"linecolor\": \"white\", \"minorgridcolor\": \"white\", \"startlinecolor\": \"#2a3f5f\"}, \"type\": \"carpet\"}], \"choropleth\": [{\"colorbar\": {\"outlinewidth\": 0, \"ticks\": \"\"}, \"type\": \"choropleth\"}], \"contour\": [{\"colorbar\": {\"outlinewidth\": 0, \"ticks\": \"\"}, \"colorscale\": [[0.0, \"#0d0887\"], [0.1111111111111111, \"#46039f\"], [0.2222222222222222, \"#7201a8\"], [0.3333333333333333, \"#9c179e\"], [0.4444444444444444, \"#bd3786\"], [0.5555555555555556, \"#d8576b\"], [0.6666666666666666, \"#ed7953\"], [0.7777777777777778, \"#fb9f3a\"], [0.8888888888888888, \"#fdca26\"], [1.0, \"#f0f921\"]], \"type\": \"contour\"}], \"contourcarpet\": [{\"colorbar\": {\"outlinewidth\": 0, \"ticks\": \"\"}, \"type\": \"contourcarpet\"}], \"heatmap\": [{\"colorbar\": {\"outlinewidth\": 0, \"ticks\": \"\"}, \"colorscale\": [[0.0, \"#0d0887\"], [0.1111111111111111, \"#46039f\"], [0.2222222222222222, \"#7201a8\"], [0.3333333333333333, \"#9c179e\"], [0.4444444444444444, \"#bd3786\"], [0.5555555555555556, \"#d8576b\"], [0.6666666666666666, \"#ed7953\"], [0.7777777777777778, \"#fb9f3a\"], [0.8888888888888888, \"#fdca26\"], [1.0, \"#f0f921\"]], \"type\": \"heatmap\"}], \"heatmapgl\": [{\"colorbar\": {\"outlinewidth\": 0, \"ticks\": \"\"}, \"colorscale\": [[0.0, \"#0d0887\"], [0.1111111111111111, \"#46039f\"], [0.2222222222222222, \"#7201a8\"], [0.3333333333333333, \"#9c179e\"], [0.4444444444444444, \"#bd3786\"], [0.5555555555555556, \"#d8576b\"], [0.6666666666666666, \"#ed7953\"], [0.7777777777777778, \"#fb9f3a\"], [0.8888888888888888, \"#fdca26\"], [1.0, \"#f0f921\"]], \"type\": \"heatmapgl\"}], \"histogram\": [{\"marker\": {\"colorbar\": {\"outlinewidth\": 0, \"ticks\": \"\"}}, \"type\": \"histogram\"}], \"histogram2d\": [{\"colorbar\": {\"outlinewidth\": 0, \"ticks\": \"\"}, \"colorscale\": [[0.0, \"#0d0887\"], [0.1111111111111111, \"#46039f\"], [0.2222222222222222, \"#7201a8\"], [0.3333333333333333, \"#9c179e\"], [0.4444444444444444, \"#bd3786\"], [0.5555555555555556, \"#d8576b\"], [0.6666666666666666, \"#ed7953\"], [0.7777777777777778, \"#fb9f3a\"], [0.8888888888888888, \"#fdca26\"], [1.0, \"#f0f921\"]], \"type\": \"histogram2d\"}], \"histogram2dcontour\": [{\"colorbar\": {\"outlinewidth\": 0, \"ticks\": \"\"}, \"colorscale\": [[0.0, \"#0d0887\"], [0.1111111111111111, \"#46039f\"], [0.2222222222222222, \"#7201a8\"], [0.3333333333333333, \"#9c179e\"], [0.4444444444444444, \"#bd3786\"], [0.5555555555555556, \"#d8576b\"], [0.6666666666666666, \"#ed7953\"], [0.7777777777777778, \"#fb9f3a\"], [0.8888888888888888, \"#fdca26\"], [1.0, \"#f0f921\"]], \"type\": \"histogram2dcontour\"}], \"mesh3d\": [{\"colorbar\": {\"outlinewidth\": 0, \"ticks\": \"\"}, \"type\": \"mesh3d\"}], \"parcoords\": [{\"line\": {\"colorbar\": {\"outlinewidth\": 0, \"ticks\": \"\"}}, \"type\": \"parcoords\"}], \"pie\": [{\"automargin\": true, \"type\": \"pie\"}], \"scatter\": [{\"marker\": {\"colorbar\": {\"outlinewidth\": 0, \"ticks\": \"\"}}, \"type\": \"scatter\"}], \"scatter3d\": [{\"line\": {\"colorbar\": {\"outlinewidth\": 0, \"ticks\": \"\"}}, \"marker\": {\"colorbar\": {\"outlinewidth\": 0, \"ticks\": \"\"}}, \"type\": \"scatter3d\"}], \"scattercarpet\": [{\"marker\": {\"colorbar\": {\"outlinewidth\": 0, \"ticks\": \"\"}}, \"type\": \"scattercarpet\"}], \"scattergeo\": [{\"marker\": {\"colorbar\": {\"outlinewidth\": 0, \"ticks\": \"\"}}, \"type\": \"scattergeo\"}], \"scattergl\": [{\"marker\": {\"colorbar\": {\"outlinewidth\": 0, \"ticks\": \"\"}}, \"type\": \"scattergl\"}], \"scattermapbox\": [{\"marker\": {\"colorbar\": {\"outlinewidth\": 0, \"ticks\": \"\"}}, \"type\": \"scattermapbox\"}], \"scatterpolar\": [{\"marker\": {\"colorbar\": {\"outlinewidth\": 0, \"ticks\": \"\"}}, \"type\": \"scatterpolar\"}], \"scatterpolargl\": [{\"marker\": {\"colorbar\": {\"outlinewidth\": 0, \"ticks\": \"\"}}, \"type\": \"scatterpolargl\"}], \"scatterternary\": [{\"marker\": {\"colorbar\": {\"outlinewidth\": 0, \"ticks\": \"\"}}, \"type\": \"scatterternary\"}], \"surface\": [{\"colorbar\": {\"outlinewidth\": 0, \"ticks\": \"\"}, \"colorscale\": [[0.0, \"#0d0887\"], [0.1111111111111111, \"#46039f\"], [0.2222222222222222, \"#7201a8\"], [0.3333333333333333, \"#9c179e\"], [0.4444444444444444, \"#bd3786\"], [0.5555555555555556, \"#d8576b\"], [0.6666666666666666, \"#ed7953\"], [0.7777777777777778, \"#fb9f3a\"], [0.8888888888888888, \"#fdca26\"], [1.0, \"#f0f921\"]], \"type\": \"surface\"}], \"table\": [{\"cells\": {\"fill\": {\"color\": \"#EBF0F8\"}, \"line\": {\"color\": \"white\"}}, \"header\": {\"fill\": {\"color\": \"#C8D4E3\"}, \"line\": {\"color\": \"white\"}}, \"type\": \"table\"}]}, \"layout\": {\"annotationdefaults\": {\"arrowcolor\": \"#2a3f5f\", \"arrowhead\": 0, \"arrowwidth\": 1}, \"coloraxis\": {\"colorbar\": {\"outlinewidth\": 0, \"ticks\": \"\"}}, \"colorscale\": {\"diverging\": [[0, \"#8e0152\"], [0.1, \"#c51b7d\"], [0.2, \"#de77ae\"], [0.3, \"#f1b6da\"], [0.4, \"#fde0ef\"], [0.5, \"#f7f7f7\"], [0.6, \"#e6f5d0\"], [0.7, \"#b8e186\"], [0.8, \"#7fbc41\"], [0.9, \"#4d9221\"], [1, \"#276419\"]], \"sequential\": [[0.0, \"#0d0887\"], [0.1111111111111111, \"#46039f\"], [0.2222222222222222, \"#7201a8\"], [0.3333333333333333, \"#9c179e\"], [0.4444444444444444, \"#bd3786\"], [0.5555555555555556, \"#d8576b\"], [0.6666666666666666, \"#ed7953\"], [0.7777777777777778, \"#fb9f3a\"], [0.8888888888888888, \"#fdca26\"], [1.0, \"#f0f921\"]], \"sequentialminus\": [[0.0, \"#0d0887\"], [0.1111111111111111, \"#46039f\"], [0.2222222222222222, \"#7201a8\"], [0.3333333333333333, \"#9c179e\"], [0.4444444444444444, \"#bd3786\"], [0.5555555555555556, \"#d8576b\"], [0.6666666666666666, \"#ed7953\"], [0.7777777777777778, \"#fb9f3a\"], [0.8888888888888888, \"#fdca26\"], [1.0, \"#f0f921\"]]}, \"colorway\": [\"#636efa\", \"#EF553B\", \"#00cc96\", \"#ab63fa\", \"#FFA15A\", \"#19d3f3\", \"#FF6692\", \"#B6E880\", \"#FF97FF\", \"#FECB52\"], \"font\": {\"color\": \"#2a3f5f\"}, \"geo\": {\"bgcolor\": \"white\", \"lakecolor\": \"white\", \"landcolor\": \"#E5ECF6\", \"showlakes\": true, \"showland\": true, \"subunitcolor\": \"white\"}, \"hoverlabel\": {\"align\": \"left\"}, \"hovermode\": \"closest\", \"mapbox\": {\"style\": \"light\"}, \"paper_bgcolor\": \"white\", \"plot_bgcolor\": \"#E5ECF6\", \"polar\": {\"angularaxis\": {\"gridcolor\": \"white\", \"linecolor\": \"white\", \"ticks\": \"\"}, \"bgcolor\": \"#E5ECF6\", \"radialaxis\": {\"gridcolor\": \"white\", \"linecolor\": \"white\", \"ticks\": \"\"}}, \"scene\": {\"xaxis\": {\"backgroundcolor\": \"#E5ECF6\", \"gridcolor\": \"white\", \"gridwidth\": 2, \"linecolor\": \"white\", \"showbackground\": true, \"ticks\": \"\", \"zerolinecolor\": \"white\"}, \"yaxis\": {\"backgroundcolor\": \"#E5ECF6\", \"gridcolor\": \"white\", \"gridwidth\": 2, \"linecolor\": \"white\", \"showbackground\": true, \"ticks\": \"\", \"zerolinecolor\": \"white\"}, \"zaxis\": {\"backgroundcolor\": \"#E5ECF6\", \"gridcolor\": \"white\", \"gridwidth\": 2, \"linecolor\": \"white\", \"showbackground\": true, \"ticks\": \"\", \"zerolinecolor\": \"white\"}}, \"shapedefaults\": {\"line\": {\"color\": \"#2a3f5f\"}}, \"ternary\": {\"aaxis\": {\"gridcolor\": \"white\", \"linecolor\": \"white\", \"ticks\": \"\"}, \"baxis\": {\"gridcolor\": \"white\", \"linecolor\": \"white\", \"ticks\": \"\"}, \"bgcolor\": \"#E5ECF6\", \"caxis\": {\"gridcolor\": \"white\", \"linecolor\": \"white\", \"ticks\": \"\"}}, \"title\": {\"x\": 0.05}, \"xaxis\": {\"automargin\": true, \"gridcolor\": \"white\", \"linecolor\": \"white\", \"ticks\": \"\", \"title\": {\"standoff\": 15}, \"zerolinecolor\": \"white\", \"zerolinewidth\": 2}, \"yaxis\": {\"automargin\": true, \"gridcolor\": \"white\", \"linecolor\": \"white\", \"ticks\": \"\", \"title\": {\"standoff\": 15}, \"zerolinecolor\": \"white\", \"zerolinewidth\": 2}}}, \"title\": {\"font\": {\"color\": \"#4D5663\"}}, \"xaxis\": {\"gridcolor\": \"#E1E5ED\", \"showgrid\": true, \"tickfont\": {\"color\": \"#4D5663\"}, \"title\": {\"font\": {\"color\": \"#4D5663\"}, \"text\": \"\"}, \"zerolinecolor\": \"#E1E5ED\"}, \"xaxis2\": {\"anchor\": \"y2\", \"gridcolor\": \"#E1E5ED\", \"showgrid\": true, \"showticklabels\": false, \"tickfont\": {\"color\": \"#4D5663\"}, \"title\": {\"font\": {\"color\": \"#4D5663\"}, \"text\": \"\"}, \"zerolinecolor\": \"#E1E5ED\"}, \"yaxis\": {\"domain\": [0.3, 1], \"gridcolor\": \"#E1E5ED\", \"showgrid\": true, \"tickfont\": {\"color\": \"#4D5663\"}, \"title\": {\"font\": {\"color\": \"#4D5663\"}, \"text\": \"\"}, \"zerolinecolor\": \"#E1E5ED\"}, \"yaxis2\": {\"domain\": [0, 0.25], \"gridcolor\": \"#E1E5ED\", \"showgrid\": true, \"tickfont\": {\"color\": \"#4D5663\"}, \"title\": {\"font\": {\"color\": \"#4D5663\"}, \"text\": \"Spread\"}, \"zerolinecolor\": \"#E1E5ED\"}},\n",
       "                        {\"showLink\": true, \"linkText\": \"Export to plot.ly\", \"plotlyServerURL\": \"https://plot.ly\", \"responsive\": true}\n",
       "                    ).then(function(){\n",
       "                            \n",
       "var gd = document.getElementById('3e463b4c-e7a3-4696-8910-0f58db177486');\n",
       "var x = new MutationObserver(function (mutations, observer) {{\n",
       "        var display = window.getComputedStyle(gd).display;\n",
       "        if (!display || display === 'none') {{\n",
       "            console.log([gd, 'removed!']);\n",
       "            Plotly.purge(gd);\n",
       "            observer.disconnect();\n",
       "        }}\n",
       "}});\n",
       "\n",
       "// Listen for the removal of the full notebook cells\n",
       "var notebookContainer = gd.closest('#notebook-container');\n",
       "if (notebookContainer) {{\n",
       "    x.observe(notebookContainer, {childList: true});\n",
       "}}\n",
       "\n",
       "// Listen for the clearing of the current output cell\n",
       "var outputEl = gd.closest('.output');\n",
       "if (outputEl) {{\n",
       "    x.observe(outputEl, {childList: true});\n",
       "}}\n",
       "\n",
       "                        })\n",
       "                };\n",
       "                });\n",
       "            </script>\n",
       "        </div>"
      ]
     },
     "metadata": {},
     "output_type": "display_data"
    }
   ],
   "source": [
    "df[['A','B']].iplot(kind='spread')"
   ]
  },
  {
   "cell_type": "markdown",
   "metadata": {},
   "source": [
    "## histogram"
   ]
  },
  {
   "cell_type": "code",
   "execution_count": 17,
   "metadata": {},
   "outputs": [
    {
     "data": {
      "application/vnd.plotly.v1+json": {
       "config": {
        "linkText": "Export to plot.ly",
        "plotlyServerURL": "https://plot.ly",
        "showLink": true
       },
       "data": [
        {
         "histfunc": "count",
         "histnorm": "",
         "marker": {
          "color": "rgba(255, 153, 51, 1.0)",
          "line": {
           "color": "#4D5663",
           "width": 1.3
          }
         },
         "name": "A",
         "nbinsx": 25,
         "opacity": 0.8,
         "orientation": "v",
         "type": "histogram",
         "x": [
          1.5101490399848538,
          -0.6405275834738976,
          -0.512955812775037,
          1.9945535110166155,
          0.7239546875357956,
          0.8193567705112613,
          1.192205706744129,
          -0.06787383362506158,
          -0.9802554854905633,
          0.6983271064470218,
          -0.09113355613425492,
          1.2313007346971012,
          0.5877414638414414,
          0.44701759506099287,
          -1.4625771180718434,
          -2.652004600843019,
          0.09877482172888144,
          1.1629678060014554,
          0.7691594293148781,
          -0.1364317997818323,
          -0.16022426763322922,
          0.325414195254767,
          0.2688277762024969,
          1.841688695638128,
          -0.3097790041736717,
          -0.27035022527693,
          -0.3223095653633265,
          -0.1461980419232848,
          2.3170839799717053,
          1.8369084706357632,
          -0.7221143171938086,
          -0.6348791926259997,
          0.041316979821828165,
          -2.6008465783966845,
          0.1232552893656748,
          0.7240482389471554,
          -1.1566478307252988,
          0.06803529895168065,
          -0.08971460905870797,
          0.18012357430894557,
          0.9225730627109227,
          -1.445603452520163,
          -0.2895665306804073,
          0.09538268325347563,
          1.287372036995754,
          -0.6105013600450948,
          -0.7654308216950918,
          0.6525813929540183,
          1.3259746476590089,
          2.3626108894511493,
          -0.8445790982577436,
          0.01824503703149911,
          -0.9283950022622932,
          0.33636857025188516,
          -0.8613816355113362,
          0.40466279012072576,
          0.8363332121586713,
          -1.239556920419094,
          0.27739221030357436,
          -0.4021079811857981,
          1.4712926754951638,
          0.25657991140085984,
          -0.8310974348171803,
          0.6114113100084001,
          -0.955427588323675,
          0.5184833162831455,
          -1.0452960939323077,
          0.4667513077038204,
          -0.723458426308934,
          -2.5867925551081035,
          0.7903424657093867,
          -0.4936357686129681,
          -0.7627359863188906,
          0.3536789889194609,
          -1.2902491381524273,
          0.1912991604086632,
          0.9121151372265259,
          0.7373090629882498,
          0.5037650361608089,
          1.1318384618076784,
          -0.32154075364181933,
          0.9361876383988863,
          1.0476083383554216,
          0.4720998866594356,
          -0.4088347948063875,
          -0.2047000651934584,
          -0.8547597310671836,
          0.9836937217040943,
          1.5744087429243852,
          1.4033565625484767,
          -0.7242927426020687,
          -0.6910896152379462,
          0.7961011916043215,
          -0.1451686332386725,
          0.23618649203945938,
          -0.9005205826485293,
          0.5929153455591286,
          -1.3558193667814635,
          1.555509083173195,
          1.5661931184442937
         ]
        }
       ],
       "layout": {
        "barmode": "overlay",
        "legend": {
         "bgcolor": "#F5F6F9",
         "font": {
          "color": "#4D5663"
         }
        },
        "paper_bgcolor": "#F5F6F9",
        "plot_bgcolor": "#F5F6F9",
        "template": {
         "data": {
          "bar": [
           {
            "error_x": {
             "color": "#2a3f5f"
            },
            "error_y": {
             "color": "#2a3f5f"
            },
            "marker": {
             "line": {
              "color": "#E5ECF6",
              "width": 0.5
             }
            },
            "type": "bar"
           }
          ],
          "barpolar": [
           {
            "marker": {
             "line": {
              "color": "#E5ECF6",
              "width": 0.5
             }
            },
            "type": "barpolar"
           }
          ],
          "carpet": [
           {
            "aaxis": {
             "endlinecolor": "#2a3f5f",
             "gridcolor": "white",
             "linecolor": "white",
             "minorgridcolor": "white",
             "startlinecolor": "#2a3f5f"
            },
            "baxis": {
             "endlinecolor": "#2a3f5f",
             "gridcolor": "white",
             "linecolor": "white",
             "minorgridcolor": "white",
             "startlinecolor": "#2a3f5f"
            },
            "type": "carpet"
           }
          ],
          "choropleth": [
           {
            "colorbar": {
             "outlinewidth": 0,
             "ticks": ""
            },
            "type": "choropleth"
           }
          ],
          "contour": [
           {
            "colorbar": {
             "outlinewidth": 0,
             "ticks": ""
            },
            "colorscale": [
             [
              0,
              "#0d0887"
             ],
             [
              0.1111111111111111,
              "#46039f"
             ],
             [
              0.2222222222222222,
              "#7201a8"
             ],
             [
              0.3333333333333333,
              "#9c179e"
             ],
             [
              0.4444444444444444,
              "#bd3786"
             ],
             [
              0.5555555555555556,
              "#d8576b"
             ],
             [
              0.6666666666666666,
              "#ed7953"
             ],
             [
              0.7777777777777778,
              "#fb9f3a"
             ],
             [
              0.8888888888888888,
              "#fdca26"
             ],
             [
              1,
              "#f0f921"
             ]
            ],
            "type": "contour"
           }
          ],
          "contourcarpet": [
           {
            "colorbar": {
             "outlinewidth": 0,
             "ticks": ""
            },
            "type": "contourcarpet"
           }
          ],
          "heatmap": [
           {
            "colorbar": {
             "outlinewidth": 0,
             "ticks": ""
            },
            "colorscale": [
             [
              0,
              "#0d0887"
             ],
             [
              0.1111111111111111,
              "#46039f"
             ],
             [
              0.2222222222222222,
              "#7201a8"
             ],
             [
              0.3333333333333333,
              "#9c179e"
             ],
             [
              0.4444444444444444,
              "#bd3786"
             ],
             [
              0.5555555555555556,
              "#d8576b"
             ],
             [
              0.6666666666666666,
              "#ed7953"
             ],
             [
              0.7777777777777778,
              "#fb9f3a"
             ],
             [
              0.8888888888888888,
              "#fdca26"
             ],
             [
              1,
              "#f0f921"
             ]
            ],
            "type": "heatmap"
           }
          ],
          "heatmapgl": [
           {
            "colorbar": {
             "outlinewidth": 0,
             "ticks": ""
            },
            "colorscale": [
             [
              0,
              "#0d0887"
             ],
             [
              0.1111111111111111,
              "#46039f"
             ],
             [
              0.2222222222222222,
              "#7201a8"
             ],
             [
              0.3333333333333333,
              "#9c179e"
             ],
             [
              0.4444444444444444,
              "#bd3786"
             ],
             [
              0.5555555555555556,
              "#d8576b"
             ],
             [
              0.6666666666666666,
              "#ed7953"
             ],
             [
              0.7777777777777778,
              "#fb9f3a"
             ],
             [
              0.8888888888888888,
              "#fdca26"
             ],
             [
              1,
              "#f0f921"
             ]
            ],
            "type": "heatmapgl"
           }
          ],
          "histogram": [
           {
            "marker": {
             "colorbar": {
              "outlinewidth": 0,
              "ticks": ""
             }
            },
            "type": "histogram"
           }
          ],
          "histogram2d": [
           {
            "colorbar": {
             "outlinewidth": 0,
             "ticks": ""
            },
            "colorscale": [
             [
              0,
              "#0d0887"
             ],
             [
              0.1111111111111111,
              "#46039f"
             ],
             [
              0.2222222222222222,
              "#7201a8"
             ],
             [
              0.3333333333333333,
              "#9c179e"
             ],
             [
              0.4444444444444444,
              "#bd3786"
             ],
             [
              0.5555555555555556,
              "#d8576b"
             ],
             [
              0.6666666666666666,
              "#ed7953"
             ],
             [
              0.7777777777777778,
              "#fb9f3a"
             ],
             [
              0.8888888888888888,
              "#fdca26"
             ],
             [
              1,
              "#f0f921"
             ]
            ],
            "type": "histogram2d"
           }
          ],
          "histogram2dcontour": [
           {
            "colorbar": {
             "outlinewidth": 0,
             "ticks": ""
            },
            "colorscale": [
             [
              0,
              "#0d0887"
             ],
             [
              0.1111111111111111,
              "#46039f"
             ],
             [
              0.2222222222222222,
              "#7201a8"
             ],
             [
              0.3333333333333333,
              "#9c179e"
             ],
             [
              0.4444444444444444,
              "#bd3786"
             ],
             [
              0.5555555555555556,
              "#d8576b"
             ],
             [
              0.6666666666666666,
              "#ed7953"
             ],
             [
              0.7777777777777778,
              "#fb9f3a"
             ],
             [
              0.8888888888888888,
              "#fdca26"
             ],
             [
              1,
              "#f0f921"
             ]
            ],
            "type": "histogram2dcontour"
           }
          ],
          "mesh3d": [
           {
            "colorbar": {
             "outlinewidth": 0,
             "ticks": ""
            },
            "type": "mesh3d"
           }
          ],
          "parcoords": [
           {
            "line": {
             "colorbar": {
              "outlinewidth": 0,
              "ticks": ""
             }
            },
            "type": "parcoords"
           }
          ],
          "pie": [
           {
            "automargin": true,
            "type": "pie"
           }
          ],
          "scatter": [
           {
            "marker": {
             "colorbar": {
              "outlinewidth": 0,
              "ticks": ""
             }
            },
            "type": "scatter"
           }
          ],
          "scatter3d": [
           {
            "line": {
             "colorbar": {
              "outlinewidth": 0,
              "ticks": ""
             }
            },
            "marker": {
             "colorbar": {
              "outlinewidth": 0,
              "ticks": ""
             }
            },
            "type": "scatter3d"
           }
          ],
          "scattercarpet": [
           {
            "marker": {
             "colorbar": {
              "outlinewidth": 0,
              "ticks": ""
             }
            },
            "type": "scattercarpet"
           }
          ],
          "scattergeo": [
           {
            "marker": {
             "colorbar": {
              "outlinewidth": 0,
              "ticks": ""
             }
            },
            "type": "scattergeo"
           }
          ],
          "scattergl": [
           {
            "marker": {
             "colorbar": {
              "outlinewidth": 0,
              "ticks": ""
             }
            },
            "type": "scattergl"
           }
          ],
          "scattermapbox": [
           {
            "marker": {
             "colorbar": {
              "outlinewidth": 0,
              "ticks": ""
             }
            },
            "type": "scattermapbox"
           }
          ],
          "scatterpolar": [
           {
            "marker": {
             "colorbar": {
              "outlinewidth": 0,
              "ticks": ""
             }
            },
            "type": "scatterpolar"
           }
          ],
          "scatterpolargl": [
           {
            "marker": {
             "colorbar": {
              "outlinewidth": 0,
              "ticks": ""
             }
            },
            "type": "scatterpolargl"
           }
          ],
          "scatterternary": [
           {
            "marker": {
             "colorbar": {
              "outlinewidth": 0,
              "ticks": ""
             }
            },
            "type": "scatterternary"
           }
          ],
          "surface": [
           {
            "colorbar": {
             "outlinewidth": 0,
             "ticks": ""
            },
            "colorscale": [
             [
              0,
              "#0d0887"
             ],
             [
              0.1111111111111111,
              "#46039f"
             ],
             [
              0.2222222222222222,
              "#7201a8"
             ],
             [
              0.3333333333333333,
              "#9c179e"
             ],
             [
              0.4444444444444444,
              "#bd3786"
             ],
             [
              0.5555555555555556,
              "#d8576b"
             ],
             [
              0.6666666666666666,
              "#ed7953"
             ],
             [
              0.7777777777777778,
              "#fb9f3a"
             ],
             [
              0.8888888888888888,
              "#fdca26"
             ],
             [
              1,
              "#f0f921"
             ]
            ],
            "type": "surface"
           }
          ],
          "table": [
           {
            "cells": {
             "fill": {
              "color": "#EBF0F8"
             },
             "line": {
              "color": "white"
             }
            },
            "header": {
             "fill": {
              "color": "#C8D4E3"
             },
             "line": {
              "color": "white"
             }
            },
            "type": "table"
           }
          ]
         },
         "layout": {
          "annotationdefaults": {
           "arrowcolor": "#2a3f5f",
           "arrowhead": 0,
           "arrowwidth": 1
          },
          "coloraxis": {
           "colorbar": {
            "outlinewidth": 0,
            "ticks": ""
           }
          },
          "colorscale": {
           "diverging": [
            [
             0,
             "#8e0152"
            ],
            [
             0.1,
             "#c51b7d"
            ],
            [
             0.2,
             "#de77ae"
            ],
            [
             0.3,
             "#f1b6da"
            ],
            [
             0.4,
             "#fde0ef"
            ],
            [
             0.5,
             "#f7f7f7"
            ],
            [
             0.6,
             "#e6f5d0"
            ],
            [
             0.7,
             "#b8e186"
            ],
            [
             0.8,
             "#7fbc41"
            ],
            [
             0.9,
             "#4d9221"
            ],
            [
             1,
             "#276419"
            ]
           ],
           "sequential": [
            [
             0,
             "#0d0887"
            ],
            [
             0.1111111111111111,
             "#46039f"
            ],
            [
             0.2222222222222222,
             "#7201a8"
            ],
            [
             0.3333333333333333,
             "#9c179e"
            ],
            [
             0.4444444444444444,
             "#bd3786"
            ],
            [
             0.5555555555555556,
             "#d8576b"
            ],
            [
             0.6666666666666666,
             "#ed7953"
            ],
            [
             0.7777777777777778,
             "#fb9f3a"
            ],
            [
             0.8888888888888888,
             "#fdca26"
            ],
            [
             1,
             "#f0f921"
            ]
           ],
           "sequentialminus": [
            [
             0,
             "#0d0887"
            ],
            [
             0.1111111111111111,
             "#46039f"
            ],
            [
             0.2222222222222222,
             "#7201a8"
            ],
            [
             0.3333333333333333,
             "#9c179e"
            ],
            [
             0.4444444444444444,
             "#bd3786"
            ],
            [
             0.5555555555555556,
             "#d8576b"
            ],
            [
             0.6666666666666666,
             "#ed7953"
            ],
            [
             0.7777777777777778,
             "#fb9f3a"
            ],
            [
             0.8888888888888888,
             "#fdca26"
            ],
            [
             1,
             "#f0f921"
            ]
           ]
          },
          "colorway": [
           "#636efa",
           "#EF553B",
           "#00cc96",
           "#ab63fa",
           "#FFA15A",
           "#19d3f3",
           "#FF6692",
           "#B6E880",
           "#FF97FF",
           "#FECB52"
          ],
          "font": {
           "color": "#2a3f5f"
          },
          "geo": {
           "bgcolor": "white",
           "lakecolor": "white",
           "landcolor": "#E5ECF6",
           "showlakes": true,
           "showland": true,
           "subunitcolor": "white"
          },
          "hoverlabel": {
           "align": "left"
          },
          "hovermode": "closest",
          "mapbox": {
           "style": "light"
          },
          "paper_bgcolor": "white",
          "plot_bgcolor": "#E5ECF6",
          "polar": {
           "angularaxis": {
            "gridcolor": "white",
            "linecolor": "white",
            "ticks": ""
           },
           "bgcolor": "#E5ECF6",
           "radialaxis": {
            "gridcolor": "white",
            "linecolor": "white",
            "ticks": ""
           }
          },
          "scene": {
           "xaxis": {
            "backgroundcolor": "#E5ECF6",
            "gridcolor": "white",
            "gridwidth": 2,
            "linecolor": "white",
            "showbackground": true,
            "ticks": "",
            "zerolinecolor": "white"
           },
           "yaxis": {
            "backgroundcolor": "#E5ECF6",
            "gridcolor": "white",
            "gridwidth": 2,
            "linecolor": "white",
            "showbackground": true,
            "ticks": "",
            "zerolinecolor": "white"
           },
           "zaxis": {
            "backgroundcolor": "#E5ECF6",
            "gridcolor": "white",
            "gridwidth": 2,
            "linecolor": "white",
            "showbackground": true,
            "ticks": "",
            "zerolinecolor": "white"
           }
          },
          "shapedefaults": {
           "line": {
            "color": "#2a3f5f"
           }
          },
          "ternary": {
           "aaxis": {
            "gridcolor": "white",
            "linecolor": "white",
            "ticks": ""
           },
           "baxis": {
            "gridcolor": "white",
            "linecolor": "white",
            "ticks": ""
           },
           "bgcolor": "#E5ECF6",
           "caxis": {
            "gridcolor": "white",
            "linecolor": "white",
            "ticks": ""
           }
          },
          "title": {
           "x": 0.05
          },
          "xaxis": {
           "automargin": true,
           "gridcolor": "white",
           "linecolor": "white",
           "ticks": "",
           "title": {
            "standoff": 15
           },
           "zerolinecolor": "white",
           "zerolinewidth": 2
          },
          "yaxis": {
           "automargin": true,
           "gridcolor": "white",
           "linecolor": "white",
           "ticks": "",
           "title": {
            "standoff": 15
           },
           "zerolinecolor": "white",
           "zerolinewidth": 2
          }
         }
        },
        "title": {
         "font": {
          "color": "#4D5663"
         }
        },
        "xaxis": {
         "gridcolor": "#E1E5ED",
         "showgrid": true,
         "tickfont": {
          "color": "#4D5663"
         },
         "title": {
          "font": {
           "color": "#4D5663"
          },
          "text": ""
         },
         "zerolinecolor": "#E1E5ED"
        },
        "yaxis": {
         "gridcolor": "#E1E5ED",
         "showgrid": true,
         "tickfont": {
          "color": "#4D5663"
         },
         "title": {
          "font": {
           "color": "#4D5663"
          },
          "text": ""
         },
         "zerolinecolor": "#E1E5ED"
        }
       }
      },
      "text/html": [
       "<div>\n",
       "        \n",
       "        \n",
       "            <div id=\"f1a34c50-c0d0-4424-ad31-3c378323d15f\" class=\"plotly-graph-div\" style=\"height:525px; width:100%;\"></div>\n",
       "            <script type=\"text/javascript\">\n",
       "                require([\"plotly\"], function(Plotly) {\n",
       "                    window.PLOTLYENV=window.PLOTLYENV || {};\n",
       "                    window.PLOTLYENV.BASE_URL='https://plot.ly';\n",
       "                    \n",
       "                if (document.getElementById(\"f1a34c50-c0d0-4424-ad31-3c378323d15f\")) {\n",
       "                    Plotly.newPlot(\n",
       "                        'f1a34c50-c0d0-4424-ad31-3c378323d15f',\n",
       "                        [{\"histfunc\": \"count\", \"histnorm\": \"\", \"marker\": {\"color\": \"rgba(255, 153, 51, 1.0)\", \"line\": {\"color\": \"#4D5663\", \"width\": 1.3}}, \"name\": \"A\", \"nbinsx\": 25, \"opacity\": 0.8, \"orientation\": \"v\", \"type\": \"histogram\", \"x\": [1.5101490399848538, -0.6405275834738976, -0.512955812775037, 1.9945535110166155, 0.7239546875357956, 0.8193567705112613, 1.192205706744129, -0.06787383362506158, -0.9802554854905633, 0.6983271064470218, -0.09113355613425492, 1.2313007346971012, 0.5877414638414414, 0.44701759506099287, -1.4625771180718434, -2.652004600843019, 0.09877482172888144, 1.1629678060014554, 0.7691594293148781, -0.1364317997818323, -0.16022426763322922, 0.325414195254767, 0.2688277762024969, 1.841688695638128, -0.3097790041736717, -0.27035022527693, -0.3223095653633265, -0.1461980419232848, 2.3170839799717053, 1.8369084706357632, -0.7221143171938086, -0.6348791926259997, 0.041316979821828165, -2.6008465783966845, 0.1232552893656748, 0.7240482389471554, -1.1566478307252988, 0.06803529895168065, -0.08971460905870797, 0.18012357430894557, 0.9225730627109227, -1.445603452520163, -0.2895665306804073, 0.09538268325347563, 1.287372036995754, -0.6105013600450948, -0.7654308216950918, 0.6525813929540183, 1.3259746476590089, 2.3626108894511493, -0.8445790982577436, 0.01824503703149911, -0.9283950022622932, 0.33636857025188516, -0.8613816355113362, 0.40466279012072576, 0.8363332121586713, -1.239556920419094, 0.27739221030357436, -0.4021079811857981, 1.4712926754951638, 0.25657991140085984, -0.8310974348171803, 0.6114113100084001, -0.955427588323675, 0.5184833162831455, -1.0452960939323077, 0.4667513077038204, -0.723458426308934, -2.5867925551081035, 0.7903424657093867, -0.4936357686129681, -0.7627359863188906, 0.3536789889194609, -1.2902491381524273, 0.1912991604086632, 0.9121151372265259, 0.7373090629882498, 0.5037650361608089, 1.1318384618076784, -0.32154075364181933, 0.9361876383988863, 1.0476083383554216, 0.4720998866594356, -0.4088347948063875, -0.2047000651934584, -0.8547597310671836, 0.9836937217040943, 1.5744087429243852, 1.4033565625484767, -0.7242927426020687, -0.6910896152379462, 0.7961011916043215, -0.1451686332386725, 0.23618649203945938, -0.9005205826485293, 0.5929153455591286, -1.3558193667814635, 1.555509083173195, 1.5661931184442937]}],\n",
       "                        {\"barmode\": \"overlay\", \"legend\": {\"bgcolor\": \"#F5F6F9\", \"font\": {\"color\": \"#4D5663\"}}, \"paper_bgcolor\": \"#F5F6F9\", \"plot_bgcolor\": \"#F5F6F9\", \"template\": {\"data\": {\"bar\": [{\"error_x\": {\"color\": \"#2a3f5f\"}, \"error_y\": {\"color\": \"#2a3f5f\"}, \"marker\": {\"line\": {\"color\": \"#E5ECF6\", \"width\": 0.5}}, \"type\": \"bar\"}], \"barpolar\": [{\"marker\": {\"line\": {\"color\": \"#E5ECF6\", \"width\": 0.5}}, \"type\": \"barpolar\"}], \"carpet\": [{\"aaxis\": {\"endlinecolor\": \"#2a3f5f\", \"gridcolor\": \"white\", \"linecolor\": \"white\", \"minorgridcolor\": \"white\", \"startlinecolor\": \"#2a3f5f\"}, \"baxis\": {\"endlinecolor\": \"#2a3f5f\", \"gridcolor\": \"white\", \"linecolor\": \"white\", \"minorgridcolor\": \"white\", \"startlinecolor\": \"#2a3f5f\"}, \"type\": \"carpet\"}], \"choropleth\": [{\"colorbar\": {\"outlinewidth\": 0, \"ticks\": \"\"}, \"type\": \"choropleth\"}], \"contour\": [{\"colorbar\": {\"outlinewidth\": 0, \"ticks\": \"\"}, \"colorscale\": [[0.0, \"#0d0887\"], [0.1111111111111111, \"#46039f\"], [0.2222222222222222, \"#7201a8\"], [0.3333333333333333, \"#9c179e\"], [0.4444444444444444, \"#bd3786\"], [0.5555555555555556, \"#d8576b\"], [0.6666666666666666, \"#ed7953\"], [0.7777777777777778, \"#fb9f3a\"], [0.8888888888888888, \"#fdca26\"], [1.0, \"#f0f921\"]], \"type\": \"contour\"}], \"contourcarpet\": [{\"colorbar\": {\"outlinewidth\": 0, \"ticks\": \"\"}, \"type\": \"contourcarpet\"}], \"heatmap\": [{\"colorbar\": {\"outlinewidth\": 0, \"ticks\": \"\"}, \"colorscale\": [[0.0, \"#0d0887\"], [0.1111111111111111, \"#46039f\"], [0.2222222222222222, \"#7201a8\"], [0.3333333333333333, \"#9c179e\"], [0.4444444444444444, \"#bd3786\"], [0.5555555555555556, \"#d8576b\"], [0.6666666666666666, \"#ed7953\"], [0.7777777777777778, \"#fb9f3a\"], [0.8888888888888888, \"#fdca26\"], [1.0, \"#f0f921\"]], \"type\": \"heatmap\"}], \"heatmapgl\": [{\"colorbar\": {\"outlinewidth\": 0, \"ticks\": \"\"}, \"colorscale\": [[0.0, \"#0d0887\"], [0.1111111111111111, \"#46039f\"], [0.2222222222222222, \"#7201a8\"], [0.3333333333333333, \"#9c179e\"], [0.4444444444444444, \"#bd3786\"], [0.5555555555555556, \"#d8576b\"], [0.6666666666666666, \"#ed7953\"], [0.7777777777777778, \"#fb9f3a\"], [0.8888888888888888, \"#fdca26\"], [1.0, \"#f0f921\"]], \"type\": \"heatmapgl\"}], \"histogram\": [{\"marker\": {\"colorbar\": {\"outlinewidth\": 0, \"ticks\": \"\"}}, \"type\": \"histogram\"}], \"histogram2d\": [{\"colorbar\": {\"outlinewidth\": 0, \"ticks\": \"\"}, \"colorscale\": [[0.0, \"#0d0887\"], [0.1111111111111111, \"#46039f\"], [0.2222222222222222, \"#7201a8\"], [0.3333333333333333, \"#9c179e\"], [0.4444444444444444, \"#bd3786\"], [0.5555555555555556, \"#d8576b\"], [0.6666666666666666, \"#ed7953\"], [0.7777777777777778, \"#fb9f3a\"], [0.8888888888888888, \"#fdca26\"], [1.0, \"#f0f921\"]], \"type\": \"histogram2d\"}], \"histogram2dcontour\": [{\"colorbar\": {\"outlinewidth\": 0, \"ticks\": \"\"}, \"colorscale\": [[0.0, \"#0d0887\"], [0.1111111111111111, \"#46039f\"], [0.2222222222222222, \"#7201a8\"], [0.3333333333333333, \"#9c179e\"], [0.4444444444444444, \"#bd3786\"], [0.5555555555555556, \"#d8576b\"], [0.6666666666666666, \"#ed7953\"], [0.7777777777777778, \"#fb9f3a\"], [0.8888888888888888, \"#fdca26\"], [1.0, \"#f0f921\"]], \"type\": \"histogram2dcontour\"}], \"mesh3d\": [{\"colorbar\": {\"outlinewidth\": 0, \"ticks\": \"\"}, \"type\": \"mesh3d\"}], \"parcoords\": [{\"line\": {\"colorbar\": {\"outlinewidth\": 0, \"ticks\": \"\"}}, \"type\": \"parcoords\"}], \"pie\": [{\"automargin\": true, \"type\": \"pie\"}], \"scatter\": [{\"marker\": {\"colorbar\": {\"outlinewidth\": 0, \"ticks\": \"\"}}, \"type\": \"scatter\"}], \"scatter3d\": [{\"line\": {\"colorbar\": {\"outlinewidth\": 0, \"ticks\": \"\"}}, \"marker\": {\"colorbar\": {\"outlinewidth\": 0, \"ticks\": \"\"}}, \"type\": \"scatter3d\"}], \"scattercarpet\": [{\"marker\": {\"colorbar\": {\"outlinewidth\": 0, \"ticks\": \"\"}}, \"type\": \"scattercarpet\"}], \"scattergeo\": [{\"marker\": {\"colorbar\": {\"outlinewidth\": 0, \"ticks\": \"\"}}, \"type\": \"scattergeo\"}], \"scattergl\": [{\"marker\": {\"colorbar\": {\"outlinewidth\": 0, \"ticks\": \"\"}}, \"type\": \"scattergl\"}], \"scattermapbox\": [{\"marker\": {\"colorbar\": {\"outlinewidth\": 0, \"ticks\": \"\"}}, \"type\": \"scattermapbox\"}], \"scatterpolar\": [{\"marker\": {\"colorbar\": {\"outlinewidth\": 0, \"ticks\": \"\"}}, \"type\": \"scatterpolar\"}], \"scatterpolargl\": [{\"marker\": {\"colorbar\": {\"outlinewidth\": 0, \"ticks\": \"\"}}, \"type\": \"scatterpolargl\"}], \"scatterternary\": [{\"marker\": {\"colorbar\": {\"outlinewidth\": 0, \"ticks\": \"\"}}, \"type\": \"scatterternary\"}], \"surface\": [{\"colorbar\": {\"outlinewidth\": 0, \"ticks\": \"\"}, \"colorscale\": [[0.0, \"#0d0887\"], [0.1111111111111111, \"#46039f\"], [0.2222222222222222, \"#7201a8\"], [0.3333333333333333, \"#9c179e\"], [0.4444444444444444, \"#bd3786\"], [0.5555555555555556, \"#d8576b\"], [0.6666666666666666, \"#ed7953\"], [0.7777777777777778, \"#fb9f3a\"], [0.8888888888888888, \"#fdca26\"], [1.0, \"#f0f921\"]], \"type\": \"surface\"}], \"table\": [{\"cells\": {\"fill\": {\"color\": \"#EBF0F8\"}, \"line\": {\"color\": \"white\"}}, \"header\": {\"fill\": {\"color\": \"#C8D4E3\"}, \"line\": {\"color\": \"white\"}}, \"type\": \"table\"}]}, \"layout\": {\"annotationdefaults\": {\"arrowcolor\": \"#2a3f5f\", \"arrowhead\": 0, \"arrowwidth\": 1}, \"coloraxis\": {\"colorbar\": {\"outlinewidth\": 0, \"ticks\": \"\"}}, \"colorscale\": {\"diverging\": [[0, \"#8e0152\"], [0.1, \"#c51b7d\"], [0.2, \"#de77ae\"], [0.3, \"#f1b6da\"], [0.4, \"#fde0ef\"], [0.5, \"#f7f7f7\"], [0.6, \"#e6f5d0\"], [0.7, \"#b8e186\"], [0.8, \"#7fbc41\"], [0.9, \"#4d9221\"], [1, \"#276419\"]], \"sequential\": [[0.0, \"#0d0887\"], [0.1111111111111111, \"#46039f\"], [0.2222222222222222, \"#7201a8\"], [0.3333333333333333, \"#9c179e\"], [0.4444444444444444, \"#bd3786\"], [0.5555555555555556, \"#d8576b\"], [0.6666666666666666, \"#ed7953\"], [0.7777777777777778, \"#fb9f3a\"], [0.8888888888888888, \"#fdca26\"], [1.0, \"#f0f921\"]], \"sequentialminus\": [[0.0, \"#0d0887\"], [0.1111111111111111, \"#46039f\"], [0.2222222222222222, \"#7201a8\"], [0.3333333333333333, \"#9c179e\"], [0.4444444444444444, \"#bd3786\"], [0.5555555555555556, \"#d8576b\"], [0.6666666666666666, \"#ed7953\"], [0.7777777777777778, \"#fb9f3a\"], [0.8888888888888888, \"#fdca26\"], [1.0, \"#f0f921\"]]}, \"colorway\": [\"#636efa\", \"#EF553B\", \"#00cc96\", \"#ab63fa\", \"#FFA15A\", \"#19d3f3\", \"#FF6692\", \"#B6E880\", \"#FF97FF\", \"#FECB52\"], \"font\": {\"color\": \"#2a3f5f\"}, \"geo\": {\"bgcolor\": \"white\", \"lakecolor\": \"white\", \"landcolor\": \"#E5ECF6\", \"showlakes\": true, \"showland\": true, \"subunitcolor\": \"white\"}, \"hoverlabel\": {\"align\": \"left\"}, \"hovermode\": \"closest\", \"mapbox\": {\"style\": \"light\"}, \"paper_bgcolor\": \"white\", \"plot_bgcolor\": \"#E5ECF6\", \"polar\": {\"angularaxis\": {\"gridcolor\": \"white\", \"linecolor\": \"white\", \"ticks\": \"\"}, \"bgcolor\": \"#E5ECF6\", \"radialaxis\": {\"gridcolor\": \"white\", \"linecolor\": \"white\", \"ticks\": \"\"}}, \"scene\": {\"xaxis\": {\"backgroundcolor\": \"#E5ECF6\", \"gridcolor\": \"white\", \"gridwidth\": 2, \"linecolor\": \"white\", \"showbackground\": true, \"ticks\": \"\", \"zerolinecolor\": \"white\"}, \"yaxis\": {\"backgroundcolor\": \"#E5ECF6\", \"gridcolor\": \"white\", \"gridwidth\": 2, \"linecolor\": \"white\", \"showbackground\": true, \"ticks\": \"\", \"zerolinecolor\": \"white\"}, \"zaxis\": {\"backgroundcolor\": \"#E5ECF6\", \"gridcolor\": \"white\", \"gridwidth\": 2, \"linecolor\": \"white\", \"showbackground\": true, \"ticks\": \"\", \"zerolinecolor\": \"white\"}}, \"shapedefaults\": {\"line\": {\"color\": \"#2a3f5f\"}}, \"ternary\": {\"aaxis\": {\"gridcolor\": \"white\", \"linecolor\": \"white\", \"ticks\": \"\"}, \"baxis\": {\"gridcolor\": \"white\", \"linecolor\": \"white\", \"ticks\": \"\"}, \"bgcolor\": \"#E5ECF6\", \"caxis\": {\"gridcolor\": \"white\", \"linecolor\": \"white\", \"ticks\": \"\"}}, \"title\": {\"x\": 0.05}, \"xaxis\": {\"automargin\": true, \"gridcolor\": \"white\", \"linecolor\": \"white\", \"ticks\": \"\", \"title\": {\"standoff\": 15}, \"zerolinecolor\": \"white\", \"zerolinewidth\": 2}, \"yaxis\": {\"automargin\": true, \"gridcolor\": \"white\", \"linecolor\": \"white\", \"ticks\": \"\", \"title\": {\"standoff\": 15}, \"zerolinecolor\": \"white\", \"zerolinewidth\": 2}}}, \"title\": {\"font\": {\"color\": \"#4D5663\"}}, \"xaxis\": {\"gridcolor\": \"#E1E5ED\", \"showgrid\": true, \"tickfont\": {\"color\": \"#4D5663\"}, \"title\": {\"font\": {\"color\": \"#4D5663\"}, \"text\": \"\"}, \"zerolinecolor\": \"#E1E5ED\"}, \"yaxis\": {\"gridcolor\": \"#E1E5ED\", \"showgrid\": true, \"tickfont\": {\"color\": \"#4D5663\"}, \"title\": {\"font\": {\"color\": \"#4D5663\"}, \"text\": \"\"}, \"zerolinecolor\": \"#E1E5ED\"}},\n",
       "                        {\"showLink\": true, \"linkText\": \"Export to plot.ly\", \"plotlyServerURL\": \"https://plot.ly\", \"responsive\": true}\n",
       "                    ).then(function(){\n",
       "                            \n",
       "var gd = document.getElementById('f1a34c50-c0d0-4424-ad31-3c378323d15f');\n",
       "var x = new MutationObserver(function (mutations, observer) {{\n",
       "        var display = window.getComputedStyle(gd).display;\n",
       "        if (!display || display === 'none') {{\n",
       "            console.log([gd, 'removed!']);\n",
       "            Plotly.purge(gd);\n",
       "            observer.disconnect();\n",
       "        }}\n",
       "}});\n",
       "\n",
       "// Listen for the removal of the full notebook cells\n",
       "var notebookContainer = gd.closest('#notebook-container');\n",
       "if (notebookContainer) {{\n",
       "    x.observe(notebookContainer, {childList: true});\n",
       "}}\n",
       "\n",
       "// Listen for the clearing of the current output cell\n",
       "var outputEl = gd.closest('.output');\n",
       "if (outputEl) {{\n",
       "    x.observe(outputEl, {childList: true});\n",
       "}}\n",
       "\n",
       "                        })\n",
       "                };\n",
       "                });\n",
       "            </script>\n",
       "        </div>"
      ]
     },
     "metadata": {},
     "output_type": "display_data"
    }
   ],
   "source": [
    "df['A'].iplot(kind='hist',bins=25)"
   ]
  },
  {
   "cell_type": "code",
   "execution_count": 18,
   "metadata": {},
   "outputs": [
    {
     "data": {
      "application/vnd.plotly.v1+json": {
       "config": {
        "linkText": "Export to plot.ly",
        "plotlyServerURL": "https://plot.ly",
        "showLink": true
       },
       "data": [
        {
         "marker": {
          "color": [
           "rgb(255, 153, 51)",
           "rgb(55, 128, 191)",
           "rgb(50, 171, 96)",
           "rgb(128, 0, 128)",
           "rgb(219, 64, 82)",
           "rgb(0, 128, 128)",
           "rgb(255, 255, 51)",
           "rgb(128, 128, 0)",
           "rgb(251, 128, 114)",
           "rgb(128, 177, 211)"
          ],
          "line": {
           "width": 1.3
          },
          "size": [
           54,
           62,
           86,
           92,
           72,
           49,
           12,
           46,
           60,
           80,
           34,
           86,
           60,
           56,
           71,
           101,
           75,
           112,
           69,
           68,
           36,
           65,
           96,
           64,
           82,
           87,
           90,
           78,
           81,
           100,
           75,
           82,
           57,
           80,
           37,
           86,
           58,
           85,
           34,
           79,
           55,
           42,
           64,
           70,
           57,
           79,
           65,
           64,
           40,
           55,
           68,
           52,
           74,
           66,
           63,
           52,
           39,
           36,
           49,
           41,
           81,
           67,
           60,
           68,
           88,
           40,
           47,
           104,
           57,
           80,
           27,
           81,
           68,
           82,
           74,
           68,
           49,
           96,
           79,
           66,
           44,
           55,
           64,
           92,
           45,
           69,
           53,
           77,
           110,
           56,
           43,
           80,
           90,
           87,
           58,
           38,
           68,
           41,
           83,
           62
          ],
          "symbol": "circle"
         },
         "mode": "markers",
         "text": "",
         "type": "scatter",
         "x": [
          1.5101490399848538,
          -0.6405275834738976,
          -0.512955812775037,
          1.9945535110166155,
          0.7239546875357956,
          0.8193567705112613,
          1.192205706744129,
          -0.06787383362506158,
          -0.9802554854905633,
          0.6983271064470218,
          -0.09113355613425492,
          1.2313007346971012,
          0.5877414638414414,
          0.44701759506099287,
          -1.4625771180718434,
          -2.652004600843019,
          0.09877482172888144,
          1.1629678060014554,
          0.7691594293148781,
          -0.1364317997818323,
          -0.16022426763322922,
          0.325414195254767,
          0.2688277762024969,
          1.841688695638128,
          -0.3097790041736717,
          -0.27035022527693,
          -0.3223095653633265,
          -0.1461980419232848,
          2.3170839799717053,
          1.8369084706357632,
          -0.7221143171938086,
          -0.6348791926259997,
          0.041316979821828165,
          -2.6008465783966845,
          0.1232552893656748,
          0.7240482389471554,
          -1.1566478307252988,
          0.06803529895168065,
          -0.08971460905870797,
          0.18012357430894557,
          0.9225730627109227,
          -1.445603452520163,
          -0.2895665306804073,
          0.09538268325347563,
          1.287372036995754,
          -0.6105013600450948,
          -0.7654308216950918,
          0.6525813929540183,
          1.3259746476590089,
          2.3626108894511493,
          -0.8445790982577436,
          0.01824503703149911,
          -0.9283950022622932,
          0.33636857025188516,
          -0.8613816355113362,
          0.40466279012072576,
          0.8363332121586713,
          -1.239556920419094,
          0.27739221030357436,
          -0.4021079811857981,
          1.4712926754951638,
          0.25657991140085984,
          -0.8310974348171803,
          0.6114113100084001,
          -0.955427588323675,
          0.5184833162831455,
          -1.0452960939323077,
          0.4667513077038204,
          -0.723458426308934,
          -2.5867925551081035,
          0.7903424657093867,
          -0.4936357686129681,
          -0.7627359863188906,
          0.3536789889194609,
          -1.2902491381524273,
          0.1912991604086632,
          0.9121151372265259,
          0.7373090629882498,
          0.5037650361608089,
          1.1318384618076784,
          -0.32154075364181933,
          0.9361876383988863,
          1.0476083383554216,
          0.4720998866594356,
          -0.4088347948063875,
          -0.2047000651934584,
          -0.8547597310671836,
          0.9836937217040943,
          1.5744087429243852,
          1.4033565625484767,
          -0.7242927426020687,
          -0.6910896152379462,
          0.7961011916043215,
          -0.1451686332386725,
          0.23618649203945938,
          -0.9005205826485293,
          0.5929153455591286,
          -1.3558193667814635,
          1.555509083173195,
          1.5661931184442937
         ],
         "y": [
          0.054979191128094816,
          1.4368555640509848,
          -0.22607750843614138,
          0.20147652277293557,
          -1.4555502346439408,
          1.235727105253792,
          0.45538137880566887,
          -1.3010732893534303,
          -1.2691000601151483,
          1.6370568366415919,
          0.3071655217652912,
          -0.5990722768644184,
          -2.647254678769929,
          0.702738372406523,
          0.07191205239778133,
          1.2001027658925585,
          0.3102254510934988,
          -2.907098840258816,
          -1.2688217753814637,
          -0.9838590414229287,
          0.9115690199446567,
          0.9469701010827166,
          0.15696478517473111,
          1.6471109893762343,
          -0.8977548136067434,
          -0.9199482432111052,
          0.8687462611039781,
          -0.49259127413312087,
          1.9997186565748608,
          0.28299432369597044,
          0.5636013029300263,
          -0.533031353093187,
          -2.3004571749120823,
          0.5371737481378878,
          0.8350225602155451,
          -0.5948402186277807,
          -0.1895541588040986,
          -0.05861025295657063,
          -2.0990765127482067,
          0.12005665584931399,
          -1.1097215512147067,
          0.3041362882859407,
          0.9611494673654635,
          -0.7724740028745279,
          1.8364041184574287,
          0.5150682119767902,
          -0.7953027555580844,
          1.5755045849174594,
          -0.8625472207013256,
          -0.3765871069608661,
          -0.35965627007750917,
          0.8907945673388414,
          -0.5211463173335591,
          0.229942887701415,
          1.2070059543372178,
          -1.747909478166768,
          -1.2544204297967272,
          -0.39345806939876377,
          1.3525798011451498,
          -1.5634681769462817,
          1.5231440386058803,
          0.5615698709650291,
          -0.5986586180194643,
          0.060079755434575555,
          2.140389869307584,
          0.11628915233426852,
          0.5943641768616253,
          1.4935800759035067,
          -0.4025470502298976,
          -2.179590754822418,
          0.46750448914317605,
          1.477145305796776,
          -1.665319404483263,
          0.3085561347371331,
          -0.3453710286044497,
          0.5562338663194516,
          -0.2790322781489596,
          -0.9642744260233003,
          -0.4545174340207927,
          -0.23539992106019608,
          -0.7628340515598176,
          -1.5311459626066464,
          0.7231843780477117,
          0.44513667647675115,
          0.7252438502557419,
          0.010664927582359943,
          -1.2889237131715514,
          0.9850276280938937,
          0.24092972415915567,
          -0.9866877607378947,
          -2.154137554731013,
          -0.1285673748219936,
          -0.24435316549739328,
          0.7796057011313241,
          -0.37089112604330343,
          1.7190997934959267,
          0.11110381508124938,
          -0.19742003370703887,
          0.3459687603740203,
          -1.1825722115533015
         ]
        }
       ],
       "layout": {
        "legend": {
         "bgcolor": "#F5F6F9",
         "font": {
          "color": "#4D5663"
         }
        },
        "paper_bgcolor": "#F5F6F9",
        "plot_bgcolor": "#F5F6F9",
        "template": {
         "data": {
          "bar": [
           {
            "error_x": {
             "color": "#2a3f5f"
            },
            "error_y": {
             "color": "#2a3f5f"
            },
            "marker": {
             "line": {
              "color": "#E5ECF6",
              "width": 0.5
             }
            },
            "type": "bar"
           }
          ],
          "barpolar": [
           {
            "marker": {
             "line": {
              "color": "#E5ECF6",
              "width": 0.5
             }
            },
            "type": "barpolar"
           }
          ],
          "carpet": [
           {
            "aaxis": {
             "endlinecolor": "#2a3f5f",
             "gridcolor": "white",
             "linecolor": "white",
             "minorgridcolor": "white",
             "startlinecolor": "#2a3f5f"
            },
            "baxis": {
             "endlinecolor": "#2a3f5f",
             "gridcolor": "white",
             "linecolor": "white",
             "minorgridcolor": "white",
             "startlinecolor": "#2a3f5f"
            },
            "type": "carpet"
           }
          ],
          "choropleth": [
           {
            "colorbar": {
             "outlinewidth": 0,
             "ticks": ""
            },
            "type": "choropleth"
           }
          ],
          "contour": [
           {
            "colorbar": {
             "outlinewidth": 0,
             "ticks": ""
            },
            "colorscale": [
             [
              0,
              "#0d0887"
             ],
             [
              0.1111111111111111,
              "#46039f"
             ],
             [
              0.2222222222222222,
              "#7201a8"
             ],
             [
              0.3333333333333333,
              "#9c179e"
             ],
             [
              0.4444444444444444,
              "#bd3786"
             ],
             [
              0.5555555555555556,
              "#d8576b"
             ],
             [
              0.6666666666666666,
              "#ed7953"
             ],
             [
              0.7777777777777778,
              "#fb9f3a"
             ],
             [
              0.8888888888888888,
              "#fdca26"
             ],
             [
              1,
              "#f0f921"
             ]
            ],
            "type": "contour"
           }
          ],
          "contourcarpet": [
           {
            "colorbar": {
             "outlinewidth": 0,
             "ticks": ""
            },
            "type": "contourcarpet"
           }
          ],
          "heatmap": [
           {
            "colorbar": {
             "outlinewidth": 0,
             "ticks": ""
            },
            "colorscale": [
             [
              0,
              "#0d0887"
             ],
             [
              0.1111111111111111,
              "#46039f"
             ],
             [
              0.2222222222222222,
              "#7201a8"
             ],
             [
              0.3333333333333333,
              "#9c179e"
             ],
             [
              0.4444444444444444,
              "#bd3786"
             ],
             [
              0.5555555555555556,
              "#d8576b"
             ],
             [
              0.6666666666666666,
              "#ed7953"
             ],
             [
              0.7777777777777778,
              "#fb9f3a"
             ],
             [
              0.8888888888888888,
              "#fdca26"
             ],
             [
              1,
              "#f0f921"
             ]
            ],
            "type": "heatmap"
           }
          ],
          "heatmapgl": [
           {
            "colorbar": {
             "outlinewidth": 0,
             "ticks": ""
            },
            "colorscale": [
             [
              0,
              "#0d0887"
             ],
             [
              0.1111111111111111,
              "#46039f"
             ],
             [
              0.2222222222222222,
              "#7201a8"
             ],
             [
              0.3333333333333333,
              "#9c179e"
             ],
             [
              0.4444444444444444,
              "#bd3786"
             ],
             [
              0.5555555555555556,
              "#d8576b"
             ],
             [
              0.6666666666666666,
              "#ed7953"
             ],
             [
              0.7777777777777778,
              "#fb9f3a"
             ],
             [
              0.8888888888888888,
              "#fdca26"
             ],
             [
              1,
              "#f0f921"
             ]
            ],
            "type": "heatmapgl"
           }
          ],
          "histogram": [
           {
            "marker": {
             "colorbar": {
              "outlinewidth": 0,
              "ticks": ""
             }
            },
            "type": "histogram"
           }
          ],
          "histogram2d": [
           {
            "colorbar": {
             "outlinewidth": 0,
             "ticks": ""
            },
            "colorscale": [
             [
              0,
              "#0d0887"
             ],
             [
              0.1111111111111111,
              "#46039f"
             ],
             [
              0.2222222222222222,
              "#7201a8"
             ],
             [
              0.3333333333333333,
              "#9c179e"
             ],
             [
              0.4444444444444444,
              "#bd3786"
             ],
             [
              0.5555555555555556,
              "#d8576b"
             ],
             [
              0.6666666666666666,
              "#ed7953"
             ],
             [
              0.7777777777777778,
              "#fb9f3a"
             ],
             [
              0.8888888888888888,
              "#fdca26"
             ],
             [
              1,
              "#f0f921"
             ]
            ],
            "type": "histogram2d"
           }
          ],
          "histogram2dcontour": [
           {
            "colorbar": {
             "outlinewidth": 0,
             "ticks": ""
            },
            "colorscale": [
             [
              0,
              "#0d0887"
             ],
             [
              0.1111111111111111,
              "#46039f"
             ],
             [
              0.2222222222222222,
              "#7201a8"
             ],
             [
              0.3333333333333333,
              "#9c179e"
             ],
             [
              0.4444444444444444,
              "#bd3786"
             ],
             [
              0.5555555555555556,
              "#d8576b"
             ],
             [
              0.6666666666666666,
              "#ed7953"
             ],
             [
              0.7777777777777778,
              "#fb9f3a"
             ],
             [
              0.8888888888888888,
              "#fdca26"
             ],
             [
              1,
              "#f0f921"
             ]
            ],
            "type": "histogram2dcontour"
           }
          ],
          "mesh3d": [
           {
            "colorbar": {
             "outlinewidth": 0,
             "ticks": ""
            },
            "type": "mesh3d"
           }
          ],
          "parcoords": [
           {
            "line": {
             "colorbar": {
              "outlinewidth": 0,
              "ticks": ""
             }
            },
            "type": "parcoords"
           }
          ],
          "pie": [
           {
            "automargin": true,
            "type": "pie"
           }
          ],
          "scatter": [
           {
            "marker": {
             "colorbar": {
              "outlinewidth": 0,
              "ticks": ""
             }
            },
            "type": "scatter"
           }
          ],
          "scatter3d": [
           {
            "line": {
             "colorbar": {
              "outlinewidth": 0,
              "ticks": ""
             }
            },
            "marker": {
             "colorbar": {
              "outlinewidth": 0,
              "ticks": ""
             }
            },
            "type": "scatter3d"
           }
          ],
          "scattercarpet": [
           {
            "marker": {
             "colorbar": {
              "outlinewidth": 0,
              "ticks": ""
             }
            },
            "type": "scattercarpet"
           }
          ],
          "scattergeo": [
           {
            "marker": {
             "colorbar": {
              "outlinewidth": 0,
              "ticks": ""
             }
            },
            "type": "scattergeo"
           }
          ],
          "scattergl": [
           {
            "marker": {
             "colorbar": {
              "outlinewidth": 0,
              "ticks": ""
             }
            },
            "type": "scattergl"
           }
          ],
          "scattermapbox": [
           {
            "marker": {
             "colorbar": {
              "outlinewidth": 0,
              "ticks": ""
             }
            },
            "type": "scattermapbox"
           }
          ],
          "scatterpolar": [
           {
            "marker": {
             "colorbar": {
              "outlinewidth": 0,
              "ticks": ""
             }
            },
            "type": "scatterpolar"
           }
          ],
          "scatterpolargl": [
           {
            "marker": {
             "colorbar": {
              "outlinewidth": 0,
              "ticks": ""
             }
            },
            "type": "scatterpolargl"
           }
          ],
          "scatterternary": [
           {
            "marker": {
             "colorbar": {
              "outlinewidth": 0,
              "ticks": ""
             }
            },
            "type": "scatterternary"
           }
          ],
          "surface": [
           {
            "colorbar": {
             "outlinewidth": 0,
             "ticks": ""
            },
            "colorscale": [
             [
              0,
              "#0d0887"
             ],
             [
              0.1111111111111111,
              "#46039f"
             ],
             [
              0.2222222222222222,
              "#7201a8"
             ],
             [
              0.3333333333333333,
              "#9c179e"
             ],
             [
              0.4444444444444444,
              "#bd3786"
             ],
             [
              0.5555555555555556,
              "#d8576b"
             ],
             [
              0.6666666666666666,
              "#ed7953"
             ],
             [
              0.7777777777777778,
              "#fb9f3a"
             ],
             [
              0.8888888888888888,
              "#fdca26"
             ],
             [
              1,
              "#f0f921"
             ]
            ],
            "type": "surface"
           }
          ],
          "table": [
           {
            "cells": {
             "fill": {
              "color": "#EBF0F8"
             },
             "line": {
              "color": "white"
             }
            },
            "header": {
             "fill": {
              "color": "#C8D4E3"
             },
             "line": {
              "color": "white"
             }
            },
            "type": "table"
           }
          ]
         },
         "layout": {
          "annotationdefaults": {
           "arrowcolor": "#2a3f5f",
           "arrowhead": 0,
           "arrowwidth": 1
          },
          "coloraxis": {
           "colorbar": {
            "outlinewidth": 0,
            "ticks": ""
           }
          },
          "colorscale": {
           "diverging": [
            [
             0,
             "#8e0152"
            ],
            [
             0.1,
             "#c51b7d"
            ],
            [
             0.2,
             "#de77ae"
            ],
            [
             0.3,
             "#f1b6da"
            ],
            [
             0.4,
             "#fde0ef"
            ],
            [
             0.5,
             "#f7f7f7"
            ],
            [
             0.6,
             "#e6f5d0"
            ],
            [
             0.7,
             "#b8e186"
            ],
            [
             0.8,
             "#7fbc41"
            ],
            [
             0.9,
             "#4d9221"
            ],
            [
             1,
             "#276419"
            ]
           ],
           "sequential": [
            [
             0,
             "#0d0887"
            ],
            [
             0.1111111111111111,
             "#46039f"
            ],
            [
             0.2222222222222222,
             "#7201a8"
            ],
            [
             0.3333333333333333,
             "#9c179e"
            ],
            [
             0.4444444444444444,
             "#bd3786"
            ],
            [
             0.5555555555555556,
             "#d8576b"
            ],
            [
             0.6666666666666666,
             "#ed7953"
            ],
            [
             0.7777777777777778,
             "#fb9f3a"
            ],
            [
             0.8888888888888888,
             "#fdca26"
            ],
            [
             1,
             "#f0f921"
            ]
           ],
           "sequentialminus": [
            [
             0,
             "#0d0887"
            ],
            [
             0.1111111111111111,
             "#46039f"
            ],
            [
             0.2222222222222222,
             "#7201a8"
            ],
            [
             0.3333333333333333,
             "#9c179e"
            ],
            [
             0.4444444444444444,
             "#bd3786"
            ],
            [
             0.5555555555555556,
             "#d8576b"
            ],
            [
             0.6666666666666666,
             "#ed7953"
            ],
            [
             0.7777777777777778,
             "#fb9f3a"
            ],
            [
             0.8888888888888888,
             "#fdca26"
            ],
            [
             1,
             "#f0f921"
            ]
           ]
          },
          "colorway": [
           "#636efa",
           "#EF553B",
           "#00cc96",
           "#ab63fa",
           "#FFA15A",
           "#19d3f3",
           "#FF6692",
           "#B6E880",
           "#FF97FF",
           "#FECB52"
          ],
          "font": {
           "color": "#2a3f5f"
          },
          "geo": {
           "bgcolor": "white",
           "lakecolor": "white",
           "landcolor": "#E5ECF6",
           "showlakes": true,
           "showland": true,
           "subunitcolor": "white"
          },
          "hoverlabel": {
           "align": "left"
          },
          "hovermode": "closest",
          "mapbox": {
           "style": "light"
          },
          "paper_bgcolor": "white",
          "plot_bgcolor": "#E5ECF6",
          "polar": {
           "angularaxis": {
            "gridcolor": "white",
            "linecolor": "white",
            "ticks": ""
           },
           "bgcolor": "#E5ECF6",
           "radialaxis": {
            "gridcolor": "white",
            "linecolor": "white",
            "ticks": ""
           }
          },
          "scene": {
           "xaxis": {
            "backgroundcolor": "#E5ECF6",
            "gridcolor": "white",
            "gridwidth": 2,
            "linecolor": "white",
            "showbackground": true,
            "ticks": "",
            "zerolinecolor": "white"
           },
           "yaxis": {
            "backgroundcolor": "#E5ECF6",
            "gridcolor": "white",
            "gridwidth": 2,
            "linecolor": "white",
            "showbackground": true,
            "ticks": "",
            "zerolinecolor": "white"
           },
           "zaxis": {
            "backgroundcolor": "#E5ECF6",
            "gridcolor": "white",
            "gridwidth": 2,
            "linecolor": "white",
            "showbackground": true,
            "ticks": "",
            "zerolinecolor": "white"
           }
          },
          "shapedefaults": {
           "line": {
            "color": "#2a3f5f"
           }
          },
          "ternary": {
           "aaxis": {
            "gridcolor": "white",
            "linecolor": "white",
            "ticks": ""
           },
           "baxis": {
            "gridcolor": "white",
            "linecolor": "white",
            "ticks": ""
           },
           "bgcolor": "#E5ECF6",
           "caxis": {
            "gridcolor": "white",
            "linecolor": "white",
            "ticks": ""
           }
          },
          "title": {
           "x": 0.05
          },
          "xaxis": {
           "automargin": true,
           "gridcolor": "white",
           "linecolor": "white",
           "ticks": "",
           "title": {
            "standoff": 15
           },
           "zerolinecolor": "white",
           "zerolinewidth": 2
          },
          "yaxis": {
           "automargin": true,
           "gridcolor": "white",
           "linecolor": "white",
           "ticks": "",
           "title": {
            "standoff": 15
           },
           "zerolinecolor": "white",
           "zerolinewidth": 2
          }
         }
        },
        "title": {
         "font": {
          "color": "#4D5663"
         }
        },
        "xaxis": {
         "gridcolor": "#E1E5ED",
         "showgrid": true,
         "tickfont": {
          "color": "#4D5663"
         },
         "title": {
          "font": {
           "color": "#4D5663"
          },
          "text": ""
         },
         "zerolinecolor": "#E1E5ED"
        },
        "yaxis": {
         "gridcolor": "#E1E5ED",
         "showgrid": true,
         "tickfont": {
          "color": "#4D5663"
         },
         "title": {
          "font": {
           "color": "#4D5663"
          },
          "text": ""
         },
         "zerolinecolor": "#E1E5ED"
        }
       }
      },
      "text/html": [
       "<div>\n",
       "        \n",
       "        \n",
       "            <div id=\"f2687765-1b5d-4d57-bee9-d420215c6218\" class=\"plotly-graph-div\" style=\"height:525px; width:100%;\"></div>\n",
       "            <script type=\"text/javascript\">\n",
       "                require([\"plotly\"], function(Plotly) {\n",
       "                    window.PLOTLYENV=window.PLOTLYENV || {};\n",
       "                    window.PLOTLYENV.BASE_URL='https://plot.ly';\n",
       "                    \n",
       "                if (document.getElementById(\"f2687765-1b5d-4d57-bee9-d420215c6218\")) {\n",
       "                    Plotly.newPlot(\n",
       "                        'f2687765-1b5d-4d57-bee9-d420215c6218',\n",
       "                        [{\"marker\": {\"color\": [\"rgb(255, 153, 51)\", \"rgb(55, 128, 191)\", \"rgb(50, 171, 96)\", \"rgb(128, 0, 128)\", \"rgb(219, 64, 82)\", \"rgb(0, 128, 128)\", \"rgb(255, 255, 51)\", \"rgb(128, 128, 0)\", \"rgb(251, 128, 114)\", \"rgb(128, 177, 211)\"], \"line\": {\"width\": 1.3}, \"size\": [54, 62, 86, 92, 72, 49, 12, 46, 60, 80, 34, 86, 60, 56, 71, 101, 75, 112, 69, 68, 36, 65, 96, 64, 82, 87, 90, 78, 81, 100, 75, 82, 57, 80, 37, 86, 58, 85, 34, 79, 55, 42, 64, 70, 57, 79, 65, 64, 40, 55, 68, 52, 74, 66, 63, 52, 39, 36, 49, 41, 81, 67, 60, 68, 88, 40, 47, 104, 57, 80, 27, 81, 68, 82, 74, 68, 49, 96, 79, 66, 44, 55, 64, 92, 45, 69, 53, 77, 110, 56, 43, 80, 90, 87, 58, 38, 68, 41, 83, 62], \"symbol\": \"circle\"}, \"mode\": \"markers\", \"text\": \"\", \"type\": \"scatter\", \"x\": [1.5101490399848538, -0.6405275834738976, -0.512955812775037, 1.9945535110166155, 0.7239546875357956, 0.8193567705112613, 1.192205706744129, -0.06787383362506158, -0.9802554854905633, 0.6983271064470218, -0.09113355613425492, 1.2313007346971012, 0.5877414638414414, 0.44701759506099287, -1.4625771180718434, -2.652004600843019, 0.09877482172888144, 1.1629678060014554, 0.7691594293148781, -0.1364317997818323, -0.16022426763322922, 0.325414195254767, 0.2688277762024969, 1.841688695638128, -0.3097790041736717, -0.27035022527693, -0.3223095653633265, -0.1461980419232848, 2.3170839799717053, 1.8369084706357632, -0.7221143171938086, -0.6348791926259997, 0.041316979821828165, -2.6008465783966845, 0.1232552893656748, 0.7240482389471554, -1.1566478307252988, 0.06803529895168065, -0.08971460905870797, 0.18012357430894557, 0.9225730627109227, -1.445603452520163, -0.2895665306804073, 0.09538268325347563, 1.287372036995754, -0.6105013600450948, -0.7654308216950918, 0.6525813929540183, 1.3259746476590089, 2.3626108894511493, -0.8445790982577436, 0.01824503703149911, -0.9283950022622932, 0.33636857025188516, -0.8613816355113362, 0.40466279012072576, 0.8363332121586713, -1.239556920419094, 0.27739221030357436, -0.4021079811857981, 1.4712926754951638, 0.25657991140085984, -0.8310974348171803, 0.6114113100084001, -0.955427588323675, 0.5184833162831455, -1.0452960939323077, 0.4667513077038204, -0.723458426308934, -2.5867925551081035, 0.7903424657093867, -0.4936357686129681, -0.7627359863188906, 0.3536789889194609, -1.2902491381524273, 0.1912991604086632, 0.9121151372265259, 0.7373090629882498, 0.5037650361608089, 1.1318384618076784, -0.32154075364181933, 0.9361876383988863, 1.0476083383554216, 0.4720998866594356, -0.4088347948063875, -0.2047000651934584, -0.8547597310671836, 0.9836937217040943, 1.5744087429243852, 1.4033565625484767, -0.7242927426020687, -0.6910896152379462, 0.7961011916043215, -0.1451686332386725, 0.23618649203945938, -0.9005205826485293, 0.5929153455591286, -1.3558193667814635, 1.555509083173195, 1.5661931184442937], \"y\": [0.054979191128094816, 1.4368555640509848, -0.22607750843614138, 0.20147652277293557, -1.4555502346439408, 1.235727105253792, 0.45538137880566887, -1.3010732893534303, -1.2691000601151483, 1.6370568366415919, 0.3071655217652912, -0.5990722768644184, -2.647254678769929, 0.702738372406523, 0.07191205239778133, 1.2001027658925585, 0.3102254510934988, -2.907098840258816, -1.2688217753814637, -0.9838590414229287, 0.9115690199446567, 0.9469701010827166, 0.15696478517473111, 1.6471109893762343, -0.8977548136067434, -0.9199482432111052, 0.8687462611039781, -0.49259127413312087, 1.9997186565748608, 0.28299432369597044, 0.5636013029300263, -0.533031353093187, -2.3004571749120823, 0.5371737481378878, 0.8350225602155451, -0.5948402186277807, -0.1895541588040986, -0.05861025295657063, -2.0990765127482067, 0.12005665584931399, -1.1097215512147067, 0.3041362882859407, 0.9611494673654635, -0.7724740028745279, 1.8364041184574287, 0.5150682119767902, -0.7953027555580844, 1.5755045849174594, -0.8625472207013256, -0.3765871069608661, -0.35965627007750917, 0.8907945673388414, -0.5211463173335591, 0.229942887701415, 1.2070059543372178, -1.747909478166768, -1.2544204297967272, -0.39345806939876377, 1.3525798011451498, -1.5634681769462817, 1.5231440386058803, 0.5615698709650291, -0.5986586180194643, 0.060079755434575555, 2.140389869307584, 0.11628915233426852, 0.5943641768616253, 1.4935800759035067, -0.4025470502298976, -2.179590754822418, 0.46750448914317605, 1.477145305796776, -1.665319404483263, 0.3085561347371331, -0.3453710286044497, 0.5562338663194516, -0.2790322781489596, -0.9642744260233003, -0.4545174340207927, -0.23539992106019608, -0.7628340515598176, -1.5311459626066464, 0.7231843780477117, 0.44513667647675115, 0.7252438502557419, 0.010664927582359943, -1.2889237131715514, 0.9850276280938937, 0.24092972415915567, -0.9866877607378947, -2.154137554731013, -0.1285673748219936, -0.24435316549739328, 0.7796057011313241, -0.37089112604330343, 1.7190997934959267, 0.11110381508124938, -0.19742003370703887, 0.3459687603740203, -1.1825722115533015]}],\n",
       "                        {\"legend\": {\"bgcolor\": \"#F5F6F9\", \"font\": {\"color\": \"#4D5663\"}}, \"paper_bgcolor\": \"#F5F6F9\", \"plot_bgcolor\": \"#F5F6F9\", \"template\": {\"data\": {\"bar\": [{\"error_x\": {\"color\": \"#2a3f5f\"}, \"error_y\": {\"color\": \"#2a3f5f\"}, \"marker\": {\"line\": {\"color\": \"#E5ECF6\", \"width\": 0.5}}, \"type\": \"bar\"}], \"barpolar\": [{\"marker\": {\"line\": {\"color\": \"#E5ECF6\", \"width\": 0.5}}, \"type\": \"barpolar\"}], \"carpet\": [{\"aaxis\": {\"endlinecolor\": \"#2a3f5f\", \"gridcolor\": \"white\", \"linecolor\": \"white\", \"minorgridcolor\": \"white\", \"startlinecolor\": \"#2a3f5f\"}, \"baxis\": {\"endlinecolor\": \"#2a3f5f\", \"gridcolor\": \"white\", \"linecolor\": \"white\", \"minorgridcolor\": \"white\", \"startlinecolor\": \"#2a3f5f\"}, \"type\": \"carpet\"}], \"choropleth\": [{\"colorbar\": {\"outlinewidth\": 0, \"ticks\": \"\"}, \"type\": \"choropleth\"}], \"contour\": [{\"colorbar\": {\"outlinewidth\": 0, \"ticks\": \"\"}, \"colorscale\": [[0.0, \"#0d0887\"], [0.1111111111111111, \"#46039f\"], [0.2222222222222222, \"#7201a8\"], [0.3333333333333333, \"#9c179e\"], [0.4444444444444444, \"#bd3786\"], [0.5555555555555556, \"#d8576b\"], [0.6666666666666666, \"#ed7953\"], [0.7777777777777778, \"#fb9f3a\"], [0.8888888888888888, \"#fdca26\"], [1.0, \"#f0f921\"]], \"type\": \"contour\"}], \"contourcarpet\": [{\"colorbar\": {\"outlinewidth\": 0, \"ticks\": \"\"}, \"type\": \"contourcarpet\"}], \"heatmap\": [{\"colorbar\": {\"outlinewidth\": 0, \"ticks\": \"\"}, \"colorscale\": [[0.0, \"#0d0887\"], [0.1111111111111111, \"#46039f\"], [0.2222222222222222, \"#7201a8\"], [0.3333333333333333, \"#9c179e\"], [0.4444444444444444, \"#bd3786\"], [0.5555555555555556, \"#d8576b\"], [0.6666666666666666, \"#ed7953\"], [0.7777777777777778, \"#fb9f3a\"], [0.8888888888888888, \"#fdca26\"], [1.0, \"#f0f921\"]], \"type\": \"heatmap\"}], \"heatmapgl\": [{\"colorbar\": {\"outlinewidth\": 0, \"ticks\": \"\"}, \"colorscale\": [[0.0, \"#0d0887\"], [0.1111111111111111, \"#46039f\"], [0.2222222222222222, \"#7201a8\"], [0.3333333333333333, \"#9c179e\"], [0.4444444444444444, \"#bd3786\"], [0.5555555555555556, \"#d8576b\"], [0.6666666666666666, \"#ed7953\"], [0.7777777777777778, \"#fb9f3a\"], [0.8888888888888888, \"#fdca26\"], [1.0, \"#f0f921\"]], \"type\": \"heatmapgl\"}], \"histogram\": [{\"marker\": {\"colorbar\": {\"outlinewidth\": 0, \"ticks\": \"\"}}, \"type\": \"histogram\"}], \"histogram2d\": [{\"colorbar\": {\"outlinewidth\": 0, \"ticks\": \"\"}, \"colorscale\": [[0.0, \"#0d0887\"], [0.1111111111111111, \"#46039f\"], [0.2222222222222222, \"#7201a8\"], [0.3333333333333333, \"#9c179e\"], [0.4444444444444444, \"#bd3786\"], [0.5555555555555556, \"#d8576b\"], [0.6666666666666666, \"#ed7953\"], [0.7777777777777778, \"#fb9f3a\"], [0.8888888888888888, \"#fdca26\"], [1.0, \"#f0f921\"]], \"type\": \"histogram2d\"}], \"histogram2dcontour\": [{\"colorbar\": {\"outlinewidth\": 0, \"ticks\": \"\"}, \"colorscale\": [[0.0, \"#0d0887\"], [0.1111111111111111, \"#46039f\"], [0.2222222222222222, \"#7201a8\"], [0.3333333333333333, \"#9c179e\"], [0.4444444444444444, \"#bd3786\"], [0.5555555555555556, \"#d8576b\"], [0.6666666666666666, \"#ed7953\"], [0.7777777777777778, \"#fb9f3a\"], [0.8888888888888888, \"#fdca26\"], [1.0, \"#f0f921\"]], \"type\": \"histogram2dcontour\"}], \"mesh3d\": [{\"colorbar\": {\"outlinewidth\": 0, \"ticks\": \"\"}, \"type\": \"mesh3d\"}], \"parcoords\": [{\"line\": {\"colorbar\": {\"outlinewidth\": 0, \"ticks\": \"\"}}, \"type\": \"parcoords\"}], \"pie\": [{\"automargin\": true, \"type\": \"pie\"}], \"scatter\": [{\"marker\": {\"colorbar\": {\"outlinewidth\": 0, \"ticks\": \"\"}}, \"type\": \"scatter\"}], \"scatter3d\": [{\"line\": {\"colorbar\": {\"outlinewidth\": 0, \"ticks\": \"\"}}, \"marker\": {\"colorbar\": {\"outlinewidth\": 0, \"ticks\": \"\"}}, \"type\": \"scatter3d\"}], \"scattercarpet\": [{\"marker\": {\"colorbar\": {\"outlinewidth\": 0, \"ticks\": \"\"}}, \"type\": \"scattercarpet\"}], \"scattergeo\": [{\"marker\": {\"colorbar\": {\"outlinewidth\": 0, \"ticks\": \"\"}}, \"type\": \"scattergeo\"}], \"scattergl\": [{\"marker\": {\"colorbar\": {\"outlinewidth\": 0, \"ticks\": \"\"}}, \"type\": \"scattergl\"}], \"scattermapbox\": [{\"marker\": {\"colorbar\": {\"outlinewidth\": 0, \"ticks\": \"\"}}, \"type\": \"scattermapbox\"}], \"scatterpolar\": [{\"marker\": {\"colorbar\": {\"outlinewidth\": 0, \"ticks\": \"\"}}, \"type\": \"scatterpolar\"}], \"scatterpolargl\": [{\"marker\": {\"colorbar\": {\"outlinewidth\": 0, \"ticks\": \"\"}}, \"type\": \"scatterpolargl\"}], \"scatterternary\": [{\"marker\": {\"colorbar\": {\"outlinewidth\": 0, \"ticks\": \"\"}}, \"type\": \"scatterternary\"}], \"surface\": [{\"colorbar\": {\"outlinewidth\": 0, \"ticks\": \"\"}, \"colorscale\": [[0.0, \"#0d0887\"], [0.1111111111111111, \"#46039f\"], [0.2222222222222222, \"#7201a8\"], [0.3333333333333333, \"#9c179e\"], [0.4444444444444444, \"#bd3786\"], [0.5555555555555556, \"#d8576b\"], [0.6666666666666666, \"#ed7953\"], [0.7777777777777778, \"#fb9f3a\"], [0.8888888888888888, \"#fdca26\"], [1.0, \"#f0f921\"]], \"type\": \"surface\"}], \"table\": [{\"cells\": {\"fill\": {\"color\": \"#EBF0F8\"}, \"line\": {\"color\": \"white\"}}, \"header\": {\"fill\": {\"color\": \"#C8D4E3\"}, \"line\": {\"color\": \"white\"}}, \"type\": \"table\"}]}, \"layout\": {\"annotationdefaults\": {\"arrowcolor\": \"#2a3f5f\", \"arrowhead\": 0, \"arrowwidth\": 1}, \"coloraxis\": {\"colorbar\": {\"outlinewidth\": 0, \"ticks\": \"\"}}, \"colorscale\": {\"diverging\": [[0, \"#8e0152\"], [0.1, \"#c51b7d\"], [0.2, \"#de77ae\"], [0.3, \"#f1b6da\"], [0.4, \"#fde0ef\"], [0.5, \"#f7f7f7\"], [0.6, \"#e6f5d0\"], [0.7, \"#b8e186\"], [0.8, \"#7fbc41\"], [0.9, \"#4d9221\"], [1, \"#276419\"]], \"sequential\": [[0.0, \"#0d0887\"], [0.1111111111111111, \"#46039f\"], [0.2222222222222222, \"#7201a8\"], [0.3333333333333333, \"#9c179e\"], [0.4444444444444444, \"#bd3786\"], [0.5555555555555556, \"#d8576b\"], [0.6666666666666666, \"#ed7953\"], [0.7777777777777778, \"#fb9f3a\"], [0.8888888888888888, \"#fdca26\"], [1.0, \"#f0f921\"]], \"sequentialminus\": [[0.0, \"#0d0887\"], [0.1111111111111111, \"#46039f\"], [0.2222222222222222, \"#7201a8\"], [0.3333333333333333, \"#9c179e\"], [0.4444444444444444, \"#bd3786\"], [0.5555555555555556, \"#d8576b\"], [0.6666666666666666, \"#ed7953\"], [0.7777777777777778, \"#fb9f3a\"], [0.8888888888888888, \"#fdca26\"], [1.0, \"#f0f921\"]]}, \"colorway\": [\"#636efa\", \"#EF553B\", \"#00cc96\", \"#ab63fa\", \"#FFA15A\", \"#19d3f3\", \"#FF6692\", \"#B6E880\", \"#FF97FF\", \"#FECB52\"], \"font\": {\"color\": \"#2a3f5f\"}, \"geo\": {\"bgcolor\": \"white\", \"lakecolor\": \"white\", \"landcolor\": \"#E5ECF6\", \"showlakes\": true, \"showland\": true, \"subunitcolor\": \"white\"}, \"hoverlabel\": {\"align\": \"left\"}, \"hovermode\": \"closest\", \"mapbox\": {\"style\": \"light\"}, \"paper_bgcolor\": \"white\", \"plot_bgcolor\": \"#E5ECF6\", \"polar\": {\"angularaxis\": {\"gridcolor\": \"white\", \"linecolor\": \"white\", \"ticks\": \"\"}, \"bgcolor\": \"#E5ECF6\", \"radialaxis\": {\"gridcolor\": \"white\", \"linecolor\": \"white\", \"ticks\": \"\"}}, \"scene\": {\"xaxis\": {\"backgroundcolor\": \"#E5ECF6\", \"gridcolor\": \"white\", \"gridwidth\": 2, \"linecolor\": \"white\", \"showbackground\": true, \"ticks\": \"\", \"zerolinecolor\": \"white\"}, \"yaxis\": {\"backgroundcolor\": \"#E5ECF6\", \"gridcolor\": \"white\", \"gridwidth\": 2, \"linecolor\": \"white\", \"showbackground\": true, \"ticks\": \"\", \"zerolinecolor\": \"white\"}, \"zaxis\": {\"backgroundcolor\": \"#E5ECF6\", \"gridcolor\": \"white\", \"gridwidth\": 2, \"linecolor\": \"white\", \"showbackground\": true, \"ticks\": \"\", \"zerolinecolor\": \"white\"}}, \"shapedefaults\": {\"line\": {\"color\": \"#2a3f5f\"}}, \"ternary\": {\"aaxis\": {\"gridcolor\": \"white\", \"linecolor\": \"white\", \"ticks\": \"\"}, \"baxis\": {\"gridcolor\": \"white\", \"linecolor\": \"white\", \"ticks\": \"\"}, \"bgcolor\": \"#E5ECF6\", \"caxis\": {\"gridcolor\": \"white\", \"linecolor\": \"white\", \"ticks\": \"\"}}, \"title\": {\"x\": 0.05}, \"xaxis\": {\"automargin\": true, \"gridcolor\": \"white\", \"linecolor\": \"white\", \"ticks\": \"\", \"title\": {\"standoff\": 15}, \"zerolinecolor\": \"white\", \"zerolinewidth\": 2}, \"yaxis\": {\"automargin\": true, \"gridcolor\": \"white\", \"linecolor\": \"white\", \"ticks\": \"\", \"title\": {\"standoff\": 15}, \"zerolinecolor\": \"white\", \"zerolinewidth\": 2}}}, \"title\": {\"font\": {\"color\": \"#4D5663\"}}, \"xaxis\": {\"gridcolor\": \"#E1E5ED\", \"showgrid\": true, \"tickfont\": {\"color\": \"#4D5663\"}, \"title\": {\"font\": {\"color\": \"#4D5663\"}, \"text\": \"\"}, \"zerolinecolor\": \"#E1E5ED\"}, \"yaxis\": {\"gridcolor\": \"#E1E5ED\", \"showgrid\": true, \"tickfont\": {\"color\": \"#4D5663\"}, \"title\": {\"font\": {\"color\": \"#4D5663\"}, \"text\": \"\"}, \"zerolinecolor\": \"#E1E5ED\"}},\n",
       "                        {\"showLink\": true, \"linkText\": \"Export to plot.ly\", \"plotlyServerURL\": \"https://plot.ly\", \"responsive\": true}\n",
       "                    ).then(function(){\n",
       "                            \n",
       "var gd = document.getElementById('f2687765-1b5d-4d57-bee9-d420215c6218');\n",
       "var x = new MutationObserver(function (mutations, observer) {{\n",
       "        var display = window.getComputedStyle(gd).display;\n",
       "        if (!display || display === 'none') {{\n",
       "            console.log([gd, 'removed!']);\n",
       "            Plotly.purge(gd);\n",
       "            observer.disconnect();\n",
       "        }}\n",
       "}});\n",
       "\n",
       "// Listen for the removal of the full notebook cells\n",
       "var notebookContainer = gd.closest('#notebook-container');\n",
       "if (notebookContainer) {{\n",
       "    x.observe(notebookContainer, {childList: true});\n",
       "}}\n",
       "\n",
       "// Listen for the clearing of the current output cell\n",
       "var outputEl = gd.closest('.output');\n",
       "if (outputEl) {{\n",
       "    x.observe(outputEl, {childList: true});\n",
       "}}\n",
       "\n",
       "                        })\n",
       "                };\n",
       "                });\n",
       "            </script>\n",
       "        </div>"
      ]
     },
     "metadata": {},
     "output_type": "display_data"
    }
   ],
   "source": [
    "df.iplot(kind='bubble',x='A',y='B',size='C')"
   ]
  },
  {
   "cell_type": "markdown",
   "metadata": {},
   "source": [
    "## scatter_matrix()\n",
    "\n",
    "Similar to sns.pairplot()"
   ]
  },
  {
   "cell_type": "code",
   "execution_count": 19,
   "metadata": {},
   "outputs": [
    {
     "data": {
      "application/vnd.plotly.v1+json": {
       "config": {
        "linkText": "Export to plot.ly",
        "plotlyServerURL": "https://plot.ly",
        "showLink": true
       },
       "data": [
        {
         "histfunc": "count",
         "histnorm": "",
         "marker": {
          "color": "rgba(255, 153, 51, 1.0)",
          "line": {
           "color": "#4D5663",
           "width": 1.3
          }
         },
         "name": "A",
         "nbinsx": 10,
         "opacity": 0.8,
         "orientation": "v",
         "type": "histogram",
         "x": [
          1.5101490399848538,
          -0.6405275834738976,
          -0.512955812775037,
          1.9945535110166155,
          0.7239546875357956,
          0.8193567705112613,
          1.192205706744129,
          -0.06787383362506158,
          -0.9802554854905633,
          0.6983271064470218,
          -0.09113355613425492,
          1.2313007346971012,
          0.5877414638414414,
          0.44701759506099287,
          -1.4625771180718434,
          -2.652004600843019,
          0.09877482172888144,
          1.1629678060014554,
          0.7691594293148781,
          -0.1364317997818323,
          -0.16022426763322922,
          0.325414195254767,
          0.2688277762024969,
          1.841688695638128,
          -0.3097790041736717,
          -0.27035022527693,
          -0.3223095653633265,
          -0.1461980419232848,
          2.3170839799717053,
          1.8369084706357632,
          -0.7221143171938086,
          -0.6348791926259997,
          0.041316979821828165,
          -2.6008465783966845,
          0.1232552893656748,
          0.7240482389471554,
          -1.1566478307252988,
          0.06803529895168065,
          -0.08971460905870797,
          0.18012357430894557,
          0.9225730627109227,
          -1.445603452520163,
          -0.2895665306804073,
          0.09538268325347563,
          1.287372036995754,
          -0.6105013600450948,
          -0.7654308216950918,
          0.6525813929540183,
          1.3259746476590089,
          2.3626108894511493,
          -0.8445790982577436,
          0.01824503703149911,
          -0.9283950022622932,
          0.33636857025188516,
          -0.8613816355113362,
          0.40466279012072576,
          0.8363332121586713,
          -1.239556920419094,
          0.27739221030357436,
          -0.4021079811857981,
          1.4712926754951638,
          0.25657991140085984,
          -0.8310974348171803,
          0.6114113100084001,
          -0.955427588323675,
          0.5184833162831455,
          -1.0452960939323077,
          0.4667513077038204,
          -0.723458426308934,
          -2.5867925551081035,
          0.7903424657093867,
          -0.4936357686129681,
          -0.7627359863188906,
          0.3536789889194609,
          -1.2902491381524273,
          0.1912991604086632,
          0.9121151372265259,
          0.7373090629882498,
          0.5037650361608089,
          1.1318384618076784,
          -0.32154075364181933,
          0.9361876383988863,
          1.0476083383554216,
          0.4720998866594356,
          -0.4088347948063875,
          -0.2047000651934584,
          -0.8547597310671836,
          0.9836937217040943,
          1.5744087429243852,
          1.4033565625484767,
          -0.7242927426020687,
          -0.6910896152379462,
          0.7961011916043215,
          -0.1451686332386725,
          0.23618649203945938,
          -0.9005205826485293,
          0.5929153455591286,
          -1.3558193667814635,
          1.555509083173195,
          1.5661931184442937
         ],
         "xaxis": "x",
         "yaxis": "y"
        },
        {
         "line": {
          "color": "rgba(128, 128, 128, 1.0)",
          "dash": "solid",
          "shape": "linear",
          "width": 1.3
         },
         "marker": {
          "size": 2,
          "symbol": "circle"
         },
         "mode": "markers",
         "name": "A",
         "text": "",
         "type": "scatter",
         "x": [
          0.054979191128094816,
          1.4368555640509848,
          -0.22607750843614138,
          0.20147652277293557,
          -1.4555502346439408,
          1.235727105253792,
          0.45538137880566887,
          -1.3010732893534303,
          -1.2691000601151483,
          1.6370568366415919,
          0.3071655217652912,
          -0.5990722768644184,
          -2.647254678769929,
          0.702738372406523,
          0.07191205239778133,
          1.2001027658925585,
          0.3102254510934988,
          -2.907098840258816,
          -1.2688217753814637,
          -0.9838590414229287,
          0.9115690199446567,
          0.9469701010827166,
          0.15696478517473111,
          1.6471109893762343,
          -0.8977548136067434,
          -0.9199482432111052,
          0.8687462611039781,
          -0.49259127413312087,
          1.9997186565748608,
          0.28299432369597044,
          0.5636013029300263,
          -0.533031353093187,
          -2.3004571749120823,
          0.5371737481378878,
          0.8350225602155451,
          -0.5948402186277807,
          -0.1895541588040986,
          -0.05861025295657063,
          -2.0990765127482067,
          0.12005665584931399,
          -1.1097215512147067,
          0.3041362882859407,
          0.9611494673654635,
          -0.7724740028745279,
          1.8364041184574287,
          0.5150682119767902,
          -0.7953027555580844,
          1.5755045849174594,
          -0.8625472207013256,
          -0.3765871069608661,
          -0.35965627007750917,
          0.8907945673388414,
          -0.5211463173335591,
          0.229942887701415,
          1.2070059543372178,
          -1.747909478166768,
          -1.2544204297967272,
          -0.39345806939876377,
          1.3525798011451498,
          -1.5634681769462817,
          1.5231440386058803,
          0.5615698709650291,
          -0.5986586180194643,
          0.060079755434575555,
          2.140389869307584,
          0.11628915233426852,
          0.5943641768616253,
          1.4935800759035067,
          -0.4025470502298976,
          -2.179590754822418,
          0.46750448914317605,
          1.477145305796776,
          -1.665319404483263,
          0.3085561347371331,
          -0.3453710286044497,
          0.5562338663194516,
          -0.2790322781489596,
          -0.9642744260233003,
          -0.4545174340207927,
          -0.23539992106019608,
          -0.7628340515598176,
          -1.5311459626066464,
          0.7231843780477117,
          0.44513667647675115,
          0.7252438502557419,
          0.010664927582359943,
          -1.2889237131715514,
          0.9850276280938937,
          0.24092972415915567,
          -0.9866877607378947,
          -2.154137554731013,
          -0.1285673748219936,
          -0.24435316549739328,
          0.7796057011313241,
          -0.37089112604330343,
          1.7190997934959267,
          0.11110381508124938,
          -0.19742003370703887,
          0.3459687603740203,
          -1.1825722115533015
         ],
         "xaxis": "x2",
         "y": [
          1.5101490399848538,
          -0.6405275834738976,
          -0.512955812775037,
          1.9945535110166155,
          0.7239546875357956,
          0.8193567705112613,
          1.192205706744129,
          -0.06787383362506158,
          -0.9802554854905633,
          0.6983271064470218,
          -0.09113355613425492,
          1.2313007346971012,
          0.5877414638414414,
          0.44701759506099287,
          -1.4625771180718434,
          -2.652004600843019,
          0.09877482172888144,
          1.1629678060014554,
          0.7691594293148781,
          -0.1364317997818323,
          -0.16022426763322922,
          0.325414195254767,
          0.2688277762024969,
          1.841688695638128,
          -0.3097790041736717,
          -0.27035022527693,
          -0.3223095653633265,
          -0.1461980419232848,
          2.3170839799717053,
          1.8369084706357632,
          -0.7221143171938086,
          -0.6348791926259997,
          0.041316979821828165,
          -2.6008465783966845,
          0.1232552893656748,
          0.7240482389471554,
          -1.1566478307252988,
          0.06803529895168065,
          -0.08971460905870797,
          0.18012357430894557,
          0.9225730627109227,
          -1.445603452520163,
          -0.2895665306804073,
          0.09538268325347563,
          1.287372036995754,
          -0.6105013600450948,
          -0.7654308216950918,
          0.6525813929540183,
          1.3259746476590089,
          2.3626108894511493,
          -0.8445790982577436,
          0.01824503703149911,
          -0.9283950022622932,
          0.33636857025188516,
          -0.8613816355113362,
          0.40466279012072576,
          0.8363332121586713,
          -1.239556920419094,
          0.27739221030357436,
          -0.4021079811857981,
          1.4712926754951638,
          0.25657991140085984,
          -0.8310974348171803,
          0.6114113100084001,
          -0.955427588323675,
          0.5184833162831455,
          -1.0452960939323077,
          0.4667513077038204,
          -0.723458426308934,
          -2.5867925551081035,
          0.7903424657093867,
          -0.4936357686129681,
          -0.7627359863188906,
          0.3536789889194609,
          -1.2902491381524273,
          0.1912991604086632,
          0.9121151372265259,
          0.7373090629882498,
          0.5037650361608089,
          1.1318384618076784,
          -0.32154075364181933,
          0.9361876383988863,
          1.0476083383554216,
          0.4720998866594356,
          -0.4088347948063875,
          -0.2047000651934584,
          -0.8547597310671836,
          0.9836937217040943,
          1.5744087429243852,
          1.4033565625484767,
          -0.7242927426020687,
          -0.6910896152379462,
          0.7961011916043215,
          -0.1451686332386725,
          0.23618649203945938,
          -0.9005205826485293,
          0.5929153455591286,
          -1.3558193667814635,
          1.555509083173195,
          1.5661931184442937
         ],
         "yaxis": "y2"
        },
        {
         "line": {
          "color": "rgba(128, 128, 128, 1.0)",
          "dash": "solid",
          "shape": "linear",
          "width": 1.3
         },
         "marker": {
          "size": 2,
          "symbol": "circle"
         },
         "mode": "markers",
         "name": "A",
         "text": "",
         "type": "scatter",
         "x": [
          -0.3699781401072991,
          0.014666525778796255,
          1.0530454979308128,
          1.3347242185804256,
          0.43905726188422833,
          -0.5693718713084631,
          -2.25535961919125,
          -0.7152786630596007,
          -0.09561467051906766,
          0.8003395212866454,
          -1.2647570835866317,
          1.053283591042986,
          -0.0983263703685516,
          -0.2540368996779051,
          0.3870154878492967,
          1.726478466346719,
          0.5732071431879369,
          2.2150632282989857,
          0.31910035503356143,
          0.28982242092364024,
          -1.148567074313695,
          0.15395629071155595,
          1.525463781739682,
          0.07066215676636697,
          0.8978878304568622,
          1.1280238256836097,
          1.2725713345243703,
          0.7396102639233508,
          0.8697856004738943,
          1.7159182149501446,
          0.5654919600474853,
          0.8783803882689514,
          -0.22443173904006908,
          0.7903887495024083,
          -1.1356650018129308,
          1.0864899554782066,
          -0.19145432530466677,
          1.0263877857566044,
          -1.2426764034787228,
          0.755972690374339,
          -0.3080948937153945,
          -0.9089048202162897,
          0.08773774307987836,
          0.37346578493517113,
          -0.21829959274557942,
          0.7472882772397567,
          0.12475864153448532,
          0.10719084735452485,
          -0.9650709580743985,
          -0.32734725869903164,
          0.290432477796843,
          -0.4318512657465015,
          0.546100087535669,
          0.16882415124890723,
          0.0625627434318641,
          -0.45111345153140514,
          -1.035800298608654,
          -1.1755826012034793,
          -0.5887579822623921,
          -0.936012737378819,
          0.8641850724565397,
          0.2260731732418727,
          -0.0796786180204319,
          0.28979130885627713,
          1.1460541429713298,
          -1.000717010584556,
          -0.6595316037691642,
          1.9016790870899154,
          -0.21940494229947125,
          0.8130959862423774,
          -1.5716840067383513,
          0.8418073633792109,
          0.28950143573949405,
          0.8816021466187254,
          0.5337866283889577,
          0.2715537049077293,
          -0.5984284499957764,
          1.5332171216992303,
          0.7778781429861782,
          0.17196691282409546,
          -0.8117837624181126,
          -0.3023510398571448,
          0.10008463721285718,
          1.3338420511450306,
          -0.7581750788470961,
          0.3016527346606335,
          -0.39718496454650665,
          0.6788152804439113,
          2.152973446351624,
          -0.2730366986958714,
          -0.8681988229280707,
          0.7878230209305109,
          1.2416464932761073,
          1.120402684702779,
          -0.15711509417868788,
          -1.0852033515334814,
          0.2540149848663791,
          -0.9443103947243021,
          0.9616598758998366,
          -0.0063800398525212165
         ],
         "xaxis": "x3",
         "y": [
          1.5101490399848538,
          -0.6405275834738976,
          -0.512955812775037,
          1.9945535110166155,
          0.7239546875357956,
          0.8193567705112613,
          1.192205706744129,
          -0.06787383362506158,
          -0.9802554854905633,
          0.6983271064470218,
          -0.09113355613425492,
          1.2313007346971012,
          0.5877414638414414,
          0.44701759506099287,
          -1.4625771180718434,
          -2.652004600843019,
          0.09877482172888144,
          1.1629678060014554,
          0.7691594293148781,
          -0.1364317997818323,
          -0.16022426763322922,
          0.325414195254767,
          0.2688277762024969,
          1.841688695638128,
          -0.3097790041736717,
          -0.27035022527693,
          -0.3223095653633265,
          -0.1461980419232848,
          2.3170839799717053,
          1.8369084706357632,
          -0.7221143171938086,
          -0.6348791926259997,
          0.041316979821828165,
          -2.6008465783966845,
          0.1232552893656748,
          0.7240482389471554,
          -1.1566478307252988,
          0.06803529895168065,
          -0.08971460905870797,
          0.18012357430894557,
          0.9225730627109227,
          -1.445603452520163,
          -0.2895665306804073,
          0.09538268325347563,
          1.287372036995754,
          -0.6105013600450948,
          -0.7654308216950918,
          0.6525813929540183,
          1.3259746476590089,
          2.3626108894511493,
          -0.8445790982577436,
          0.01824503703149911,
          -0.9283950022622932,
          0.33636857025188516,
          -0.8613816355113362,
          0.40466279012072576,
          0.8363332121586713,
          -1.239556920419094,
          0.27739221030357436,
          -0.4021079811857981,
          1.4712926754951638,
          0.25657991140085984,
          -0.8310974348171803,
          0.6114113100084001,
          -0.955427588323675,
          0.5184833162831455,
          -1.0452960939323077,
          0.4667513077038204,
          -0.723458426308934,
          -2.5867925551081035,
          0.7903424657093867,
          -0.4936357686129681,
          -0.7627359863188906,
          0.3536789889194609,
          -1.2902491381524273,
          0.1912991604086632,
          0.9121151372265259,
          0.7373090629882498,
          0.5037650361608089,
          1.1318384618076784,
          -0.32154075364181933,
          0.9361876383988863,
          1.0476083383554216,
          0.4720998866594356,
          -0.4088347948063875,
          -0.2047000651934584,
          -0.8547597310671836,
          0.9836937217040943,
          1.5744087429243852,
          1.4033565625484767,
          -0.7242927426020687,
          -0.6910896152379462,
          0.7961011916043215,
          -0.1451686332386725,
          0.23618649203945938,
          -0.9005205826485293,
          0.5929153455591286,
          -1.3558193667814635,
          1.555509083173195,
          1.5661931184442937
         ],
         "yaxis": "y3"
        },
        {
         "line": {
          "color": "rgba(128, 128, 128, 1.0)",
          "dash": "solid",
          "shape": "linear",
          "width": 1.3
         },
         "marker": {
          "size": 2,
          "symbol": "circle"
         },
         "mode": "markers",
         "name": "A",
         "text": "",
         "type": "scatter",
         "x": [
          -1.3863703005882506,
          0.9561806674417825,
          0.8024482942155324,
          1.3502875548777409,
          -0.11584356492870602,
          0.10367331696848246,
          1.926302269024144,
          1.5771120906387193,
          1.512181985361918,
          -0.04564802133766652,
          0.501311621973258,
          1.073860999955962,
          1.0101192453318664,
          -0.47535900976737633,
          1.2190010760002734,
          -1.2051124722034434,
          -2.470923035842003,
          2.523356604589166,
          0.20803531250547286,
          1.55235556212803,
          0.09649951763697989,
          0.08304102059454187,
          -1.1717205020460235,
          -1.7982933553494254,
          -0.09321011435384796,
          -2.0968477349768113,
          -0.0640547593089291,
          0.9998286136482293,
          -1.3031379435595272,
          -0.09026076492219864,
          1.894838617903795,
          -2.191556038125103,
          -0.4210717492171106,
          -1.195424865623432,
          0.5302085599011223,
          1.1851137109794267,
          -1.1692292675114115,
          -0.913032417499362,
          0.24326871201117606,
          2.1560604672884285,
          -0.6688512174324619,
          1.0200065766367674,
          0.6002331808470721,
          -0.043412156893427166,
          -0.8671513360322314,
          0.2874592347944582,
          -0.6562084436753164,
          -0.14283125440691152,
          -0.491920659839441,
          0.4986039765898339,
          -1.6845497201155823,
          -0.148612857688365,
          -0.04727014898835525,
          -0.14569467345231785,
          -0.734904286077995,
          -0.18368227995621608,
          0.893869005755252,
          0.6589661962741505,
          -0.5623950551486403,
          -1.1683652708102397,
          1.1638027314573847,
          -0.2670817785258052,
          0.3685070651182318,
          -1.047214988857629,
          2.0915845334862495,
          -2.304703641539677,
          0.9362202841423164,
          -0.9929147080569665,
          0.3060436847411801,
          0.2766989502804425,
          1.418180627732183,
          1.0578619287432207,
          1.6376170559858814,
          -0.35472459698035186,
          0.11773476865906649,
          1.160076263349918,
          -0.26390833391661583,
          -0.8091437251617222,
          0.0303119309416289,
          0.5621048300532147,
          -1.2438331785331898,
          1.9229595935911648,
          0.4888912873270648,
          -1.8540611502054942,
          -1.3387978316270563,
          1.412503396034427,
          -0.2401122092435843,
          -0.86010557214549,
          1.6244228971898325,
          0.2888338448708431,
          0.3312228594431208,
          -0.3439553033475485,
          -0.08822405107016175,
          -0.6334445853895129,
          1.608848493642066,
          -0.6335725839225381,
          0.19655516350095992,
          0.1486030674825538,
          -0.7638520137638168,
          2.223452236992757
         ],
         "xaxis": "x4",
         "y": [
          1.5101490399848538,
          -0.6405275834738976,
          -0.512955812775037,
          1.9945535110166155,
          0.7239546875357956,
          0.8193567705112613,
          1.192205706744129,
          -0.06787383362506158,
          -0.9802554854905633,
          0.6983271064470218,
          -0.09113355613425492,
          1.2313007346971012,
          0.5877414638414414,
          0.44701759506099287,
          -1.4625771180718434,
          -2.652004600843019,
          0.09877482172888144,
          1.1629678060014554,
          0.7691594293148781,
          -0.1364317997818323,
          -0.16022426763322922,
          0.325414195254767,
          0.2688277762024969,
          1.841688695638128,
          -0.3097790041736717,
          -0.27035022527693,
          -0.3223095653633265,
          -0.1461980419232848,
          2.3170839799717053,
          1.8369084706357632,
          -0.7221143171938086,
          -0.6348791926259997,
          0.041316979821828165,
          -2.6008465783966845,
          0.1232552893656748,
          0.7240482389471554,
          -1.1566478307252988,
          0.06803529895168065,
          -0.08971460905870797,
          0.18012357430894557,
          0.9225730627109227,
          -1.445603452520163,
          -0.2895665306804073,
          0.09538268325347563,
          1.287372036995754,
          -0.6105013600450948,
          -0.7654308216950918,
          0.6525813929540183,
          1.3259746476590089,
          2.3626108894511493,
          -0.8445790982577436,
          0.01824503703149911,
          -0.9283950022622932,
          0.33636857025188516,
          -0.8613816355113362,
          0.40466279012072576,
          0.8363332121586713,
          -1.239556920419094,
          0.27739221030357436,
          -0.4021079811857981,
          1.4712926754951638,
          0.25657991140085984,
          -0.8310974348171803,
          0.6114113100084001,
          -0.955427588323675,
          0.5184833162831455,
          -1.0452960939323077,
          0.4667513077038204,
          -0.723458426308934,
          -2.5867925551081035,
          0.7903424657093867,
          -0.4936357686129681,
          -0.7627359863188906,
          0.3536789889194609,
          -1.2902491381524273,
          0.1912991604086632,
          0.9121151372265259,
          0.7373090629882498,
          0.5037650361608089,
          1.1318384618076784,
          -0.32154075364181933,
          0.9361876383988863,
          1.0476083383554216,
          0.4720998866594356,
          -0.4088347948063875,
          -0.2047000651934584,
          -0.8547597310671836,
          0.9836937217040943,
          1.5744087429243852,
          1.4033565625484767,
          -0.7242927426020687,
          -0.6910896152379462,
          0.7961011916043215,
          -0.1451686332386725,
          0.23618649203945938,
          -0.9005205826485293,
          0.5929153455591286,
          -1.3558193667814635,
          1.555509083173195,
          1.5661931184442937
         ],
         "yaxis": "y4"
        },
        {
         "line": {
          "color": "rgba(128, 128, 128, 1.0)",
          "dash": "solid",
          "shape": "linear",
          "width": 1.3
         },
         "marker": {
          "size": 2,
          "symbol": "circle"
         },
         "mode": "markers",
         "name": "B",
         "text": "",
         "type": "scatter",
         "x": [
          1.5101490399848538,
          -0.6405275834738976,
          -0.512955812775037,
          1.9945535110166155,
          0.7239546875357956,
          0.8193567705112613,
          1.192205706744129,
          -0.06787383362506158,
          -0.9802554854905633,
          0.6983271064470218,
          -0.09113355613425492,
          1.2313007346971012,
          0.5877414638414414,
          0.44701759506099287,
          -1.4625771180718434,
          -2.652004600843019,
          0.09877482172888144,
          1.1629678060014554,
          0.7691594293148781,
          -0.1364317997818323,
          -0.16022426763322922,
          0.325414195254767,
          0.2688277762024969,
          1.841688695638128,
          -0.3097790041736717,
          -0.27035022527693,
          -0.3223095653633265,
          -0.1461980419232848,
          2.3170839799717053,
          1.8369084706357632,
          -0.7221143171938086,
          -0.6348791926259997,
          0.041316979821828165,
          -2.6008465783966845,
          0.1232552893656748,
          0.7240482389471554,
          -1.1566478307252988,
          0.06803529895168065,
          -0.08971460905870797,
          0.18012357430894557,
          0.9225730627109227,
          -1.445603452520163,
          -0.2895665306804073,
          0.09538268325347563,
          1.287372036995754,
          -0.6105013600450948,
          -0.7654308216950918,
          0.6525813929540183,
          1.3259746476590089,
          2.3626108894511493,
          -0.8445790982577436,
          0.01824503703149911,
          -0.9283950022622932,
          0.33636857025188516,
          -0.8613816355113362,
          0.40466279012072576,
          0.8363332121586713,
          -1.239556920419094,
          0.27739221030357436,
          -0.4021079811857981,
          1.4712926754951638,
          0.25657991140085984,
          -0.8310974348171803,
          0.6114113100084001,
          -0.955427588323675,
          0.5184833162831455,
          -1.0452960939323077,
          0.4667513077038204,
          -0.723458426308934,
          -2.5867925551081035,
          0.7903424657093867,
          -0.4936357686129681,
          -0.7627359863188906,
          0.3536789889194609,
          -1.2902491381524273,
          0.1912991604086632,
          0.9121151372265259,
          0.7373090629882498,
          0.5037650361608089,
          1.1318384618076784,
          -0.32154075364181933,
          0.9361876383988863,
          1.0476083383554216,
          0.4720998866594356,
          -0.4088347948063875,
          -0.2047000651934584,
          -0.8547597310671836,
          0.9836937217040943,
          1.5744087429243852,
          1.4033565625484767,
          -0.7242927426020687,
          -0.6910896152379462,
          0.7961011916043215,
          -0.1451686332386725,
          0.23618649203945938,
          -0.9005205826485293,
          0.5929153455591286,
          -1.3558193667814635,
          1.555509083173195,
          1.5661931184442937
         ],
         "xaxis": "x5",
         "y": [
          0.054979191128094816,
          1.4368555640509848,
          -0.22607750843614138,
          0.20147652277293557,
          -1.4555502346439408,
          1.235727105253792,
          0.45538137880566887,
          -1.3010732893534303,
          -1.2691000601151483,
          1.6370568366415919,
          0.3071655217652912,
          -0.5990722768644184,
          -2.647254678769929,
          0.702738372406523,
          0.07191205239778133,
          1.2001027658925585,
          0.3102254510934988,
          -2.907098840258816,
          -1.2688217753814637,
          -0.9838590414229287,
          0.9115690199446567,
          0.9469701010827166,
          0.15696478517473111,
          1.6471109893762343,
          -0.8977548136067434,
          -0.9199482432111052,
          0.8687462611039781,
          -0.49259127413312087,
          1.9997186565748608,
          0.28299432369597044,
          0.5636013029300263,
          -0.533031353093187,
          -2.3004571749120823,
          0.5371737481378878,
          0.8350225602155451,
          -0.5948402186277807,
          -0.1895541588040986,
          -0.05861025295657063,
          -2.0990765127482067,
          0.12005665584931399,
          -1.1097215512147067,
          0.3041362882859407,
          0.9611494673654635,
          -0.7724740028745279,
          1.8364041184574287,
          0.5150682119767902,
          -0.7953027555580844,
          1.5755045849174594,
          -0.8625472207013256,
          -0.3765871069608661,
          -0.35965627007750917,
          0.8907945673388414,
          -0.5211463173335591,
          0.229942887701415,
          1.2070059543372178,
          -1.747909478166768,
          -1.2544204297967272,
          -0.39345806939876377,
          1.3525798011451498,
          -1.5634681769462817,
          1.5231440386058803,
          0.5615698709650291,
          -0.5986586180194643,
          0.060079755434575555,
          2.140389869307584,
          0.11628915233426852,
          0.5943641768616253,
          1.4935800759035067,
          -0.4025470502298976,
          -2.179590754822418,
          0.46750448914317605,
          1.477145305796776,
          -1.665319404483263,
          0.3085561347371331,
          -0.3453710286044497,
          0.5562338663194516,
          -0.2790322781489596,
          -0.9642744260233003,
          -0.4545174340207927,
          -0.23539992106019608,
          -0.7628340515598176,
          -1.5311459626066464,
          0.7231843780477117,
          0.44513667647675115,
          0.7252438502557419,
          0.010664927582359943,
          -1.2889237131715514,
          0.9850276280938937,
          0.24092972415915567,
          -0.9866877607378947,
          -2.154137554731013,
          -0.1285673748219936,
          -0.24435316549739328,
          0.7796057011313241,
          -0.37089112604330343,
          1.7190997934959267,
          0.11110381508124938,
          -0.19742003370703887,
          0.3459687603740203,
          -1.1825722115533015
         ],
         "yaxis": "y5"
        },
        {
         "histfunc": "count",
         "histnorm": "",
         "marker": {
          "color": "rgba(55, 128, 191, 1.0)",
          "line": {
           "color": "#4D5663",
           "width": 1.3
          }
         },
         "name": "B",
         "nbinsx": 10,
         "opacity": 0.8,
         "orientation": "v",
         "type": "histogram",
         "x": [
          0.054979191128094816,
          1.4368555640509848,
          -0.22607750843614138,
          0.20147652277293557,
          -1.4555502346439408,
          1.235727105253792,
          0.45538137880566887,
          -1.3010732893534303,
          -1.2691000601151483,
          1.6370568366415919,
          0.3071655217652912,
          -0.5990722768644184,
          -2.647254678769929,
          0.702738372406523,
          0.07191205239778133,
          1.2001027658925585,
          0.3102254510934988,
          -2.907098840258816,
          -1.2688217753814637,
          -0.9838590414229287,
          0.9115690199446567,
          0.9469701010827166,
          0.15696478517473111,
          1.6471109893762343,
          -0.8977548136067434,
          -0.9199482432111052,
          0.8687462611039781,
          -0.49259127413312087,
          1.9997186565748608,
          0.28299432369597044,
          0.5636013029300263,
          -0.533031353093187,
          -2.3004571749120823,
          0.5371737481378878,
          0.8350225602155451,
          -0.5948402186277807,
          -0.1895541588040986,
          -0.05861025295657063,
          -2.0990765127482067,
          0.12005665584931399,
          -1.1097215512147067,
          0.3041362882859407,
          0.9611494673654635,
          -0.7724740028745279,
          1.8364041184574287,
          0.5150682119767902,
          -0.7953027555580844,
          1.5755045849174594,
          -0.8625472207013256,
          -0.3765871069608661,
          -0.35965627007750917,
          0.8907945673388414,
          -0.5211463173335591,
          0.229942887701415,
          1.2070059543372178,
          -1.747909478166768,
          -1.2544204297967272,
          -0.39345806939876377,
          1.3525798011451498,
          -1.5634681769462817,
          1.5231440386058803,
          0.5615698709650291,
          -0.5986586180194643,
          0.060079755434575555,
          2.140389869307584,
          0.11628915233426852,
          0.5943641768616253,
          1.4935800759035067,
          -0.4025470502298976,
          -2.179590754822418,
          0.46750448914317605,
          1.477145305796776,
          -1.665319404483263,
          0.3085561347371331,
          -0.3453710286044497,
          0.5562338663194516,
          -0.2790322781489596,
          -0.9642744260233003,
          -0.4545174340207927,
          -0.23539992106019608,
          -0.7628340515598176,
          -1.5311459626066464,
          0.7231843780477117,
          0.44513667647675115,
          0.7252438502557419,
          0.010664927582359943,
          -1.2889237131715514,
          0.9850276280938937,
          0.24092972415915567,
          -0.9866877607378947,
          -2.154137554731013,
          -0.1285673748219936,
          -0.24435316549739328,
          0.7796057011313241,
          -0.37089112604330343,
          1.7190997934959267,
          0.11110381508124938,
          -0.19742003370703887,
          0.3459687603740203,
          -1.1825722115533015
         ],
         "xaxis": "x6",
         "yaxis": "y6"
        },
        {
         "line": {
          "color": "rgba(128, 128, 128, 1.0)",
          "dash": "solid",
          "shape": "linear",
          "width": 1.3
         },
         "marker": {
          "size": 2,
          "symbol": "circle"
         },
         "mode": "markers",
         "name": "B",
         "text": "",
         "type": "scatter",
         "x": [
          -0.3699781401072991,
          0.014666525778796255,
          1.0530454979308128,
          1.3347242185804256,
          0.43905726188422833,
          -0.5693718713084631,
          -2.25535961919125,
          -0.7152786630596007,
          -0.09561467051906766,
          0.8003395212866454,
          -1.2647570835866317,
          1.053283591042986,
          -0.0983263703685516,
          -0.2540368996779051,
          0.3870154878492967,
          1.726478466346719,
          0.5732071431879369,
          2.2150632282989857,
          0.31910035503356143,
          0.28982242092364024,
          -1.148567074313695,
          0.15395629071155595,
          1.525463781739682,
          0.07066215676636697,
          0.8978878304568622,
          1.1280238256836097,
          1.2725713345243703,
          0.7396102639233508,
          0.8697856004738943,
          1.7159182149501446,
          0.5654919600474853,
          0.8783803882689514,
          -0.22443173904006908,
          0.7903887495024083,
          -1.1356650018129308,
          1.0864899554782066,
          -0.19145432530466677,
          1.0263877857566044,
          -1.2426764034787228,
          0.755972690374339,
          -0.3080948937153945,
          -0.9089048202162897,
          0.08773774307987836,
          0.37346578493517113,
          -0.21829959274557942,
          0.7472882772397567,
          0.12475864153448532,
          0.10719084735452485,
          -0.9650709580743985,
          -0.32734725869903164,
          0.290432477796843,
          -0.4318512657465015,
          0.546100087535669,
          0.16882415124890723,
          0.0625627434318641,
          -0.45111345153140514,
          -1.035800298608654,
          -1.1755826012034793,
          -0.5887579822623921,
          -0.936012737378819,
          0.8641850724565397,
          0.2260731732418727,
          -0.0796786180204319,
          0.28979130885627713,
          1.1460541429713298,
          -1.000717010584556,
          -0.6595316037691642,
          1.9016790870899154,
          -0.21940494229947125,
          0.8130959862423774,
          -1.5716840067383513,
          0.8418073633792109,
          0.28950143573949405,
          0.8816021466187254,
          0.5337866283889577,
          0.2715537049077293,
          -0.5984284499957764,
          1.5332171216992303,
          0.7778781429861782,
          0.17196691282409546,
          -0.8117837624181126,
          -0.3023510398571448,
          0.10008463721285718,
          1.3338420511450306,
          -0.7581750788470961,
          0.3016527346606335,
          -0.39718496454650665,
          0.6788152804439113,
          2.152973446351624,
          -0.2730366986958714,
          -0.8681988229280707,
          0.7878230209305109,
          1.2416464932761073,
          1.120402684702779,
          -0.15711509417868788,
          -1.0852033515334814,
          0.2540149848663791,
          -0.9443103947243021,
          0.9616598758998366,
          -0.0063800398525212165
         ],
         "xaxis": "x7",
         "y": [
          0.054979191128094816,
          1.4368555640509848,
          -0.22607750843614138,
          0.20147652277293557,
          -1.4555502346439408,
          1.235727105253792,
          0.45538137880566887,
          -1.3010732893534303,
          -1.2691000601151483,
          1.6370568366415919,
          0.3071655217652912,
          -0.5990722768644184,
          -2.647254678769929,
          0.702738372406523,
          0.07191205239778133,
          1.2001027658925585,
          0.3102254510934988,
          -2.907098840258816,
          -1.2688217753814637,
          -0.9838590414229287,
          0.9115690199446567,
          0.9469701010827166,
          0.15696478517473111,
          1.6471109893762343,
          -0.8977548136067434,
          -0.9199482432111052,
          0.8687462611039781,
          -0.49259127413312087,
          1.9997186565748608,
          0.28299432369597044,
          0.5636013029300263,
          -0.533031353093187,
          -2.3004571749120823,
          0.5371737481378878,
          0.8350225602155451,
          -0.5948402186277807,
          -0.1895541588040986,
          -0.05861025295657063,
          -2.0990765127482067,
          0.12005665584931399,
          -1.1097215512147067,
          0.3041362882859407,
          0.9611494673654635,
          -0.7724740028745279,
          1.8364041184574287,
          0.5150682119767902,
          -0.7953027555580844,
          1.5755045849174594,
          -0.8625472207013256,
          -0.3765871069608661,
          -0.35965627007750917,
          0.8907945673388414,
          -0.5211463173335591,
          0.229942887701415,
          1.2070059543372178,
          -1.747909478166768,
          -1.2544204297967272,
          -0.39345806939876377,
          1.3525798011451498,
          -1.5634681769462817,
          1.5231440386058803,
          0.5615698709650291,
          -0.5986586180194643,
          0.060079755434575555,
          2.140389869307584,
          0.11628915233426852,
          0.5943641768616253,
          1.4935800759035067,
          -0.4025470502298976,
          -2.179590754822418,
          0.46750448914317605,
          1.477145305796776,
          -1.665319404483263,
          0.3085561347371331,
          -0.3453710286044497,
          0.5562338663194516,
          -0.2790322781489596,
          -0.9642744260233003,
          -0.4545174340207927,
          -0.23539992106019608,
          -0.7628340515598176,
          -1.5311459626066464,
          0.7231843780477117,
          0.44513667647675115,
          0.7252438502557419,
          0.010664927582359943,
          -1.2889237131715514,
          0.9850276280938937,
          0.24092972415915567,
          -0.9866877607378947,
          -2.154137554731013,
          -0.1285673748219936,
          -0.24435316549739328,
          0.7796057011313241,
          -0.37089112604330343,
          1.7190997934959267,
          0.11110381508124938,
          -0.19742003370703887,
          0.3459687603740203,
          -1.1825722115533015
         ],
         "yaxis": "y7"
        },
        {
         "line": {
          "color": "rgba(128, 128, 128, 1.0)",
          "dash": "solid",
          "shape": "linear",
          "width": 1.3
         },
         "marker": {
          "size": 2,
          "symbol": "circle"
         },
         "mode": "markers",
         "name": "B",
         "text": "",
         "type": "scatter",
         "x": [
          -1.3863703005882506,
          0.9561806674417825,
          0.8024482942155324,
          1.3502875548777409,
          -0.11584356492870602,
          0.10367331696848246,
          1.926302269024144,
          1.5771120906387193,
          1.512181985361918,
          -0.04564802133766652,
          0.501311621973258,
          1.073860999955962,
          1.0101192453318664,
          -0.47535900976737633,
          1.2190010760002734,
          -1.2051124722034434,
          -2.470923035842003,
          2.523356604589166,
          0.20803531250547286,
          1.55235556212803,
          0.09649951763697989,
          0.08304102059454187,
          -1.1717205020460235,
          -1.7982933553494254,
          -0.09321011435384796,
          -2.0968477349768113,
          -0.0640547593089291,
          0.9998286136482293,
          -1.3031379435595272,
          -0.09026076492219864,
          1.894838617903795,
          -2.191556038125103,
          -0.4210717492171106,
          -1.195424865623432,
          0.5302085599011223,
          1.1851137109794267,
          -1.1692292675114115,
          -0.913032417499362,
          0.24326871201117606,
          2.1560604672884285,
          -0.6688512174324619,
          1.0200065766367674,
          0.6002331808470721,
          -0.043412156893427166,
          -0.8671513360322314,
          0.2874592347944582,
          -0.6562084436753164,
          -0.14283125440691152,
          -0.491920659839441,
          0.4986039765898339,
          -1.6845497201155823,
          -0.148612857688365,
          -0.04727014898835525,
          -0.14569467345231785,
          -0.734904286077995,
          -0.18368227995621608,
          0.893869005755252,
          0.6589661962741505,
          -0.5623950551486403,
          -1.1683652708102397,
          1.1638027314573847,
          -0.2670817785258052,
          0.3685070651182318,
          -1.047214988857629,
          2.0915845334862495,
          -2.304703641539677,
          0.9362202841423164,
          -0.9929147080569665,
          0.3060436847411801,
          0.2766989502804425,
          1.418180627732183,
          1.0578619287432207,
          1.6376170559858814,
          -0.35472459698035186,
          0.11773476865906649,
          1.160076263349918,
          -0.26390833391661583,
          -0.8091437251617222,
          0.0303119309416289,
          0.5621048300532147,
          -1.2438331785331898,
          1.9229595935911648,
          0.4888912873270648,
          -1.8540611502054942,
          -1.3387978316270563,
          1.412503396034427,
          -0.2401122092435843,
          -0.86010557214549,
          1.6244228971898325,
          0.2888338448708431,
          0.3312228594431208,
          -0.3439553033475485,
          -0.08822405107016175,
          -0.6334445853895129,
          1.608848493642066,
          -0.6335725839225381,
          0.19655516350095992,
          0.1486030674825538,
          -0.7638520137638168,
          2.223452236992757
         ],
         "xaxis": "x8",
         "y": [
          0.054979191128094816,
          1.4368555640509848,
          -0.22607750843614138,
          0.20147652277293557,
          -1.4555502346439408,
          1.235727105253792,
          0.45538137880566887,
          -1.3010732893534303,
          -1.2691000601151483,
          1.6370568366415919,
          0.3071655217652912,
          -0.5990722768644184,
          -2.647254678769929,
          0.702738372406523,
          0.07191205239778133,
          1.2001027658925585,
          0.3102254510934988,
          -2.907098840258816,
          -1.2688217753814637,
          -0.9838590414229287,
          0.9115690199446567,
          0.9469701010827166,
          0.15696478517473111,
          1.6471109893762343,
          -0.8977548136067434,
          -0.9199482432111052,
          0.8687462611039781,
          -0.49259127413312087,
          1.9997186565748608,
          0.28299432369597044,
          0.5636013029300263,
          -0.533031353093187,
          -2.3004571749120823,
          0.5371737481378878,
          0.8350225602155451,
          -0.5948402186277807,
          -0.1895541588040986,
          -0.05861025295657063,
          -2.0990765127482067,
          0.12005665584931399,
          -1.1097215512147067,
          0.3041362882859407,
          0.9611494673654635,
          -0.7724740028745279,
          1.8364041184574287,
          0.5150682119767902,
          -0.7953027555580844,
          1.5755045849174594,
          -0.8625472207013256,
          -0.3765871069608661,
          -0.35965627007750917,
          0.8907945673388414,
          -0.5211463173335591,
          0.229942887701415,
          1.2070059543372178,
          -1.747909478166768,
          -1.2544204297967272,
          -0.39345806939876377,
          1.3525798011451498,
          -1.5634681769462817,
          1.5231440386058803,
          0.5615698709650291,
          -0.5986586180194643,
          0.060079755434575555,
          2.140389869307584,
          0.11628915233426852,
          0.5943641768616253,
          1.4935800759035067,
          -0.4025470502298976,
          -2.179590754822418,
          0.46750448914317605,
          1.477145305796776,
          -1.665319404483263,
          0.3085561347371331,
          -0.3453710286044497,
          0.5562338663194516,
          -0.2790322781489596,
          -0.9642744260233003,
          -0.4545174340207927,
          -0.23539992106019608,
          -0.7628340515598176,
          -1.5311459626066464,
          0.7231843780477117,
          0.44513667647675115,
          0.7252438502557419,
          0.010664927582359943,
          -1.2889237131715514,
          0.9850276280938937,
          0.24092972415915567,
          -0.9866877607378947,
          -2.154137554731013,
          -0.1285673748219936,
          -0.24435316549739328,
          0.7796057011313241,
          -0.37089112604330343,
          1.7190997934959267,
          0.11110381508124938,
          -0.19742003370703887,
          0.3459687603740203,
          -1.1825722115533015
         ],
         "yaxis": "y8"
        },
        {
         "line": {
          "color": "rgba(128, 128, 128, 1.0)",
          "dash": "solid",
          "shape": "linear",
          "width": 1.3
         },
         "marker": {
          "size": 2,
          "symbol": "circle"
         },
         "mode": "markers",
         "name": "C",
         "text": "",
         "type": "scatter",
         "x": [
          1.5101490399848538,
          -0.6405275834738976,
          -0.512955812775037,
          1.9945535110166155,
          0.7239546875357956,
          0.8193567705112613,
          1.192205706744129,
          -0.06787383362506158,
          -0.9802554854905633,
          0.6983271064470218,
          -0.09113355613425492,
          1.2313007346971012,
          0.5877414638414414,
          0.44701759506099287,
          -1.4625771180718434,
          -2.652004600843019,
          0.09877482172888144,
          1.1629678060014554,
          0.7691594293148781,
          -0.1364317997818323,
          -0.16022426763322922,
          0.325414195254767,
          0.2688277762024969,
          1.841688695638128,
          -0.3097790041736717,
          -0.27035022527693,
          -0.3223095653633265,
          -0.1461980419232848,
          2.3170839799717053,
          1.8369084706357632,
          -0.7221143171938086,
          -0.6348791926259997,
          0.041316979821828165,
          -2.6008465783966845,
          0.1232552893656748,
          0.7240482389471554,
          -1.1566478307252988,
          0.06803529895168065,
          -0.08971460905870797,
          0.18012357430894557,
          0.9225730627109227,
          -1.445603452520163,
          -0.2895665306804073,
          0.09538268325347563,
          1.287372036995754,
          -0.6105013600450948,
          -0.7654308216950918,
          0.6525813929540183,
          1.3259746476590089,
          2.3626108894511493,
          -0.8445790982577436,
          0.01824503703149911,
          -0.9283950022622932,
          0.33636857025188516,
          -0.8613816355113362,
          0.40466279012072576,
          0.8363332121586713,
          -1.239556920419094,
          0.27739221030357436,
          -0.4021079811857981,
          1.4712926754951638,
          0.25657991140085984,
          -0.8310974348171803,
          0.6114113100084001,
          -0.955427588323675,
          0.5184833162831455,
          -1.0452960939323077,
          0.4667513077038204,
          -0.723458426308934,
          -2.5867925551081035,
          0.7903424657093867,
          -0.4936357686129681,
          -0.7627359863188906,
          0.3536789889194609,
          -1.2902491381524273,
          0.1912991604086632,
          0.9121151372265259,
          0.7373090629882498,
          0.5037650361608089,
          1.1318384618076784,
          -0.32154075364181933,
          0.9361876383988863,
          1.0476083383554216,
          0.4720998866594356,
          -0.4088347948063875,
          -0.2047000651934584,
          -0.8547597310671836,
          0.9836937217040943,
          1.5744087429243852,
          1.4033565625484767,
          -0.7242927426020687,
          -0.6910896152379462,
          0.7961011916043215,
          -0.1451686332386725,
          0.23618649203945938,
          -0.9005205826485293,
          0.5929153455591286,
          -1.3558193667814635,
          1.555509083173195,
          1.5661931184442937
         ],
         "xaxis": "x9",
         "y": [
          -0.3699781401072991,
          0.014666525778796255,
          1.0530454979308128,
          1.3347242185804256,
          0.43905726188422833,
          -0.5693718713084631,
          -2.25535961919125,
          -0.7152786630596007,
          -0.09561467051906766,
          0.8003395212866454,
          -1.2647570835866317,
          1.053283591042986,
          -0.0983263703685516,
          -0.2540368996779051,
          0.3870154878492967,
          1.726478466346719,
          0.5732071431879369,
          2.2150632282989857,
          0.31910035503356143,
          0.28982242092364024,
          -1.148567074313695,
          0.15395629071155595,
          1.525463781739682,
          0.07066215676636697,
          0.8978878304568622,
          1.1280238256836097,
          1.2725713345243703,
          0.7396102639233508,
          0.8697856004738943,
          1.7159182149501446,
          0.5654919600474853,
          0.8783803882689514,
          -0.22443173904006908,
          0.7903887495024083,
          -1.1356650018129308,
          1.0864899554782066,
          -0.19145432530466677,
          1.0263877857566044,
          -1.2426764034787228,
          0.755972690374339,
          -0.3080948937153945,
          -0.9089048202162897,
          0.08773774307987836,
          0.37346578493517113,
          -0.21829959274557942,
          0.7472882772397567,
          0.12475864153448532,
          0.10719084735452485,
          -0.9650709580743985,
          -0.32734725869903164,
          0.290432477796843,
          -0.4318512657465015,
          0.546100087535669,
          0.16882415124890723,
          0.0625627434318641,
          -0.45111345153140514,
          -1.035800298608654,
          -1.1755826012034793,
          -0.5887579822623921,
          -0.936012737378819,
          0.8641850724565397,
          0.2260731732418727,
          -0.0796786180204319,
          0.28979130885627713,
          1.1460541429713298,
          -1.000717010584556,
          -0.6595316037691642,
          1.9016790870899154,
          -0.21940494229947125,
          0.8130959862423774,
          -1.5716840067383513,
          0.8418073633792109,
          0.28950143573949405,
          0.8816021466187254,
          0.5337866283889577,
          0.2715537049077293,
          -0.5984284499957764,
          1.5332171216992303,
          0.7778781429861782,
          0.17196691282409546,
          -0.8117837624181126,
          -0.3023510398571448,
          0.10008463721285718,
          1.3338420511450306,
          -0.7581750788470961,
          0.3016527346606335,
          -0.39718496454650665,
          0.6788152804439113,
          2.152973446351624,
          -0.2730366986958714,
          -0.8681988229280707,
          0.7878230209305109,
          1.2416464932761073,
          1.120402684702779,
          -0.15711509417868788,
          -1.0852033515334814,
          0.2540149848663791,
          -0.9443103947243021,
          0.9616598758998366,
          -0.0063800398525212165
         ],
         "yaxis": "y9"
        },
        {
         "line": {
          "color": "rgba(128, 128, 128, 1.0)",
          "dash": "solid",
          "shape": "linear",
          "width": 1.3
         },
         "marker": {
          "size": 2,
          "symbol": "circle"
         },
         "mode": "markers",
         "name": "C",
         "text": "",
         "type": "scatter",
         "x": [
          0.054979191128094816,
          1.4368555640509848,
          -0.22607750843614138,
          0.20147652277293557,
          -1.4555502346439408,
          1.235727105253792,
          0.45538137880566887,
          -1.3010732893534303,
          -1.2691000601151483,
          1.6370568366415919,
          0.3071655217652912,
          -0.5990722768644184,
          -2.647254678769929,
          0.702738372406523,
          0.07191205239778133,
          1.2001027658925585,
          0.3102254510934988,
          -2.907098840258816,
          -1.2688217753814637,
          -0.9838590414229287,
          0.9115690199446567,
          0.9469701010827166,
          0.15696478517473111,
          1.6471109893762343,
          -0.8977548136067434,
          -0.9199482432111052,
          0.8687462611039781,
          -0.49259127413312087,
          1.9997186565748608,
          0.28299432369597044,
          0.5636013029300263,
          -0.533031353093187,
          -2.3004571749120823,
          0.5371737481378878,
          0.8350225602155451,
          -0.5948402186277807,
          -0.1895541588040986,
          -0.05861025295657063,
          -2.0990765127482067,
          0.12005665584931399,
          -1.1097215512147067,
          0.3041362882859407,
          0.9611494673654635,
          -0.7724740028745279,
          1.8364041184574287,
          0.5150682119767902,
          -0.7953027555580844,
          1.5755045849174594,
          -0.8625472207013256,
          -0.3765871069608661,
          -0.35965627007750917,
          0.8907945673388414,
          -0.5211463173335591,
          0.229942887701415,
          1.2070059543372178,
          -1.747909478166768,
          -1.2544204297967272,
          -0.39345806939876377,
          1.3525798011451498,
          -1.5634681769462817,
          1.5231440386058803,
          0.5615698709650291,
          -0.5986586180194643,
          0.060079755434575555,
          2.140389869307584,
          0.11628915233426852,
          0.5943641768616253,
          1.4935800759035067,
          -0.4025470502298976,
          -2.179590754822418,
          0.46750448914317605,
          1.477145305796776,
          -1.665319404483263,
          0.3085561347371331,
          -0.3453710286044497,
          0.5562338663194516,
          -0.2790322781489596,
          -0.9642744260233003,
          -0.4545174340207927,
          -0.23539992106019608,
          -0.7628340515598176,
          -1.5311459626066464,
          0.7231843780477117,
          0.44513667647675115,
          0.7252438502557419,
          0.010664927582359943,
          -1.2889237131715514,
          0.9850276280938937,
          0.24092972415915567,
          -0.9866877607378947,
          -2.154137554731013,
          -0.1285673748219936,
          -0.24435316549739328,
          0.7796057011313241,
          -0.37089112604330343,
          1.7190997934959267,
          0.11110381508124938,
          -0.19742003370703887,
          0.3459687603740203,
          -1.1825722115533015
         ],
         "xaxis": "x10",
         "y": [
          -0.3699781401072991,
          0.014666525778796255,
          1.0530454979308128,
          1.3347242185804256,
          0.43905726188422833,
          -0.5693718713084631,
          -2.25535961919125,
          -0.7152786630596007,
          -0.09561467051906766,
          0.8003395212866454,
          -1.2647570835866317,
          1.053283591042986,
          -0.0983263703685516,
          -0.2540368996779051,
          0.3870154878492967,
          1.726478466346719,
          0.5732071431879369,
          2.2150632282989857,
          0.31910035503356143,
          0.28982242092364024,
          -1.148567074313695,
          0.15395629071155595,
          1.525463781739682,
          0.07066215676636697,
          0.8978878304568622,
          1.1280238256836097,
          1.2725713345243703,
          0.7396102639233508,
          0.8697856004738943,
          1.7159182149501446,
          0.5654919600474853,
          0.8783803882689514,
          -0.22443173904006908,
          0.7903887495024083,
          -1.1356650018129308,
          1.0864899554782066,
          -0.19145432530466677,
          1.0263877857566044,
          -1.2426764034787228,
          0.755972690374339,
          -0.3080948937153945,
          -0.9089048202162897,
          0.08773774307987836,
          0.37346578493517113,
          -0.21829959274557942,
          0.7472882772397567,
          0.12475864153448532,
          0.10719084735452485,
          -0.9650709580743985,
          -0.32734725869903164,
          0.290432477796843,
          -0.4318512657465015,
          0.546100087535669,
          0.16882415124890723,
          0.0625627434318641,
          -0.45111345153140514,
          -1.035800298608654,
          -1.1755826012034793,
          -0.5887579822623921,
          -0.936012737378819,
          0.8641850724565397,
          0.2260731732418727,
          -0.0796786180204319,
          0.28979130885627713,
          1.1460541429713298,
          -1.000717010584556,
          -0.6595316037691642,
          1.9016790870899154,
          -0.21940494229947125,
          0.8130959862423774,
          -1.5716840067383513,
          0.8418073633792109,
          0.28950143573949405,
          0.8816021466187254,
          0.5337866283889577,
          0.2715537049077293,
          -0.5984284499957764,
          1.5332171216992303,
          0.7778781429861782,
          0.17196691282409546,
          -0.8117837624181126,
          -0.3023510398571448,
          0.10008463721285718,
          1.3338420511450306,
          -0.7581750788470961,
          0.3016527346606335,
          -0.39718496454650665,
          0.6788152804439113,
          2.152973446351624,
          -0.2730366986958714,
          -0.8681988229280707,
          0.7878230209305109,
          1.2416464932761073,
          1.120402684702779,
          -0.15711509417868788,
          -1.0852033515334814,
          0.2540149848663791,
          -0.9443103947243021,
          0.9616598758998366,
          -0.0063800398525212165
         ],
         "yaxis": "y10"
        },
        {
         "histfunc": "count",
         "histnorm": "",
         "marker": {
          "color": "rgba(50, 171, 96, 1.0)",
          "line": {
           "color": "#4D5663",
           "width": 1.3
          }
         },
         "name": "C",
         "nbinsx": 10,
         "opacity": 0.8,
         "orientation": "v",
         "type": "histogram",
         "x": [
          -0.3699781401072991,
          0.014666525778796255,
          1.0530454979308128,
          1.3347242185804256,
          0.43905726188422833,
          -0.5693718713084631,
          -2.25535961919125,
          -0.7152786630596007,
          -0.09561467051906766,
          0.8003395212866454,
          -1.2647570835866317,
          1.053283591042986,
          -0.0983263703685516,
          -0.2540368996779051,
          0.3870154878492967,
          1.726478466346719,
          0.5732071431879369,
          2.2150632282989857,
          0.31910035503356143,
          0.28982242092364024,
          -1.148567074313695,
          0.15395629071155595,
          1.525463781739682,
          0.07066215676636697,
          0.8978878304568622,
          1.1280238256836097,
          1.2725713345243703,
          0.7396102639233508,
          0.8697856004738943,
          1.7159182149501446,
          0.5654919600474853,
          0.8783803882689514,
          -0.22443173904006908,
          0.7903887495024083,
          -1.1356650018129308,
          1.0864899554782066,
          -0.19145432530466677,
          1.0263877857566044,
          -1.2426764034787228,
          0.755972690374339,
          -0.3080948937153945,
          -0.9089048202162897,
          0.08773774307987836,
          0.37346578493517113,
          -0.21829959274557942,
          0.7472882772397567,
          0.12475864153448532,
          0.10719084735452485,
          -0.9650709580743985,
          -0.32734725869903164,
          0.290432477796843,
          -0.4318512657465015,
          0.546100087535669,
          0.16882415124890723,
          0.0625627434318641,
          -0.45111345153140514,
          -1.035800298608654,
          -1.1755826012034793,
          -0.5887579822623921,
          -0.936012737378819,
          0.8641850724565397,
          0.2260731732418727,
          -0.0796786180204319,
          0.28979130885627713,
          1.1460541429713298,
          -1.000717010584556,
          -0.6595316037691642,
          1.9016790870899154,
          -0.21940494229947125,
          0.8130959862423774,
          -1.5716840067383513,
          0.8418073633792109,
          0.28950143573949405,
          0.8816021466187254,
          0.5337866283889577,
          0.2715537049077293,
          -0.5984284499957764,
          1.5332171216992303,
          0.7778781429861782,
          0.17196691282409546,
          -0.8117837624181126,
          -0.3023510398571448,
          0.10008463721285718,
          1.3338420511450306,
          -0.7581750788470961,
          0.3016527346606335,
          -0.39718496454650665,
          0.6788152804439113,
          2.152973446351624,
          -0.2730366986958714,
          -0.8681988229280707,
          0.7878230209305109,
          1.2416464932761073,
          1.120402684702779,
          -0.15711509417868788,
          -1.0852033515334814,
          0.2540149848663791,
          -0.9443103947243021,
          0.9616598758998366,
          -0.0063800398525212165
         ],
         "xaxis": "x11",
         "yaxis": "y11"
        },
        {
         "line": {
          "color": "rgba(128, 128, 128, 1.0)",
          "dash": "solid",
          "shape": "linear",
          "width": 1.3
         },
         "marker": {
          "size": 2,
          "symbol": "circle"
         },
         "mode": "markers",
         "name": "C",
         "text": "",
         "type": "scatter",
         "x": [
          -1.3863703005882506,
          0.9561806674417825,
          0.8024482942155324,
          1.3502875548777409,
          -0.11584356492870602,
          0.10367331696848246,
          1.926302269024144,
          1.5771120906387193,
          1.512181985361918,
          -0.04564802133766652,
          0.501311621973258,
          1.073860999955962,
          1.0101192453318664,
          -0.47535900976737633,
          1.2190010760002734,
          -1.2051124722034434,
          -2.470923035842003,
          2.523356604589166,
          0.20803531250547286,
          1.55235556212803,
          0.09649951763697989,
          0.08304102059454187,
          -1.1717205020460235,
          -1.7982933553494254,
          -0.09321011435384796,
          -2.0968477349768113,
          -0.0640547593089291,
          0.9998286136482293,
          -1.3031379435595272,
          -0.09026076492219864,
          1.894838617903795,
          -2.191556038125103,
          -0.4210717492171106,
          -1.195424865623432,
          0.5302085599011223,
          1.1851137109794267,
          -1.1692292675114115,
          -0.913032417499362,
          0.24326871201117606,
          2.1560604672884285,
          -0.6688512174324619,
          1.0200065766367674,
          0.6002331808470721,
          -0.043412156893427166,
          -0.8671513360322314,
          0.2874592347944582,
          -0.6562084436753164,
          -0.14283125440691152,
          -0.491920659839441,
          0.4986039765898339,
          -1.6845497201155823,
          -0.148612857688365,
          -0.04727014898835525,
          -0.14569467345231785,
          -0.734904286077995,
          -0.18368227995621608,
          0.893869005755252,
          0.6589661962741505,
          -0.5623950551486403,
          -1.1683652708102397,
          1.1638027314573847,
          -0.2670817785258052,
          0.3685070651182318,
          -1.047214988857629,
          2.0915845334862495,
          -2.304703641539677,
          0.9362202841423164,
          -0.9929147080569665,
          0.3060436847411801,
          0.2766989502804425,
          1.418180627732183,
          1.0578619287432207,
          1.6376170559858814,
          -0.35472459698035186,
          0.11773476865906649,
          1.160076263349918,
          -0.26390833391661583,
          -0.8091437251617222,
          0.0303119309416289,
          0.5621048300532147,
          -1.2438331785331898,
          1.9229595935911648,
          0.4888912873270648,
          -1.8540611502054942,
          -1.3387978316270563,
          1.412503396034427,
          -0.2401122092435843,
          -0.86010557214549,
          1.6244228971898325,
          0.2888338448708431,
          0.3312228594431208,
          -0.3439553033475485,
          -0.08822405107016175,
          -0.6334445853895129,
          1.608848493642066,
          -0.6335725839225381,
          0.19655516350095992,
          0.1486030674825538,
          -0.7638520137638168,
          2.223452236992757
         ],
         "xaxis": "x12",
         "y": [
          -0.3699781401072991,
          0.014666525778796255,
          1.0530454979308128,
          1.3347242185804256,
          0.43905726188422833,
          -0.5693718713084631,
          -2.25535961919125,
          -0.7152786630596007,
          -0.09561467051906766,
          0.8003395212866454,
          -1.2647570835866317,
          1.053283591042986,
          -0.0983263703685516,
          -0.2540368996779051,
          0.3870154878492967,
          1.726478466346719,
          0.5732071431879369,
          2.2150632282989857,
          0.31910035503356143,
          0.28982242092364024,
          -1.148567074313695,
          0.15395629071155595,
          1.525463781739682,
          0.07066215676636697,
          0.8978878304568622,
          1.1280238256836097,
          1.2725713345243703,
          0.7396102639233508,
          0.8697856004738943,
          1.7159182149501446,
          0.5654919600474853,
          0.8783803882689514,
          -0.22443173904006908,
          0.7903887495024083,
          -1.1356650018129308,
          1.0864899554782066,
          -0.19145432530466677,
          1.0263877857566044,
          -1.2426764034787228,
          0.755972690374339,
          -0.3080948937153945,
          -0.9089048202162897,
          0.08773774307987836,
          0.37346578493517113,
          -0.21829959274557942,
          0.7472882772397567,
          0.12475864153448532,
          0.10719084735452485,
          -0.9650709580743985,
          -0.32734725869903164,
          0.290432477796843,
          -0.4318512657465015,
          0.546100087535669,
          0.16882415124890723,
          0.0625627434318641,
          -0.45111345153140514,
          -1.035800298608654,
          -1.1755826012034793,
          -0.5887579822623921,
          -0.936012737378819,
          0.8641850724565397,
          0.2260731732418727,
          -0.0796786180204319,
          0.28979130885627713,
          1.1460541429713298,
          -1.000717010584556,
          -0.6595316037691642,
          1.9016790870899154,
          -0.21940494229947125,
          0.8130959862423774,
          -1.5716840067383513,
          0.8418073633792109,
          0.28950143573949405,
          0.8816021466187254,
          0.5337866283889577,
          0.2715537049077293,
          -0.5984284499957764,
          1.5332171216992303,
          0.7778781429861782,
          0.17196691282409546,
          -0.8117837624181126,
          -0.3023510398571448,
          0.10008463721285718,
          1.3338420511450306,
          -0.7581750788470961,
          0.3016527346606335,
          -0.39718496454650665,
          0.6788152804439113,
          2.152973446351624,
          -0.2730366986958714,
          -0.8681988229280707,
          0.7878230209305109,
          1.2416464932761073,
          1.120402684702779,
          -0.15711509417868788,
          -1.0852033515334814,
          0.2540149848663791,
          -0.9443103947243021,
          0.9616598758998366,
          -0.0063800398525212165
         ],
         "yaxis": "y12"
        },
        {
         "line": {
          "color": "rgba(128, 128, 128, 1.0)",
          "dash": "solid",
          "shape": "linear",
          "width": 1.3
         },
         "marker": {
          "size": 2,
          "symbol": "circle"
         },
         "mode": "markers",
         "name": "D",
         "text": "",
         "type": "scatter",
         "x": [
          1.5101490399848538,
          -0.6405275834738976,
          -0.512955812775037,
          1.9945535110166155,
          0.7239546875357956,
          0.8193567705112613,
          1.192205706744129,
          -0.06787383362506158,
          -0.9802554854905633,
          0.6983271064470218,
          -0.09113355613425492,
          1.2313007346971012,
          0.5877414638414414,
          0.44701759506099287,
          -1.4625771180718434,
          -2.652004600843019,
          0.09877482172888144,
          1.1629678060014554,
          0.7691594293148781,
          -0.1364317997818323,
          -0.16022426763322922,
          0.325414195254767,
          0.2688277762024969,
          1.841688695638128,
          -0.3097790041736717,
          -0.27035022527693,
          -0.3223095653633265,
          -0.1461980419232848,
          2.3170839799717053,
          1.8369084706357632,
          -0.7221143171938086,
          -0.6348791926259997,
          0.041316979821828165,
          -2.6008465783966845,
          0.1232552893656748,
          0.7240482389471554,
          -1.1566478307252988,
          0.06803529895168065,
          -0.08971460905870797,
          0.18012357430894557,
          0.9225730627109227,
          -1.445603452520163,
          -0.2895665306804073,
          0.09538268325347563,
          1.287372036995754,
          -0.6105013600450948,
          -0.7654308216950918,
          0.6525813929540183,
          1.3259746476590089,
          2.3626108894511493,
          -0.8445790982577436,
          0.01824503703149911,
          -0.9283950022622932,
          0.33636857025188516,
          -0.8613816355113362,
          0.40466279012072576,
          0.8363332121586713,
          -1.239556920419094,
          0.27739221030357436,
          -0.4021079811857981,
          1.4712926754951638,
          0.25657991140085984,
          -0.8310974348171803,
          0.6114113100084001,
          -0.955427588323675,
          0.5184833162831455,
          -1.0452960939323077,
          0.4667513077038204,
          -0.723458426308934,
          -2.5867925551081035,
          0.7903424657093867,
          -0.4936357686129681,
          -0.7627359863188906,
          0.3536789889194609,
          -1.2902491381524273,
          0.1912991604086632,
          0.9121151372265259,
          0.7373090629882498,
          0.5037650361608089,
          1.1318384618076784,
          -0.32154075364181933,
          0.9361876383988863,
          1.0476083383554216,
          0.4720998866594356,
          -0.4088347948063875,
          -0.2047000651934584,
          -0.8547597310671836,
          0.9836937217040943,
          1.5744087429243852,
          1.4033565625484767,
          -0.7242927426020687,
          -0.6910896152379462,
          0.7961011916043215,
          -0.1451686332386725,
          0.23618649203945938,
          -0.9005205826485293,
          0.5929153455591286,
          -1.3558193667814635,
          1.555509083173195,
          1.5661931184442937
         ],
         "xaxis": "x13",
         "y": [
          -1.3863703005882506,
          0.9561806674417825,
          0.8024482942155324,
          1.3502875548777409,
          -0.11584356492870602,
          0.10367331696848246,
          1.926302269024144,
          1.5771120906387193,
          1.512181985361918,
          -0.04564802133766652,
          0.501311621973258,
          1.073860999955962,
          1.0101192453318664,
          -0.47535900976737633,
          1.2190010760002734,
          -1.2051124722034434,
          -2.470923035842003,
          2.523356604589166,
          0.20803531250547286,
          1.55235556212803,
          0.09649951763697989,
          0.08304102059454187,
          -1.1717205020460235,
          -1.7982933553494254,
          -0.09321011435384796,
          -2.0968477349768113,
          -0.0640547593089291,
          0.9998286136482293,
          -1.3031379435595272,
          -0.09026076492219864,
          1.894838617903795,
          -2.191556038125103,
          -0.4210717492171106,
          -1.195424865623432,
          0.5302085599011223,
          1.1851137109794267,
          -1.1692292675114115,
          -0.913032417499362,
          0.24326871201117606,
          2.1560604672884285,
          -0.6688512174324619,
          1.0200065766367674,
          0.6002331808470721,
          -0.043412156893427166,
          -0.8671513360322314,
          0.2874592347944582,
          -0.6562084436753164,
          -0.14283125440691152,
          -0.491920659839441,
          0.4986039765898339,
          -1.6845497201155823,
          -0.148612857688365,
          -0.04727014898835525,
          -0.14569467345231785,
          -0.734904286077995,
          -0.18368227995621608,
          0.893869005755252,
          0.6589661962741505,
          -0.5623950551486403,
          -1.1683652708102397,
          1.1638027314573847,
          -0.2670817785258052,
          0.3685070651182318,
          -1.047214988857629,
          2.0915845334862495,
          -2.304703641539677,
          0.9362202841423164,
          -0.9929147080569665,
          0.3060436847411801,
          0.2766989502804425,
          1.418180627732183,
          1.0578619287432207,
          1.6376170559858814,
          -0.35472459698035186,
          0.11773476865906649,
          1.160076263349918,
          -0.26390833391661583,
          -0.8091437251617222,
          0.0303119309416289,
          0.5621048300532147,
          -1.2438331785331898,
          1.9229595935911648,
          0.4888912873270648,
          -1.8540611502054942,
          -1.3387978316270563,
          1.412503396034427,
          -0.2401122092435843,
          -0.86010557214549,
          1.6244228971898325,
          0.2888338448708431,
          0.3312228594431208,
          -0.3439553033475485,
          -0.08822405107016175,
          -0.6334445853895129,
          1.608848493642066,
          -0.6335725839225381,
          0.19655516350095992,
          0.1486030674825538,
          -0.7638520137638168,
          2.223452236992757
         ],
         "yaxis": "y13"
        },
        {
         "line": {
          "color": "rgba(128, 128, 128, 1.0)",
          "dash": "solid",
          "shape": "linear",
          "width": 1.3
         },
         "marker": {
          "size": 2,
          "symbol": "circle"
         },
         "mode": "markers",
         "name": "D",
         "text": "",
         "type": "scatter",
         "x": [
          0.054979191128094816,
          1.4368555640509848,
          -0.22607750843614138,
          0.20147652277293557,
          -1.4555502346439408,
          1.235727105253792,
          0.45538137880566887,
          -1.3010732893534303,
          -1.2691000601151483,
          1.6370568366415919,
          0.3071655217652912,
          -0.5990722768644184,
          -2.647254678769929,
          0.702738372406523,
          0.07191205239778133,
          1.2001027658925585,
          0.3102254510934988,
          -2.907098840258816,
          -1.2688217753814637,
          -0.9838590414229287,
          0.9115690199446567,
          0.9469701010827166,
          0.15696478517473111,
          1.6471109893762343,
          -0.8977548136067434,
          -0.9199482432111052,
          0.8687462611039781,
          -0.49259127413312087,
          1.9997186565748608,
          0.28299432369597044,
          0.5636013029300263,
          -0.533031353093187,
          -2.3004571749120823,
          0.5371737481378878,
          0.8350225602155451,
          -0.5948402186277807,
          -0.1895541588040986,
          -0.05861025295657063,
          -2.0990765127482067,
          0.12005665584931399,
          -1.1097215512147067,
          0.3041362882859407,
          0.9611494673654635,
          -0.7724740028745279,
          1.8364041184574287,
          0.5150682119767902,
          -0.7953027555580844,
          1.5755045849174594,
          -0.8625472207013256,
          -0.3765871069608661,
          -0.35965627007750917,
          0.8907945673388414,
          -0.5211463173335591,
          0.229942887701415,
          1.2070059543372178,
          -1.747909478166768,
          -1.2544204297967272,
          -0.39345806939876377,
          1.3525798011451498,
          -1.5634681769462817,
          1.5231440386058803,
          0.5615698709650291,
          -0.5986586180194643,
          0.060079755434575555,
          2.140389869307584,
          0.11628915233426852,
          0.5943641768616253,
          1.4935800759035067,
          -0.4025470502298976,
          -2.179590754822418,
          0.46750448914317605,
          1.477145305796776,
          -1.665319404483263,
          0.3085561347371331,
          -0.3453710286044497,
          0.5562338663194516,
          -0.2790322781489596,
          -0.9642744260233003,
          -0.4545174340207927,
          -0.23539992106019608,
          -0.7628340515598176,
          -1.5311459626066464,
          0.7231843780477117,
          0.44513667647675115,
          0.7252438502557419,
          0.010664927582359943,
          -1.2889237131715514,
          0.9850276280938937,
          0.24092972415915567,
          -0.9866877607378947,
          -2.154137554731013,
          -0.1285673748219936,
          -0.24435316549739328,
          0.7796057011313241,
          -0.37089112604330343,
          1.7190997934959267,
          0.11110381508124938,
          -0.19742003370703887,
          0.3459687603740203,
          -1.1825722115533015
         ],
         "xaxis": "x14",
         "y": [
          -1.3863703005882506,
          0.9561806674417825,
          0.8024482942155324,
          1.3502875548777409,
          -0.11584356492870602,
          0.10367331696848246,
          1.926302269024144,
          1.5771120906387193,
          1.512181985361918,
          -0.04564802133766652,
          0.501311621973258,
          1.073860999955962,
          1.0101192453318664,
          -0.47535900976737633,
          1.2190010760002734,
          -1.2051124722034434,
          -2.470923035842003,
          2.523356604589166,
          0.20803531250547286,
          1.55235556212803,
          0.09649951763697989,
          0.08304102059454187,
          -1.1717205020460235,
          -1.7982933553494254,
          -0.09321011435384796,
          -2.0968477349768113,
          -0.0640547593089291,
          0.9998286136482293,
          -1.3031379435595272,
          -0.09026076492219864,
          1.894838617903795,
          -2.191556038125103,
          -0.4210717492171106,
          -1.195424865623432,
          0.5302085599011223,
          1.1851137109794267,
          -1.1692292675114115,
          -0.913032417499362,
          0.24326871201117606,
          2.1560604672884285,
          -0.6688512174324619,
          1.0200065766367674,
          0.6002331808470721,
          -0.043412156893427166,
          -0.8671513360322314,
          0.2874592347944582,
          -0.6562084436753164,
          -0.14283125440691152,
          -0.491920659839441,
          0.4986039765898339,
          -1.6845497201155823,
          -0.148612857688365,
          -0.04727014898835525,
          -0.14569467345231785,
          -0.734904286077995,
          -0.18368227995621608,
          0.893869005755252,
          0.6589661962741505,
          -0.5623950551486403,
          -1.1683652708102397,
          1.1638027314573847,
          -0.2670817785258052,
          0.3685070651182318,
          -1.047214988857629,
          2.0915845334862495,
          -2.304703641539677,
          0.9362202841423164,
          -0.9929147080569665,
          0.3060436847411801,
          0.2766989502804425,
          1.418180627732183,
          1.0578619287432207,
          1.6376170559858814,
          -0.35472459698035186,
          0.11773476865906649,
          1.160076263349918,
          -0.26390833391661583,
          -0.8091437251617222,
          0.0303119309416289,
          0.5621048300532147,
          -1.2438331785331898,
          1.9229595935911648,
          0.4888912873270648,
          -1.8540611502054942,
          -1.3387978316270563,
          1.412503396034427,
          -0.2401122092435843,
          -0.86010557214549,
          1.6244228971898325,
          0.2888338448708431,
          0.3312228594431208,
          -0.3439553033475485,
          -0.08822405107016175,
          -0.6334445853895129,
          1.608848493642066,
          -0.6335725839225381,
          0.19655516350095992,
          0.1486030674825538,
          -0.7638520137638168,
          2.223452236992757
         ],
         "yaxis": "y14"
        },
        {
         "line": {
          "color": "rgba(128, 128, 128, 1.0)",
          "dash": "solid",
          "shape": "linear",
          "width": 1.3
         },
         "marker": {
          "size": 2,
          "symbol": "circle"
         },
         "mode": "markers",
         "name": "D",
         "text": "",
         "type": "scatter",
         "x": [
          -0.3699781401072991,
          0.014666525778796255,
          1.0530454979308128,
          1.3347242185804256,
          0.43905726188422833,
          -0.5693718713084631,
          -2.25535961919125,
          -0.7152786630596007,
          -0.09561467051906766,
          0.8003395212866454,
          -1.2647570835866317,
          1.053283591042986,
          -0.0983263703685516,
          -0.2540368996779051,
          0.3870154878492967,
          1.726478466346719,
          0.5732071431879369,
          2.2150632282989857,
          0.31910035503356143,
          0.28982242092364024,
          -1.148567074313695,
          0.15395629071155595,
          1.525463781739682,
          0.07066215676636697,
          0.8978878304568622,
          1.1280238256836097,
          1.2725713345243703,
          0.7396102639233508,
          0.8697856004738943,
          1.7159182149501446,
          0.5654919600474853,
          0.8783803882689514,
          -0.22443173904006908,
          0.7903887495024083,
          -1.1356650018129308,
          1.0864899554782066,
          -0.19145432530466677,
          1.0263877857566044,
          -1.2426764034787228,
          0.755972690374339,
          -0.3080948937153945,
          -0.9089048202162897,
          0.08773774307987836,
          0.37346578493517113,
          -0.21829959274557942,
          0.7472882772397567,
          0.12475864153448532,
          0.10719084735452485,
          -0.9650709580743985,
          -0.32734725869903164,
          0.290432477796843,
          -0.4318512657465015,
          0.546100087535669,
          0.16882415124890723,
          0.0625627434318641,
          -0.45111345153140514,
          -1.035800298608654,
          -1.1755826012034793,
          -0.5887579822623921,
          -0.936012737378819,
          0.8641850724565397,
          0.2260731732418727,
          -0.0796786180204319,
          0.28979130885627713,
          1.1460541429713298,
          -1.000717010584556,
          -0.6595316037691642,
          1.9016790870899154,
          -0.21940494229947125,
          0.8130959862423774,
          -1.5716840067383513,
          0.8418073633792109,
          0.28950143573949405,
          0.8816021466187254,
          0.5337866283889577,
          0.2715537049077293,
          -0.5984284499957764,
          1.5332171216992303,
          0.7778781429861782,
          0.17196691282409546,
          -0.8117837624181126,
          -0.3023510398571448,
          0.10008463721285718,
          1.3338420511450306,
          -0.7581750788470961,
          0.3016527346606335,
          -0.39718496454650665,
          0.6788152804439113,
          2.152973446351624,
          -0.2730366986958714,
          -0.8681988229280707,
          0.7878230209305109,
          1.2416464932761073,
          1.120402684702779,
          -0.15711509417868788,
          -1.0852033515334814,
          0.2540149848663791,
          -0.9443103947243021,
          0.9616598758998366,
          -0.0063800398525212165
         ],
         "xaxis": "x15",
         "y": [
          -1.3863703005882506,
          0.9561806674417825,
          0.8024482942155324,
          1.3502875548777409,
          -0.11584356492870602,
          0.10367331696848246,
          1.926302269024144,
          1.5771120906387193,
          1.512181985361918,
          -0.04564802133766652,
          0.501311621973258,
          1.073860999955962,
          1.0101192453318664,
          -0.47535900976737633,
          1.2190010760002734,
          -1.2051124722034434,
          -2.470923035842003,
          2.523356604589166,
          0.20803531250547286,
          1.55235556212803,
          0.09649951763697989,
          0.08304102059454187,
          -1.1717205020460235,
          -1.7982933553494254,
          -0.09321011435384796,
          -2.0968477349768113,
          -0.0640547593089291,
          0.9998286136482293,
          -1.3031379435595272,
          -0.09026076492219864,
          1.894838617903795,
          -2.191556038125103,
          -0.4210717492171106,
          -1.195424865623432,
          0.5302085599011223,
          1.1851137109794267,
          -1.1692292675114115,
          -0.913032417499362,
          0.24326871201117606,
          2.1560604672884285,
          -0.6688512174324619,
          1.0200065766367674,
          0.6002331808470721,
          -0.043412156893427166,
          -0.8671513360322314,
          0.2874592347944582,
          -0.6562084436753164,
          -0.14283125440691152,
          -0.491920659839441,
          0.4986039765898339,
          -1.6845497201155823,
          -0.148612857688365,
          -0.04727014898835525,
          -0.14569467345231785,
          -0.734904286077995,
          -0.18368227995621608,
          0.893869005755252,
          0.6589661962741505,
          -0.5623950551486403,
          -1.1683652708102397,
          1.1638027314573847,
          -0.2670817785258052,
          0.3685070651182318,
          -1.047214988857629,
          2.0915845334862495,
          -2.304703641539677,
          0.9362202841423164,
          -0.9929147080569665,
          0.3060436847411801,
          0.2766989502804425,
          1.418180627732183,
          1.0578619287432207,
          1.6376170559858814,
          -0.35472459698035186,
          0.11773476865906649,
          1.160076263349918,
          -0.26390833391661583,
          -0.8091437251617222,
          0.0303119309416289,
          0.5621048300532147,
          -1.2438331785331898,
          1.9229595935911648,
          0.4888912873270648,
          -1.8540611502054942,
          -1.3387978316270563,
          1.412503396034427,
          -0.2401122092435843,
          -0.86010557214549,
          1.6244228971898325,
          0.2888338448708431,
          0.3312228594431208,
          -0.3439553033475485,
          -0.08822405107016175,
          -0.6334445853895129,
          1.608848493642066,
          -0.6335725839225381,
          0.19655516350095992,
          0.1486030674825538,
          -0.7638520137638168,
          2.223452236992757
         ],
         "yaxis": "y15"
        },
        {
         "histfunc": "count",
         "histnorm": "",
         "marker": {
          "color": "rgba(128, 0, 128, 1.0)",
          "line": {
           "color": "#4D5663",
           "width": 1.3
          }
         },
         "name": "D",
         "nbinsx": 10,
         "opacity": 0.8,
         "orientation": "v",
         "type": "histogram",
         "x": [
          -1.3863703005882506,
          0.9561806674417825,
          0.8024482942155324,
          1.3502875548777409,
          -0.11584356492870602,
          0.10367331696848246,
          1.926302269024144,
          1.5771120906387193,
          1.512181985361918,
          -0.04564802133766652,
          0.501311621973258,
          1.073860999955962,
          1.0101192453318664,
          -0.47535900976737633,
          1.2190010760002734,
          -1.2051124722034434,
          -2.470923035842003,
          2.523356604589166,
          0.20803531250547286,
          1.55235556212803,
          0.09649951763697989,
          0.08304102059454187,
          -1.1717205020460235,
          -1.7982933553494254,
          -0.09321011435384796,
          -2.0968477349768113,
          -0.0640547593089291,
          0.9998286136482293,
          -1.3031379435595272,
          -0.09026076492219864,
          1.894838617903795,
          -2.191556038125103,
          -0.4210717492171106,
          -1.195424865623432,
          0.5302085599011223,
          1.1851137109794267,
          -1.1692292675114115,
          -0.913032417499362,
          0.24326871201117606,
          2.1560604672884285,
          -0.6688512174324619,
          1.0200065766367674,
          0.6002331808470721,
          -0.043412156893427166,
          -0.8671513360322314,
          0.2874592347944582,
          -0.6562084436753164,
          -0.14283125440691152,
          -0.491920659839441,
          0.4986039765898339,
          -1.6845497201155823,
          -0.148612857688365,
          -0.04727014898835525,
          -0.14569467345231785,
          -0.734904286077995,
          -0.18368227995621608,
          0.893869005755252,
          0.6589661962741505,
          -0.5623950551486403,
          -1.1683652708102397,
          1.1638027314573847,
          -0.2670817785258052,
          0.3685070651182318,
          -1.047214988857629,
          2.0915845334862495,
          -2.304703641539677,
          0.9362202841423164,
          -0.9929147080569665,
          0.3060436847411801,
          0.2766989502804425,
          1.418180627732183,
          1.0578619287432207,
          1.6376170559858814,
          -0.35472459698035186,
          0.11773476865906649,
          1.160076263349918,
          -0.26390833391661583,
          -0.8091437251617222,
          0.0303119309416289,
          0.5621048300532147,
          -1.2438331785331898,
          1.9229595935911648,
          0.4888912873270648,
          -1.8540611502054942,
          -1.3387978316270563,
          1.412503396034427,
          -0.2401122092435843,
          -0.86010557214549,
          1.6244228971898325,
          0.2888338448708431,
          0.3312228594431208,
          -0.3439553033475485,
          -0.08822405107016175,
          -0.6334445853895129,
          1.608848493642066,
          -0.6335725839225381,
          0.19655516350095992,
          0.1486030674825538,
          -0.7638520137638168,
          2.223452236992757
         ],
         "xaxis": "x16",
         "yaxis": "y16"
        }
       ],
       "layout": {
        "bargap": 0.02,
        "legend": {
         "bgcolor": "#F5F6F9",
         "font": {
          "color": "#4D5663"
         }
        },
        "paper_bgcolor": "#F5F6F9",
        "plot_bgcolor": "#F5F6F9",
        "showlegend": false,
        "template": {
         "data": {
          "bar": [
           {
            "error_x": {
             "color": "#2a3f5f"
            },
            "error_y": {
             "color": "#2a3f5f"
            },
            "marker": {
             "line": {
              "color": "#E5ECF6",
              "width": 0.5
             }
            },
            "type": "bar"
           }
          ],
          "barpolar": [
           {
            "marker": {
             "line": {
              "color": "#E5ECF6",
              "width": 0.5
             }
            },
            "type": "barpolar"
           }
          ],
          "carpet": [
           {
            "aaxis": {
             "endlinecolor": "#2a3f5f",
             "gridcolor": "white",
             "linecolor": "white",
             "minorgridcolor": "white",
             "startlinecolor": "#2a3f5f"
            },
            "baxis": {
             "endlinecolor": "#2a3f5f",
             "gridcolor": "white",
             "linecolor": "white",
             "minorgridcolor": "white",
             "startlinecolor": "#2a3f5f"
            },
            "type": "carpet"
           }
          ],
          "choropleth": [
           {
            "colorbar": {
             "outlinewidth": 0,
             "ticks": ""
            },
            "type": "choropleth"
           }
          ],
          "contour": [
           {
            "colorbar": {
             "outlinewidth": 0,
             "ticks": ""
            },
            "colorscale": [
             [
              0,
              "#0d0887"
             ],
             [
              0.1111111111111111,
              "#46039f"
             ],
             [
              0.2222222222222222,
              "#7201a8"
             ],
             [
              0.3333333333333333,
              "#9c179e"
             ],
             [
              0.4444444444444444,
              "#bd3786"
             ],
             [
              0.5555555555555556,
              "#d8576b"
             ],
             [
              0.6666666666666666,
              "#ed7953"
             ],
             [
              0.7777777777777778,
              "#fb9f3a"
             ],
             [
              0.8888888888888888,
              "#fdca26"
             ],
             [
              1,
              "#f0f921"
             ]
            ],
            "type": "contour"
           }
          ],
          "contourcarpet": [
           {
            "colorbar": {
             "outlinewidth": 0,
             "ticks": ""
            },
            "type": "contourcarpet"
           }
          ],
          "heatmap": [
           {
            "colorbar": {
             "outlinewidth": 0,
             "ticks": ""
            },
            "colorscale": [
             [
              0,
              "#0d0887"
             ],
             [
              0.1111111111111111,
              "#46039f"
             ],
             [
              0.2222222222222222,
              "#7201a8"
             ],
             [
              0.3333333333333333,
              "#9c179e"
             ],
             [
              0.4444444444444444,
              "#bd3786"
             ],
             [
              0.5555555555555556,
              "#d8576b"
             ],
             [
              0.6666666666666666,
              "#ed7953"
             ],
             [
              0.7777777777777778,
              "#fb9f3a"
             ],
             [
              0.8888888888888888,
              "#fdca26"
             ],
             [
              1,
              "#f0f921"
             ]
            ],
            "type": "heatmap"
           }
          ],
          "heatmapgl": [
           {
            "colorbar": {
             "outlinewidth": 0,
             "ticks": ""
            },
            "colorscale": [
             [
              0,
              "#0d0887"
             ],
             [
              0.1111111111111111,
              "#46039f"
             ],
             [
              0.2222222222222222,
              "#7201a8"
             ],
             [
              0.3333333333333333,
              "#9c179e"
             ],
             [
              0.4444444444444444,
              "#bd3786"
             ],
             [
              0.5555555555555556,
              "#d8576b"
             ],
             [
              0.6666666666666666,
              "#ed7953"
             ],
             [
              0.7777777777777778,
              "#fb9f3a"
             ],
             [
              0.8888888888888888,
              "#fdca26"
             ],
             [
              1,
              "#f0f921"
             ]
            ],
            "type": "heatmapgl"
           }
          ],
          "histogram": [
           {
            "marker": {
             "colorbar": {
              "outlinewidth": 0,
              "ticks": ""
             }
            },
            "type": "histogram"
           }
          ],
          "histogram2d": [
           {
            "colorbar": {
             "outlinewidth": 0,
             "ticks": ""
            },
            "colorscale": [
             [
              0,
              "#0d0887"
             ],
             [
              0.1111111111111111,
              "#46039f"
             ],
             [
              0.2222222222222222,
              "#7201a8"
             ],
             [
              0.3333333333333333,
              "#9c179e"
             ],
             [
              0.4444444444444444,
              "#bd3786"
             ],
             [
              0.5555555555555556,
              "#d8576b"
             ],
             [
              0.6666666666666666,
              "#ed7953"
             ],
             [
              0.7777777777777778,
              "#fb9f3a"
             ],
             [
              0.8888888888888888,
              "#fdca26"
             ],
             [
              1,
              "#f0f921"
             ]
            ],
            "type": "histogram2d"
           }
          ],
          "histogram2dcontour": [
           {
            "colorbar": {
             "outlinewidth": 0,
             "ticks": ""
            },
            "colorscale": [
             [
              0,
              "#0d0887"
             ],
             [
              0.1111111111111111,
              "#46039f"
             ],
             [
              0.2222222222222222,
              "#7201a8"
             ],
             [
              0.3333333333333333,
              "#9c179e"
             ],
             [
              0.4444444444444444,
              "#bd3786"
             ],
             [
              0.5555555555555556,
              "#d8576b"
             ],
             [
              0.6666666666666666,
              "#ed7953"
             ],
             [
              0.7777777777777778,
              "#fb9f3a"
             ],
             [
              0.8888888888888888,
              "#fdca26"
             ],
             [
              1,
              "#f0f921"
             ]
            ],
            "type": "histogram2dcontour"
           }
          ],
          "mesh3d": [
           {
            "colorbar": {
             "outlinewidth": 0,
             "ticks": ""
            },
            "type": "mesh3d"
           }
          ],
          "parcoords": [
           {
            "line": {
             "colorbar": {
              "outlinewidth": 0,
              "ticks": ""
             }
            },
            "type": "parcoords"
           }
          ],
          "pie": [
           {
            "automargin": true,
            "type": "pie"
           }
          ],
          "scatter": [
           {
            "marker": {
             "colorbar": {
              "outlinewidth": 0,
              "ticks": ""
             }
            },
            "type": "scatter"
           }
          ],
          "scatter3d": [
           {
            "line": {
             "colorbar": {
              "outlinewidth": 0,
              "ticks": ""
             }
            },
            "marker": {
             "colorbar": {
              "outlinewidth": 0,
              "ticks": ""
             }
            },
            "type": "scatter3d"
           }
          ],
          "scattercarpet": [
           {
            "marker": {
             "colorbar": {
              "outlinewidth": 0,
              "ticks": ""
             }
            },
            "type": "scattercarpet"
           }
          ],
          "scattergeo": [
           {
            "marker": {
             "colorbar": {
              "outlinewidth": 0,
              "ticks": ""
             }
            },
            "type": "scattergeo"
           }
          ],
          "scattergl": [
           {
            "marker": {
             "colorbar": {
              "outlinewidth": 0,
              "ticks": ""
             }
            },
            "type": "scattergl"
           }
          ],
          "scattermapbox": [
           {
            "marker": {
             "colorbar": {
              "outlinewidth": 0,
              "ticks": ""
             }
            },
            "type": "scattermapbox"
           }
          ],
          "scatterpolar": [
           {
            "marker": {
             "colorbar": {
              "outlinewidth": 0,
              "ticks": ""
             }
            },
            "type": "scatterpolar"
           }
          ],
          "scatterpolargl": [
           {
            "marker": {
             "colorbar": {
              "outlinewidth": 0,
              "ticks": ""
             }
            },
            "type": "scatterpolargl"
           }
          ],
          "scatterternary": [
           {
            "marker": {
             "colorbar": {
              "outlinewidth": 0,
              "ticks": ""
             }
            },
            "type": "scatterternary"
           }
          ],
          "surface": [
           {
            "colorbar": {
             "outlinewidth": 0,
             "ticks": ""
            },
            "colorscale": [
             [
              0,
              "#0d0887"
             ],
             [
              0.1111111111111111,
              "#46039f"
             ],
             [
              0.2222222222222222,
              "#7201a8"
             ],
             [
              0.3333333333333333,
              "#9c179e"
             ],
             [
              0.4444444444444444,
              "#bd3786"
             ],
             [
              0.5555555555555556,
              "#d8576b"
             ],
             [
              0.6666666666666666,
              "#ed7953"
             ],
             [
              0.7777777777777778,
              "#fb9f3a"
             ],
             [
              0.8888888888888888,
              "#fdca26"
             ],
             [
              1,
              "#f0f921"
             ]
            ],
            "type": "surface"
           }
          ],
          "table": [
           {
            "cells": {
             "fill": {
              "color": "#EBF0F8"
             },
             "line": {
              "color": "white"
             }
            },
            "header": {
             "fill": {
              "color": "#C8D4E3"
             },
             "line": {
              "color": "white"
             }
            },
            "type": "table"
           }
          ]
         },
         "layout": {
          "annotationdefaults": {
           "arrowcolor": "#2a3f5f",
           "arrowhead": 0,
           "arrowwidth": 1
          },
          "coloraxis": {
           "colorbar": {
            "outlinewidth": 0,
            "ticks": ""
           }
          },
          "colorscale": {
           "diverging": [
            [
             0,
             "#8e0152"
            ],
            [
             0.1,
             "#c51b7d"
            ],
            [
             0.2,
             "#de77ae"
            ],
            [
             0.3,
             "#f1b6da"
            ],
            [
             0.4,
             "#fde0ef"
            ],
            [
             0.5,
             "#f7f7f7"
            ],
            [
             0.6,
             "#e6f5d0"
            ],
            [
             0.7,
             "#b8e186"
            ],
            [
             0.8,
             "#7fbc41"
            ],
            [
             0.9,
             "#4d9221"
            ],
            [
             1,
             "#276419"
            ]
           ],
           "sequential": [
            [
             0,
             "#0d0887"
            ],
            [
             0.1111111111111111,
             "#46039f"
            ],
            [
             0.2222222222222222,
             "#7201a8"
            ],
            [
             0.3333333333333333,
             "#9c179e"
            ],
            [
             0.4444444444444444,
             "#bd3786"
            ],
            [
             0.5555555555555556,
             "#d8576b"
            ],
            [
             0.6666666666666666,
             "#ed7953"
            ],
            [
             0.7777777777777778,
             "#fb9f3a"
            ],
            [
             0.8888888888888888,
             "#fdca26"
            ],
            [
             1,
             "#f0f921"
            ]
           ],
           "sequentialminus": [
            [
             0,
             "#0d0887"
            ],
            [
             0.1111111111111111,
             "#46039f"
            ],
            [
             0.2222222222222222,
             "#7201a8"
            ],
            [
             0.3333333333333333,
             "#9c179e"
            ],
            [
             0.4444444444444444,
             "#bd3786"
            ],
            [
             0.5555555555555556,
             "#d8576b"
            ],
            [
             0.6666666666666666,
             "#ed7953"
            ],
            [
             0.7777777777777778,
             "#fb9f3a"
            ],
            [
             0.8888888888888888,
             "#fdca26"
            ],
            [
             1,
             "#f0f921"
            ]
           ]
          },
          "colorway": [
           "#636efa",
           "#EF553B",
           "#00cc96",
           "#ab63fa",
           "#FFA15A",
           "#19d3f3",
           "#FF6692",
           "#B6E880",
           "#FF97FF",
           "#FECB52"
          ],
          "font": {
           "color": "#2a3f5f"
          },
          "geo": {
           "bgcolor": "white",
           "lakecolor": "white",
           "landcolor": "#E5ECF6",
           "showlakes": true,
           "showland": true,
           "subunitcolor": "white"
          },
          "hoverlabel": {
           "align": "left"
          },
          "hovermode": "closest",
          "mapbox": {
           "style": "light"
          },
          "paper_bgcolor": "white",
          "plot_bgcolor": "#E5ECF6",
          "polar": {
           "angularaxis": {
            "gridcolor": "white",
            "linecolor": "white",
            "ticks": ""
           },
           "bgcolor": "#E5ECF6",
           "radialaxis": {
            "gridcolor": "white",
            "linecolor": "white",
            "ticks": ""
           }
          },
          "scene": {
           "xaxis": {
            "backgroundcolor": "#E5ECF6",
            "gridcolor": "white",
            "gridwidth": 2,
            "linecolor": "white",
            "showbackground": true,
            "ticks": "",
            "zerolinecolor": "white"
           },
           "yaxis": {
            "backgroundcolor": "#E5ECF6",
            "gridcolor": "white",
            "gridwidth": 2,
            "linecolor": "white",
            "showbackground": true,
            "ticks": "",
            "zerolinecolor": "white"
           },
           "zaxis": {
            "backgroundcolor": "#E5ECF6",
            "gridcolor": "white",
            "gridwidth": 2,
            "linecolor": "white",
            "showbackground": true,
            "ticks": "",
            "zerolinecolor": "white"
           }
          },
          "shapedefaults": {
           "line": {
            "color": "#2a3f5f"
           }
          },
          "ternary": {
           "aaxis": {
            "gridcolor": "white",
            "linecolor": "white",
            "ticks": ""
           },
           "baxis": {
            "gridcolor": "white",
            "linecolor": "white",
            "ticks": ""
           },
           "bgcolor": "#E5ECF6",
           "caxis": {
            "gridcolor": "white",
            "linecolor": "white",
            "ticks": ""
           }
          },
          "title": {
           "x": 0.05
          },
          "xaxis": {
           "automargin": true,
           "gridcolor": "white",
           "linecolor": "white",
           "ticks": "",
           "title": {
            "standoff": 15
           },
           "zerolinecolor": "white",
           "zerolinewidth": 2
          },
          "yaxis": {
           "automargin": true,
           "gridcolor": "white",
           "linecolor": "white",
           "ticks": "",
           "title": {
            "standoff": 15
           },
           "zerolinecolor": "white",
           "zerolinewidth": 2
          }
         }
        },
        "title": {
         "font": {
          "color": "#4D5663"
         }
        },
        "xaxis": {
         "anchor": "y",
         "domain": [
          0,
          0.2125
         ],
         "gridcolor": "#E1E5ED",
         "showgrid": false,
         "tickfont": {
          "color": "#4D5663"
         },
         "title": {
          "font": {
           "color": "#4D5663"
          },
          "text": ""
         },
         "zerolinecolor": "#E1E5ED"
        },
        "xaxis10": {
         "anchor": "y10",
         "domain": [
          0.2625,
          0.475
         ],
         "gridcolor": "#E1E5ED",
         "showgrid": false,
         "tickfont": {
          "color": "#4D5663"
         },
         "title": {
          "font": {
           "color": "#4D5663"
          },
          "text": ""
         },
         "zerolinecolor": "#E1E5ED"
        },
        "xaxis11": {
         "anchor": "y11",
         "domain": [
          0.525,
          0.7375
         ],
         "gridcolor": "#E1E5ED",
         "showgrid": false,
         "tickfont": {
          "color": "#4D5663"
         },
         "title": {
          "font": {
           "color": "#4D5663"
          },
          "text": ""
         },
         "zerolinecolor": "#E1E5ED"
        },
        "xaxis12": {
         "anchor": "y12",
         "domain": [
          0.7875,
          1
         ],
         "gridcolor": "#E1E5ED",
         "showgrid": false,
         "tickfont": {
          "color": "#4D5663"
         },
         "title": {
          "font": {
           "color": "#4D5663"
          },
          "text": ""
         },
         "zerolinecolor": "#E1E5ED"
        },
        "xaxis13": {
         "anchor": "y13",
         "domain": [
          0,
          0.2125
         ],
         "gridcolor": "#E1E5ED",
         "showgrid": false,
         "tickfont": {
          "color": "#4D5663"
         },
         "title": {
          "font": {
           "color": "#4D5663"
          },
          "text": ""
         },
         "zerolinecolor": "#E1E5ED"
        },
        "xaxis14": {
         "anchor": "y14",
         "domain": [
          0.2625,
          0.475
         ],
         "gridcolor": "#E1E5ED",
         "showgrid": false,
         "tickfont": {
          "color": "#4D5663"
         },
         "title": {
          "font": {
           "color": "#4D5663"
          },
          "text": ""
         },
         "zerolinecolor": "#E1E5ED"
        },
        "xaxis15": {
         "anchor": "y15",
         "domain": [
          0.525,
          0.7375
         ],
         "gridcolor": "#E1E5ED",
         "showgrid": false,
         "tickfont": {
          "color": "#4D5663"
         },
         "title": {
          "font": {
           "color": "#4D5663"
          },
          "text": ""
         },
         "zerolinecolor": "#E1E5ED"
        },
        "xaxis16": {
         "anchor": "y16",
         "domain": [
          0.7875,
          1
         ],
         "gridcolor": "#E1E5ED",
         "showgrid": false,
         "tickfont": {
          "color": "#4D5663"
         },
         "title": {
          "font": {
           "color": "#4D5663"
          },
          "text": ""
         },
         "zerolinecolor": "#E1E5ED"
        },
        "xaxis2": {
         "anchor": "y2",
         "domain": [
          0.2625,
          0.475
         ],
         "gridcolor": "#E1E5ED",
         "showgrid": false,
         "tickfont": {
          "color": "#4D5663"
         },
         "title": {
          "font": {
           "color": "#4D5663"
          },
          "text": ""
         },
         "zerolinecolor": "#E1E5ED"
        },
        "xaxis3": {
         "anchor": "y3",
         "domain": [
          0.525,
          0.7375
         ],
         "gridcolor": "#E1E5ED",
         "showgrid": false,
         "tickfont": {
          "color": "#4D5663"
         },
         "title": {
          "font": {
           "color": "#4D5663"
          },
          "text": ""
         },
         "zerolinecolor": "#E1E5ED"
        },
        "xaxis4": {
         "anchor": "y4",
         "domain": [
          0.7875,
          1
         ],
         "gridcolor": "#E1E5ED",
         "showgrid": false,
         "tickfont": {
          "color": "#4D5663"
         },
         "title": {
          "font": {
           "color": "#4D5663"
          },
          "text": ""
         },
         "zerolinecolor": "#E1E5ED"
        },
        "xaxis5": {
         "anchor": "y5",
         "domain": [
          0,
          0.2125
         ],
         "gridcolor": "#E1E5ED",
         "showgrid": false,
         "tickfont": {
          "color": "#4D5663"
         },
         "title": {
          "font": {
           "color": "#4D5663"
          },
          "text": ""
         },
         "zerolinecolor": "#E1E5ED"
        },
        "xaxis6": {
         "anchor": "y6",
         "domain": [
          0.2625,
          0.475
         ],
         "gridcolor": "#E1E5ED",
         "showgrid": false,
         "tickfont": {
          "color": "#4D5663"
         },
         "title": {
          "font": {
           "color": "#4D5663"
          },
          "text": ""
         },
         "zerolinecolor": "#E1E5ED"
        },
        "xaxis7": {
         "anchor": "y7",
         "domain": [
          0.525,
          0.7375
         ],
         "gridcolor": "#E1E5ED",
         "showgrid": false,
         "tickfont": {
          "color": "#4D5663"
         },
         "title": {
          "font": {
           "color": "#4D5663"
          },
          "text": ""
         },
         "zerolinecolor": "#E1E5ED"
        },
        "xaxis8": {
         "anchor": "y8",
         "domain": [
          0.7875,
          1
         ],
         "gridcolor": "#E1E5ED",
         "showgrid": false,
         "tickfont": {
          "color": "#4D5663"
         },
         "title": {
          "font": {
           "color": "#4D5663"
          },
          "text": ""
         },
         "zerolinecolor": "#E1E5ED"
        },
        "xaxis9": {
         "anchor": "y9",
         "domain": [
          0,
          0.2125
         ],
         "gridcolor": "#E1E5ED",
         "showgrid": false,
         "tickfont": {
          "color": "#4D5663"
         },
         "title": {
          "font": {
           "color": "#4D5663"
          },
          "text": ""
         },
         "zerolinecolor": "#E1E5ED"
        },
        "yaxis": {
         "anchor": "x",
         "domain": [
          0.8025,
          1
         ],
         "gridcolor": "#E1E5ED",
         "showgrid": false,
         "tickfont": {
          "color": "#4D5663"
         },
         "title": {
          "font": {
           "color": "#4D5663"
          },
          "text": ""
         },
         "zerolinecolor": "#E1E5ED"
        },
        "yaxis10": {
         "anchor": "x10",
         "domain": [
          0.2675,
          0.465
         ],
         "gridcolor": "#E1E5ED",
         "showgrid": false,
         "tickfont": {
          "color": "#4D5663"
         },
         "title": {
          "font": {
           "color": "#4D5663"
          },
          "text": ""
         },
         "zerolinecolor": "#E1E5ED"
        },
        "yaxis11": {
         "anchor": "x11",
         "domain": [
          0.2675,
          0.465
         ],
         "gridcolor": "#E1E5ED",
         "showgrid": false,
         "tickfont": {
          "color": "#4D5663"
         },
         "title": {
          "font": {
           "color": "#4D5663"
          },
          "text": ""
         },
         "zerolinecolor": "#E1E5ED"
        },
        "yaxis12": {
         "anchor": "x12",
         "domain": [
          0.2675,
          0.465
         ],
         "gridcolor": "#E1E5ED",
         "showgrid": false,
         "tickfont": {
          "color": "#4D5663"
         },
         "title": {
          "font": {
           "color": "#4D5663"
          },
          "text": ""
         },
         "zerolinecolor": "#E1E5ED"
        },
        "yaxis13": {
         "anchor": "x13",
         "domain": [
          0,
          0.1975
         ],
         "gridcolor": "#E1E5ED",
         "showgrid": false,
         "tickfont": {
          "color": "#4D5663"
         },
         "title": {
          "font": {
           "color": "#4D5663"
          },
          "text": ""
         },
         "zerolinecolor": "#E1E5ED"
        },
        "yaxis14": {
         "anchor": "x14",
         "domain": [
          0,
          0.1975
         ],
         "gridcolor": "#E1E5ED",
         "showgrid": false,
         "tickfont": {
          "color": "#4D5663"
         },
         "title": {
          "font": {
           "color": "#4D5663"
          },
          "text": ""
         },
         "zerolinecolor": "#E1E5ED"
        },
        "yaxis15": {
         "anchor": "x15",
         "domain": [
          0,
          0.1975
         ],
         "gridcolor": "#E1E5ED",
         "showgrid": false,
         "tickfont": {
          "color": "#4D5663"
         },
         "title": {
          "font": {
           "color": "#4D5663"
          },
          "text": ""
         },
         "zerolinecolor": "#E1E5ED"
        },
        "yaxis16": {
         "anchor": "x16",
         "domain": [
          0,
          0.1975
         ],
         "gridcolor": "#E1E5ED",
         "showgrid": false,
         "tickfont": {
          "color": "#4D5663"
         },
         "title": {
          "font": {
           "color": "#4D5663"
          },
          "text": ""
         },
         "zerolinecolor": "#E1E5ED"
        },
        "yaxis2": {
         "anchor": "x2",
         "domain": [
          0.8025,
          1
         ],
         "gridcolor": "#E1E5ED",
         "showgrid": false,
         "tickfont": {
          "color": "#4D5663"
         },
         "title": {
          "font": {
           "color": "#4D5663"
          },
          "text": ""
         },
         "zerolinecolor": "#E1E5ED"
        },
        "yaxis3": {
         "anchor": "x3",
         "domain": [
          0.8025,
          1
         ],
         "gridcolor": "#E1E5ED",
         "showgrid": false,
         "tickfont": {
          "color": "#4D5663"
         },
         "title": {
          "font": {
           "color": "#4D5663"
          },
          "text": ""
         },
         "zerolinecolor": "#E1E5ED"
        },
        "yaxis4": {
         "anchor": "x4",
         "domain": [
          0.8025,
          1
         ],
         "gridcolor": "#E1E5ED",
         "showgrid": false,
         "tickfont": {
          "color": "#4D5663"
         },
         "title": {
          "font": {
           "color": "#4D5663"
          },
          "text": ""
         },
         "zerolinecolor": "#E1E5ED"
        },
        "yaxis5": {
         "anchor": "x5",
         "domain": [
          0.535,
          0.7325
         ],
         "gridcolor": "#E1E5ED",
         "showgrid": false,
         "tickfont": {
          "color": "#4D5663"
         },
         "title": {
          "font": {
           "color": "#4D5663"
          },
          "text": ""
         },
         "zerolinecolor": "#E1E5ED"
        },
        "yaxis6": {
         "anchor": "x6",
         "domain": [
          0.535,
          0.7325
         ],
         "gridcolor": "#E1E5ED",
         "showgrid": false,
         "tickfont": {
          "color": "#4D5663"
         },
         "title": {
          "font": {
           "color": "#4D5663"
          },
          "text": ""
         },
         "zerolinecolor": "#E1E5ED"
        },
        "yaxis7": {
         "anchor": "x7",
         "domain": [
          0.535,
          0.7325
         ],
         "gridcolor": "#E1E5ED",
         "showgrid": false,
         "tickfont": {
          "color": "#4D5663"
         },
         "title": {
          "font": {
           "color": "#4D5663"
          },
          "text": ""
         },
         "zerolinecolor": "#E1E5ED"
        },
        "yaxis8": {
         "anchor": "x8",
         "domain": [
          0.535,
          0.7325
         ],
         "gridcolor": "#E1E5ED",
         "showgrid": false,
         "tickfont": {
          "color": "#4D5663"
         },
         "title": {
          "font": {
           "color": "#4D5663"
          },
          "text": ""
         },
         "zerolinecolor": "#E1E5ED"
        },
        "yaxis9": {
         "anchor": "x9",
         "domain": [
          0.2675,
          0.465
         ],
         "gridcolor": "#E1E5ED",
         "showgrid": false,
         "tickfont": {
          "color": "#4D5663"
         },
         "title": {
          "font": {
           "color": "#4D5663"
          },
          "text": ""
         },
         "zerolinecolor": "#E1E5ED"
        }
       }
      },
      "text/html": [
       "<div>\n",
       "        \n",
       "        \n",
       "            <div id=\"ccfe7603-ea19-4b4b-bcb3-cf7b70e2f084\" class=\"plotly-graph-div\" style=\"height:525px; width:100%;\"></div>\n",
       "            <script type=\"text/javascript\">\n",
       "                require([\"plotly\"], function(Plotly) {\n",
       "                    window.PLOTLYENV=window.PLOTLYENV || {};\n",
       "                    window.PLOTLYENV.BASE_URL='https://plot.ly';\n",
       "                    \n",
       "                if (document.getElementById(\"ccfe7603-ea19-4b4b-bcb3-cf7b70e2f084\")) {\n",
       "                    Plotly.newPlot(\n",
       "                        'ccfe7603-ea19-4b4b-bcb3-cf7b70e2f084',\n",
       "                        [{\"histfunc\": \"count\", \"histnorm\": \"\", \"marker\": {\"color\": \"rgba(255, 153, 51, 1.0)\", \"line\": {\"color\": \"#4D5663\", \"width\": 1.3}}, \"name\": \"A\", \"nbinsx\": 10, \"opacity\": 0.8, \"orientation\": \"v\", \"type\": \"histogram\", \"x\": [1.5101490399848538, -0.6405275834738976, -0.512955812775037, 1.9945535110166155, 0.7239546875357956, 0.8193567705112613, 1.192205706744129, -0.06787383362506158, -0.9802554854905633, 0.6983271064470218, -0.09113355613425492, 1.2313007346971012, 0.5877414638414414, 0.44701759506099287, -1.4625771180718434, -2.652004600843019, 0.09877482172888144, 1.1629678060014554, 0.7691594293148781, -0.1364317997818323, -0.16022426763322922, 0.325414195254767, 0.2688277762024969, 1.841688695638128, -0.3097790041736717, -0.27035022527693, -0.3223095653633265, -0.1461980419232848, 2.3170839799717053, 1.8369084706357632, -0.7221143171938086, -0.6348791926259997, 0.041316979821828165, -2.6008465783966845, 0.1232552893656748, 0.7240482389471554, -1.1566478307252988, 0.06803529895168065, -0.08971460905870797, 0.18012357430894557, 0.9225730627109227, -1.445603452520163, -0.2895665306804073, 0.09538268325347563, 1.287372036995754, -0.6105013600450948, -0.7654308216950918, 0.6525813929540183, 1.3259746476590089, 2.3626108894511493, -0.8445790982577436, 0.01824503703149911, -0.9283950022622932, 0.33636857025188516, -0.8613816355113362, 0.40466279012072576, 0.8363332121586713, -1.239556920419094, 0.27739221030357436, -0.4021079811857981, 1.4712926754951638, 0.25657991140085984, -0.8310974348171803, 0.6114113100084001, -0.955427588323675, 0.5184833162831455, -1.0452960939323077, 0.4667513077038204, -0.723458426308934, -2.5867925551081035, 0.7903424657093867, -0.4936357686129681, -0.7627359863188906, 0.3536789889194609, -1.2902491381524273, 0.1912991604086632, 0.9121151372265259, 0.7373090629882498, 0.5037650361608089, 1.1318384618076784, -0.32154075364181933, 0.9361876383988863, 1.0476083383554216, 0.4720998866594356, -0.4088347948063875, -0.2047000651934584, -0.8547597310671836, 0.9836937217040943, 1.5744087429243852, 1.4033565625484767, -0.7242927426020687, -0.6910896152379462, 0.7961011916043215, -0.1451686332386725, 0.23618649203945938, -0.9005205826485293, 0.5929153455591286, -1.3558193667814635, 1.555509083173195, 1.5661931184442937], \"xaxis\": \"x\", \"yaxis\": \"y\"}, {\"line\": {\"color\": \"rgba(128, 128, 128, 1.0)\", \"dash\": \"solid\", \"shape\": \"linear\", \"width\": 1.3}, \"marker\": {\"size\": 2, \"symbol\": \"circle\"}, \"mode\": \"markers\", \"name\": \"A\", \"text\": \"\", \"type\": \"scatter\", \"x\": [0.054979191128094816, 1.4368555640509848, -0.22607750843614138, 0.20147652277293557, -1.4555502346439408, 1.235727105253792, 0.45538137880566887, -1.3010732893534303, -1.2691000601151483, 1.6370568366415919, 0.3071655217652912, -0.5990722768644184, -2.647254678769929, 0.702738372406523, 0.07191205239778133, 1.2001027658925585, 0.3102254510934988, -2.907098840258816, -1.2688217753814637, -0.9838590414229287, 0.9115690199446567, 0.9469701010827166, 0.15696478517473111, 1.6471109893762343, -0.8977548136067434, -0.9199482432111052, 0.8687462611039781, -0.49259127413312087, 1.9997186565748608, 0.28299432369597044, 0.5636013029300263, -0.533031353093187, -2.3004571749120823, 0.5371737481378878, 0.8350225602155451, -0.5948402186277807, -0.1895541588040986, -0.05861025295657063, -2.0990765127482067, 0.12005665584931399, -1.1097215512147067, 0.3041362882859407, 0.9611494673654635, -0.7724740028745279, 1.8364041184574287, 0.5150682119767902, -0.7953027555580844, 1.5755045849174594, -0.8625472207013256, -0.3765871069608661, -0.35965627007750917, 0.8907945673388414, -0.5211463173335591, 0.229942887701415, 1.2070059543372178, -1.747909478166768, -1.2544204297967272, -0.39345806939876377, 1.3525798011451498, -1.5634681769462817, 1.5231440386058803, 0.5615698709650291, -0.5986586180194643, 0.060079755434575555, 2.140389869307584, 0.11628915233426852, 0.5943641768616253, 1.4935800759035067, -0.4025470502298976, -2.179590754822418, 0.46750448914317605, 1.477145305796776, -1.665319404483263, 0.3085561347371331, -0.3453710286044497, 0.5562338663194516, -0.2790322781489596, -0.9642744260233003, -0.4545174340207927, -0.23539992106019608, -0.7628340515598176, -1.5311459626066464, 0.7231843780477117, 0.44513667647675115, 0.7252438502557419, 0.010664927582359943, -1.2889237131715514, 0.9850276280938937, 0.24092972415915567, -0.9866877607378947, -2.154137554731013, -0.1285673748219936, -0.24435316549739328, 0.7796057011313241, -0.37089112604330343, 1.7190997934959267, 0.11110381508124938, -0.19742003370703887, 0.3459687603740203, -1.1825722115533015], \"xaxis\": \"x2\", \"y\": [1.5101490399848538, -0.6405275834738976, -0.512955812775037, 1.9945535110166155, 0.7239546875357956, 0.8193567705112613, 1.192205706744129, -0.06787383362506158, -0.9802554854905633, 0.6983271064470218, -0.09113355613425492, 1.2313007346971012, 0.5877414638414414, 0.44701759506099287, -1.4625771180718434, -2.652004600843019, 0.09877482172888144, 1.1629678060014554, 0.7691594293148781, -0.1364317997818323, -0.16022426763322922, 0.325414195254767, 0.2688277762024969, 1.841688695638128, -0.3097790041736717, -0.27035022527693, -0.3223095653633265, -0.1461980419232848, 2.3170839799717053, 1.8369084706357632, -0.7221143171938086, -0.6348791926259997, 0.041316979821828165, -2.6008465783966845, 0.1232552893656748, 0.7240482389471554, -1.1566478307252988, 0.06803529895168065, -0.08971460905870797, 0.18012357430894557, 0.9225730627109227, -1.445603452520163, -0.2895665306804073, 0.09538268325347563, 1.287372036995754, -0.6105013600450948, -0.7654308216950918, 0.6525813929540183, 1.3259746476590089, 2.3626108894511493, -0.8445790982577436, 0.01824503703149911, -0.9283950022622932, 0.33636857025188516, -0.8613816355113362, 0.40466279012072576, 0.8363332121586713, -1.239556920419094, 0.27739221030357436, -0.4021079811857981, 1.4712926754951638, 0.25657991140085984, -0.8310974348171803, 0.6114113100084001, -0.955427588323675, 0.5184833162831455, -1.0452960939323077, 0.4667513077038204, -0.723458426308934, -2.5867925551081035, 0.7903424657093867, -0.4936357686129681, -0.7627359863188906, 0.3536789889194609, -1.2902491381524273, 0.1912991604086632, 0.9121151372265259, 0.7373090629882498, 0.5037650361608089, 1.1318384618076784, -0.32154075364181933, 0.9361876383988863, 1.0476083383554216, 0.4720998866594356, -0.4088347948063875, -0.2047000651934584, -0.8547597310671836, 0.9836937217040943, 1.5744087429243852, 1.4033565625484767, -0.7242927426020687, -0.6910896152379462, 0.7961011916043215, -0.1451686332386725, 0.23618649203945938, -0.9005205826485293, 0.5929153455591286, -1.3558193667814635, 1.555509083173195, 1.5661931184442937], \"yaxis\": \"y2\"}, {\"line\": {\"color\": \"rgba(128, 128, 128, 1.0)\", \"dash\": \"solid\", \"shape\": \"linear\", \"width\": 1.3}, \"marker\": {\"size\": 2, \"symbol\": \"circle\"}, \"mode\": \"markers\", \"name\": \"A\", \"text\": \"\", \"type\": \"scatter\", \"x\": [-0.3699781401072991, 0.014666525778796255, 1.0530454979308128, 1.3347242185804256, 0.43905726188422833, -0.5693718713084631, -2.25535961919125, -0.7152786630596007, -0.09561467051906766, 0.8003395212866454, -1.2647570835866317, 1.053283591042986, -0.0983263703685516, -0.2540368996779051, 0.3870154878492967, 1.726478466346719, 0.5732071431879369, 2.2150632282989857, 0.31910035503356143, 0.28982242092364024, -1.148567074313695, 0.15395629071155595, 1.525463781739682, 0.07066215676636697, 0.8978878304568622, 1.1280238256836097, 1.2725713345243703, 0.7396102639233508, 0.8697856004738943, 1.7159182149501446, 0.5654919600474853, 0.8783803882689514, -0.22443173904006908, 0.7903887495024083, -1.1356650018129308, 1.0864899554782066, -0.19145432530466677, 1.0263877857566044, -1.2426764034787228, 0.755972690374339, -0.3080948937153945, -0.9089048202162897, 0.08773774307987836, 0.37346578493517113, -0.21829959274557942, 0.7472882772397567, 0.12475864153448532, 0.10719084735452485, -0.9650709580743985, -0.32734725869903164, 0.290432477796843, -0.4318512657465015, 0.546100087535669, 0.16882415124890723, 0.0625627434318641, -0.45111345153140514, -1.035800298608654, -1.1755826012034793, -0.5887579822623921, -0.936012737378819, 0.8641850724565397, 0.2260731732418727, -0.0796786180204319, 0.28979130885627713, 1.1460541429713298, -1.000717010584556, -0.6595316037691642, 1.9016790870899154, -0.21940494229947125, 0.8130959862423774, -1.5716840067383513, 0.8418073633792109, 0.28950143573949405, 0.8816021466187254, 0.5337866283889577, 0.2715537049077293, -0.5984284499957764, 1.5332171216992303, 0.7778781429861782, 0.17196691282409546, -0.8117837624181126, -0.3023510398571448, 0.10008463721285718, 1.3338420511450306, -0.7581750788470961, 0.3016527346606335, -0.39718496454650665, 0.6788152804439113, 2.152973446351624, -0.2730366986958714, -0.8681988229280707, 0.7878230209305109, 1.2416464932761073, 1.120402684702779, -0.15711509417868788, -1.0852033515334814, 0.2540149848663791, -0.9443103947243021, 0.9616598758998366, -0.0063800398525212165], \"xaxis\": \"x3\", \"y\": [1.5101490399848538, -0.6405275834738976, -0.512955812775037, 1.9945535110166155, 0.7239546875357956, 0.8193567705112613, 1.192205706744129, -0.06787383362506158, -0.9802554854905633, 0.6983271064470218, -0.09113355613425492, 1.2313007346971012, 0.5877414638414414, 0.44701759506099287, -1.4625771180718434, -2.652004600843019, 0.09877482172888144, 1.1629678060014554, 0.7691594293148781, -0.1364317997818323, -0.16022426763322922, 0.325414195254767, 0.2688277762024969, 1.841688695638128, -0.3097790041736717, -0.27035022527693, -0.3223095653633265, -0.1461980419232848, 2.3170839799717053, 1.8369084706357632, -0.7221143171938086, -0.6348791926259997, 0.041316979821828165, -2.6008465783966845, 0.1232552893656748, 0.7240482389471554, -1.1566478307252988, 0.06803529895168065, -0.08971460905870797, 0.18012357430894557, 0.9225730627109227, -1.445603452520163, -0.2895665306804073, 0.09538268325347563, 1.287372036995754, -0.6105013600450948, -0.7654308216950918, 0.6525813929540183, 1.3259746476590089, 2.3626108894511493, -0.8445790982577436, 0.01824503703149911, -0.9283950022622932, 0.33636857025188516, -0.8613816355113362, 0.40466279012072576, 0.8363332121586713, -1.239556920419094, 0.27739221030357436, -0.4021079811857981, 1.4712926754951638, 0.25657991140085984, -0.8310974348171803, 0.6114113100084001, -0.955427588323675, 0.5184833162831455, -1.0452960939323077, 0.4667513077038204, -0.723458426308934, -2.5867925551081035, 0.7903424657093867, -0.4936357686129681, -0.7627359863188906, 0.3536789889194609, -1.2902491381524273, 0.1912991604086632, 0.9121151372265259, 0.7373090629882498, 0.5037650361608089, 1.1318384618076784, -0.32154075364181933, 0.9361876383988863, 1.0476083383554216, 0.4720998866594356, -0.4088347948063875, -0.2047000651934584, -0.8547597310671836, 0.9836937217040943, 1.5744087429243852, 1.4033565625484767, -0.7242927426020687, -0.6910896152379462, 0.7961011916043215, -0.1451686332386725, 0.23618649203945938, -0.9005205826485293, 0.5929153455591286, -1.3558193667814635, 1.555509083173195, 1.5661931184442937], \"yaxis\": \"y3\"}, {\"line\": {\"color\": \"rgba(128, 128, 128, 1.0)\", \"dash\": \"solid\", \"shape\": \"linear\", \"width\": 1.3}, \"marker\": {\"size\": 2, \"symbol\": \"circle\"}, \"mode\": \"markers\", \"name\": \"A\", \"text\": \"\", \"type\": \"scatter\", \"x\": [-1.3863703005882506, 0.9561806674417825, 0.8024482942155324, 1.3502875548777409, -0.11584356492870602, 0.10367331696848246, 1.926302269024144, 1.5771120906387193, 1.512181985361918, -0.04564802133766652, 0.501311621973258, 1.073860999955962, 1.0101192453318664, -0.47535900976737633, 1.2190010760002734, -1.2051124722034434, -2.470923035842003, 2.523356604589166, 0.20803531250547286, 1.55235556212803, 0.09649951763697989, 0.08304102059454187, -1.1717205020460235, -1.7982933553494254, -0.09321011435384796, -2.0968477349768113, -0.0640547593089291, 0.9998286136482293, -1.3031379435595272, -0.09026076492219864, 1.894838617903795, -2.191556038125103, -0.4210717492171106, -1.195424865623432, 0.5302085599011223, 1.1851137109794267, -1.1692292675114115, -0.913032417499362, 0.24326871201117606, 2.1560604672884285, -0.6688512174324619, 1.0200065766367674, 0.6002331808470721, -0.043412156893427166, -0.8671513360322314, 0.2874592347944582, -0.6562084436753164, -0.14283125440691152, -0.491920659839441, 0.4986039765898339, -1.6845497201155823, -0.148612857688365, -0.04727014898835525, -0.14569467345231785, -0.734904286077995, -0.18368227995621608, 0.893869005755252, 0.6589661962741505, -0.5623950551486403, -1.1683652708102397, 1.1638027314573847, -0.2670817785258052, 0.3685070651182318, -1.047214988857629, 2.0915845334862495, -2.304703641539677, 0.9362202841423164, -0.9929147080569665, 0.3060436847411801, 0.2766989502804425, 1.418180627732183, 1.0578619287432207, 1.6376170559858814, -0.35472459698035186, 0.11773476865906649, 1.160076263349918, -0.26390833391661583, -0.8091437251617222, 0.0303119309416289, 0.5621048300532147, -1.2438331785331898, 1.9229595935911648, 0.4888912873270648, -1.8540611502054942, -1.3387978316270563, 1.412503396034427, -0.2401122092435843, -0.86010557214549, 1.6244228971898325, 0.2888338448708431, 0.3312228594431208, -0.3439553033475485, -0.08822405107016175, -0.6334445853895129, 1.608848493642066, -0.6335725839225381, 0.19655516350095992, 0.1486030674825538, -0.7638520137638168, 2.223452236992757], \"xaxis\": \"x4\", \"y\": [1.5101490399848538, -0.6405275834738976, -0.512955812775037, 1.9945535110166155, 0.7239546875357956, 0.8193567705112613, 1.192205706744129, -0.06787383362506158, -0.9802554854905633, 0.6983271064470218, -0.09113355613425492, 1.2313007346971012, 0.5877414638414414, 0.44701759506099287, -1.4625771180718434, -2.652004600843019, 0.09877482172888144, 1.1629678060014554, 0.7691594293148781, -0.1364317997818323, -0.16022426763322922, 0.325414195254767, 0.2688277762024969, 1.841688695638128, -0.3097790041736717, -0.27035022527693, -0.3223095653633265, -0.1461980419232848, 2.3170839799717053, 1.8369084706357632, -0.7221143171938086, -0.6348791926259997, 0.041316979821828165, -2.6008465783966845, 0.1232552893656748, 0.7240482389471554, -1.1566478307252988, 0.06803529895168065, -0.08971460905870797, 0.18012357430894557, 0.9225730627109227, -1.445603452520163, -0.2895665306804073, 0.09538268325347563, 1.287372036995754, -0.6105013600450948, -0.7654308216950918, 0.6525813929540183, 1.3259746476590089, 2.3626108894511493, -0.8445790982577436, 0.01824503703149911, -0.9283950022622932, 0.33636857025188516, -0.8613816355113362, 0.40466279012072576, 0.8363332121586713, -1.239556920419094, 0.27739221030357436, -0.4021079811857981, 1.4712926754951638, 0.25657991140085984, -0.8310974348171803, 0.6114113100084001, -0.955427588323675, 0.5184833162831455, -1.0452960939323077, 0.4667513077038204, -0.723458426308934, -2.5867925551081035, 0.7903424657093867, -0.4936357686129681, -0.7627359863188906, 0.3536789889194609, -1.2902491381524273, 0.1912991604086632, 0.9121151372265259, 0.7373090629882498, 0.5037650361608089, 1.1318384618076784, -0.32154075364181933, 0.9361876383988863, 1.0476083383554216, 0.4720998866594356, -0.4088347948063875, -0.2047000651934584, -0.8547597310671836, 0.9836937217040943, 1.5744087429243852, 1.4033565625484767, -0.7242927426020687, -0.6910896152379462, 0.7961011916043215, -0.1451686332386725, 0.23618649203945938, -0.9005205826485293, 0.5929153455591286, -1.3558193667814635, 1.555509083173195, 1.5661931184442937], \"yaxis\": \"y4\"}, {\"line\": {\"color\": \"rgba(128, 128, 128, 1.0)\", \"dash\": \"solid\", \"shape\": \"linear\", \"width\": 1.3}, \"marker\": {\"size\": 2, \"symbol\": \"circle\"}, \"mode\": \"markers\", \"name\": \"B\", \"text\": \"\", \"type\": \"scatter\", \"x\": [1.5101490399848538, -0.6405275834738976, -0.512955812775037, 1.9945535110166155, 0.7239546875357956, 0.8193567705112613, 1.192205706744129, -0.06787383362506158, -0.9802554854905633, 0.6983271064470218, -0.09113355613425492, 1.2313007346971012, 0.5877414638414414, 0.44701759506099287, -1.4625771180718434, -2.652004600843019, 0.09877482172888144, 1.1629678060014554, 0.7691594293148781, -0.1364317997818323, -0.16022426763322922, 0.325414195254767, 0.2688277762024969, 1.841688695638128, -0.3097790041736717, -0.27035022527693, -0.3223095653633265, -0.1461980419232848, 2.3170839799717053, 1.8369084706357632, -0.7221143171938086, -0.6348791926259997, 0.041316979821828165, -2.6008465783966845, 0.1232552893656748, 0.7240482389471554, -1.1566478307252988, 0.06803529895168065, -0.08971460905870797, 0.18012357430894557, 0.9225730627109227, -1.445603452520163, -0.2895665306804073, 0.09538268325347563, 1.287372036995754, -0.6105013600450948, -0.7654308216950918, 0.6525813929540183, 1.3259746476590089, 2.3626108894511493, -0.8445790982577436, 0.01824503703149911, -0.9283950022622932, 0.33636857025188516, -0.8613816355113362, 0.40466279012072576, 0.8363332121586713, -1.239556920419094, 0.27739221030357436, -0.4021079811857981, 1.4712926754951638, 0.25657991140085984, -0.8310974348171803, 0.6114113100084001, -0.955427588323675, 0.5184833162831455, -1.0452960939323077, 0.4667513077038204, -0.723458426308934, -2.5867925551081035, 0.7903424657093867, -0.4936357686129681, -0.7627359863188906, 0.3536789889194609, -1.2902491381524273, 0.1912991604086632, 0.9121151372265259, 0.7373090629882498, 0.5037650361608089, 1.1318384618076784, -0.32154075364181933, 0.9361876383988863, 1.0476083383554216, 0.4720998866594356, -0.4088347948063875, -0.2047000651934584, -0.8547597310671836, 0.9836937217040943, 1.5744087429243852, 1.4033565625484767, -0.7242927426020687, -0.6910896152379462, 0.7961011916043215, -0.1451686332386725, 0.23618649203945938, -0.9005205826485293, 0.5929153455591286, -1.3558193667814635, 1.555509083173195, 1.5661931184442937], \"xaxis\": \"x5\", \"y\": [0.054979191128094816, 1.4368555640509848, -0.22607750843614138, 0.20147652277293557, -1.4555502346439408, 1.235727105253792, 0.45538137880566887, -1.3010732893534303, -1.2691000601151483, 1.6370568366415919, 0.3071655217652912, -0.5990722768644184, -2.647254678769929, 0.702738372406523, 0.07191205239778133, 1.2001027658925585, 0.3102254510934988, -2.907098840258816, -1.2688217753814637, -0.9838590414229287, 0.9115690199446567, 0.9469701010827166, 0.15696478517473111, 1.6471109893762343, -0.8977548136067434, -0.9199482432111052, 0.8687462611039781, -0.49259127413312087, 1.9997186565748608, 0.28299432369597044, 0.5636013029300263, -0.533031353093187, -2.3004571749120823, 0.5371737481378878, 0.8350225602155451, -0.5948402186277807, -0.1895541588040986, -0.05861025295657063, -2.0990765127482067, 0.12005665584931399, -1.1097215512147067, 0.3041362882859407, 0.9611494673654635, -0.7724740028745279, 1.8364041184574287, 0.5150682119767902, -0.7953027555580844, 1.5755045849174594, -0.8625472207013256, -0.3765871069608661, -0.35965627007750917, 0.8907945673388414, -0.5211463173335591, 0.229942887701415, 1.2070059543372178, -1.747909478166768, -1.2544204297967272, -0.39345806939876377, 1.3525798011451498, -1.5634681769462817, 1.5231440386058803, 0.5615698709650291, -0.5986586180194643, 0.060079755434575555, 2.140389869307584, 0.11628915233426852, 0.5943641768616253, 1.4935800759035067, -0.4025470502298976, -2.179590754822418, 0.46750448914317605, 1.477145305796776, -1.665319404483263, 0.3085561347371331, -0.3453710286044497, 0.5562338663194516, -0.2790322781489596, -0.9642744260233003, -0.4545174340207927, -0.23539992106019608, -0.7628340515598176, -1.5311459626066464, 0.7231843780477117, 0.44513667647675115, 0.7252438502557419, 0.010664927582359943, -1.2889237131715514, 0.9850276280938937, 0.24092972415915567, -0.9866877607378947, -2.154137554731013, -0.1285673748219936, -0.24435316549739328, 0.7796057011313241, -0.37089112604330343, 1.7190997934959267, 0.11110381508124938, -0.19742003370703887, 0.3459687603740203, -1.1825722115533015], \"yaxis\": \"y5\"}, {\"histfunc\": \"count\", \"histnorm\": \"\", \"marker\": {\"color\": \"rgba(55, 128, 191, 1.0)\", \"line\": {\"color\": \"#4D5663\", \"width\": 1.3}}, \"name\": \"B\", \"nbinsx\": 10, \"opacity\": 0.8, \"orientation\": \"v\", \"type\": \"histogram\", \"x\": [0.054979191128094816, 1.4368555640509848, -0.22607750843614138, 0.20147652277293557, -1.4555502346439408, 1.235727105253792, 0.45538137880566887, -1.3010732893534303, -1.2691000601151483, 1.6370568366415919, 0.3071655217652912, -0.5990722768644184, -2.647254678769929, 0.702738372406523, 0.07191205239778133, 1.2001027658925585, 0.3102254510934988, -2.907098840258816, -1.2688217753814637, -0.9838590414229287, 0.9115690199446567, 0.9469701010827166, 0.15696478517473111, 1.6471109893762343, -0.8977548136067434, -0.9199482432111052, 0.8687462611039781, -0.49259127413312087, 1.9997186565748608, 0.28299432369597044, 0.5636013029300263, -0.533031353093187, -2.3004571749120823, 0.5371737481378878, 0.8350225602155451, -0.5948402186277807, -0.1895541588040986, -0.05861025295657063, -2.0990765127482067, 0.12005665584931399, -1.1097215512147067, 0.3041362882859407, 0.9611494673654635, -0.7724740028745279, 1.8364041184574287, 0.5150682119767902, -0.7953027555580844, 1.5755045849174594, -0.8625472207013256, -0.3765871069608661, -0.35965627007750917, 0.8907945673388414, -0.5211463173335591, 0.229942887701415, 1.2070059543372178, -1.747909478166768, -1.2544204297967272, -0.39345806939876377, 1.3525798011451498, -1.5634681769462817, 1.5231440386058803, 0.5615698709650291, -0.5986586180194643, 0.060079755434575555, 2.140389869307584, 0.11628915233426852, 0.5943641768616253, 1.4935800759035067, -0.4025470502298976, -2.179590754822418, 0.46750448914317605, 1.477145305796776, -1.665319404483263, 0.3085561347371331, -0.3453710286044497, 0.5562338663194516, -0.2790322781489596, -0.9642744260233003, -0.4545174340207927, -0.23539992106019608, -0.7628340515598176, -1.5311459626066464, 0.7231843780477117, 0.44513667647675115, 0.7252438502557419, 0.010664927582359943, -1.2889237131715514, 0.9850276280938937, 0.24092972415915567, -0.9866877607378947, -2.154137554731013, -0.1285673748219936, -0.24435316549739328, 0.7796057011313241, -0.37089112604330343, 1.7190997934959267, 0.11110381508124938, -0.19742003370703887, 0.3459687603740203, -1.1825722115533015], \"xaxis\": \"x6\", \"yaxis\": \"y6\"}, {\"line\": {\"color\": \"rgba(128, 128, 128, 1.0)\", \"dash\": \"solid\", \"shape\": \"linear\", \"width\": 1.3}, \"marker\": {\"size\": 2, \"symbol\": \"circle\"}, \"mode\": \"markers\", \"name\": \"B\", \"text\": \"\", \"type\": \"scatter\", \"x\": [-0.3699781401072991, 0.014666525778796255, 1.0530454979308128, 1.3347242185804256, 0.43905726188422833, -0.5693718713084631, -2.25535961919125, -0.7152786630596007, -0.09561467051906766, 0.8003395212866454, -1.2647570835866317, 1.053283591042986, -0.0983263703685516, -0.2540368996779051, 0.3870154878492967, 1.726478466346719, 0.5732071431879369, 2.2150632282989857, 0.31910035503356143, 0.28982242092364024, -1.148567074313695, 0.15395629071155595, 1.525463781739682, 0.07066215676636697, 0.8978878304568622, 1.1280238256836097, 1.2725713345243703, 0.7396102639233508, 0.8697856004738943, 1.7159182149501446, 0.5654919600474853, 0.8783803882689514, -0.22443173904006908, 0.7903887495024083, -1.1356650018129308, 1.0864899554782066, -0.19145432530466677, 1.0263877857566044, -1.2426764034787228, 0.755972690374339, -0.3080948937153945, -0.9089048202162897, 0.08773774307987836, 0.37346578493517113, -0.21829959274557942, 0.7472882772397567, 0.12475864153448532, 0.10719084735452485, -0.9650709580743985, -0.32734725869903164, 0.290432477796843, -0.4318512657465015, 0.546100087535669, 0.16882415124890723, 0.0625627434318641, -0.45111345153140514, -1.035800298608654, -1.1755826012034793, -0.5887579822623921, -0.936012737378819, 0.8641850724565397, 0.2260731732418727, -0.0796786180204319, 0.28979130885627713, 1.1460541429713298, -1.000717010584556, -0.6595316037691642, 1.9016790870899154, -0.21940494229947125, 0.8130959862423774, -1.5716840067383513, 0.8418073633792109, 0.28950143573949405, 0.8816021466187254, 0.5337866283889577, 0.2715537049077293, -0.5984284499957764, 1.5332171216992303, 0.7778781429861782, 0.17196691282409546, -0.8117837624181126, -0.3023510398571448, 0.10008463721285718, 1.3338420511450306, -0.7581750788470961, 0.3016527346606335, -0.39718496454650665, 0.6788152804439113, 2.152973446351624, -0.2730366986958714, -0.8681988229280707, 0.7878230209305109, 1.2416464932761073, 1.120402684702779, -0.15711509417868788, -1.0852033515334814, 0.2540149848663791, -0.9443103947243021, 0.9616598758998366, -0.0063800398525212165], \"xaxis\": \"x7\", \"y\": [0.054979191128094816, 1.4368555640509848, -0.22607750843614138, 0.20147652277293557, -1.4555502346439408, 1.235727105253792, 0.45538137880566887, -1.3010732893534303, -1.2691000601151483, 1.6370568366415919, 0.3071655217652912, -0.5990722768644184, -2.647254678769929, 0.702738372406523, 0.07191205239778133, 1.2001027658925585, 0.3102254510934988, -2.907098840258816, -1.2688217753814637, -0.9838590414229287, 0.9115690199446567, 0.9469701010827166, 0.15696478517473111, 1.6471109893762343, -0.8977548136067434, -0.9199482432111052, 0.8687462611039781, -0.49259127413312087, 1.9997186565748608, 0.28299432369597044, 0.5636013029300263, -0.533031353093187, -2.3004571749120823, 0.5371737481378878, 0.8350225602155451, -0.5948402186277807, -0.1895541588040986, -0.05861025295657063, -2.0990765127482067, 0.12005665584931399, -1.1097215512147067, 0.3041362882859407, 0.9611494673654635, -0.7724740028745279, 1.8364041184574287, 0.5150682119767902, -0.7953027555580844, 1.5755045849174594, -0.8625472207013256, -0.3765871069608661, -0.35965627007750917, 0.8907945673388414, -0.5211463173335591, 0.229942887701415, 1.2070059543372178, -1.747909478166768, -1.2544204297967272, -0.39345806939876377, 1.3525798011451498, -1.5634681769462817, 1.5231440386058803, 0.5615698709650291, -0.5986586180194643, 0.060079755434575555, 2.140389869307584, 0.11628915233426852, 0.5943641768616253, 1.4935800759035067, -0.4025470502298976, -2.179590754822418, 0.46750448914317605, 1.477145305796776, -1.665319404483263, 0.3085561347371331, -0.3453710286044497, 0.5562338663194516, -0.2790322781489596, -0.9642744260233003, -0.4545174340207927, -0.23539992106019608, -0.7628340515598176, -1.5311459626066464, 0.7231843780477117, 0.44513667647675115, 0.7252438502557419, 0.010664927582359943, -1.2889237131715514, 0.9850276280938937, 0.24092972415915567, -0.9866877607378947, -2.154137554731013, -0.1285673748219936, -0.24435316549739328, 0.7796057011313241, -0.37089112604330343, 1.7190997934959267, 0.11110381508124938, -0.19742003370703887, 0.3459687603740203, -1.1825722115533015], \"yaxis\": \"y7\"}, {\"line\": {\"color\": \"rgba(128, 128, 128, 1.0)\", \"dash\": \"solid\", \"shape\": \"linear\", \"width\": 1.3}, \"marker\": {\"size\": 2, \"symbol\": \"circle\"}, \"mode\": \"markers\", \"name\": \"B\", \"text\": \"\", \"type\": \"scatter\", \"x\": [-1.3863703005882506, 0.9561806674417825, 0.8024482942155324, 1.3502875548777409, -0.11584356492870602, 0.10367331696848246, 1.926302269024144, 1.5771120906387193, 1.512181985361918, -0.04564802133766652, 0.501311621973258, 1.073860999955962, 1.0101192453318664, -0.47535900976737633, 1.2190010760002734, -1.2051124722034434, -2.470923035842003, 2.523356604589166, 0.20803531250547286, 1.55235556212803, 0.09649951763697989, 0.08304102059454187, -1.1717205020460235, -1.7982933553494254, -0.09321011435384796, -2.0968477349768113, -0.0640547593089291, 0.9998286136482293, -1.3031379435595272, -0.09026076492219864, 1.894838617903795, -2.191556038125103, -0.4210717492171106, -1.195424865623432, 0.5302085599011223, 1.1851137109794267, -1.1692292675114115, -0.913032417499362, 0.24326871201117606, 2.1560604672884285, -0.6688512174324619, 1.0200065766367674, 0.6002331808470721, -0.043412156893427166, -0.8671513360322314, 0.2874592347944582, -0.6562084436753164, -0.14283125440691152, -0.491920659839441, 0.4986039765898339, -1.6845497201155823, -0.148612857688365, -0.04727014898835525, -0.14569467345231785, -0.734904286077995, -0.18368227995621608, 0.893869005755252, 0.6589661962741505, -0.5623950551486403, -1.1683652708102397, 1.1638027314573847, -0.2670817785258052, 0.3685070651182318, -1.047214988857629, 2.0915845334862495, -2.304703641539677, 0.9362202841423164, -0.9929147080569665, 0.3060436847411801, 0.2766989502804425, 1.418180627732183, 1.0578619287432207, 1.6376170559858814, -0.35472459698035186, 0.11773476865906649, 1.160076263349918, -0.26390833391661583, -0.8091437251617222, 0.0303119309416289, 0.5621048300532147, -1.2438331785331898, 1.9229595935911648, 0.4888912873270648, -1.8540611502054942, -1.3387978316270563, 1.412503396034427, -0.2401122092435843, -0.86010557214549, 1.6244228971898325, 0.2888338448708431, 0.3312228594431208, -0.3439553033475485, -0.08822405107016175, -0.6334445853895129, 1.608848493642066, -0.6335725839225381, 0.19655516350095992, 0.1486030674825538, -0.7638520137638168, 2.223452236992757], \"xaxis\": \"x8\", \"y\": [0.054979191128094816, 1.4368555640509848, -0.22607750843614138, 0.20147652277293557, -1.4555502346439408, 1.235727105253792, 0.45538137880566887, -1.3010732893534303, -1.2691000601151483, 1.6370568366415919, 0.3071655217652912, -0.5990722768644184, -2.647254678769929, 0.702738372406523, 0.07191205239778133, 1.2001027658925585, 0.3102254510934988, -2.907098840258816, -1.2688217753814637, -0.9838590414229287, 0.9115690199446567, 0.9469701010827166, 0.15696478517473111, 1.6471109893762343, -0.8977548136067434, -0.9199482432111052, 0.8687462611039781, -0.49259127413312087, 1.9997186565748608, 0.28299432369597044, 0.5636013029300263, -0.533031353093187, -2.3004571749120823, 0.5371737481378878, 0.8350225602155451, -0.5948402186277807, -0.1895541588040986, -0.05861025295657063, -2.0990765127482067, 0.12005665584931399, -1.1097215512147067, 0.3041362882859407, 0.9611494673654635, -0.7724740028745279, 1.8364041184574287, 0.5150682119767902, -0.7953027555580844, 1.5755045849174594, -0.8625472207013256, -0.3765871069608661, -0.35965627007750917, 0.8907945673388414, -0.5211463173335591, 0.229942887701415, 1.2070059543372178, -1.747909478166768, -1.2544204297967272, -0.39345806939876377, 1.3525798011451498, -1.5634681769462817, 1.5231440386058803, 0.5615698709650291, -0.5986586180194643, 0.060079755434575555, 2.140389869307584, 0.11628915233426852, 0.5943641768616253, 1.4935800759035067, -0.4025470502298976, -2.179590754822418, 0.46750448914317605, 1.477145305796776, -1.665319404483263, 0.3085561347371331, -0.3453710286044497, 0.5562338663194516, -0.2790322781489596, -0.9642744260233003, -0.4545174340207927, -0.23539992106019608, -0.7628340515598176, -1.5311459626066464, 0.7231843780477117, 0.44513667647675115, 0.7252438502557419, 0.010664927582359943, -1.2889237131715514, 0.9850276280938937, 0.24092972415915567, -0.9866877607378947, -2.154137554731013, -0.1285673748219936, -0.24435316549739328, 0.7796057011313241, -0.37089112604330343, 1.7190997934959267, 0.11110381508124938, -0.19742003370703887, 0.3459687603740203, -1.1825722115533015], \"yaxis\": \"y8\"}, {\"line\": {\"color\": \"rgba(128, 128, 128, 1.0)\", \"dash\": \"solid\", \"shape\": \"linear\", \"width\": 1.3}, \"marker\": {\"size\": 2, \"symbol\": \"circle\"}, \"mode\": \"markers\", \"name\": \"C\", \"text\": \"\", \"type\": \"scatter\", \"x\": [1.5101490399848538, -0.6405275834738976, -0.512955812775037, 1.9945535110166155, 0.7239546875357956, 0.8193567705112613, 1.192205706744129, -0.06787383362506158, -0.9802554854905633, 0.6983271064470218, -0.09113355613425492, 1.2313007346971012, 0.5877414638414414, 0.44701759506099287, -1.4625771180718434, -2.652004600843019, 0.09877482172888144, 1.1629678060014554, 0.7691594293148781, -0.1364317997818323, -0.16022426763322922, 0.325414195254767, 0.2688277762024969, 1.841688695638128, -0.3097790041736717, -0.27035022527693, -0.3223095653633265, -0.1461980419232848, 2.3170839799717053, 1.8369084706357632, -0.7221143171938086, -0.6348791926259997, 0.041316979821828165, -2.6008465783966845, 0.1232552893656748, 0.7240482389471554, -1.1566478307252988, 0.06803529895168065, -0.08971460905870797, 0.18012357430894557, 0.9225730627109227, -1.445603452520163, -0.2895665306804073, 0.09538268325347563, 1.287372036995754, -0.6105013600450948, -0.7654308216950918, 0.6525813929540183, 1.3259746476590089, 2.3626108894511493, -0.8445790982577436, 0.01824503703149911, -0.9283950022622932, 0.33636857025188516, -0.8613816355113362, 0.40466279012072576, 0.8363332121586713, -1.239556920419094, 0.27739221030357436, -0.4021079811857981, 1.4712926754951638, 0.25657991140085984, -0.8310974348171803, 0.6114113100084001, -0.955427588323675, 0.5184833162831455, -1.0452960939323077, 0.4667513077038204, -0.723458426308934, -2.5867925551081035, 0.7903424657093867, -0.4936357686129681, -0.7627359863188906, 0.3536789889194609, -1.2902491381524273, 0.1912991604086632, 0.9121151372265259, 0.7373090629882498, 0.5037650361608089, 1.1318384618076784, -0.32154075364181933, 0.9361876383988863, 1.0476083383554216, 0.4720998866594356, -0.4088347948063875, -0.2047000651934584, -0.8547597310671836, 0.9836937217040943, 1.5744087429243852, 1.4033565625484767, -0.7242927426020687, -0.6910896152379462, 0.7961011916043215, -0.1451686332386725, 0.23618649203945938, -0.9005205826485293, 0.5929153455591286, -1.3558193667814635, 1.555509083173195, 1.5661931184442937], \"xaxis\": \"x9\", \"y\": [-0.3699781401072991, 0.014666525778796255, 1.0530454979308128, 1.3347242185804256, 0.43905726188422833, -0.5693718713084631, -2.25535961919125, -0.7152786630596007, -0.09561467051906766, 0.8003395212866454, -1.2647570835866317, 1.053283591042986, -0.0983263703685516, -0.2540368996779051, 0.3870154878492967, 1.726478466346719, 0.5732071431879369, 2.2150632282989857, 0.31910035503356143, 0.28982242092364024, -1.148567074313695, 0.15395629071155595, 1.525463781739682, 0.07066215676636697, 0.8978878304568622, 1.1280238256836097, 1.2725713345243703, 0.7396102639233508, 0.8697856004738943, 1.7159182149501446, 0.5654919600474853, 0.8783803882689514, -0.22443173904006908, 0.7903887495024083, -1.1356650018129308, 1.0864899554782066, -0.19145432530466677, 1.0263877857566044, -1.2426764034787228, 0.755972690374339, -0.3080948937153945, -0.9089048202162897, 0.08773774307987836, 0.37346578493517113, -0.21829959274557942, 0.7472882772397567, 0.12475864153448532, 0.10719084735452485, -0.9650709580743985, -0.32734725869903164, 0.290432477796843, -0.4318512657465015, 0.546100087535669, 0.16882415124890723, 0.0625627434318641, -0.45111345153140514, -1.035800298608654, -1.1755826012034793, -0.5887579822623921, -0.936012737378819, 0.8641850724565397, 0.2260731732418727, -0.0796786180204319, 0.28979130885627713, 1.1460541429713298, -1.000717010584556, -0.6595316037691642, 1.9016790870899154, -0.21940494229947125, 0.8130959862423774, -1.5716840067383513, 0.8418073633792109, 0.28950143573949405, 0.8816021466187254, 0.5337866283889577, 0.2715537049077293, -0.5984284499957764, 1.5332171216992303, 0.7778781429861782, 0.17196691282409546, -0.8117837624181126, -0.3023510398571448, 0.10008463721285718, 1.3338420511450306, -0.7581750788470961, 0.3016527346606335, -0.39718496454650665, 0.6788152804439113, 2.152973446351624, -0.2730366986958714, -0.8681988229280707, 0.7878230209305109, 1.2416464932761073, 1.120402684702779, -0.15711509417868788, -1.0852033515334814, 0.2540149848663791, -0.9443103947243021, 0.9616598758998366, -0.0063800398525212165], \"yaxis\": \"y9\"}, {\"line\": {\"color\": \"rgba(128, 128, 128, 1.0)\", \"dash\": \"solid\", \"shape\": \"linear\", \"width\": 1.3}, \"marker\": {\"size\": 2, \"symbol\": \"circle\"}, \"mode\": \"markers\", \"name\": \"C\", \"text\": \"\", \"type\": \"scatter\", \"x\": [0.054979191128094816, 1.4368555640509848, -0.22607750843614138, 0.20147652277293557, -1.4555502346439408, 1.235727105253792, 0.45538137880566887, -1.3010732893534303, -1.2691000601151483, 1.6370568366415919, 0.3071655217652912, -0.5990722768644184, -2.647254678769929, 0.702738372406523, 0.07191205239778133, 1.2001027658925585, 0.3102254510934988, -2.907098840258816, -1.2688217753814637, -0.9838590414229287, 0.9115690199446567, 0.9469701010827166, 0.15696478517473111, 1.6471109893762343, -0.8977548136067434, -0.9199482432111052, 0.8687462611039781, -0.49259127413312087, 1.9997186565748608, 0.28299432369597044, 0.5636013029300263, -0.533031353093187, -2.3004571749120823, 0.5371737481378878, 0.8350225602155451, -0.5948402186277807, -0.1895541588040986, -0.05861025295657063, -2.0990765127482067, 0.12005665584931399, -1.1097215512147067, 0.3041362882859407, 0.9611494673654635, -0.7724740028745279, 1.8364041184574287, 0.5150682119767902, -0.7953027555580844, 1.5755045849174594, -0.8625472207013256, -0.3765871069608661, -0.35965627007750917, 0.8907945673388414, -0.5211463173335591, 0.229942887701415, 1.2070059543372178, -1.747909478166768, -1.2544204297967272, -0.39345806939876377, 1.3525798011451498, -1.5634681769462817, 1.5231440386058803, 0.5615698709650291, -0.5986586180194643, 0.060079755434575555, 2.140389869307584, 0.11628915233426852, 0.5943641768616253, 1.4935800759035067, -0.4025470502298976, -2.179590754822418, 0.46750448914317605, 1.477145305796776, -1.665319404483263, 0.3085561347371331, -0.3453710286044497, 0.5562338663194516, -0.2790322781489596, -0.9642744260233003, -0.4545174340207927, -0.23539992106019608, -0.7628340515598176, -1.5311459626066464, 0.7231843780477117, 0.44513667647675115, 0.7252438502557419, 0.010664927582359943, -1.2889237131715514, 0.9850276280938937, 0.24092972415915567, -0.9866877607378947, -2.154137554731013, -0.1285673748219936, -0.24435316549739328, 0.7796057011313241, -0.37089112604330343, 1.7190997934959267, 0.11110381508124938, -0.19742003370703887, 0.3459687603740203, -1.1825722115533015], \"xaxis\": \"x10\", \"y\": [-0.3699781401072991, 0.014666525778796255, 1.0530454979308128, 1.3347242185804256, 0.43905726188422833, -0.5693718713084631, -2.25535961919125, -0.7152786630596007, -0.09561467051906766, 0.8003395212866454, -1.2647570835866317, 1.053283591042986, -0.0983263703685516, -0.2540368996779051, 0.3870154878492967, 1.726478466346719, 0.5732071431879369, 2.2150632282989857, 0.31910035503356143, 0.28982242092364024, -1.148567074313695, 0.15395629071155595, 1.525463781739682, 0.07066215676636697, 0.8978878304568622, 1.1280238256836097, 1.2725713345243703, 0.7396102639233508, 0.8697856004738943, 1.7159182149501446, 0.5654919600474853, 0.8783803882689514, -0.22443173904006908, 0.7903887495024083, -1.1356650018129308, 1.0864899554782066, -0.19145432530466677, 1.0263877857566044, -1.2426764034787228, 0.755972690374339, -0.3080948937153945, -0.9089048202162897, 0.08773774307987836, 0.37346578493517113, -0.21829959274557942, 0.7472882772397567, 0.12475864153448532, 0.10719084735452485, -0.9650709580743985, -0.32734725869903164, 0.290432477796843, -0.4318512657465015, 0.546100087535669, 0.16882415124890723, 0.0625627434318641, -0.45111345153140514, -1.035800298608654, -1.1755826012034793, -0.5887579822623921, -0.936012737378819, 0.8641850724565397, 0.2260731732418727, -0.0796786180204319, 0.28979130885627713, 1.1460541429713298, -1.000717010584556, -0.6595316037691642, 1.9016790870899154, -0.21940494229947125, 0.8130959862423774, -1.5716840067383513, 0.8418073633792109, 0.28950143573949405, 0.8816021466187254, 0.5337866283889577, 0.2715537049077293, -0.5984284499957764, 1.5332171216992303, 0.7778781429861782, 0.17196691282409546, -0.8117837624181126, -0.3023510398571448, 0.10008463721285718, 1.3338420511450306, -0.7581750788470961, 0.3016527346606335, -0.39718496454650665, 0.6788152804439113, 2.152973446351624, -0.2730366986958714, -0.8681988229280707, 0.7878230209305109, 1.2416464932761073, 1.120402684702779, -0.15711509417868788, -1.0852033515334814, 0.2540149848663791, -0.9443103947243021, 0.9616598758998366, -0.0063800398525212165], \"yaxis\": \"y10\"}, {\"histfunc\": \"count\", \"histnorm\": \"\", \"marker\": {\"color\": \"rgba(50, 171, 96, 1.0)\", \"line\": {\"color\": \"#4D5663\", \"width\": 1.3}}, \"name\": \"C\", \"nbinsx\": 10, \"opacity\": 0.8, \"orientation\": \"v\", \"type\": \"histogram\", \"x\": [-0.3699781401072991, 0.014666525778796255, 1.0530454979308128, 1.3347242185804256, 0.43905726188422833, -0.5693718713084631, -2.25535961919125, -0.7152786630596007, -0.09561467051906766, 0.8003395212866454, -1.2647570835866317, 1.053283591042986, -0.0983263703685516, -0.2540368996779051, 0.3870154878492967, 1.726478466346719, 0.5732071431879369, 2.2150632282989857, 0.31910035503356143, 0.28982242092364024, -1.148567074313695, 0.15395629071155595, 1.525463781739682, 0.07066215676636697, 0.8978878304568622, 1.1280238256836097, 1.2725713345243703, 0.7396102639233508, 0.8697856004738943, 1.7159182149501446, 0.5654919600474853, 0.8783803882689514, -0.22443173904006908, 0.7903887495024083, -1.1356650018129308, 1.0864899554782066, -0.19145432530466677, 1.0263877857566044, -1.2426764034787228, 0.755972690374339, -0.3080948937153945, -0.9089048202162897, 0.08773774307987836, 0.37346578493517113, -0.21829959274557942, 0.7472882772397567, 0.12475864153448532, 0.10719084735452485, -0.9650709580743985, -0.32734725869903164, 0.290432477796843, -0.4318512657465015, 0.546100087535669, 0.16882415124890723, 0.0625627434318641, -0.45111345153140514, -1.035800298608654, -1.1755826012034793, -0.5887579822623921, -0.936012737378819, 0.8641850724565397, 0.2260731732418727, -0.0796786180204319, 0.28979130885627713, 1.1460541429713298, -1.000717010584556, -0.6595316037691642, 1.9016790870899154, -0.21940494229947125, 0.8130959862423774, -1.5716840067383513, 0.8418073633792109, 0.28950143573949405, 0.8816021466187254, 0.5337866283889577, 0.2715537049077293, -0.5984284499957764, 1.5332171216992303, 0.7778781429861782, 0.17196691282409546, -0.8117837624181126, -0.3023510398571448, 0.10008463721285718, 1.3338420511450306, -0.7581750788470961, 0.3016527346606335, -0.39718496454650665, 0.6788152804439113, 2.152973446351624, -0.2730366986958714, -0.8681988229280707, 0.7878230209305109, 1.2416464932761073, 1.120402684702779, -0.15711509417868788, -1.0852033515334814, 0.2540149848663791, -0.9443103947243021, 0.9616598758998366, -0.0063800398525212165], \"xaxis\": \"x11\", \"yaxis\": \"y11\"}, {\"line\": {\"color\": \"rgba(128, 128, 128, 1.0)\", \"dash\": \"solid\", \"shape\": \"linear\", \"width\": 1.3}, \"marker\": {\"size\": 2, \"symbol\": \"circle\"}, \"mode\": \"markers\", \"name\": \"C\", \"text\": \"\", \"type\": \"scatter\", \"x\": [-1.3863703005882506, 0.9561806674417825, 0.8024482942155324, 1.3502875548777409, -0.11584356492870602, 0.10367331696848246, 1.926302269024144, 1.5771120906387193, 1.512181985361918, -0.04564802133766652, 0.501311621973258, 1.073860999955962, 1.0101192453318664, -0.47535900976737633, 1.2190010760002734, -1.2051124722034434, -2.470923035842003, 2.523356604589166, 0.20803531250547286, 1.55235556212803, 0.09649951763697989, 0.08304102059454187, -1.1717205020460235, -1.7982933553494254, -0.09321011435384796, -2.0968477349768113, -0.0640547593089291, 0.9998286136482293, -1.3031379435595272, -0.09026076492219864, 1.894838617903795, -2.191556038125103, -0.4210717492171106, -1.195424865623432, 0.5302085599011223, 1.1851137109794267, -1.1692292675114115, -0.913032417499362, 0.24326871201117606, 2.1560604672884285, -0.6688512174324619, 1.0200065766367674, 0.6002331808470721, -0.043412156893427166, -0.8671513360322314, 0.2874592347944582, -0.6562084436753164, -0.14283125440691152, -0.491920659839441, 0.4986039765898339, -1.6845497201155823, -0.148612857688365, -0.04727014898835525, -0.14569467345231785, -0.734904286077995, -0.18368227995621608, 0.893869005755252, 0.6589661962741505, -0.5623950551486403, -1.1683652708102397, 1.1638027314573847, -0.2670817785258052, 0.3685070651182318, -1.047214988857629, 2.0915845334862495, -2.304703641539677, 0.9362202841423164, -0.9929147080569665, 0.3060436847411801, 0.2766989502804425, 1.418180627732183, 1.0578619287432207, 1.6376170559858814, -0.35472459698035186, 0.11773476865906649, 1.160076263349918, -0.26390833391661583, -0.8091437251617222, 0.0303119309416289, 0.5621048300532147, -1.2438331785331898, 1.9229595935911648, 0.4888912873270648, -1.8540611502054942, -1.3387978316270563, 1.412503396034427, -0.2401122092435843, -0.86010557214549, 1.6244228971898325, 0.2888338448708431, 0.3312228594431208, -0.3439553033475485, -0.08822405107016175, -0.6334445853895129, 1.608848493642066, -0.6335725839225381, 0.19655516350095992, 0.1486030674825538, -0.7638520137638168, 2.223452236992757], \"xaxis\": \"x12\", \"y\": [-0.3699781401072991, 0.014666525778796255, 1.0530454979308128, 1.3347242185804256, 0.43905726188422833, -0.5693718713084631, -2.25535961919125, -0.7152786630596007, -0.09561467051906766, 0.8003395212866454, -1.2647570835866317, 1.053283591042986, -0.0983263703685516, -0.2540368996779051, 0.3870154878492967, 1.726478466346719, 0.5732071431879369, 2.2150632282989857, 0.31910035503356143, 0.28982242092364024, -1.148567074313695, 0.15395629071155595, 1.525463781739682, 0.07066215676636697, 0.8978878304568622, 1.1280238256836097, 1.2725713345243703, 0.7396102639233508, 0.8697856004738943, 1.7159182149501446, 0.5654919600474853, 0.8783803882689514, -0.22443173904006908, 0.7903887495024083, -1.1356650018129308, 1.0864899554782066, -0.19145432530466677, 1.0263877857566044, -1.2426764034787228, 0.755972690374339, -0.3080948937153945, -0.9089048202162897, 0.08773774307987836, 0.37346578493517113, -0.21829959274557942, 0.7472882772397567, 0.12475864153448532, 0.10719084735452485, -0.9650709580743985, -0.32734725869903164, 0.290432477796843, -0.4318512657465015, 0.546100087535669, 0.16882415124890723, 0.0625627434318641, -0.45111345153140514, -1.035800298608654, -1.1755826012034793, -0.5887579822623921, -0.936012737378819, 0.8641850724565397, 0.2260731732418727, -0.0796786180204319, 0.28979130885627713, 1.1460541429713298, -1.000717010584556, -0.6595316037691642, 1.9016790870899154, -0.21940494229947125, 0.8130959862423774, -1.5716840067383513, 0.8418073633792109, 0.28950143573949405, 0.8816021466187254, 0.5337866283889577, 0.2715537049077293, -0.5984284499957764, 1.5332171216992303, 0.7778781429861782, 0.17196691282409546, -0.8117837624181126, -0.3023510398571448, 0.10008463721285718, 1.3338420511450306, -0.7581750788470961, 0.3016527346606335, -0.39718496454650665, 0.6788152804439113, 2.152973446351624, -0.2730366986958714, -0.8681988229280707, 0.7878230209305109, 1.2416464932761073, 1.120402684702779, -0.15711509417868788, -1.0852033515334814, 0.2540149848663791, -0.9443103947243021, 0.9616598758998366, -0.0063800398525212165], \"yaxis\": \"y12\"}, {\"line\": {\"color\": \"rgba(128, 128, 128, 1.0)\", \"dash\": \"solid\", \"shape\": \"linear\", \"width\": 1.3}, \"marker\": {\"size\": 2, \"symbol\": \"circle\"}, \"mode\": \"markers\", \"name\": \"D\", \"text\": \"\", \"type\": \"scatter\", \"x\": [1.5101490399848538, -0.6405275834738976, -0.512955812775037, 1.9945535110166155, 0.7239546875357956, 0.8193567705112613, 1.192205706744129, -0.06787383362506158, -0.9802554854905633, 0.6983271064470218, -0.09113355613425492, 1.2313007346971012, 0.5877414638414414, 0.44701759506099287, -1.4625771180718434, -2.652004600843019, 0.09877482172888144, 1.1629678060014554, 0.7691594293148781, -0.1364317997818323, -0.16022426763322922, 0.325414195254767, 0.2688277762024969, 1.841688695638128, -0.3097790041736717, -0.27035022527693, -0.3223095653633265, -0.1461980419232848, 2.3170839799717053, 1.8369084706357632, -0.7221143171938086, -0.6348791926259997, 0.041316979821828165, -2.6008465783966845, 0.1232552893656748, 0.7240482389471554, -1.1566478307252988, 0.06803529895168065, -0.08971460905870797, 0.18012357430894557, 0.9225730627109227, -1.445603452520163, -0.2895665306804073, 0.09538268325347563, 1.287372036995754, -0.6105013600450948, -0.7654308216950918, 0.6525813929540183, 1.3259746476590089, 2.3626108894511493, -0.8445790982577436, 0.01824503703149911, -0.9283950022622932, 0.33636857025188516, -0.8613816355113362, 0.40466279012072576, 0.8363332121586713, -1.239556920419094, 0.27739221030357436, -0.4021079811857981, 1.4712926754951638, 0.25657991140085984, -0.8310974348171803, 0.6114113100084001, -0.955427588323675, 0.5184833162831455, -1.0452960939323077, 0.4667513077038204, -0.723458426308934, -2.5867925551081035, 0.7903424657093867, -0.4936357686129681, -0.7627359863188906, 0.3536789889194609, -1.2902491381524273, 0.1912991604086632, 0.9121151372265259, 0.7373090629882498, 0.5037650361608089, 1.1318384618076784, -0.32154075364181933, 0.9361876383988863, 1.0476083383554216, 0.4720998866594356, -0.4088347948063875, -0.2047000651934584, -0.8547597310671836, 0.9836937217040943, 1.5744087429243852, 1.4033565625484767, -0.7242927426020687, -0.6910896152379462, 0.7961011916043215, -0.1451686332386725, 0.23618649203945938, -0.9005205826485293, 0.5929153455591286, -1.3558193667814635, 1.555509083173195, 1.5661931184442937], \"xaxis\": \"x13\", \"y\": [-1.3863703005882506, 0.9561806674417825, 0.8024482942155324, 1.3502875548777409, -0.11584356492870602, 0.10367331696848246, 1.926302269024144, 1.5771120906387193, 1.512181985361918, -0.04564802133766652, 0.501311621973258, 1.073860999955962, 1.0101192453318664, -0.47535900976737633, 1.2190010760002734, -1.2051124722034434, -2.470923035842003, 2.523356604589166, 0.20803531250547286, 1.55235556212803, 0.09649951763697989, 0.08304102059454187, -1.1717205020460235, -1.7982933553494254, -0.09321011435384796, -2.0968477349768113, -0.0640547593089291, 0.9998286136482293, -1.3031379435595272, -0.09026076492219864, 1.894838617903795, -2.191556038125103, -0.4210717492171106, -1.195424865623432, 0.5302085599011223, 1.1851137109794267, -1.1692292675114115, -0.913032417499362, 0.24326871201117606, 2.1560604672884285, -0.6688512174324619, 1.0200065766367674, 0.6002331808470721, -0.043412156893427166, -0.8671513360322314, 0.2874592347944582, -0.6562084436753164, -0.14283125440691152, -0.491920659839441, 0.4986039765898339, -1.6845497201155823, -0.148612857688365, -0.04727014898835525, -0.14569467345231785, -0.734904286077995, -0.18368227995621608, 0.893869005755252, 0.6589661962741505, -0.5623950551486403, -1.1683652708102397, 1.1638027314573847, -0.2670817785258052, 0.3685070651182318, -1.047214988857629, 2.0915845334862495, -2.304703641539677, 0.9362202841423164, -0.9929147080569665, 0.3060436847411801, 0.2766989502804425, 1.418180627732183, 1.0578619287432207, 1.6376170559858814, -0.35472459698035186, 0.11773476865906649, 1.160076263349918, -0.26390833391661583, -0.8091437251617222, 0.0303119309416289, 0.5621048300532147, -1.2438331785331898, 1.9229595935911648, 0.4888912873270648, -1.8540611502054942, -1.3387978316270563, 1.412503396034427, -0.2401122092435843, -0.86010557214549, 1.6244228971898325, 0.2888338448708431, 0.3312228594431208, -0.3439553033475485, -0.08822405107016175, -0.6334445853895129, 1.608848493642066, -0.6335725839225381, 0.19655516350095992, 0.1486030674825538, -0.7638520137638168, 2.223452236992757], \"yaxis\": \"y13\"}, {\"line\": {\"color\": \"rgba(128, 128, 128, 1.0)\", \"dash\": \"solid\", \"shape\": \"linear\", \"width\": 1.3}, \"marker\": {\"size\": 2, \"symbol\": \"circle\"}, \"mode\": \"markers\", \"name\": \"D\", \"text\": \"\", \"type\": \"scatter\", \"x\": [0.054979191128094816, 1.4368555640509848, -0.22607750843614138, 0.20147652277293557, -1.4555502346439408, 1.235727105253792, 0.45538137880566887, -1.3010732893534303, -1.2691000601151483, 1.6370568366415919, 0.3071655217652912, -0.5990722768644184, -2.647254678769929, 0.702738372406523, 0.07191205239778133, 1.2001027658925585, 0.3102254510934988, -2.907098840258816, -1.2688217753814637, -0.9838590414229287, 0.9115690199446567, 0.9469701010827166, 0.15696478517473111, 1.6471109893762343, -0.8977548136067434, -0.9199482432111052, 0.8687462611039781, -0.49259127413312087, 1.9997186565748608, 0.28299432369597044, 0.5636013029300263, -0.533031353093187, -2.3004571749120823, 0.5371737481378878, 0.8350225602155451, -0.5948402186277807, -0.1895541588040986, -0.05861025295657063, -2.0990765127482067, 0.12005665584931399, -1.1097215512147067, 0.3041362882859407, 0.9611494673654635, -0.7724740028745279, 1.8364041184574287, 0.5150682119767902, -0.7953027555580844, 1.5755045849174594, -0.8625472207013256, -0.3765871069608661, -0.35965627007750917, 0.8907945673388414, -0.5211463173335591, 0.229942887701415, 1.2070059543372178, -1.747909478166768, -1.2544204297967272, -0.39345806939876377, 1.3525798011451498, -1.5634681769462817, 1.5231440386058803, 0.5615698709650291, -0.5986586180194643, 0.060079755434575555, 2.140389869307584, 0.11628915233426852, 0.5943641768616253, 1.4935800759035067, -0.4025470502298976, -2.179590754822418, 0.46750448914317605, 1.477145305796776, -1.665319404483263, 0.3085561347371331, -0.3453710286044497, 0.5562338663194516, -0.2790322781489596, -0.9642744260233003, -0.4545174340207927, -0.23539992106019608, -0.7628340515598176, -1.5311459626066464, 0.7231843780477117, 0.44513667647675115, 0.7252438502557419, 0.010664927582359943, -1.2889237131715514, 0.9850276280938937, 0.24092972415915567, -0.9866877607378947, -2.154137554731013, -0.1285673748219936, -0.24435316549739328, 0.7796057011313241, -0.37089112604330343, 1.7190997934959267, 0.11110381508124938, -0.19742003370703887, 0.3459687603740203, -1.1825722115533015], \"xaxis\": \"x14\", \"y\": [-1.3863703005882506, 0.9561806674417825, 0.8024482942155324, 1.3502875548777409, -0.11584356492870602, 0.10367331696848246, 1.926302269024144, 1.5771120906387193, 1.512181985361918, -0.04564802133766652, 0.501311621973258, 1.073860999955962, 1.0101192453318664, -0.47535900976737633, 1.2190010760002734, -1.2051124722034434, -2.470923035842003, 2.523356604589166, 0.20803531250547286, 1.55235556212803, 0.09649951763697989, 0.08304102059454187, -1.1717205020460235, -1.7982933553494254, -0.09321011435384796, -2.0968477349768113, -0.0640547593089291, 0.9998286136482293, -1.3031379435595272, -0.09026076492219864, 1.894838617903795, -2.191556038125103, -0.4210717492171106, -1.195424865623432, 0.5302085599011223, 1.1851137109794267, -1.1692292675114115, -0.913032417499362, 0.24326871201117606, 2.1560604672884285, -0.6688512174324619, 1.0200065766367674, 0.6002331808470721, -0.043412156893427166, -0.8671513360322314, 0.2874592347944582, -0.6562084436753164, -0.14283125440691152, -0.491920659839441, 0.4986039765898339, -1.6845497201155823, -0.148612857688365, -0.04727014898835525, -0.14569467345231785, -0.734904286077995, -0.18368227995621608, 0.893869005755252, 0.6589661962741505, -0.5623950551486403, -1.1683652708102397, 1.1638027314573847, -0.2670817785258052, 0.3685070651182318, -1.047214988857629, 2.0915845334862495, -2.304703641539677, 0.9362202841423164, -0.9929147080569665, 0.3060436847411801, 0.2766989502804425, 1.418180627732183, 1.0578619287432207, 1.6376170559858814, -0.35472459698035186, 0.11773476865906649, 1.160076263349918, -0.26390833391661583, -0.8091437251617222, 0.0303119309416289, 0.5621048300532147, -1.2438331785331898, 1.9229595935911648, 0.4888912873270648, -1.8540611502054942, -1.3387978316270563, 1.412503396034427, -0.2401122092435843, -0.86010557214549, 1.6244228971898325, 0.2888338448708431, 0.3312228594431208, -0.3439553033475485, -0.08822405107016175, -0.6334445853895129, 1.608848493642066, -0.6335725839225381, 0.19655516350095992, 0.1486030674825538, -0.7638520137638168, 2.223452236992757], \"yaxis\": \"y14\"}, {\"line\": {\"color\": \"rgba(128, 128, 128, 1.0)\", \"dash\": \"solid\", \"shape\": \"linear\", \"width\": 1.3}, \"marker\": {\"size\": 2, \"symbol\": \"circle\"}, \"mode\": \"markers\", \"name\": \"D\", \"text\": \"\", \"type\": \"scatter\", \"x\": [-0.3699781401072991, 0.014666525778796255, 1.0530454979308128, 1.3347242185804256, 0.43905726188422833, -0.5693718713084631, -2.25535961919125, -0.7152786630596007, -0.09561467051906766, 0.8003395212866454, -1.2647570835866317, 1.053283591042986, -0.0983263703685516, -0.2540368996779051, 0.3870154878492967, 1.726478466346719, 0.5732071431879369, 2.2150632282989857, 0.31910035503356143, 0.28982242092364024, -1.148567074313695, 0.15395629071155595, 1.525463781739682, 0.07066215676636697, 0.8978878304568622, 1.1280238256836097, 1.2725713345243703, 0.7396102639233508, 0.8697856004738943, 1.7159182149501446, 0.5654919600474853, 0.8783803882689514, -0.22443173904006908, 0.7903887495024083, -1.1356650018129308, 1.0864899554782066, -0.19145432530466677, 1.0263877857566044, -1.2426764034787228, 0.755972690374339, -0.3080948937153945, -0.9089048202162897, 0.08773774307987836, 0.37346578493517113, -0.21829959274557942, 0.7472882772397567, 0.12475864153448532, 0.10719084735452485, -0.9650709580743985, -0.32734725869903164, 0.290432477796843, -0.4318512657465015, 0.546100087535669, 0.16882415124890723, 0.0625627434318641, -0.45111345153140514, -1.035800298608654, -1.1755826012034793, -0.5887579822623921, -0.936012737378819, 0.8641850724565397, 0.2260731732418727, -0.0796786180204319, 0.28979130885627713, 1.1460541429713298, -1.000717010584556, -0.6595316037691642, 1.9016790870899154, -0.21940494229947125, 0.8130959862423774, -1.5716840067383513, 0.8418073633792109, 0.28950143573949405, 0.8816021466187254, 0.5337866283889577, 0.2715537049077293, -0.5984284499957764, 1.5332171216992303, 0.7778781429861782, 0.17196691282409546, -0.8117837624181126, -0.3023510398571448, 0.10008463721285718, 1.3338420511450306, -0.7581750788470961, 0.3016527346606335, -0.39718496454650665, 0.6788152804439113, 2.152973446351624, -0.2730366986958714, -0.8681988229280707, 0.7878230209305109, 1.2416464932761073, 1.120402684702779, -0.15711509417868788, -1.0852033515334814, 0.2540149848663791, -0.9443103947243021, 0.9616598758998366, -0.0063800398525212165], \"xaxis\": \"x15\", \"y\": [-1.3863703005882506, 0.9561806674417825, 0.8024482942155324, 1.3502875548777409, -0.11584356492870602, 0.10367331696848246, 1.926302269024144, 1.5771120906387193, 1.512181985361918, -0.04564802133766652, 0.501311621973258, 1.073860999955962, 1.0101192453318664, -0.47535900976737633, 1.2190010760002734, -1.2051124722034434, -2.470923035842003, 2.523356604589166, 0.20803531250547286, 1.55235556212803, 0.09649951763697989, 0.08304102059454187, -1.1717205020460235, -1.7982933553494254, -0.09321011435384796, -2.0968477349768113, -0.0640547593089291, 0.9998286136482293, -1.3031379435595272, -0.09026076492219864, 1.894838617903795, -2.191556038125103, -0.4210717492171106, -1.195424865623432, 0.5302085599011223, 1.1851137109794267, -1.1692292675114115, -0.913032417499362, 0.24326871201117606, 2.1560604672884285, -0.6688512174324619, 1.0200065766367674, 0.6002331808470721, -0.043412156893427166, -0.8671513360322314, 0.2874592347944582, -0.6562084436753164, -0.14283125440691152, -0.491920659839441, 0.4986039765898339, -1.6845497201155823, -0.148612857688365, -0.04727014898835525, -0.14569467345231785, -0.734904286077995, -0.18368227995621608, 0.893869005755252, 0.6589661962741505, -0.5623950551486403, -1.1683652708102397, 1.1638027314573847, -0.2670817785258052, 0.3685070651182318, -1.047214988857629, 2.0915845334862495, -2.304703641539677, 0.9362202841423164, -0.9929147080569665, 0.3060436847411801, 0.2766989502804425, 1.418180627732183, 1.0578619287432207, 1.6376170559858814, -0.35472459698035186, 0.11773476865906649, 1.160076263349918, -0.26390833391661583, -0.8091437251617222, 0.0303119309416289, 0.5621048300532147, -1.2438331785331898, 1.9229595935911648, 0.4888912873270648, -1.8540611502054942, -1.3387978316270563, 1.412503396034427, -0.2401122092435843, -0.86010557214549, 1.6244228971898325, 0.2888338448708431, 0.3312228594431208, -0.3439553033475485, -0.08822405107016175, -0.6334445853895129, 1.608848493642066, -0.6335725839225381, 0.19655516350095992, 0.1486030674825538, -0.7638520137638168, 2.223452236992757], \"yaxis\": \"y15\"}, {\"histfunc\": \"count\", \"histnorm\": \"\", \"marker\": {\"color\": \"rgba(128, 0, 128, 1.0)\", \"line\": {\"color\": \"#4D5663\", \"width\": 1.3}}, \"name\": \"D\", \"nbinsx\": 10, \"opacity\": 0.8, \"orientation\": \"v\", \"type\": \"histogram\", \"x\": [-1.3863703005882506, 0.9561806674417825, 0.8024482942155324, 1.3502875548777409, -0.11584356492870602, 0.10367331696848246, 1.926302269024144, 1.5771120906387193, 1.512181985361918, -0.04564802133766652, 0.501311621973258, 1.073860999955962, 1.0101192453318664, -0.47535900976737633, 1.2190010760002734, -1.2051124722034434, -2.470923035842003, 2.523356604589166, 0.20803531250547286, 1.55235556212803, 0.09649951763697989, 0.08304102059454187, -1.1717205020460235, -1.7982933553494254, -0.09321011435384796, -2.0968477349768113, -0.0640547593089291, 0.9998286136482293, -1.3031379435595272, -0.09026076492219864, 1.894838617903795, -2.191556038125103, -0.4210717492171106, -1.195424865623432, 0.5302085599011223, 1.1851137109794267, -1.1692292675114115, -0.913032417499362, 0.24326871201117606, 2.1560604672884285, -0.6688512174324619, 1.0200065766367674, 0.6002331808470721, -0.043412156893427166, -0.8671513360322314, 0.2874592347944582, -0.6562084436753164, -0.14283125440691152, -0.491920659839441, 0.4986039765898339, -1.6845497201155823, -0.148612857688365, -0.04727014898835525, -0.14569467345231785, -0.734904286077995, -0.18368227995621608, 0.893869005755252, 0.6589661962741505, -0.5623950551486403, -1.1683652708102397, 1.1638027314573847, -0.2670817785258052, 0.3685070651182318, -1.047214988857629, 2.0915845334862495, -2.304703641539677, 0.9362202841423164, -0.9929147080569665, 0.3060436847411801, 0.2766989502804425, 1.418180627732183, 1.0578619287432207, 1.6376170559858814, -0.35472459698035186, 0.11773476865906649, 1.160076263349918, -0.26390833391661583, -0.8091437251617222, 0.0303119309416289, 0.5621048300532147, -1.2438331785331898, 1.9229595935911648, 0.4888912873270648, -1.8540611502054942, -1.3387978316270563, 1.412503396034427, -0.2401122092435843, -0.86010557214549, 1.6244228971898325, 0.2888338448708431, 0.3312228594431208, -0.3439553033475485, -0.08822405107016175, -0.6334445853895129, 1.608848493642066, -0.6335725839225381, 0.19655516350095992, 0.1486030674825538, -0.7638520137638168, 2.223452236992757], \"xaxis\": \"x16\", \"yaxis\": \"y16\"}],\n",
       "                        {\"bargap\": 0.02, \"legend\": {\"bgcolor\": \"#F5F6F9\", \"font\": {\"color\": \"#4D5663\"}}, \"paper_bgcolor\": \"#F5F6F9\", \"plot_bgcolor\": \"#F5F6F9\", \"showlegend\": false, \"template\": {\"data\": {\"bar\": [{\"error_x\": {\"color\": \"#2a3f5f\"}, \"error_y\": {\"color\": \"#2a3f5f\"}, \"marker\": {\"line\": {\"color\": \"#E5ECF6\", \"width\": 0.5}}, \"type\": \"bar\"}], \"barpolar\": [{\"marker\": {\"line\": {\"color\": \"#E5ECF6\", \"width\": 0.5}}, \"type\": \"barpolar\"}], \"carpet\": [{\"aaxis\": {\"endlinecolor\": \"#2a3f5f\", \"gridcolor\": \"white\", \"linecolor\": \"white\", \"minorgridcolor\": \"white\", \"startlinecolor\": \"#2a3f5f\"}, \"baxis\": {\"endlinecolor\": \"#2a3f5f\", \"gridcolor\": \"white\", \"linecolor\": \"white\", \"minorgridcolor\": \"white\", \"startlinecolor\": \"#2a3f5f\"}, \"type\": \"carpet\"}], \"choropleth\": [{\"colorbar\": {\"outlinewidth\": 0, \"ticks\": \"\"}, \"type\": \"choropleth\"}], \"contour\": [{\"colorbar\": {\"outlinewidth\": 0, \"ticks\": \"\"}, \"colorscale\": [[0.0, \"#0d0887\"], [0.1111111111111111, \"#46039f\"], [0.2222222222222222, \"#7201a8\"], [0.3333333333333333, \"#9c179e\"], [0.4444444444444444, \"#bd3786\"], [0.5555555555555556, \"#d8576b\"], [0.6666666666666666, \"#ed7953\"], [0.7777777777777778, \"#fb9f3a\"], [0.8888888888888888, \"#fdca26\"], [1.0, \"#f0f921\"]], \"type\": \"contour\"}], \"contourcarpet\": [{\"colorbar\": {\"outlinewidth\": 0, \"ticks\": \"\"}, \"type\": \"contourcarpet\"}], \"heatmap\": [{\"colorbar\": {\"outlinewidth\": 0, \"ticks\": \"\"}, \"colorscale\": [[0.0, \"#0d0887\"], [0.1111111111111111, \"#46039f\"], [0.2222222222222222, \"#7201a8\"], [0.3333333333333333, \"#9c179e\"], [0.4444444444444444, \"#bd3786\"], [0.5555555555555556, \"#d8576b\"], [0.6666666666666666, \"#ed7953\"], [0.7777777777777778, \"#fb9f3a\"], [0.8888888888888888, \"#fdca26\"], [1.0, \"#f0f921\"]], \"type\": \"heatmap\"}], \"heatmapgl\": [{\"colorbar\": {\"outlinewidth\": 0, \"ticks\": \"\"}, \"colorscale\": [[0.0, \"#0d0887\"], [0.1111111111111111, \"#46039f\"], [0.2222222222222222, \"#7201a8\"], [0.3333333333333333, \"#9c179e\"], [0.4444444444444444, \"#bd3786\"], [0.5555555555555556, \"#d8576b\"], [0.6666666666666666, \"#ed7953\"], [0.7777777777777778, \"#fb9f3a\"], [0.8888888888888888, \"#fdca26\"], [1.0, \"#f0f921\"]], \"type\": \"heatmapgl\"}], \"histogram\": [{\"marker\": {\"colorbar\": {\"outlinewidth\": 0, \"ticks\": \"\"}}, \"type\": \"histogram\"}], \"histogram2d\": [{\"colorbar\": {\"outlinewidth\": 0, \"ticks\": \"\"}, \"colorscale\": [[0.0, \"#0d0887\"], [0.1111111111111111, \"#46039f\"], [0.2222222222222222, \"#7201a8\"], [0.3333333333333333, \"#9c179e\"], [0.4444444444444444, \"#bd3786\"], [0.5555555555555556, \"#d8576b\"], [0.6666666666666666, \"#ed7953\"], [0.7777777777777778, \"#fb9f3a\"], [0.8888888888888888, \"#fdca26\"], [1.0, \"#f0f921\"]], \"type\": \"histogram2d\"}], \"histogram2dcontour\": [{\"colorbar\": {\"outlinewidth\": 0, \"ticks\": \"\"}, \"colorscale\": [[0.0, \"#0d0887\"], [0.1111111111111111, \"#46039f\"], [0.2222222222222222, \"#7201a8\"], [0.3333333333333333, \"#9c179e\"], [0.4444444444444444, \"#bd3786\"], [0.5555555555555556, \"#d8576b\"], [0.6666666666666666, \"#ed7953\"], [0.7777777777777778, \"#fb9f3a\"], [0.8888888888888888, \"#fdca26\"], [1.0, \"#f0f921\"]], \"type\": \"histogram2dcontour\"}], \"mesh3d\": [{\"colorbar\": {\"outlinewidth\": 0, \"ticks\": \"\"}, \"type\": \"mesh3d\"}], \"parcoords\": [{\"line\": {\"colorbar\": {\"outlinewidth\": 0, \"ticks\": \"\"}}, \"type\": \"parcoords\"}], \"pie\": [{\"automargin\": true, \"type\": \"pie\"}], \"scatter\": [{\"marker\": {\"colorbar\": {\"outlinewidth\": 0, \"ticks\": \"\"}}, \"type\": \"scatter\"}], \"scatter3d\": [{\"line\": {\"colorbar\": {\"outlinewidth\": 0, \"ticks\": \"\"}}, \"marker\": {\"colorbar\": {\"outlinewidth\": 0, \"ticks\": \"\"}}, \"type\": \"scatter3d\"}], \"scattercarpet\": [{\"marker\": {\"colorbar\": {\"outlinewidth\": 0, \"ticks\": \"\"}}, \"type\": \"scattercarpet\"}], \"scattergeo\": [{\"marker\": {\"colorbar\": {\"outlinewidth\": 0, \"ticks\": \"\"}}, \"type\": \"scattergeo\"}], \"scattergl\": [{\"marker\": {\"colorbar\": {\"outlinewidth\": 0, \"ticks\": \"\"}}, \"type\": \"scattergl\"}], \"scattermapbox\": [{\"marker\": {\"colorbar\": {\"outlinewidth\": 0, \"ticks\": \"\"}}, \"type\": \"scattermapbox\"}], \"scatterpolar\": [{\"marker\": {\"colorbar\": {\"outlinewidth\": 0, \"ticks\": \"\"}}, \"type\": \"scatterpolar\"}], \"scatterpolargl\": [{\"marker\": {\"colorbar\": {\"outlinewidth\": 0, \"ticks\": \"\"}}, \"type\": \"scatterpolargl\"}], \"scatterternary\": [{\"marker\": {\"colorbar\": {\"outlinewidth\": 0, \"ticks\": \"\"}}, \"type\": \"scatterternary\"}], \"surface\": [{\"colorbar\": {\"outlinewidth\": 0, \"ticks\": \"\"}, \"colorscale\": [[0.0, \"#0d0887\"], [0.1111111111111111, \"#46039f\"], [0.2222222222222222, \"#7201a8\"], [0.3333333333333333, \"#9c179e\"], [0.4444444444444444, \"#bd3786\"], [0.5555555555555556, \"#d8576b\"], [0.6666666666666666, \"#ed7953\"], [0.7777777777777778, \"#fb9f3a\"], [0.8888888888888888, \"#fdca26\"], [1.0, \"#f0f921\"]], \"type\": \"surface\"}], \"table\": [{\"cells\": {\"fill\": {\"color\": \"#EBF0F8\"}, \"line\": {\"color\": \"white\"}}, \"header\": {\"fill\": {\"color\": \"#C8D4E3\"}, \"line\": {\"color\": \"white\"}}, \"type\": \"table\"}]}, \"layout\": {\"annotationdefaults\": {\"arrowcolor\": \"#2a3f5f\", \"arrowhead\": 0, \"arrowwidth\": 1}, \"coloraxis\": {\"colorbar\": {\"outlinewidth\": 0, \"ticks\": \"\"}}, \"colorscale\": {\"diverging\": [[0, \"#8e0152\"], [0.1, \"#c51b7d\"], [0.2, \"#de77ae\"], [0.3, \"#f1b6da\"], [0.4, \"#fde0ef\"], [0.5, \"#f7f7f7\"], [0.6, \"#e6f5d0\"], [0.7, \"#b8e186\"], [0.8, \"#7fbc41\"], [0.9, \"#4d9221\"], [1, \"#276419\"]], \"sequential\": [[0.0, \"#0d0887\"], [0.1111111111111111, \"#46039f\"], [0.2222222222222222, \"#7201a8\"], [0.3333333333333333, \"#9c179e\"], [0.4444444444444444, \"#bd3786\"], [0.5555555555555556, \"#d8576b\"], [0.6666666666666666, \"#ed7953\"], [0.7777777777777778, \"#fb9f3a\"], [0.8888888888888888, \"#fdca26\"], [1.0, \"#f0f921\"]], \"sequentialminus\": [[0.0, \"#0d0887\"], [0.1111111111111111, \"#46039f\"], [0.2222222222222222, \"#7201a8\"], [0.3333333333333333, \"#9c179e\"], [0.4444444444444444, \"#bd3786\"], [0.5555555555555556, \"#d8576b\"], [0.6666666666666666, \"#ed7953\"], [0.7777777777777778, \"#fb9f3a\"], [0.8888888888888888, \"#fdca26\"], [1.0, \"#f0f921\"]]}, \"colorway\": [\"#636efa\", \"#EF553B\", \"#00cc96\", \"#ab63fa\", \"#FFA15A\", \"#19d3f3\", \"#FF6692\", \"#B6E880\", \"#FF97FF\", \"#FECB52\"], \"font\": {\"color\": \"#2a3f5f\"}, \"geo\": {\"bgcolor\": \"white\", \"lakecolor\": \"white\", \"landcolor\": \"#E5ECF6\", \"showlakes\": true, \"showland\": true, \"subunitcolor\": \"white\"}, \"hoverlabel\": {\"align\": \"left\"}, \"hovermode\": \"closest\", \"mapbox\": {\"style\": \"light\"}, \"paper_bgcolor\": \"white\", \"plot_bgcolor\": \"#E5ECF6\", \"polar\": {\"angularaxis\": {\"gridcolor\": \"white\", \"linecolor\": \"white\", \"ticks\": \"\"}, \"bgcolor\": \"#E5ECF6\", \"radialaxis\": {\"gridcolor\": \"white\", \"linecolor\": \"white\", \"ticks\": \"\"}}, \"scene\": {\"xaxis\": {\"backgroundcolor\": \"#E5ECF6\", \"gridcolor\": \"white\", \"gridwidth\": 2, \"linecolor\": \"white\", \"showbackground\": true, \"ticks\": \"\", \"zerolinecolor\": \"white\"}, \"yaxis\": {\"backgroundcolor\": \"#E5ECF6\", \"gridcolor\": \"white\", \"gridwidth\": 2, \"linecolor\": \"white\", \"showbackground\": true, \"ticks\": \"\", \"zerolinecolor\": \"white\"}, \"zaxis\": {\"backgroundcolor\": \"#E5ECF6\", \"gridcolor\": \"white\", \"gridwidth\": 2, \"linecolor\": \"white\", \"showbackground\": true, \"ticks\": \"\", \"zerolinecolor\": \"white\"}}, \"shapedefaults\": {\"line\": {\"color\": \"#2a3f5f\"}}, \"ternary\": {\"aaxis\": {\"gridcolor\": \"white\", \"linecolor\": \"white\", \"ticks\": \"\"}, \"baxis\": {\"gridcolor\": \"white\", \"linecolor\": \"white\", \"ticks\": \"\"}, \"bgcolor\": \"#E5ECF6\", \"caxis\": {\"gridcolor\": \"white\", \"linecolor\": \"white\", \"ticks\": \"\"}}, \"title\": {\"x\": 0.05}, \"xaxis\": {\"automargin\": true, \"gridcolor\": \"white\", \"linecolor\": \"white\", \"ticks\": \"\", \"title\": {\"standoff\": 15}, \"zerolinecolor\": \"white\", \"zerolinewidth\": 2}, \"yaxis\": {\"automargin\": true, \"gridcolor\": \"white\", \"linecolor\": \"white\", \"ticks\": \"\", \"title\": {\"standoff\": 15}, \"zerolinecolor\": \"white\", \"zerolinewidth\": 2}}}, \"title\": {\"font\": {\"color\": \"#4D5663\"}}, \"xaxis\": {\"anchor\": \"y\", \"domain\": [0.0, 0.2125], \"gridcolor\": \"#E1E5ED\", \"showgrid\": false, \"tickfont\": {\"color\": \"#4D5663\"}, \"title\": {\"font\": {\"color\": \"#4D5663\"}, \"text\": \"\"}, \"zerolinecolor\": \"#E1E5ED\"}, \"xaxis10\": {\"anchor\": \"y10\", \"domain\": [0.2625, 0.475], \"gridcolor\": \"#E1E5ED\", \"showgrid\": false, \"tickfont\": {\"color\": \"#4D5663\"}, \"title\": {\"font\": {\"color\": \"#4D5663\"}, \"text\": \"\"}, \"zerolinecolor\": \"#E1E5ED\"}, \"xaxis11\": {\"anchor\": \"y11\", \"domain\": [0.525, 0.7375], \"gridcolor\": \"#E1E5ED\", \"showgrid\": false, \"tickfont\": {\"color\": \"#4D5663\"}, \"title\": {\"font\": {\"color\": \"#4D5663\"}, \"text\": \"\"}, \"zerolinecolor\": \"#E1E5ED\"}, \"xaxis12\": {\"anchor\": \"y12\", \"domain\": [0.7875, 1.0], \"gridcolor\": \"#E1E5ED\", \"showgrid\": false, \"tickfont\": {\"color\": \"#4D5663\"}, \"title\": {\"font\": {\"color\": \"#4D5663\"}, \"text\": \"\"}, \"zerolinecolor\": \"#E1E5ED\"}, \"xaxis13\": {\"anchor\": \"y13\", \"domain\": [0.0, 0.2125], \"gridcolor\": \"#E1E5ED\", \"showgrid\": false, \"tickfont\": {\"color\": \"#4D5663\"}, \"title\": {\"font\": {\"color\": \"#4D5663\"}, \"text\": \"\"}, \"zerolinecolor\": \"#E1E5ED\"}, \"xaxis14\": {\"anchor\": \"y14\", \"domain\": [0.2625, 0.475], \"gridcolor\": \"#E1E5ED\", \"showgrid\": false, \"tickfont\": {\"color\": \"#4D5663\"}, \"title\": {\"font\": {\"color\": \"#4D5663\"}, \"text\": \"\"}, \"zerolinecolor\": \"#E1E5ED\"}, \"xaxis15\": {\"anchor\": \"y15\", \"domain\": [0.525, 0.7375], \"gridcolor\": \"#E1E5ED\", \"showgrid\": false, \"tickfont\": {\"color\": \"#4D5663\"}, \"title\": {\"font\": {\"color\": \"#4D5663\"}, \"text\": \"\"}, \"zerolinecolor\": \"#E1E5ED\"}, \"xaxis16\": {\"anchor\": \"y16\", \"domain\": [0.7875, 1.0], \"gridcolor\": \"#E1E5ED\", \"showgrid\": false, \"tickfont\": {\"color\": \"#4D5663\"}, \"title\": {\"font\": {\"color\": \"#4D5663\"}, \"text\": \"\"}, \"zerolinecolor\": \"#E1E5ED\"}, \"xaxis2\": {\"anchor\": \"y2\", \"domain\": [0.2625, 0.475], \"gridcolor\": \"#E1E5ED\", \"showgrid\": false, \"tickfont\": {\"color\": \"#4D5663\"}, \"title\": {\"font\": {\"color\": \"#4D5663\"}, \"text\": \"\"}, \"zerolinecolor\": \"#E1E5ED\"}, \"xaxis3\": {\"anchor\": \"y3\", \"domain\": [0.525, 0.7375], \"gridcolor\": \"#E1E5ED\", \"showgrid\": false, \"tickfont\": {\"color\": \"#4D5663\"}, \"title\": {\"font\": {\"color\": \"#4D5663\"}, \"text\": \"\"}, \"zerolinecolor\": \"#E1E5ED\"}, \"xaxis4\": {\"anchor\": \"y4\", \"domain\": [0.7875, 1.0], \"gridcolor\": \"#E1E5ED\", \"showgrid\": false, \"tickfont\": {\"color\": \"#4D5663\"}, \"title\": {\"font\": {\"color\": \"#4D5663\"}, \"text\": \"\"}, \"zerolinecolor\": \"#E1E5ED\"}, \"xaxis5\": {\"anchor\": \"y5\", \"domain\": [0.0, 0.2125], \"gridcolor\": \"#E1E5ED\", \"showgrid\": false, \"tickfont\": {\"color\": \"#4D5663\"}, \"title\": {\"font\": {\"color\": \"#4D5663\"}, \"text\": \"\"}, \"zerolinecolor\": \"#E1E5ED\"}, \"xaxis6\": {\"anchor\": \"y6\", \"domain\": [0.2625, 0.475], \"gridcolor\": \"#E1E5ED\", \"showgrid\": false, \"tickfont\": {\"color\": \"#4D5663\"}, \"title\": {\"font\": {\"color\": \"#4D5663\"}, \"text\": \"\"}, \"zerolinecolor\": \"#E1E5ED\"}, \"xaxis7\": {\"anchor\": \"y7\", \"domain\": [0.525, 0.7375], \"gridcolor\": \"#E1E5ED\", \"showgrid\": false, \"tickfont\": {\"color\": \"#4D5663\"}, \"title\": {\"font\": {\"color\": \"#4D5663\"}, \"text\": \"\"}, \"zerolinecolor\": \"#E1E5ED\"}, \"xaxis8\": {\"anchor\": \"y8\", \"domain\": [0.7875, 1.0], \"gridcolor\": \"#E1E5ED\", \"showgrid\": false, \"tickfont\": {\"color\": \"#4D5663\"}, \"title\": {\"font\": {\"color\": \"#4D5663\"}, \"text\": \"\"}, \"zerolinecolor\": \"#E1E5ED\"}, \"xaxis9\": {\"anchor\": \"y9\", \"domain\": [0.0, 0.2125], \"gridcolor\": \"#E1E5ED\", \"showgrid\": false, \"tickfont\": {\"color\": \"#4D5663\"}, \"title\": {\"font\": {\"color\": \"#4D5663\"}, \"text\": \"\"}, \"zerolinecolor\": \"#E1E5ED\"}, \"yaxis\": {\"anchor\": \"x\", \"domain\": [0.8025, 1.0], \"gridcolor\": \"#E1E5ED\", \"showgrid\": false, \"tickfont\": {\"color\": \"#4D5663\"}, \"title\": {\"font\": {\"color\": \"#4D5663\"}, \"text\": \"\"}, \"zerolinecolor\": \"#E1E5ED\"}, \"yaxis10\": {\"anchor\": \"x10\", \"domain\": [0.2675, 0.465], \"gridcolor\": \"#E1E5ED\", \"showgrid\": false, \"tickfont\": {\"color\": \"#4D5663\"}, \"title\": {\"font\": {\"color\": \"#4D5663\"}, \"text\": \"\"}, \"zerolinecolor\": \"#E1E5ED\"}, \"yaxis11\": {\"anchor\": \"x11\", \"domain\": [0.2675, 0.465], \"gridcolor\": \"#E1E5ED\", \"showgrid\": false, \"tickfont\": {\"color\": \"#4D5663\"}, \"title\": {\"font\": {\"color\": \"#4D5663\"}, \"text\": \"\"}, \"zerolinecolor\": \"#E1E5ED\"}, \"yaxis12\": {\"anchor\": \"x12\", \"domain\": [0.2675, 0.465], \"gridcolor\": \"#E1E5ED\", \"showgrid\": false, \"tickfont\": {\"color\": \"#4D5663\"}, \"title\": {\"font\": {\"color\": \"#4D5663\"}, \"text\": \"\"}, \"zerolinecolor\": \"#E1E5ED\"}, \"yaxis13\": {\"anchor\": \"x13\", \"domain\": [0.0, 0.1975], \"gridcolor\": \"#E1E5ED\", \"showgrid\": false, \"tickfont\": {\"color\": \"#4D5663\"}, \"title\": {\"font\": {\"color\": \"#4D5663\"}, \"text\": \"\"}, \"zerolinecolor\": \"#E1E5ED\"}, \"yaxis14\": {\"anchor\": \"x14\", \"domain\": [0.0, 0.1975], \"gridcolor\": \"#E1E5ED\", \"showgrid\": false, \"tickfont\": {\"color\": \"#4D5663\"}, \"title\": {\"font\": {\"color\": \"#4D5663\"}, \"text\": \"\"}, \"zerolinecolor\": \"#E1E5ED\"}, \"yaxis15\": {\"anchor\": \"x15\", \"domain\": [0.0, 0.1975], \"gridcolor\": \"#E1E5ED\", \"showgrid\": false, \"tickfont\": {\"color\": \"#4D5663\"}, \"title\": {\"font\": {\"color\": \"#4D5663\"}, \"text\": \"\"}, \"zerolinecolor\": \"#E1E5ED\"}, \"yaxis16\": {\"anchor\": \"x16\", \"domain\": [0.0, 0.1975], \"gridcolor\": \"#E1E5ED\", \"showgrid\": false, \"tickfont\": {\"color\": \"#4D5663\"}, \"title\": {\"font\": {\"color\": \"#4D5663\"}, \"text\": \"\"}, \"zerolinecolor\": \"#E1E5ED\"}, \"yaxis2\": {\"anchor\": \"x2\", \"domain\": [0.8025, 1.0], \"gridcolor\": \"#E1E5ED\", \"showgrid\": false, \"tickfont\": {\"color\": \"#4D5663\"}, \"title\": {\"font\": {\"color\": \"#4D5663\"}, \"text\": \"\"}, \"zerolinecolor\": \"#E1E5ED\"}, \"yaxis3\": {\"anchor\": \"x3\", \"domain\": [0.8025, 1.0], \"gridcolor\": \"#E1E5ED\", \"showgrid\": false, \"tickfont\": {\"color\": \"#4D5663\"}, \"title\": {\"font\": {\"color\": \"#4D5663\"}, \"text\": \"\"}, \"zerolinecolor\": \"#E1E5ED\"}, \"yaxis4\": {\"anchor\": \"x4\", \"domain\": [0.8025, 1.0], \"gridcolor\": \"#E1E5ED\", \"showgrid\": false, \"tickfont\": {\"color\": \"#4D5663\"}, \"title\": {\"font\": {\"color\": \"#4D5663\"}, \"text\": \"\"}, \"zerolinecolor\": \"#E1E5ED\"}, \"yaxis5\": {\"anchor\": \"x5\", \"domain\": [0.535, 0.7325], \"gridcolor\": \"#E1E5ED\", \"showgrid\": false, \"tickfont\": {\"color\": \"#4D5663\"}, \"title\": {\"font\": {\"color\": \"#4D5663\"}, \"text\": \"\"}, \"zerolinecolor\": \"#E1E5ED\"}, \"yaxis6\": {\"anchor\": \"x6\", \"domain\": [0.535, 0.7325], \"gridcolor\": \"#E1E5ED\", \"showgrid\": false, \"tickfont\": {\"color\": \"#4D5663\"}, \"title\": {\"font\": {\"color\": \"#4D5663\"}, \"text\": \"\"}, \"zerolinecolor\": \"#E1E5ED\"}, \"yaxis7\": {\"anchor\": \"x7\", \"domain\": [0.535, 0.7325], \"gridcolor\": \"#E1E5ED\", \"showgrid\": false, \"tickfont\": {\"color\": \"#4D5663\"}, \"title\": {\"font\": {\"color\": \"#4D5663\"}, \"text\": \"\"}, \"zerolinecolor\": \"#E1E5ED\"}, \"yaxis8\": {\"anchor\": \"x8\", \"domain\": [0.535, 0.7325], \"gridcolor\": \"#E1E5ED\", \"showgrid\": false, \"tickfont\": {\"color\": \"#4D5663\"}, \"title\": {\"font\": {\"color\": \"#4D5663\"}, \"text\": \"\"}, \"zerolinecolor\": \"#E1E5ED\"}, \"yaxis9\": {\"anchor\": \"x9\", \"domain\": [0.2675, 0.465], \"gridcolor\": \"#E1E5ED\", \"showgrid\": false, \"tickfont\": {\"color\": \"#4D5663\"}, \"title\": {\"font\": {\"color\": \"#4D5663\"}, \"text\": \"\"}, \"zerolinecolor\": \"#E1E5ED\"}},\n",
       "                        {\"showLink\": true, \"linkText\": \"Export to plot.ly\", \"plotlyServerURL\": \"https://plot.ly\", \"responsive\": true}\n",
       "                    ).then(function(){\n",
       "                            \n",
       "var gd = document.getElementById('ccfe7603-ea19-4b4b-bcb3-cf7b70e2f084');\n",
       "var x = new MutationObserver(function (mutations, observer) {{\n",
       "        var display = window.getComputedStyle(gd).display;\n",
       "        if (!display || display === 'none') {{\n",
       "            console.log([gd, 'removed!']);\n",
       "            Plotly.purge(gd);\n",
       "            observer.disconnect();\n",
       "        }}\n",
       "}});\n",
       "\n",
       "// Listen for the removal of the full notebook cells\n",
       "var notebookContainer = gd.closest('#notebook-container');\n",
       "if (notebookContainer) {{\n",
       "    x.observe(notebookContainer, {childList: true});\n",
       "}}\n",
       "\n",
       "// Listen for the clearing of the current output cell\n",
       "var outputEl = gd.closest('.output');\n",
       "if (outputEl) {{\n",
       "    x.observe(outputEl, {childList: true});\n",
       "}}\n",
       "\n",
       "                        })\n",
       "                };\n",
       "                });\n",
       "            </script>\n",
       "        </div>"
      ]
     },
     "metadata": {},
     "output_type": "display_data"
    }
   ],
   "source": [
    "df.scatter_matrix()"
   ]
  },
  {
   "cell_type": "markdown",
   "metadata": {
    "collapsed": true
   },
   "source": [
    "# Great Job!"
   ]
  }
 ],
 "metadata": {
  "kernelspec": {
   "display_name": "Python 3",
   "language": "python",
   "name": "python3"
  },
  "language_info": {
   "codemirror_mode": {
    "name": "ipython",
    "version": 3
   },
   "file_extension": ".py",
   "mimetype": "text/x-python",
   "name": "python",
   "nbconvert_exporter": "python",
   "pygments_lexer": "ipython3",
   "version": "3.7.4"
  }
 },
 "nbformat": 4,
 "nbformat_minor": 1
}
