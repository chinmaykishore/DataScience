{
 "cells": [
  {
   "cell_type": "code",
   "execution_count": 5,
   "metadata": {},
   "outputs": [],
   "source": [
    "import pandas as pd\n",
    "import numpy as np\n",
    "import matplotlib.pyplot as plt\n",
    "import seaborn as sns\n",
    "%matplotlib inline"
   ]
  },
  {
   "cell_type": "code",
   "execution_count": 6,
   "metadata": {},
   "outputs": [],
   "source": [
    "FinanceOfferingCase = pd.read_csv('train_fwYjLYX.csv')"
   ]
  },
  {
   "cell_type": "code",
   "execution_count": 7,
   "metadata": {},
   "outputs": [
    {
     "data": {
      "text/html": [
       "<div>\n",
       "<style scoped>\n",
       "    .dataframe tbody tr th:only-of-type {\n",
       "        vertical-align: middle;\n",
       "    }\n",
       "\n",
       "    .dataframe tbody tr th {\n",
       "        vertical-align: top;\n",
       "    }\n",
       "\n",
       "    .dataframe thead th {\n",
       "        text-align: right;\n",
       "    }\n",
       "</style>\n",
       "<table border=\"1\" class=\"dataframe\">\n",
       "  <thead>\n",
       "    <tr style=\"text-align: right;\">\n",
       "      <th></th>\n",
       "      <th>application_date</th>\n",
       "      <th>segment</th>\n",
       "      <th>branch_id</th>\n",
       "      <th>state</th>\n",
       "      <th>zone</th>\n",
       "      <th>case_count</th>\n",
       "    </tr>\n",
       "  </thead>\n",
       "  <tbody>\n",
       "    <tr>\n",
       "      <td>0</td>\n",
       "      <td>2017-04-01</td>\n",
       "      <td>1</td>\n",
       "      <td>1.0</td>\n",
       "      <td>WEST BENGAL</td>\n",
       "      <td>EAST</td>\n",
       "      <td>40.0</td>\n",
       "    </tr>\n",
       "    <tr>\n",
       "      <td>1</td>\n",
       "      <td>2017-04-03</td>\n",
       "      <td>1</td>\n",
       "      <td>1.0</td>\n",
       "      <td>WEST BENGAL</td>\n",
       "      <td>EAST</td>\n",
       "      <td>5.0</td>\n",
       "    </tr>\n",
       "    <tr>\n",
       "      <td>2</td>\n",
       "      <td>2017-04-04</td>\n",
       "      <td>1</td>\n",
       "      <td>1.0</td>\n",
       "      <td>WEST BENGAL</td>\n",
       "      <td>EAST</td>\n",
       "      <td>4.0</td>\n",
       "    </tr>\n",
       "    <tr>\n",
       "      <td>3</td>\n",
       "      <td>2017-04-05</td>\n",
       "      <td>1</td>\n",
       "      <td>1.0</td>\n",
       "      <td>WEST BENGAL</td>\n",
       "      <td>EAST</td>\n",
       "      <td>113.0</td>\n",
       "    </tr>\n",
       "    <tr>\n",
       "      <td>4</td>\n",
       "      <td>2017-04-07</td>\n",
       "      <td>1</td>\n",
       "      <td>1.0</td>\n",
       "      <td>WEST BENGAL</td>\n",
       "      <td>EAST</td>\n",
       "      <td>76.0</td>\n",
       "    </tr>\n",
       "  </tbody>\n",
       "</table>\n",
       "</div>"
      ],
      "text/plain": [
       "  application_date  segment  branch_id        state  zone  case_count\n",
       "0       2017-04-01        1        1.0  WEST BENGAL  EAST        40.0\n",
       "1       2017-04-03        1        1.0  WEST BENGAL  EAST         5.0\n",
       "2       2017-04-04        1        1.0  WEST BENGAL  EAST         4.0\n",
       "3       2017-04-05        1        1.0  WEST BENGAL  EAST       113.0\n",
       "4       2017-04-07        1        1.0  WEST BENGAL  EAST        76.0"
      ]
     },
     "execution_count": 7,
     "metadata": {},
     "output_type": "execute_result"
    }
   ],
   "source": [
    "FinanceOfferingCase.head()"
   ]
  },
  {
   "cell_type": "code",
   "execution_count": 8,
   "metadata": {},
   "outputs": [
    {
     "data": {
      "text/plain": [
       "application_date    80402\n",
       "segment             80402\n",
       "branch_id           66898\n",
       "state               80402\n",
       "zone                66898\n",
       "case_count          80402\n",
       "dtype: int64"
      ]
     },
     "execution_count": 8,
     "metadata": {},
     "output_type": "execute_result"
    }
   ],
   "source": [
    "FinanceOfferingCase.count()"
   ]
  },
  {
   "cell_type": "code",
   "execution_count": 9,
   "metadata": {},
   "outputs": [
    {
     "name": "stdout",
     "output_type": "stream",
     "text": [
      "<class 'pandas.core.frame.DataFrame'>\n",
      "RangeIndex: 80402 entries, 0 to 80401\n",
      "Data columns (total 6 columns):\n",
      "application_date    80402 non-null object\n",
      "segment             80402 non-null int64\n",
      "branch_id           66898 non-null float64\n",
      "state               80402 non-null object\n",
      "zone                66898 non-null object\n",
      "case_count          80402 non-null float64\n",
      "dtypes: float64(2), int64(1), object(3)\n",
      "memory usage: 3.7+ MB\n"
     ]
    }
   ],
   "source": [
    "FinanceOfferingCase.info()"
   ]
  },
  {
   "cell_type": "code",
   "execution_count": 10,
   "metadata": {},
   "outputs": [
    {
     "data": {
      "text/plain": [
       "array(['WEST BENGAL', 'DELHI', 'KARNATAKA', 'TAMIL NADU', 'UTTAR PRADESH',\n",
       "       'PUNJAB', 'TELANGANA', 'ANDHRA PRADESH', 'MAHARASHTRA', 'ORISSA',\n",
       "       'GUJARAT', 'ASSAM', 'JHARKHAND', 'UTTARAKHAND', 'KERALA',\n",
       "       'CHHATTISGARH', 'BIHAR', 'TRIPURA', 'MADHYA PRADESH', 'HARYANA'],\n",
       "      dtype=object)"
      ]
     },
     "execution_count": 10,
     "metadata": {},
     "output_type": "execute_result"
    }
   ],
   "source": [
    "FinanceOfferingCase[\"state\"].unique()"
   ]
  },
  {
   "cell_type": "code",
   "execution_count": 11,
   "metadata": {},
   "outputs": [
    {
     "data": {
      "text/plain": [
       "20"
      ]
     },
     "execution_count": 11,
     "metadata": {},
     "output_type": "execute_result"
    }
   ],
   "source": [
    "len(FinanceOfferingCase[\"state\"].unique())"
   ]
  },
  {
   "cell_type": "code",
   "execution_count": 12,
   "metadata": {},
   "outputs": [
    {
     "name": "stdout",
     "output_type": "stream",
     "text": [
      "{'state': {'ANDHRA PRADESH': 1, 'ASSAM': 2, 'BIHAR': 3, 'CHHATTISGARH': 4, 'DELHI': 5, 'GUJARAT': 6, 'HARYANA': 7, 'JHARKHAND': 8, 'KARNATAKA': 9, 'KERALA': 10, 'MADHYA PRADESH': 11, 'MAHARASHTRA': 12, 'ORISSA': 13, 'PUNJAB': 14, 'TAMIL NADU': 15, 'TELANGANA': 16, 'TRIPURA': 17, 'UTTAR PRADESH': 18, 'UTTARAKHAND': 19, 'WEST BENGAL': 20}}\n"
     ]
    }
   ],
   "source": [
    "# replacing the categorical column state with numbers\n",
    "replace_map = {'state': {'WEST BENGAL':1, 'DELHI':2, 'KARNATAKA':3, 'TAMIL NADU':4, 'UTTAR PRADESH':5,\n",
    "       'PUNJAB':6, 'TELANGANA':7, 'ANDHRA PRADESH':8, 'MAHARASHTRA':9, 'ORISSA':10,\n",
    "       'GUJARAT':11, 'ASSAM':12, 'JHARKHAND':13, 'UTTARAKHAND':14, 'KERALA':15,\n",
    "       'CHHATTISGARH':16, 'BIHAR':17, 'TRIPURA':18, 'MADHYA PRADESH':19, 'HARYANA':20}}\n",
    "\n",
    "\n",
    "# replacing the categorical column state with numbers- same as above automatically\n",
    "labels = FinanceOfferingCase['state'].astype('category').cat.categories.tolist()\n",
    "replace_map_comp = {'state' : {k: v for k,v in zip(labels,list(range(1,len(labels)+1)))}}\n",
    "\n",
    "print(replace_map_comp)"
   ]
  },
  {
   "cell_type": "code",
   "execution_count": 13,
   "metadata": {},
   "outputs": [],
   "source": [
    "#making a copy of the dataset via the .copy() method \n",
    "#to practice each encoding technique to ensure that the original DataFrame stays intact \n",
    "#and whatever changes you are doing happen only in the copied one.\n",
    "\n",
    "FinanceOfferingCase_Copy = FinanceOfferingCase.copy()"
   ]
  },
  {
   "cell_type": "code",
   "execution_count": 14,
   "metadata": {},
   "outputs": [],
   "source": [
    "#Use the replace() function on the DataFrame by passing the mapping dictionary as argument:\n",
    "\n",
    "FinanceOfferingCase_Copy.replace(replace_map_comp, inplace=True)\n"
   ]
  },
  {
   "cell_type": "code",
   "execution_count": 15,
   "metadata": {},
   "outputs": [
    {
     "name": "stdout",
     "output_type": "stream",
     "text": [
      "  application_date  segment  branch_id  state  zone  case_count\n",
      "0       2017-04-01        1        1.0     20  EAST        40.0\n",
      "1       2017-04-03        1        1.0     20  EAST         5.0\n",
      "2       2017-04-04        1        1.0     20  EAST         4.0\n",
      "3       2017-04-05        1        1.0     20  EAST       113.0\n",
      "4       2017-04-07        1        1.0     20  EAST        76.0\n",
      "int64\n"
     ]
    }
   ],
   "source": [
    "\n",
    "print(FinanceOfferingCase_Copy.head())\n",
    "print(FinanceOfferingCase_Copy['state'].dtype)"
   ]
  },
  {
   "cell_type": "code",
   "execution_count": 16,
   "metadata": {},
   "outputs": [
    {
     "data": {
      "text/plain": [
       "array([  1.,   3.,   5.,   7.,   8.,   9.,  10.,  11.,  13.,  14.,  15.,\n",
       "        16.,  17.,  18.,  19.,  20.,  21.,  29.,  34.,  35.,  36.,  42.,\n",
       "        43.,  48.,  61.,  62.,  63.,  64.,  65.,  66.,  67.,  68.,  69.,\n",
       "        70.,  72.,  73.,  74.,  76.,  77.,  78.,  79.,  82.,  84.,  85.,\n",
       "       100., 101., 103., 104., 105., 111., 117., 120., 121., 135., 136.,\n",
       "       137., 147., 159., 165., 202., 207., 217., 248., 249., 250., 251.,\n",
       "       254., 255., 257., 258., 259., 260., 261., 262., 263., 264., 265.,\n",
       "       266., 267., 268., 269., 270., 271.,  nan])"
      ]
     },
     "execution_count": 16,
     "metadata": {},
     "output_type": "execute_result"
    }
   ],
   "source": [
    "FinanceOfferingCase[\"branch_id\"].unique()"
   ]
  },
  {
   "cell_type": "code",
   "execution_count": 17,
   "metadata": {},
   "outputs": [
    {
     "name": "stdout",
     "output_type": "stream",
     "text": [
      "application_date      object\n",
      "segment                int64\n",
      "branch_id           category\n",
      "state               category\n",
      "zone                category\n",
      "case_count           float64\n",
      "dtype: object\n"
     ]
    }
   ],
   "source": [
    "#in Python, it's a good practice to typecast categorical features to a category dtype \n",
    "#because they make the operations on such columns much faster than the object dtype. \n",
    "#You can do the typecasting by using .astype() method on your columns like shown below:\n",
    "\n",
    "FinanceOfferingCase_Copy['state'] = FinanceOfferingCase_Copy['state'].astype('category')\n",
    "FinanceOfferingCase_Copy['zone'] = FinanceOfferingCase_Copy['zone'].astype('category')  \n",
    "FinanceOfferingCase_Copy['branch_id'] = FinanceOfferingCase_Copy['branch_id'].astype('category')\n",
    "\n",
    "print(FinanceOfferingCase_Copy.dtypes)"
   ]
  },
  {
   "cell_type": "code",
   "execution_count": 18,
   "metadata": {},
   "outputs": [
    {
     "data": {
      "text/html": [
       "<div>\n",
       "<style scoped>\n",
       "    .dataframe tbody tr th:only-of-type {\n",
       "        vertical-align: middle;\n",
       "    }\n",
       "\n",
       "    .dataframe tbody tr th {\n",
       "        vertical-align: top;\n",
       "    }\n",
       "\n",
       "    .dataframe thead th {\n",
       "        text-align: right;\n",
       "    }\n",
       "</style>\n",
       "<table border=\"1\" class=\"dataframe\">\n",
       "  <thead>\n",
       "    <tr style=\"text-align: right;\">\n",
       "      <th></th>\n",
       "      <th>application_date</th>\n",
       "      <th>segment</th>\n",
       "      <th>branch_id</th>\n",
       "      <th>state</th>\n",
       "      <th>zone</th>\n",
       "      <th>case_count</th>\n",
       "    </tr>\n",
       "  </thead>\n",
       "  <tbody>\n",
       "    <tr>\n",
       "      <td>0</td>\n",
       "      <td>2017-04-01</td>\n",
       "      <td>1</td>\n",
       "      <td>1.0</td>\n",
       "      <td>20</td>\n",
       "      <td>EAST</td>\n",
       "      <td>40.0</td>\n",
       "    </tr>\n",
       "    <tr>\n",
       "      <td>1</td>\n",
       "      <td>2017-04-03</td>\n",
       "      <td>1</td>\n",
       "      <td>1.0</td>\n",
       "      <td>20</td>\n",
       "      <td>EAST</td>\n",
       "      <td>5.0</td>\n",
       "    </tr>\n",
       "    <tr>\n",
       "      <td>2</td>\n",
       "      <td>2017-04-04</td>\n",
       "      <td>1</td>\n",
       "      <td>1.0</td>\n",
       "      <td>20</td>\n",
       "      <td>EAST</td>\n",
       "      <td>4.0</td>\n",
       "    </tr>\n",
       "    <tr>\n",
       "      <td>3</td>\n",
       "      <td>2017-04-05</td>\n",
       "      <td>1</td>\n",
       "      <td>1.0</td>\n",
       "      <td>20</td>\n",
       "      <td>EAST</td>\n",
       "      <td>113.0</td>\n",
       "    </tr>\n",
       "    <tr>\n",
       "      <td>4</td>\n",
       "      <td>2017-04-07</td>\n",
       "      <td>1</td>\n",
       "      <td>1.0</td>\n",
       "      <td>20</td>\n",
       "      <td>EAST</td>\n",
       "      <td>76.0</td>\n",
       "    </tr>\n",
       "  </tbody>\n",
       "</table>\n",
       "</div>"
      ],
      "text/plain": [
       "  application_date  segment branch_id state  zone  case_count\n",
       "0       2017-04-01        1       1.0    20  EAST        40.0\n",
       "1       2017-04-03        1       1.0    20  EAST         5.0\n",
       "2       2017-04-04        1       1.0    20  EAST         4.0\n",
       "3       2017-04-05        1       1.0    20  EAST       113.0\n",
       "4       2017-04-07        1       1.0    20  EAST        76.0"
      ]
     },
     "execution_count": 18,
     "metadata": {},
     "output_type": "execute_result"
    }
   ],
   "source": [
    "FinanceOfferingCase_Copy.head()"
   ]
  },
  {
   "cell_type": "code",
   "execution_count": 19,
   "metadata": {},
   "outputs": [],
   "source": [
    "#Label Encoding\n",
    "#Another approach is to encode categorical values with a technique called \"label encoding\", \n",
    "#which allows you to convert each value in a column to a number. Numerical labels are always between 0 and n_categories-1.\n",
    "\n",
    "#You can do label encoding via attributes .cat.codes on your DataFrame's column.\n",
    "\n",
    "FinanceOfferingCase_Copy['zone'] = FinanceOfferingCase_Copy['zone'].cat.codes\n",
    "FinanceOfferingCase_Copy['branch_id']=FinanceOfferingCase_Copy['branch_id'].cat.codes"
   ]
  },
  {
   "cell_type": "code",
   "execution_count": 20,
   "metadata": {},
   "outputs": [
    {
     "data": {
      "text/html": [
       "<div>\n",
       "<style scoped>\n",
       "    .dataframe tbody tr th:only-of-type {\n",
       "        vertical-align: middle;\n",
       "    }\n",
       "\n",
       "    .dataframe tbody tr th {\n",
       "        vertical-align: top;\n",
       "    }\n",
       "\n",
       "    .dataframe thead th {\n",
       "        text-align: right;\n",
       "    }\n",
       "</style>\n",
       "<table border=\"1\" class=\"dataframe\">\n",
       "  <thead>\n",
       "    <tr style=\"text-align: right;\">\n",
       "      <th></th>\n",
       "      <th>application_date</th>\n",
       "      <th>segment</th>\n",
       "      <th>branch_id</th>\n",
       "      <th>state</th>\n",
       "      <th>zone</th>\n",
       "      <th>case_count</th>\n",
       "    </tr>\n",
       "  </thead>\n",
       "  <tbody>\n",
       "    <tr>\n",
       "      <td>0</td>\n",
       "      <td>2017-04-01</td>\n",
       "      <td>1</td>\n",
       "      <td>0</td>\n",
       "      <td>20</td>\n",
       "      <td>1</td>\n",
       "      <td>40.0</td>\n",
       "    </tr>\n",
       "    <tr>\n",
       "      <td>1</td>\n",
       "      <td>2017-04-03</td>\n",
       "      <td>1</td>\n",
       "      <td>0</td>\n",
       "      <td>20</td>\n",
       "      <td>1</td>\n",
       "      <td>5.0</td>\n",
       "    </tr>\n",
       "    <tr>\n",
       "      <td>2</td>\n",
       "      <td>2017-04-04</td>\n",
       "      <td>1</td>\n",
       "      <td>0</td>\n",
       "      <td>20</td>\n",
       "      <td>1</td>\n",
       "      <td>4.0</td>\n",
       "    </tr>\n",
       "    <tr>\n",
       "      <td>3</td>\n",
       "      <td>2017-04-05</td>\n",
       "      <td>1</td>\n",
       "      <td>0</td>\n",
       "      <td>20</td>\n",
       "      <td>1</td>\n",
       "      <td>113.0</td>\n",
       "    </tr>\n",
       "    <tr>\n",
       "      <td>4</td>\n",
       "      <td>2017-04-07</td>\n",
       "      <td>1</td>\n",
       "      <td>0</td>\n",
       "      <td>20</td>\n",
       "      <td>1</td>\n",
       "      <td>76.0</td>\n",
       "    </tr>\n",
       "  </tbody>\n",
       "</table>\n",
       "</div>"
      ],
      "text/plain": [
       "  application_date  segment  branch_id state  zone  case_count\n",
       "0       2017-04-01        1          0    20     1        40.0\n",
       "1       2017-04-03        1          0    20     1         5.0\n",
       "2       2017-04-04        1          0    20     1         4.0\n",
       "3       2017-04-05        1          0    20     1       113.0\n",
       "4       2017-04-07        1          0    20     1        76.0"
      ]
     },
     "execution_count": 20,
     "metadata": {},
     "output_type": "execute_result"
    }
   ],
   "source": [
    "#https://www.datacamp.com/community/tutorials/categorical-data\n",
    "FinanceOfferingCase_Copy.head()"
   ]
  },
  {
   "cell_type": "code",
   "execution_count": 21,
   "metadata": {},
   "outputs": [
    {
     "data": {
      "text/html": [
       "<div>\n",
       "<style scoped>\n",
       "    .dataframe tbody tr th:only-of-type {\n",
       "        vertical-align: middle;\n",
       "    }\n",
       "\n",
       "    .dataframe tbody tr th {\n",
       "        vertical-align: top;\n",
       "    }\n",
       "\n",
       "    .dataframe thead th {\n",
       "        text-align: right;\n",
       "    }\n",
       "</style>\n",
       "<table border=\"1\" class=\"dataframe\">\n",
       "  <thead>\n",
       "    <tr style=\"text-align: right;\">\n",
       "      <th></th>\n",
       "      <th>application_date</th>\n",
       "      <th>segment</th>\n",
       "      <th>branch_id</th>\n",
       "      <th>state</th>\n",
       "      <th>zone</th>\n",
       "      <th>case_count</th>\n",
       "    </tr>\n",
       "  </thead>\n",
       "  <tbody>\n",
       "    <tr>\n",
       "      <td>0</td>\n",
       "      <td>2017-04-01</td>\n",
       "      <td>1</td>\n",
       "      <td>1.0</td>\n",
       "      <td>WEST BENGAL</td>\n",
       "      <td>EAST</td>\n",
       "      <td>40.0</td>\n",
       "    </tr>\n",
       "    <tr>\n",
       "      <td>1</td>\n",
       "      <td>2017-04-03</td>\n",
       "      <td>1</td>\n",
       "      <td>1.0</td>\n",
       "      <td>WEST BENGAL</td>\n",
       "      <td>EAST</td>\n",
       "      <td>5.0</td>\n",
       "    </tr>\n",
       "    <tr>\n",
       "      <td>2</td>\n",
       "      <td>2017-04-04</td>\n",
       "      <td>1</td>\n",
       "      <td>1.0</td>\n",
       "      <td>WEST BENGAL</td>\n",
       "      <td>EAST</td>\n",
       "      <td>4.0</td>\n",
       "    </tr>\n",
       "    <tr>\n",
       "      <td>3</td>\n",
       "      <td>2017-04-05</td>\n",
       "      <td>1</td>\n",
       "      <td>1.0</td>\n",
       "      <td>WEST BENGAL</td>\n",
       "      <td>EAST</td>\n",
       "      <td>113.0</td>\n",
       "    </tr>\n",
       "    <tr>\n",
       "      <td>4</td>\n",
       "      <td>2017-04-07</td>\n",
       "      <td>1</td>\n",
       "      <td>1.0</td>\n",
       "      <td>WEST BENGAL</td>\n",
       "      <td>EAST</td>\n",
       "      <td>76.0</td>\n",
       "    </tr>\n",
       "  </tbody>\n",
       "</table>\n",
       "</div>"
      ],
      "text/plain": [
       "  application_date  segment  branch_id        state  zone  case_count\n",
       "0       2017-04-01        1        1.0  WEST BENGAL  EAST        40.0\n",
       "1       2017-04-03        1        1.0  WEST BENGAL  EAST         5.0\n",
       "2       2017-04-04        1        1.0  WEST BENGAL  EAST         4.0\n",
       "3       2017-04-05        1        1.0  WEST BENGAL  EAST       113.0\n",
       "4       2017-04-07        1        1.0  WEST BENGAL  EAST        76.0"
      ]
     },
     "execution_count": 21,
     "metadata": {},
     "output_type": "execute_result"
    }
   ],
   "source": [
    "#again working on original data set, since i obsereved that this df can be divided \n",
    "#into 2 segmnets and we can work on these 2 segments seperately as these 2 are totally unrelated\n",
    "FinanceOfferingCase.head()"
   ]
  },
  {
   "cell_type": "code",
   "execution_count": 33,
   "metadata": {},
   "outputs": [],
   "source": [
    "# making segmentation for the 2 segments and storing in 2 seperate dataframes\n",
    "#https://chrisalbon.com/python/data_wrangling/pandas_dropping_column_and_rows/\n",
    "FinanceOfferingCaseSegment1 = FinanceOfferingCase[FinanceOfferingCase.segment == 1]\n",
    "FinanceOfferingCaseSegment2 = FinanceOfferingCase[FinanceOfferingCase.segment == 2]"
   ]
  },
  {
   "cell_type": "code",
   "execution_count": 34,
   "metadata": {},
   "outputs": [],
   "source": [
    "FinanceOfferingCaseSegment1 = FinanceOfferingCaseSegment1.drop('segment', axis=1)"
   ]
  },
  {
   "cell_type": "code",
   "execution_count": 35,
   "metadata": {},
   "outputs": [
    {
     "data": {
      "text/html": [
       "<div>\n",
       "<style scoped>\n",
       "    .dataframe tbody tr th:only-of-type {\n",
       "        vertical-align: middle;\n",
       "    }\n",
       "\n",
       "    .dataframe tbody tr th {\n",
       "        vertical-align: top;\n",
       "    }\n",
       "\n",
       "    .dataframe thead th {\n",
       "        text-align: right;\n",
       "    }\n",
       "</style>\n",
       "<table border=\"1\" class=\"dataframe\">\n",
       "  <thead>\n",
       "    <tr style=\"text-align: right;\">\n",
       "      <th></th>\n",
       "      <th>application_date</th>\n",
       "      <th>branch_id</th>\n",
       "      <th>state</th>\n",
       "      <th>zone</th>\n",
       "      <th>case_count</th>\n",
       "    </tr>\n",
       "  </thead>\n",
       "  <tbody>\n",
       "    <tr>\n",
       "      <td>0</td>\n",
       "      <td>2017-04-01</td>\n",
       "      <td>1.0</td>\n",
       "      <td>WEST BENGAL</td>\n",
       "      <td>EAST</td>\n",
       "      <td>40.0</td>\n",
       "    </tr>\n",
       "    <tr>\n",
       "      <td>1</td>\n",
       "      <td>2017-04-03</td>\n",
       "      <td>1.0</td>\n",
       "      <td>WEST BENGAL</td>\n",
       "      <td>EAST</td>\n",
       "      <td>5.0</td>\n",
       "    </tr>\n",
       "    <tr>\n",
       "      <td>2</td>\n",
       "      <td>2017-04-04</td>\n",
       "      <td>1.0</td>\n",
       "      <td>WEST BENGAL</td>\n",
       "      <td>EAST</td>\n",
       "      <td>4.0</td>\n",
       "    </tr>\n",
       "    <tr>\n",
       "      <td>3</td>\n",
       "      <td>2017-04-05</td>\n",
       "      <td>1.0</td>\n",
       "      <td>WEST BENGAL</td>\n",
       "      <td>EAST</td>\n",
       "      <td>113.0</td>\n",
       "    </tr>\n",
       "    <tr>\n",
       "      <td>4</td>\n",
       "      <td>2017-04-07</td>\n",
       "      <td>1.0</td>\n",
       "      <td>WEST BENGAL</td>\n",
       "      <td>EAST</td>\n",
       "      <td>76.0</td>\n",
       "    </tr>\n",
       "  </tbody>\n",
       "</table>\n",
       "</div>"
      ],
      "text/plain": [
       "  application_date  branch_id        state  zone  case_count\n",
       "0       2017-04-01        1.0  WEST BENGAL  EAST        40.0\n",
       "1       2017-04-03        1.0  WEST BENGAL  EAST         5.0\n",
       "2       2017-04-04        1.0  WEST BENGAL  EAST         4.0\n",
       "3       2017-04-05        1.0  WEST BENGAL  EAST       113.0\n",
       "4       2017-04-07        1.0  WEST BENGAL  EAST        76.0"
      ]
     },
     "execution_count": 35,
     "metadata": {},
     "output_type": "execute_result"
    }
   ],
   "source": [
    "FinanceOfferingCaseSegment1.head()"
   ]
  },
  {
   "cell_type": "code",
   "execution_count": 36,
   "metadata": {},
   "outputs": [
    {
     "data": {
      "text/plain": [
       "application_date    13504\n",
       "segment             13504\n",
       "branch_id               0\n",
       "state               13504\n",
       "zone                    0\n",
       "case_count          13504\n",
       "dtype: int64"
      ]
     },
     "execution_count": 36,
     "metadata": {},
     "output_type": "execute_result"
    }
   ],
   "source": [
    "FinanceOfferingCaseSegment2.count()"
   ]
  },
  {
   "cell_type": "code",
   "execution_count": 37,
   "metadata": {},
   "outputs": [],
   "source": [
    "FinanceOfferingCaseSegment2 = FinanceOfferingCaseSegment2.drop(['segment','branch_id', 'zone'], axis=1)"
   ]
  },
  {
   "cell_type": "code",
   "execution_count": 38,
   "metadata": {},
   "outputs": [
    {
     "data": {
      "text/html": [
       "<div>\n",
       "<style scoped>\n",
       "    .dataframe tbody tr th:only-of-type {\n",
       "        vertical-align: middle;\n",
       "    }\n",
       "\n",
       "    .dataframe tbody tr th {\n",
       "        vertical-align: top;\n",
       "    }\n",
       "\n",
       "    .dataframe thead th {\n",
       "        text-align: right;\n",
       "    }\n",
       "</style>\n",
       "<table border=\"1\" class=\"dataframe\">\n",
       "  <thead>\n",
       "    <tr style=\"text-align: right;\">\n",
       "      <th></th>\n",
       "      <th>application_date</th>\n",
       "      <th>state</th>\n",
       "      <th>case_count</th>\n",
       "    </tr>\n",
       "  </thead>\n",
       "  <tbody>\n",
       "    <tr>\n",
       "      <td>66898</td>\n",
       "      <td>2017-04-01</td>\n",
       "      <td>ASSAM</td>\n",
       "      <td>0.0</td>\n",
       "    </tr>\n",
       "    <tr>\n",
       "      <td>66899</td>\n",
       "      <td>2017-04-02</td>\n",
       "      <td>ASSAM</td>\n",
       "      <td>0.0</td>\n",
       "    </tr>\n",
       "    <tr>\n",
       "      <td>66900</td>\n",
       "      <td>2017-04-03</td>\n",
       "      <td>ASSAM</td>\n",
       "      <td>0.0</td>\n",
       "    </tr>\n",
       "    <tr>\n",
       "      <td>66901</td>\n",
       "      <td>2017-04-04</td>\n",
       "      <td>ASSAM</td>\n",
       "      <td>0.0</td>\n",
       "    </tr>\n",
       "    <tr>\n",
       "      <td>66902</td>\n",
       "      <td>2017-04-05</td>\n",
       "      <td>ASSAM</td>\n",
       "      <td>0.0</td>\n",
       "    </tr>\n",
       "  </tbody>\n",
       "</table>\n",
       "</div>"
      ],
      "text/plain": [
       "      application_date  state  case_count\n",
       "66898       2017-04-01  ASSAM         0.0\n",
       "66899       2017-04-02  ASSAM         0.0\n",
       "66900       2017-04-03  ASSAM         0.0\n",
       "66901       2017-04-04  ASSAM         0.0\n",
       "66902       2017-04-05  ASSAM         0.0"
      ]
     },
     "execution_count": 38,
     "metadata": {},
     "output_type": "execute_result"
    }
   ],
   "source": [
    "FinanceOfferingCaseSegment2.head()"
   ]
  },
  {
   "cell_type": "code",
   "execution_count": 61,
   "metadata": {},
   "outputs": [
    {
     "data": {
      "text/plain": [
       "66898    20170401\n",
       "66899    20170402\n",
       "66900    20170403\n",
       "66901    20170404\n",
       "66902    20170405\n",
       "           ...   \n",
       "80397    20190719\n",
       "80398    20190720\n",
       "80399    20190721\n",
       "80400    20190722\n",
       "80401    20190723\n",
       "Name: application_date, Length: 13504, dtype: int32"
      ]
     },
     "execution_count": 61,
     "metadata": {},
     "output_type": "execute_result"
    }
   ],
   "source": [
    "#FinanceOfferingCaseSegment2['application_date'] = pd.to_datetime(FinanceOfferingCaseSegment2['application_date'])\n",
    "FinanceOfferingCaseSegment2['application_date'].str.replace(\"-\",\"\").astype(int)"
   ]
  },
  {
   "cell_type": "code",
   "execution_count": 62,
   "metadata": {},
   "outputs": [
    {
     "data": {
      "text/html": [
       "<div>\n",
       "<style scoped>\n",
       "    .dataframe tbody tr th:only-of-type {\n",
       "        vertical-align: middle;\n",
       "    }\n",
       "\n",
       "    .dataframe tbody tr th {\n",
       "        vertical-align: top;\n",
       "    }\n",
       "\n",
       "    .dataframe thead th {\n",
       "        text-align: right;\n",
       "    }\n",
       "</style>\n",
       "<table border=\"1\" class=\"dataframe\">\n",
       "  <thead>\n",
       "    <tr style=\"text-align: right;\">\n",
       "      <th></th>\n",
       "      <th>application_date</th>\n",
       "      <th>state</th>\n",
       "      <th>case_count</th>\n",
       "    </tr>\n",
       "  </thead>\n",
       "  <tbody>\n",
       "    <tr>\n",
       "      <td>66898</td>\n",
       "      <td>2017-04-01</td>\n",
       "      <td>ASSAM</td>\n",
       "      <td>0.0</td>\n",
       "    </tr>\n",
       "    <tr>\n",
       "      <td>66899</td>\n",
       "      <td>2017-04-02</td>\n",
       "      <td>ASSAM</td>\n",
       "      <td>0.0</td>\n",
       "    </tr>\n",
       "    <tr>\n",
       "      <td>66900</td>\n",
       "      <td>2017-04-03</td>\n",
       "      <td>ASSAM</td>\n",
       "      <td>0.0</td>\n",
       "    </tr>\n",
       "    <tr>\n",
       "      <td>66901</td>\n",
       "      <td>2017-04-04</td>\n",
       "      <td>ASSAM</td>\n",
       "      <td>0.0</td>\n",
       "    </tr>\n",
       "    <tr>\n",
       "      <td>66902</td>\n",
       "      <td>2017-04-05</td>\n",
       "      <td>ASSAM</td>\n",
       "      <td>0.0</td>\n",
       "    </tr>\n",
       "    <tr>\n",
       "      <td>...</td>\n",
       "      <td>...</td>\n",
       "      <td>...</td>\n",
       "      <td>...</td>\n",
       "    </tr>\n",
       "    <tr>\n",
       "      <td>80397</td>\n",
       "      <td>2019-07-19</td>\n",
       "      <td>WEST BENGAL</td>\n",
       "      <td>1886.0</td>\n",
       "    </tr>\n",
       "    <tr>\n",
       "      <td>80398</td>\n",
       "      <td>2019-07-20</td>\n",
       "      <td>WEST BENGAL</td>\n",
       "      <td>1480.0</td>\n",
       "    </tr>\n",
       "    <tr>\n",
       "      <td>80399</td>\n",
       "      <td>2019-07-21</td>\n",
       "      <td>WEST BENGAL</td>\n",
       "      <td>1028.0</td>\n",
       "    </tr>\n",
       "    <tr>\n",
       "      <td>80400</td>\n",
       "      <td>2019-07-22</td>\n",
       "      <td>WEST BENGAL</td>\n",
       "      <td>1946.0</td>\n",
       "    </tr>\n",
       "    <tr>\n",
       "      <td>80401</td>\n",
       "      <td>2019-07-23</td>\n",
       "      <td>WEST BENGAL</td>\n",
       "      <td>1984.0</td>\n",
       "    </tr>\n",
       "  </tbody>\n",
       "</table>\n",
       "<p>13504 rows × 3 columns</p>\n",
       "</div>"
      ],
      "text/plain": [
       "      application_date        state  case_count\n",
       "66898       2017-04-01        ASSAM         0.0\n",
       "66899       2017-04-02        ASSAM         0.0\n",
       "66900       2017-04-03        ASSAM         0.0\n",
       "66901       2017-04-04        ASSAM         0.0\n",
       "66902       2017-04-05        ASSAM         0.0\n",
       "...                ...          ...         ...\n",
       "80397       2019-07-19  WEST BENGAL      1886.0\n",
       "80398       2019-07-20  WEST BENGAL      1480.0\n",
       "80399       2019-07-21  WEST BENGAL      1028.0\n",
       "80400       2019-07-22  WEST BENGAL      1946.0\n",
       "80401       2019-07-23  WEST BENGAL      1984.0\n",
       "\n",
       "[13504 rows x 3 columns]"
      ]
     },
     "execution_count": 62,
     "metadata": {},
     "output_type": "execute_result"
    }
   ],
   "source": [
    "FinanceOfferingCaseSegment2"
   ]
  },
  {
   "cell_type": "code",
   "execution_count": 63,
   "metadata": {},
   "outputs": [],
   "source": [
    "FinanceOfferingCaseSegment2GroupByState = FinanceOfferingCaseSegment2.groupby(['state'])['case_count'].agg('sum')"
   ]
  },
  {
   "cell_type": "code",
   "execution_count": 64,
   "metadata": {},
   "outputs": [],
   "source": [
    "FinanceOfferingCaseSegment2GroupByDate= FinanceOfferingCaseSegment2.groupby(['application_date'])['case_count'].agg('sum')"
   ]
  },
  {
   "cell_type": "code",
   "execution_count": 65,
   "metadata": {},
   "outputs": [
    {
     "name": "stderr",
     "output_type": "stream",
     "text": [
      "C:\\Users\\ck14567\\AppData\\Local\\Continuum\\anaconda3\\lib\\site-packages\\ipykernel_launcher.py:1: FutureWarning: using a dict on a Series for aggregation\n",
      "is deprecated and will be removed in a future version. Use                 named aggregation instead.\n",
      "\n",
      "    >>> grouper.agg(name_1=func_1, name_2=func_2)\n",
      "\n",
      "  \"\"\"Entry point for launching an IPython kernel.\n"
     ]
    }
   ],
   "source": [
    "FinanceOfferingCaseSegment2GroupByDateState = FinanceOfferingCaseSegment2.groupby(['application_date','state'])['case_count'].agg({'score':'sum'})"
   ]
  },
  {
   "cell_type": "code",
   "execution_count": 66,
   "metadata": {},
   "outputs": [
    {
     "data": {
      "text/html": [
       "<div>\n",
       "<style scoped>\n",
       "    .dataframe tbody tr th:only-of-type {\n",
       "        vertical-align: middle;\n",
       "    }\n",
       "\n",
       "    .dataframe tbody tr th {\n",
       "        vertical-align: top;\n",
       "    }\n",
       "\n",
       "    .dataframe thead th {\n",
       "        text-align: right;\n",
       "    }\n",
       "</style>\n",
       "<table border=\"1\" class=\"dataframe\">\n",
       "  <thead>\n",
       "    <tr style=\"text-align: right;\">\n",
       "      <th></th>\n",
       "      <th></th>\n",
       "      <th>score</th>\n",
       "    </tr>\n",
       "    <tr>\n",
       "      <th>application_date</th>\n",
       "      <th>state</th>\n",
       "      <th></th>\n",
       "    </tr>\n",
       "  </thead>\n",
       "  <tbody>\n",
       "    <tr>\n",
       "      <td rowspan=\"5\" valign=\"top\">2017-04-01</td>\n",
       "      <td>ASSAM</td>\n",
       "      <td>0.0</td>\n",
       "    </tr>\n",
       "    <tr>\n",
       "      <td>BIHAR</td>\n",
       "      <td>0.0</td>\n",
       "    </tr>\n",
       "    <tr>\n",
       "      <td>CHHATTISGARH</td>\n",
       "      <td>34.0</td>\n",
       "    </tr>\n",
       "    <tr>\n",
       "      <td>GUJARAT</td>\n",
       "      <td>0.0</td>\n",
       "    </tr>\n",
       "    <tr>\n",
       "      <td>HARYANA</td>\n",
       "      <td>0.0</td>\n",
       "    </tr>\n",
       "    <tr>\n",
       "      <td>...</td>\n",
       "      <td>...</td>\n",
       "      <td>...</td>\n",
       "    </tr>\n",
       "    <tr>\n",
       "      <td rowspan=\"5\" valign=\"top\">2019-07-23</td>\n",
       "      <td>PUNJAB</td>\n",
       "      <td>0.0</td>\n",
       "    </tr>\n",
       "    <tr>\n",
       "      <td>TAMIL NADU</td>\n",
       "      <td>9806.0</td>\n",
       "    </tr>\n",
       "    <tr>\n",
       "      <td>TRIPURA</td>\n",
       "      <td>165.0</td>\n",
       "    </tr>\n",
       "    <tr>\n",
       "      <td>UTTAR PRADESH</td>\n",
       "      <td>480.0</td>\n",
       "    </tr>\n",
       "    <tr>\n",
       "      <td>WEST BENGAL</td>\n",
       "      <td>1984.0</td>\n",
       "    </tr>\n",
       "  </tbody>\n",
       "</table>\n",
       "<p>13504 rows × 1 columns</p>\n",
       "</div>"
      ],
      "text/plain": [
       "                                 score\n",
       "application_date state                \n",
       "2017-04-01       ASSAM             0.0\n",
       "                 BIHAR             0.0\n",
       "                 CHHATTISGARH     34.0\n",
       "                 GUJARAT           0.0\n",
       "                 HARYANA           0.0\n",
       "...                                ...\n",
       "2019-07-23       PUNJAB            0.0\n",
       "                 TAMIL NADU     9806.0\n",
       "                 TRIPURA         165.0\n",
       "                 UTTAR PRADESH   480.0\n",
       "                 WEST BENGAL    1984.0\n",
       "\n",
       "[13504 rows x 1 columns]"
      ]
     },
     "execution_count": 66,
     "metadata": {},
     "output_type": "execute_result"
    }
   ],
   "source": [
    "FinanceOfferingCaseSegment2GroupByDateState"
   ]
  },
  {
   "cell_type": "code",
   "execution_count": 67,
   "metadata": {},
   "outputs": [
    {
     "data": {
      "text/plain": [
       "application_date\n",
       "2017-04-01      897.0\n",
       "2017-04-02      605.0\n",
       "2017-04-03     2016.0\n",
       "2017-04-04     2245.0\n",
       "2017-04-05     2415.0\n",
       "               ...   \n",
       "2019-07-19    29778.0\n",
       "2019-07-20    26123.0\n",
       "2019-07-21    12267.0\n",
       "2019-07-22    27292.0\n",
       "2019-07-23    29183.0\n",
       "Name: case_count, Length: 844, dtype: float64"
      ]
     },
     "execution_count": 67,
     "metadata": {},
     "output_type": "execute_result"
    }
   ],
   "source": [
    "FinanceOfferingCaseSegment2GroupByDate"
   ]
  },
  {
   "cell_type": "code",
   "execution_count": 68,
   "metadata": {},
   "outputs": [
    {
     "data": {
      "text/plain": [
       "<matplotlib.axes._subplots.AxesSubplot at 0x299a795aa08>"
      ]
     },
     "execution_count": 68,
     "metadata": {},
     "output_type": "execute_result"
    },
    {
     "data": {
      "image/png": "[encoded data removed]",
      "text/plain": [
       "<Figure size 432x288 with 1 Axes>"
      ]
     },
     "metadata": {
      "needs_background": "light"
     },
     "output_type": "display_data"
    }
   ],
   "source": [
    "FinanceOfferingCaseSegment2GroupByDate.plot(x=\"application_date\", kind=\"bar\")"
   ]
  },
  {
   "cell_type": "code",
   "execution_count": 77,
   "metadata": {},
   "outputs": [
    {
     "name": "stdout",
     "output_type": "stream",
     "text": [
      "<class 'pandas.core.frame.DataFrame'>\n",
      "RangeIndex: 844 entries, 0 to 843\n",
      "Data columns (total 5 columns):\n",
      "application_date    844 non-null datetime64[ns]\n",
      "case_count          844 non-null float64\n",
      "year                844 non-null int64\n",
      "month               844 non-null int64\n",
      "day                 844 non-null int64\n",
      "dtypes: datetime64[ns](1), float64(1), int64(3)\n",
      "memory usage: 33.1 KB\n"
     ]
    }
   ],
   "source": [
    "FinanceOfferingCaseSegment2GroupByDate.info()\n",
    "#FinanceOfferingCaseSegment2GroupByDate is of type series, since we have used group by on dataframe.\n",
    "#So convert FinanceOfferingCaseSegment2GroupByDate to dataframe"
   ]
  },
  {
   "cell_type": "code",
   "execution_count": 69,
   "metadata": {},
   "outputs": [
    {
     "ename": "KeyError",
     "evalue": "'application_date'",
     "output_type": "error",
     "traceback": [
      "\u001b[1;31m---------------------------------------------------------------------------\u001b[0m",
      "\u001b[1;31mTypeError\u001b[0m                                 Traceback (most recent call last)",
      "\u001b[1;32m~\\AppData\\Local\\Continuum\\anaconda3\\lib\\site-packages\\pandas\\core\\indexes\\base.py\u001b[0m in \u001b[0;36mget_value\u001b[1;34m(self, series, key)\u001b[0m\n\u001b[0;32m   4735\u001b[0m             \u001b[1;32mtry\u001b[0m\u001b[1;33m:\u001b[0m\u001b[1;33m\u001b[0m\u001b[1;33m\u001b[0m\u001b[0m\n\u001b[1;32m-> 4736\u001b[1;33m                 \u001b[1;32mreturn\u001b[0m \u001b[0mlibindex\u001b[0m\u001b[1;33m.\u001b[0m\u001b[0mget_value_box\u001b[0m\u001b[1;33m(\u001b[0m\u001b[0ms\u001b[0m\u001b[1;33m,\u001b[0m \u001b[0mkey\u001b[0m\u001b[1;33m)\u001b[0m\u001b[1;33m\u001b[0m\u001b[1;33m\u001b[0m\u001b[0m\n\u001b[0m\u001b[0;32m   4737\u001b[0m             \u001b[1;32mexcept\u001b[0m \u001b[0mIndexError\u001b[0m\u001b[1;33m:\u001b[0m\u001b[1;33m\u001b[0m\u001b[1;33m\u001b[0m\u001b[0m\n",
      "\u001b[1;32mpandas\\_libs\\index.pyx\u001b[0m in \u001b[0;36mpandas._libs.index.get_value_box\u001b[1;34m()\u001b[0m\n",
      "\u001b[1;32mpandas\\_libs\\index.pyx\u001b[0m in \u001b[0;36mpandas._libs.index.get_value_at\u001b[1;34m()\u001b[0m\n",
      "\u001b[1;32mpandas\\_libs\\util.pxd\u001b[0m in \u001b[0;36mpandas._libs.util.get_value_at\u001b[1;34m()\u001b[0m\n",
      "\u001b[1;32mpandas\\_libs\\util.pxd\u001b[0m in \u001b[0;36mpandas._libs.util.validate_indexer\u001b[1;34m()\u001b[0m\n",
      "\u001b[1;31mTypeError\u001b[0m: 'str' object cannot be interpreted as an integer",
      "\nDuring handling of the above exception, another exception occurred:\n",
      "\u001b[1;31mKeyError\u001b[0m                                  Traceback (most recent call last)",
      "\u001b[1;32m<ipython-input-69-2b86b68620f8>\u001b[0m in \u001b[0;36m<module>\u001b[1;34m\u001b[0m\n\u001b[1;32m----> 1\u001b[1;33m \u001b[0mFinanceOfferingCaseSegment2GroupByDate\u001b[0m\u001b[1;33m[\u001b[0m\u001b[1;34m'application_date'\u001b[0m\u001b[1;33m]\u001b[0m \u001b[1;33m=\u001b[0m \u001b[0mpd\u001b[0m\u001b[1;33m.\u001b[0m\u001b[0mto_datetime\u001b[0m\u001b[1;33m(\u001b[0m\u001b[0mFinanceOfferingCaseSegment2GroupByDate\u001b[0m\u001b[1;33m[\u001b[0m\u001b[1;34m'application_date'\u001b[0m\u001b[1;33m]\u001b[0m\u001b[1;33m)\u001b[0m\u001b[1;33m\u001b[0m\u001b[1;33m\u001b[0m\u001b[0m\n\u001b[0m",
      "\u001b[1;32m~\\AppData\\Local\\Continuum\\anaconda3\\lib\\site-packages\\pandas\\core\\series.py\u001b[0m in \u001b[0;36m__getitem__\u001b[1;34m(self, key)\u001b[0m\n\u001b[0;32m   1066\u001b[0m         \u001b[0mkey\u001b[0m \u001b[1;33m=\u001b[0m \u001b[0mcom\u001b[0m\u001b[1;33m.\u001b[0m\u001b[0mapply_if_callable\u001b[0m\u001b[1;33m(\u001b[0m\u001b[0mkey\u001b[0m\u001b[1;33m,\u001b[0m \u001b[0mself\u001b[0m\u001b[1;33m)\u001b[0m\u001b[1;33m\u001b[0m\u001b[1;33m\u001b[0m\u001b[0m\n\u001b[0;32m   1067\u001b[0m         \u001b[1;32mtry\u001b[0m\u001b[1;33m:\u001b[0m\u001b[1;33m\u001b[0m\u001b[1;33m\u001b[0m\u001b[0m\n\u001b[1;32m-> 1068\u001b[1;33m             \u001b[0mresult\u001b[0m \u001b[1;33m=\u001b[0m \u001b[0mself\u001b[0m\u001b[1;33m.\u001b[0m\u001b[0mindex\u001b[0m\u001b[1;33m.\u001b[0m\u001b[0mget_value\u001b[0m\u001b[1;33m(\u001b[0m\u001b[0mself\u001b[0m\u001b[1;33m,\u001b[0m \u001b[0mkey\u001b[0m\u001b[1;33m)\u001b[0m\u001b[1;33m\u001b[0m\u001b[1;33m\u001b[0m\u001b[0m\n\u001b[0m\u001b[0;32m   1069\u001b[0m \u001b[1;33m\u001b[0m\u001b[0m\n\u001b[0;32m   1070\u001b[0m             \u001b[1;32mif\u001b[0m \u001b[1;32mnot\u001b[0m \u001b[0mis_scalar\u001b[0m\u001b[1;33m(\u001b[0m\u001b[0mresult\u001b[0m\u001b[1;33m)\u001b[0m\u001b[1;33m:\u001b[0m\u001b[1;33m\u001b[0m\u001b[1;33m\u001b[0m\u001b[0m\n",
      "\u001b[1;32m~\\AppData\\Local\\Continuum\\anaconda3\\lib\\site-packages\\pandas\\core\\indexes\\base.py\u001b[0m in \u001b[0;36mget_value\u001b[1;34m(self, series, key)\u001b[0m\n\u001b[0;32m   4742\u001b[0m                     \u001b[1;32mraise\u001b[0m \u001b[0mInvalidIndexError\u001b[0m\u001b[1;33m(\u001b[0m\u001b[0mkey\u001b[0m\u001b[1;33m)\u001b[0m\u001b[1;33m\u001b[0m\u001b[1;33m\u001b[0m\u001b[0m\n\u001b[0;32m   4743\u001b[0m                 \u001b[1;32melse\u001b[0m\u001b[1;33m:\u001b[0m\u001b[1;33m\u001b[0m\u001b[1;33m\u001b[0m\u001b[0m\n\u001b[1;32m-> 4744\u001b[1;33m                     \u001b[1;32mraise\u001b[0m \u001b[0me1\u001b[0m\u001b[1;33m\u001b[0m\u001b[1;33m\u001b[0m\u001b[0m\n\u001b[0m\u001b[0;32m   4745\u001b[0m             \u001b[1;32mexcept\u001b[0m \u001b[0mException\u001b[0m\u001b[1;33m:\u001b[0m  \u001b[1;31m# pragma: no cover\u001b[0m\u001b[1;33m\u001b[0m\u001b[1;33m\u001b[0m\u001b[0m\n\u001b[0;32m   4746\u001b[0m                 \u001b[1;32mraise\u001b[0m \u001b[0me1\u001b[0m\u001b[1;33m\u001b[0m\u001b[1;33m\u001b[0m\u001b[0m\n",
      "\u001b[1;32m~\\AppData\\Local\\Continuum\\anaconda3\\lib\\site-packages\\pandas\\core\\indexes\\base.py\u001b[0m in \u001b[0;36mget_value\u001b[1;34m(self, series, key)\u001b[0m\n\u001b[0;32m   4728\u001b[0m         \u001b[0mk\u001b[0m \u001b[1;33m=\u001b[0m \u001b[0mself\u001b[0m\u001b[1;33m.\u001b[0m\u001b[0m_convert_scalar_indexer\u001b[0m\u001b[1;33m(\u001b[0m\u001b[0mk\u001b[0m\u001b[1;33m,\u001b[0m \u001b[0mkind\u001b[0m\u001b[1;33m=\u001b[0m\u001b[1;34m\"getitem\"\u001b[0m\u001b[1;33m)\u001b[0m\u001b[1;33m\u001b[0m\u001b[1;33m\u001b[0m\u001b[0m\n\u001b[0;32m   4729\u001b[0m         \u001b[1;32mtry\u001b[0m\u001b[1;33m:\u001b[0m\u001b[1;33m\u001b[0m\u001b[1;33m\u001b[0m\u001b[0m\n\u001b[1;32m-> 4730\u001b[1;33m             \u001b[1;32mreturn\u001b[0m \u001b[0mself\u001b[0m\u001b[1;33m.\u001b[0m\u001b[0m_engine\u001b[0m\u001b[1;33m.\u001b[0m\u001b[0mget_value\u001b[0m\u001b[1;33m(\u001b[0m\u001b[0ms\u001b[0m\u001b[1;33m,\u001b[0m \u001b[0mk\u001b[0m\u001b[1;33m,\u001b[0m \u001b[0mtz\u001b[0m\u001b[1;33m=\u001b[0m\u001b[0mgetattr\u001b[0m\u001b[1;33m(\u001b[0m\u001b[0mseries\u001b[0m\u001b[1;33m.\u001b[0m\u001b[0mdtype\u001b[0m\u001b[1;33m,\u001b[0m \u001b[1;34m\"tz\"\u001b[0m\u001b[1;33m,\u001b[0m \u001b[1;32mNone\u001b[0m\u001b[1;33m)\u001b[0m\u001b[1;33m)\u001b[0m\u001b[1;33m\u001b[0m\u001b[1;33m\u001b[0m\u001b[0m\n\u001b[0m\u001b[0;32m   4731\u001b[0m         \u001b[1;32mexcept\u001b[0m \u001b[0mKeyError\u001b[0m \u001b[1;32mas\u001b[0m \u001b[0me1\u001b[0m\u001b[1;33m:\u001b[0m\u001b[1;33m\u001b[0m\u001b[1;33m\u001b[0m\u001b[0m\n\u001b[0;32m   4732\u001b[0m             \u001b[1;32mif\u001b[0m \u001b[0mlen\u001b[0m\u001b[1;33m(\u001b[0m\u001b[0mself\u001b[0m\u001b[1;33m)\u001b[0m \u001b[1;33m>\u001b[0m \u001b[1;36m0\u001b[0m \u001b[1;32mand\u001b[0m \u001b[1;33m(\u001b[0m\u001b[0mself\u001b[0m\u001b[1;33m.\u001b[0m\u001b[0mholds_integer\u001b[0m\u001b[1;33m(\u001b[0m\u001b[1;33m)\u001b[0m \u001b[1;32mor\u001b[0m \u001b[0mself\u001b[0m\u001b[1;33m.\u001b[0m\u001b[0mis_boolean\u001b[0m\u001b[1;33m(\u001b[0m\u001b[1;33m)\u001b[0m\u001b[1;33m)\u001b[0m\u001b[1;33m:\u001b[0m\u001b[1;33m\u001b[0m\u001b[1;33m\u001b[0m\u001b[0m\n",
      "\u001b[1;32mpandas\\_libs\\index.pyx\u001b[0m in \u001b[0;36mpandas._libs.index.IndexEngine.get_value\u001b[1;34m()\u001b[0m\n",
      "\u001b[1;32mpandas\\_libs\\index.pyx\u001b[0m in \u001b[0;36mpandas._libs.index.IndexEngine.get_value\u001b[1;34m()\u001b[0m\n",
      "\u001b[1;32mpandas\\_libs\\index.pyx\u001b[0m in \u001b[0;36mpandas._libs.index.IndexEngine.get_loc\u001b[1;34m()\u001b[0m\n",
      "\u001b[1;32mpandas\\_libs\\hashtable_class_helper.pxi\u001b[0m in \u001b[0;36mpandas._libs.hashtable.PyObjectHashTable.get_item\u001b[1;34m()\u001b[0m\n",
      "\u001b[1;32mpandas\\_libs\\hashtable_class_helper.pxi\u001b[0m in \u001b[0;36mpandas._libs.hashtable.PyObjectHashTable.get_item\u001b[1;34m()\u001b[0m\n",
      "\u001b[1;31mKeyError\u001b[0m: 'application_date'"
     ]
    }
   ],
   "source": [
    "#FinanceOfferingCaseSegment2GroupByDate['application_date'] = pd.to_datetime(FinanceOfferingCaseSegment2GroupByDate['application_date'])\n",
    "#df = df[df['Date'].dt.month == 11]\n",
    "#FinanceOfferingCaseSegment2GroupByDateFromJulyToOct2017 = FinanceOfferingCaseSegment2GroupByDate"
   ]
  },
  {
   "cell_type": "code",
   "execution_count": 71,
   "metadata": {},
   "outputs": [],
   "source": [
    "FinanceOfferingCaseSegment2GroupByDate = FinanceOfferingCaseSegment2GroupByDate.to_frame().reset_index()"
   ]
  },
  {
   "cell_type": "code",
   "execution_count": 72,
   "metadata": {
    "scrolled": true
   },
   "outputs": [
    {
     "data": {
      "text/html": [
       "<div>\n",
       "<style scoped>\n",
       "    .dataframe tbody tr th:only-of-type {\n",
       "        vertical-align: middle;\n",
       "    }\n",
       "\n",
       "    .dataframe tbody tr th {\n",
       "        vertical-align: top;\n",
       "    }\n",
       "\n",
       "    .dataframe thead th {\n",
       "        text-align: right;\n",
       "    }\n",
       "</style>\n",
       "<table border=\"1\" class=\"dataframe\">\n",
       "  <thead>\n",
       "    <tr style=\"text-align: right;\">\n",
       "      <th></th>\n",
       "      <th>application_date</th>\n",
       "      <th>case_count</th>\n",
       "    </tr>\n",
       "  </thead>\n",
       "  <tbody>\n",
       "    <tr>\n",
       "      <td>0</td>\n",
       "      <td>2017-04-01</td>\n",
       "      <td>897.0</td>\n",
       "    </tr>\n",
       "    <tr>\n",
       "      <td>1</td>\n",
       "      <td>2017-04-02</td>\n",
       "      <td>605.0</td>\n",
       "    </tr>\n",
       "    <tr>\n",
       "      <td>2</td>\n",
       "      <td>2017-04-03</td>\n",
       "      <td>2016.0</td>\n",
       "    </tr>\n",
       "    <tr>\n",
       "      <td>3</td>\n",
       "      <td>2017-04-04</td>\n",
       "      <td>2245.0</td>\n",
       "    </tr>\n",
       "    <tr>\n",
       "      <td>4</td>\n",
       "      <td>2017-04-05</td>\n",
       "      <td>2415.0</td>\n",
       "    </tr>\n",
       "    <tr>\n",
       "      <td>...</td>\n",
       "      <td>...</td>\n",
       "      <td>...</td>\n",
       "    </tr>\n",
       "    <tr>\n",
       "      <td>839</td>\n",
       "      <td>2019-07-19</td>\n",
       "      <td>29778.0</td>\n",
       "    </tr>\n",
       "    <tr>\n",
       "      <td>840</td>\n",
       "      <td>2019-07-20</td>\n",
       "      <td>26123.0</td>\n",
       "    </tr>\n",
       "    <tr>\n",
       "      <td>841</td>\n",
       "      <td>2019-07-21</td>\n",
       "      <td>12267.0</td>\n",
       "    </tr>\n",
       "    <tr>\n",
       "      <td>842</td>\n",
       "      <td>2019-07-22</td>\n",
       "      <td>27292.0</td>\n",
       "    </tr>\n",
       "    <tr>\n",
       "      <td>843</td>\n",
       "      <td>2019-07-23</td>\n",
       "      <td>29183.0</td>\n",
       "    </tr>\n",
       "  </tbody>\n",
       "</table>\n",
       "<p>844 rows × 2 columns</p>\n",
       "</div>"
      ],
      "text/plain": [
       "    application_date  case_count\n",
       "0         2017-04-01       897.0\n",
       "1         2017-04-02       605.0\n",
       "2         2017-04-03      2016.0\n",
       "3         2017-04-04      2245.0\n",
       "4         2017-04-05      2415.0\n",
       "..               ...         ...\n",
       "839       2019-07-19     29778.0\n",
       "840       2019-07-20     26123.0\n",
       "841       2019-07-21     12267.0\n",
       "842       2019-07-22     27292.0\n",
       "843       2019-07-23     29183.0\n",
       "\n",
       "[844 rows x 2 columns]"
      ]
     },
     "execution_count": 72,
     "metadata": {},
     "output_type": "execute_result"
    }
   ],
   "source": [
    "FinanceOfferingCaseSegment2GroupByDate"
   ]
  },
  {
   "cell_type": "code",
   "execution_count": 75,
   "metadata": {},
   "outputs": [],
   "source": [
    "FinanceOfferingCaseSegment2GroupByDate['application_date'] = pd.to_datetime(FinanceOfferingCaseSegment2GroupByDate['application_date'])   \n",
    "FinanceOfferingCaseSegment2GroupByDate['year'] = FinanceOfferingCaseSegment2GroupByDate.application_date.dt.year\n",
    "FinanceOfferingCaseSegment2GroupByDate['month'] = FinanceOfferingCaseSegment2GroupByDate.application_date.dt.month\n",
    "FinanceOfferingCaseSegment2GroupByDate['day'] = FinanceOfferingCaseSegment2GroupByDate.application_date.dt.day"
   ]
  },
  {
   "cell_type": "code",
   "execution_count": 76,
   "metadata": {},
   "outputs": [
    {
     "data": {
      "text/html": [
       "<div>\n",
       "<style scoped>\n",
       "    .dataframe tbody tr th:only-of-type {\n",
       "        vertical-align: middle;\n",
       "    }\n",
       "\n",
       "    .dataframe tbody tr th {\n",
       "        vertical-align: top;\n",
       "    }\n",
       "\n",
       "    .dataframe thead th {\n",
       "        text-align: right;\n",
       "    }\n",
       "</style>\n",
       "<table border=\"1\" class=\"dataframe\">\n",
       "  <thead>\n",
       "    <tr style=\"text-align: right;\">\n",
       "      <th></th>\n",
       "      <th>application_date</th>\n",
       "      <th>case_count</th>\n",
       "      <th>year</th>\n",
       "      <th>month</th>\n",
       "      <th>day</th>\n",
       "    </tr>\n",
       "  </thead>\n",
       "  <tbody>\n",
       "    <tr>\n",
       "      <td>0</td>\n",
       "      <td>2017-04-01</td>\n",
       "      <td>897.0</td>\n",
       "      <td>2017</td>\n",
       "      <td>4</td>\n",
       "      <td>1</td>\n",
       "    </tr>\n",
       "    <tr>\n",
       "      <td>1</td>\n",
       "      <td>2017-04-02</td>\n",
       "      <td>605.0</td>\n",
       "      <td>2017</td>\n",
       "      <td>4</td>\n",
       "      <td>2</td>\n",
       "    </tr>\n",
       "    <tr>\n",
       "      <td>2</td>\n",
       "      <td>2017-04-03</td>\n",
       "      <td>2016.0</td>\n",
       "      <td>2017</td>\n",
       "      <td>4</td>\n",
       "      <td>3</td>\n",
       "    </tr>\n",
       "    <tr>\n",
       "      <td>3</td>\n",
       "      <td>2017-04-04</td>\n",
       "      <td>2245.0</td>\n",
       "      <td>2017</td>\n",
       "      <td>4</td>\n",
       "      <td>4</td>\n",
       "    </tr>\n",
       "    <tr>\n",
       "      <td>4</td>\n",
       "      <td>2017-04-05</td>\n",
       "      <td>2415.0</td>\n",
       "      <td>2017</td>\n",
       "      <td>4</td>\n",
       "      <td>5</td>\n",
       "    </tr>\n",
       "    <tr>\n",
       "      <td>...</td>\n",
       "      <td>...</td>\n",
       "      <td>...</td>\n",
       "      <td>...</td>\n",
       "      <td>...</td>\n",
       "      <td>...</td>\n",
       "    </tr>\n",
       "    <tr>\n",
       "      <td>839</td>\n",
       "      <td>2019-07-19</td>\n",
       "      <td>29778.0</td>\n",
       "      <td>2019</td>\n",
       "      <td>7</td>\n",
       "      <td>19</td>\n",
       "    </tr>\n",
       "    <tr>\n",
       "      <td>840</td>\n",
       "      <td>2019-07-20</td>\n",
       "      <td>26123.0</td>\n",
       "      <td>2019</td>\n",
       "      <td>7</td>\n",
       "      <td>20</td>\n",
       "    </tr>\n",
       "    <tr>\n",
       "      <td>841</td>\n",
       "      <td>2019-07-21</td>\n",
       "      <td>12267.0</td>\n",
       "      <td>2019</td>\n",
       "      <td>7</td>\n",
       "      <td>21</td>\n",
       "    </tr>\n",
       "    <tr>\n",
       "      <td>842</td>\n",
       "      <td>2019-07-22</td>\n",
       "      <td>27292.0</td>\n",
       "      <td>2019</td>\n",
       "      <td>7</td>\n",
       "      <td>22</td>\n",
       "    </tr>\n",
       "    <tr>\n",
       "      <td>843</td>\n",
       "      <td>2019-07-23</td>\n",
       "      <td>29183.0</td>\n",
       "      <td>2019</td>\n",
       "      <td>7</td>\n",
       "      <td>23</td>\n",
       "    </tr>\n",
       "  </tbody>\n",
       "</table>\n",
       "<p>844 rows × 5 columns</p>\n",
       "</div>"
      ],
      "text/plain": [
       "    application_date  case_count  year  month  day\n",
       "0         2017-04-01       897.0  2017      4    1\n",
       "1         2017-04-02       605.0  2017      4    2\n",
       "2         2017-04-03      2016.0  2017      4    3\n",
       "3         2017-04-04      2245.0  2017      4    4\n",
       "4         2017-04-05      2415.0  2017      4    5\n",
       "..               ...         ...   ...    ...  ...\n",
       "839       2019-07-19     29778.0  2019      7   19\n",
       "840       2019-07-20     26123.0  2019      7   20\n",
       "841       2019-07-21     12267.0  2019      7   21\n",
       "842       2019-07-22     27292.0  2019      7   22\n",
       "843       2019-07-23     29183.0  2019      7   23\n",
       "\n",
       "[844 rows x 5 columns]"
      ]
     },
     "execution_count": 76,
     "metadata": {},
     "output_type": "execute_result"
    }
   ],
   "source": [
    "FinanceOfferingCaseSegment2GroupByDate"
   ]
  },
  {
   "cell_type": "code",
   "execution_count": 78,
   "metadata": {},
   "outputs": [
    {
     "data": {
      "text/plain": [
       "<matplotlib.axes._subplots.AxesSubplot at 0x299a78fe8c8>"
      ]
     },
     "execution_count": 78,
     "metadata": {},
     "output_type": "execute_result"
    },
    {
     "data": {
      "image/png": "[encoded data removed]",
      "text/plain": [
       "<Figure size 432x288 with 1 Axes>"
      ]
     },
     "metadata": {
      "needs_background": "light"
     },
     "output_type": "display_data"
    }
   ],
   "source": [
    "sns.barplot(x='application_date',y='case_count',data=FinanceOfferingCaseSegment2GroupByDate)"
   ]
  },
  {
   "cell_type": "code",
   "execution_count": 83,
   "metadata": {},
   "outputs": [],
   "source": [
    "FinanceOfferingCaseSegment2GroupByDateJuly2017 = FinanceOfferingCaseSegment2GroupByDate.loc[FinanceOfferingCaseSegment2GroupByDate['month'] == 7].loc[FinanceOfferingCaseSegment2GroupByDate['year'] == 2017]"
   ]
  },
  {
   "cell_type": "code",
   "execution_count": 84,
   "metadata": {},
   "outputs": [
    {
     "data": {
      "text/html": [
       "<div>\n",
       "<style scoped>\n",
       "    .dataframe tbody tr th:only-of-type {\n",
       "        vertical-align: middle;\n",
       "    }\n",
       "\n",
       "    .dataframe tbody tr th {\n",
       "        vertical-align: top;\n",
       "    }\n",
       "\n",
       "    .dataframe thead th {\n",
       "        text-align: right;\n",
       "    }\n",
       "</style>\n",
       "<table border=\"1\" class=\"dataframe\">\n",
       "  <thead>\n",
       "    <tr style=\"text-align: right;\">\n",
       "      <th></th>\n",
       "      <th>application_date</th>\n",
       "      <th>case_count</th>\n",
       "      <th>year</th>\n",
       "      <th>month</th>\n",
       "      <th>day</th>\n",
       "    </tr>\n",
       "  </thead>\n",
       "  <tbody>\n",
       "    <tr>\n",
       "      <td>91</td>\n",
       "      <td>2017-07-01</td>\n",
       "      <td>2073.0</td>\n",
       "      <td>2017</td>\n",
       "      <td>7</td>\n",
       "      <td>1</td>\n",
       "    </tr>\n",
       "    <tr>\n",
       "      <td>92</td>\n",
       "      <td>2017-07-02</td>\n",
       "      <td>1343.0</td>\n",
       "      <td>2017</td>\n",
       "      <td>7</td>\n",
       "      <td>2</td>\n",
       "    </tr>\n",
       "    <tr>\n",
       "      <td>93</td>\n",
       "      <td>2017-07-03</td>\n",
       "      <td>2932.0</td>\n",
       "      <td>2017</td>\n",
       "      <td>7</td>\n",
       "      <td>3</td>\n",
       "    </tr>\n",
       "    <tr>\n",
       "      <td>94</td>\n",
       "      <td>2017-07-04</td>\n",
       "      <td>4657.0</td>\n",
       "      <td>2017</td>\n",
       "      <td>7</td>\n",
       "      <td>4</td>\n",
       "    </tr>\n",
       "    <tr>\n",
       "      <td>95</td>\n",
       "      <td>2017-07-05</td>\n",
       "      <td>4882.0</td>\n",
       "      <td>2017</td>\n",
       "      <td>7</td>\n",
       "      <td>5</td>\n",
       "    </tr>\n",
       "    <tr>\n",
       "      <td>96</td>\n",
       "      <td>2017-07-06</td>\n",
       "      <td>5000.0</td>\n",
       "      <td>2017</td>\n",
       "      <td>7</td>\n",
       "      <td>6</td>\n",
       "    </tr>\n",
       "    <tr>\n",
       "      <td>97</td>\n",
       "      <td>2017-07-07</td>\n",
       "      <td>5322.0</td>\n",
       "      <td>2017</td>\n",
       "      <td>7</td>\n",
       "      <td>7</td>\n",
       "    </tr>\n",
       "    <tr>\n",
       "      <td>98</td>\n",
       "      <td>2017-07-08</td>\n",
       "      <td>4885.0</td>\n",
       "      <td>2017</td>\n",
       "      <td>7</td>\n",
       "      <td>8</td>\n",
       "    </tr>\n",
       "    <tr>\n",
       "      <td>99</td>\n",
       "      <td>2017-07-09</td>\n",
       "      <td>3939.0</td>\n",
       "      <td>2017</td>\n",
       "      <td>7</td>\n",
       "      <td>9</td>\n",
       "    </tr>\n",
       "    <tr>\n",
       "      <td>100</td>\n",
       "      <td>2017-07-10</td>\n",
       "      <td>5733.0</td>\n",
       "      <td>2017</td>\n",
       "      <td>7</td>\n",
       "      <td>10</td>\n",
       "    </tr>\n",
       "    <tr>\n",
       "      <td>101</td>\n",
       "      <td>2017-07-11</td>\n",
       "      <td>12403.0</td>\n",
       "      <td>2017</td>\n",
       "      <td>7</td>\n",
       "      <td>11</td>\n",
       "    </tr>\n",
       "    <tr>\n",
       "      <td>102</td>\n",
       "      <td>2017-07-12</td>\n",
       "      <td>16716.0</td>\n",
       "      <td>2017</td>\n",
       "      <td>7</td>\n",
       "      <td>12</td>\n",
       "    </tr>\n",
       "    <tr>\n",
       "      <td>103</td>\n",
       "      <td>2017-07-13</td>\n",
       "      <td>19424.0</td>\n",
       "      <td>2017</td>\n",
       "      <td>7</td>\n",
       "      <td>13</td>\n",
       "    </tr>\n",
       "    <tr>\n",
       "      <td>104</td>\n",
       "      <td>2017-07-14</td>\n",
       "      <td>19432.0</td>\n",
       "      <td>2017</td>\n",
       "      <td>7</td>\n",
       "      <td>14</td>\n",
       "    </tr>\n",
       "    <tr>\n",
       "      <td>105</td>\n",
       "      <td>2017-07-15</td>\n",
       "      <td>17602.0</td>\n",
       "      <td>2017</td>\n",
       "      <td>7</td>\n",
       "      <td>15</td>\n",
       "    </tr>\n",
       "    <tr>\n",
       "      <td>106</td>\n",
       "      <td>2017-07-16</td>\n",
       "      <td>11732.0</td>\n",
       "      <td>2017</td>\n",
       "      <td>7</td>\n",
       "      <td>16</td>\n",
       "    </tr>\n",
       "    <tr>\n",
       "      <td>107</td>\n",
       "      <td>2017-07-17</td>\n",
       "      <td>18006.0</td>\n",
       "      <td>2017</td>\n",
       "      <td>7</td>\n",
       "      <td>17</td>\n",
       "    </tr>\n",
       "    <tr>\n",
       "      <td>108</td>\n",
       "      <td>2017-07-18</td>\n",
       "      <td>20867.0</td>\n",
       "      <td>2017</td>\n",
       "      <td>7</td>\n",
       "      <td>18</td>\n",
       "    </tr>\n",
       "    <tr>\n",
       "      <td>109</td>\n",
       "      <td>2017-07-19</td>\n",
       "      <td>21357.0</td>\n",
       "      <td>2017</td>\n",
       "      <td>7</td>\n",
       "      <td>19</td>\n",
       "    </tr>\n",
       "    <tr>\n",
       "      <td>110</td>\n",
       "      <td>2017-07-20</td>\n",
       "      <td>22155.0</td>\n",
       "      <td>2017</td>\n",
       "      <td>7</td>\n",
       "      <td>20</td>\n",
       "    </tr>\n",
       "    <tr>\n",
       "      <td>111</td>\n",
       "      <td>2017-07-21</td>\n",
       "      <td>17095.0</td>\n",
       "      <td>2017</td>\n",
       "      <td>7</td>\n",
       "      <td>21</td>\n",
       "    </tr>\n",
       "    <tr>\n",
       "      <td>112</td>\n",
       "      <td>2017-07-22</td>\n",
       "      <td>15158.0</td>\n",
       "      <td>2017</td>\n",
       "      <td>7</td>\n",
       "      <td>22</td>\n",
       "    </tr>\n",
       "    <tr>\n",
       "      <td>113</td>\n",
       "      <td>2017-07-23</td>\n",
       "      <td>10019.0</td>\n",
       "      <td>2017</td>\n",
       "      <td>7</td>\n",
       "      <td>23</td>\n",
       "    </tr>\n",
       "    <tr>\n",
       "      <td>114</td>\n",
       "      <td>2017-07-24</td>\n",
       "      <td>9565.0</td>\n",
       "      <td>2017</td>\n",
       "      <td>7</td>\n",
       "      <td>24</td>\n",
       "    </tr>\n",
       "    <tr>\n",
       "      <td>115</td>\n",
       "      <td>2017-07-25</td>\n",
       "      <td>9210.0</td>\n",
       "      <td>2017</td>\n",
       "      <td>7</td>\n",
       "      <td>25</td>\n",
       "    </tr>\n",
       "    <tr>\n",
       "      <td>116</td>\n",
       "      <td>2017-07-26</td>\n",
       "      <td>8593.0</td>\n",
       "      <td>2017</td>\n",
       "      <td>7</td>\n",
       "      <td>26</td>\n",
       "    </tr>\n",
       "    <tr>\n",
       "      <td>117</td>\n",
       "      <td>2017-07-27</td>\n",
       "      <td>6654.0</td>\n",
       "      <td>2017</td>\n",
       "      <td>7</td>\n",
       "      <td>27</td>\n",
       "    </tr>\n",
       "    <tr>\n",
       "      <td>118</td>\n",
       "      <td>2017-07-28</td>\n",
       "      <td>2203.0</td>\n",
       "      <td>2017</td>\n",
       "      <td>7</td>\n",
       "      <td>28</td>\n",
       "    </tr>\n",
       "    <tr>\n",
       "      <td>119</td>\n",
       "      <td>2017-07-29</td>\n",
       "      <td>1251.0</td>\n",
       "      <td>2017</td>\n",
       "      <td>7</td>\n",
       "      <td>29</td>\n",
       "    </tr>\n",
       "    <tr>\n",
       "      <td>120</td>\n",
       "      <td>2017-07-30</td>\n",
       "      <td>798.0</td>\n",
       "      <td>2017</td>\n",
       "      <td>7</td>\n",
       "      <td>30</td>\n",
       "    </tr>\n",
       "    <tr>\n",
       "      <td>121</td>\n",
       "      <td>2017-07-31</td>\n",
       "      <td>1887.0</td>\n",
       "      <td>2017</td>\n",
       "      <td>7</td>\n",
       "      <td>31</td>\n",
       "    </tr>\n",
       "  </tbody>\n",
       "</table>\n",
       "</div>"
      ],
      "text/plain": [
       "    application_date  case_count  year  month  day\n",
       "91        2017-07-01      2073.0  2017      7    1\n",
       "92        2017-07-02      1343.0  2017      7    2\n",
       "93        2017-07-03      2932.0  2017      7    3\n",
       "94        2017-07-04      4657.0  2017      7    4\n",
       "95        2017-07-05      4882.0  2017      7    5\n",
       "96        2017-07-06      5000.0  2017      7    6\n",
       "97        2017-07-07      5322.0  2017      7    7\n",
       "98        2017-07-08      4885.0  2017      7    8\n",
       "99        2017-07-09      3939.0  2017      7    9\n",
       "100       2017-07-10      5733.0  2017      7   10\n",
       "101       2017-07-11     12403.0  2017      7   11\n",
       "102       2017-07-12     16716.0  2017      7   12\n",
       "103       2017-07-13     19424.0  2017      7   13\n",
       "104       2017-07-14     19432.0  2017      7   14\n",
       "105       2017-07-15     17602.0  2017      7   15\n",
       "106       2017-07-16     11732.0  2017      7   16\n",
       "107       2017-07-17     18006.0  2017      7   17\n",
       "108       2017-07-18     20867.0  2017      7   18\n",
       "109       2017-07-19     21357.0  2017      7   19\n",
       "110       2017-07-20     22155.0  2017      7   20\n",
       "111       2017-07-21     17095.0  2017      7   21\n",
       "112       2017-07-22     15158.0  2017      7   22\n",
       "113       2017-07-23     10019.0  2017      7   23\n",
       "114       2017-07-24      9565.0  2017      7   24\n",
       "115       2017-07-25      9210.0  2017      7   25\n",
       "116       2017-07-26      8593.0  2017      7   26\n",
       "117       2017-07-27      6654.0  2017      7   27\n",
       "118       2017-07-28      2203.0  2017      7   28\n",
       "119       2017-07-29      1251.0  2017      7   29\n",
       "120       2017-07-30       798.0  2017      7   30\n",
       "121       2017-07-31      1887.0  2017      7   31"
      ]
     },
     "execution_count": 84,
     "metadata": {},
     "output_type": "execute_result"
    }
   ],
   "source": [
    "FinanceOfferingCaseSegment2GroupByDateJuly2017"
   ]
  },
  {
   "cell_type": "code",
   "execution_count": 85,
   "metadata": {},
   "outputs": [
    {
     "data": {
      "text/plain": [
       "<matplotlib.axes._subplots.AxesSubplot at 0x299acec6048>"
      ]
     },
     "execution_count": 85,
     "metadata": {},
     "output_type": "execute_result"
    },
    {
     "data": {
      "image/png": "[encoded data removed]",
      "text/plain": [
       "<Figure size 432x288 with 1 Axes>"
      ]
     },
     "metadata": {
      "needs_background": "light"
     },
     "output_type": "display_data"
    }
   ],
   "source": [
    "sns.barplot(x='application_date',y='case_count',data=FinanceOfferingCaseSegment2GroupByDateJuly2017)"
   ]
  },
  {
   "cell_type": "code",
   "execution_count": 86,
   "metadata": {},
   "outputs": [],
   "source": [
    "FinanceOfferingCaseSegment2GroupByDateAug2017 = FinanceOfferingCaseSegment2GroupByDate.loc[FinanceOfferingCaseSegment2GroupByDate['month'] == 8].loc[FinanceOfferingCaseSegment2GroupByDate['year'] == 2017]\n",
    "FinanceOfferingCaseSegment2GroupByDateSep2017 = FinanceOfferingCaseSegment2GroupByDate.loc[FinanceOfferingCaseSegment2GroupByDate['month'] == 9].loc[FinanceOfferingCaseSegment2GroupByDate['year'] == 2017]\n",
    "FinanceOfferingCaseSegment2GroupByDateOct2017 = FinanceOfferingCaseSegment2GroupByDate.loc[FinanceOfferingCaseSegment2GroupByDate['month'] == 10].loc[FinanceOfferingCaseSegment2GroupByDate['year'] == 2017]"
   ]
  },
  {
   "cell_type": "code",
   "execution_count": 87,
   "metadata": {},
   "outputs": [
    {
     "data": {
      "text/plain": [
       "<matplotlib.axes._subplots.AxesSubplot at 0x299acd87588>"
      ]
     },
     "execution_count": 87,
     "metadata": {},
     "output_type": "execute_result"
    },
    {
     "data": {
      "image/png": "[encoded data removed]",
      "text/plain": [
       "<Figure size 432x288 with 1 Axes>"
      ]
     },
     "metadata": {
      "needs_background": "light"
     },
     "output_type": "display_data"
    }
   ],
   "source": [
    "sns.barplot(x='application_date',y='case_count',data=FinanceOfferingCaseSegment2GroupByDateAug2017)"
   ]
  },
  {
   "cell_type": "code",
   "execution_count": 88,
   "metadata": {},
   "outputs": [
    {
     "data": {
      "text/plain": [
       "<matplotlib.axes._subplots.AxesSubplot at 0x299ad016388>"
      ]
     },
     "execution_count": 88,
     "metadata": {},
     "output_type": "execute_result"
    },
    {
     "data": {
      "image/png": "[encoded data removed]",
      "text/plain": [
       "<Figure size 432x288 with 1 Axes>"
      ]
     },
     "metadata": {
      "needs_background": "light"
     },
     "output_type": "display_data"
    }
   ],
   "source": [
    "sns.barplot(x='application_date',y='case_count',data=FinanceOfferingCaseSegment2GroupByDateSep2017)"
   ]
  },
  {
   "cell_type": "code",
   "execution_count": 89,
   "metadata": {},
   "outputs": [
    {
     "data": {
      "text/plain": [
       "<matplotlib.axes._subplots.AxesSubplot at 0x299ad016608>"
      ]
     },
     "execution_count": 89,
     "metadata": {},
     "output_type": "execute_result"
    },
    {
     "data": {
      "image/png": "[encoded data removed]",
      "text/plain": [
       "<Figure size 432x288 with 1 Axes>"
      ]
     },
     "metadata": {
      "needs_background": "light"
     },
     "output_type": "display_data"
    }
   ],
   "source": [
    "sns.barplot(x='application_date',y='case_count',data=FinanceOfferingCaseSegment2GroupByDateOct2017)"
   ]
  },
  {
   "cell_type": "code",
   "execution_count": 91,
   "metadata": {},
   "outputs": [],
   "source": [
    "#observed a pattern on monthy data for months of july-oct 2017.. \n",
    "#the total case counts are very low in the begining of the month, increase slightly till 10th, \n",
    "#touches the peak from 10-25th of every month, and then again are very low in the end of the month\n",
    "#Will have to do EDA for all the months, to observe if this pattern happens in every month from 2017-2019"
   ]
  },
  {
   "cell_type": "code",
   "execution_count": 92,
   "metadata": {},
   "outputs": [],
   "source": [
    "FinanceOfferingCaseSegment2GroupByDateNov2017 = FinanceOfferingCaseSegment2GroupByDate.loc[FinanceOfferingCaseSegment2GroupByDate['month'] == 11].loc[FinanceOfferingCaseSegment2GroupByDate['year'] == 2017]\n",
    "FinanceOfferingCaseSegment2GroupByDateDec2017 = FinanceOfferingCaseSegment2GroupByDate.loc[FinanceOfferingCaseSegment2GroupByDate['month'] == 12].loc[FinanceOfferingCaseSegment2GroupByDate['year'] == 2017]\n",
    "FinanceOfferingCaseSegment2GroupByDateJan2018 = FinanceOfferingCaseSegment2GroupByDate.loc[FinanceOfferingCaseSegment2GroupByDate['month'] == 1].loc[FinanceOfferingCaseSegment2GroupByDate['year'] == 2018]\n",
    "FinanceOfferingCaseSegment2GroupByDateFeb2018 = FinanceOfferingCaseSegment2GroupByDate.loc[FinanceOfferingCaseSegment2GroupByDate['month'] == 2].loc[FinanceOfferingCaseSegment2GroupByDate['year'] == 2018]\n",
    "FinanceOfferingCaseSegment2GroupByDateMar2018 = FinanceOfferingCaseSegment2GroupByDate.loc[FinanceOfferingCaseSegment2GroupByDate['month'] == 3].loc[FinanceOfferingCaseSegment2GroupByDate['year'] == 2018]\n",
    "FinanceOfferingCaseSegment2GroupByDateApr2018 = FinanceOfferingCaseSegment2GroupByDate.loc[FinanceOfferingCaseSegment2GroupByDate['month'] == 4].loc[FinanceOfferingCaseSegment2GroupByDate['year'] == 2018]\n",
    "FinanceOfferingCaseSegment2GroupByDateMay2018 = FinanceOfferingCaseSegment2GroupByDate.loc[FinanceOfferingCaseSegment2GroupByDate['month'] == 5].loc[FinanceOfferingCaseSegment2GroupByDate['year'] == 2018]\n",
    "FinanceOfferingCaseSegment2GroupByDateJun2018 = FinanceOfferingCaseSegment2GroupByDate.loc[FinanceOfferingCaseSegment2GroupByDate['month'] == 6].loc[FinanceOfferingCaseSegment2GroupByDate['year'] == 2018]\n",
    "FinanceOfferingCaseSegment2GroupByDateJul2018 = FinanceOfferingCaseSegment2GroupByDate.loc[FinanceOfferingCaseSegment2GroupByDate['month'] == 7].loc[FinanceOfferingCaseSegment2GroupByDate['year'] == 2018]\n",
    "FinanceOfferingCaseSegment2GroupByDateAug2018 = FinanceOfferingCaseSegment2GroupByDate.loc[FinanceOfferingCaseSegment2GroupByDate['month'] == 8].loc[FinanceOfferingCaseSegment2GroupByDate['year'] == 2018]\n",
    "FinanceOfferingCaseSegment2GroupByDateSep2018 = FinanceOfferingCaseSegment2GroupByDate.loc[FinanceOfferingCaseSegment2GroupByDate['month'] == 9].loc[FinanceOfferingCaseSegment2GroupByDate['year'] == 2018]\n",
    "FinanceOfferingCaseSegment2GroupByDateOct2018 = FinanceOfferingCaseSegment2GroupByDate.loc[FinanceOfferingCaseSegment2GroupByDate['month'] == 10].loc[FinanceOfferingCaseSegment2GroupByDate['year'] == 2018]\n",
    "FinanceOfferingCaseSegment2GroupByDateNov2018 = FinanceOfferingCaseSegment2GroupByDate.loc[FinanceOfferingCaseSegment2GroupByDate['month'] == 11].loc[FinanceOfferingCaseSegment2GroupByDate['year'] == 2018]\n",
    "FinanceOfferingCaseSegment2GroupByDateDec2018 = FinanceOfferingCaseSegment2GroupByDate.loc[FinanceOfferingCaseSegment2GroupByDate['month'] == 12].loc[FinanceOfferingCaseSegment2GroupByDate['year'] == 2018]\n",
    "FinanceOfferingCaseSegment2GroupByDateJan2019 = FinanceOfferingCaseSegment2GroupByDate.loc[FinanceOfferingCaseSegment2GroupByDate['month'] == 1].loc[FinanceOfferingCaseSegment2GroupByDate['year'] == 2019]\n",
    "FinanceOfferingCaseSegment2GroupByDateFeb2019 = FinanceOfferingCaseSegment2GroupByDate.loc[FinanceOfferingCaseSegment2GroupByDate['month'] == 2].loc[FinanceOfferingCaseSegment2GroupByDate['year'] == 2019]\n",
    "FinanceOfferingCaseSegment2GroupByDateMar2019 = FinanceOfferingCaseSegment2GroupByDate.loc[FinanceOfferingCaseSegment2GroupByDate['month'] == 3].loc[FinanceOfferingCaseSegment2GroupByDate['year'] == 2019]\n",
    "FinanceOfferingCaseSegment2GroupByDateApr2019 = FinanceOfferingCaseSegment2GroupByDate.loc[FinanceOfferingCaseSegment2GroupByDate['month'] == 4].loc[FinanceOfferingCaseSegment2GroupByDate['year'] == 2019]\n",
    "FinanceOfferingCaseSegment2GroupByDateMay2019 = FinanceOfferingCaseSegment2GroupByDate.loc[FinanceOfferingCaseSegment2GroupByDate['month'] == 5].loc[FinanceOfferingCaseSegment2GroupByDate['year'] == 2019]\n",
    "FinanceOfferingCaseSegment2GroupByDateJun2019 = FinanceOfferingCaseSegment2GroupByDate.loc[FinanceOfferingCaseSegment2GroupByDate['month'] == 6].loc[FinanceOfferingCaseSegment2GroupByDate['year'] == 2019]"
   ]
  },
  {
   "cell_type": "code",
   "execution_count": 94,
   "metadata": {},
   "outputs": [
    {
     "data": {
      "text/plain": [
       "<matplotlib.axes._subplots.AxesSubplot at 0x299ad4d3608>"
      ]
     },
     "execution_count": 94,
     "metadata": {},
     "output_type": "execute_result"
    },
    {
     "data": {
      "image/png": "[encoded data removed]",
      "text/plain": [
       "<Figure size 432x288 with 1 Axes>"
      ]
     },
     "metadata": {
      "needs_background": "light"
     },
     "output_type": "display_data"
    }
   ],
   "source": [
    "sns.barplot(x='application_date',y='case_count',data=FinanceOfferingCaseSegment2GroupByDateNov2017)"
   ]
  },
  {
   "cell_type": "code",
   "execution_count": 95,
   "metadata": {},
   "outputs": [
    {
     "data": {
      "text/plain": [
       "<matplotlib.axes._subplots.AxesSubplot at 0x299ad637d08>"
      ]
     },
     "execution_count": 95,
     "metadata": {},
     "output_type": "execute_result"
    },
    {
     "data": {
      "image/png": "[encoded data removed]",
      "text/plain": [
       "<Figure size 432x288 with 1 Axes>"
      ]
     },
     "metadata": {
      "needs_background": "light"
     },
     "output_type": "display_data"
    }
   ],
   "source": [
    "sns.barplot(x='application_date',y='case_count',data=FinanceOfferingCaseSegment2GroupByDateDec2017)"
   ]
  },
  {
   "cell_type": "code",
   "execution_count": 97,
   "metadata": {},
   "outputs": [
    {
     "data": {
      "text/plain": [
       "<matplotlib.axes._subplots.AxesSubplot at 0x299ad7894c8>"
      ]
     },
     "execution_count": 97,
     "metadata": {},
     "output_type": "execute_result"
    },
    {
     "data": {
      "image/png": "[encoded data removed]",
      "text/plain": [
       "<Figure size 432x288 with 1 Axes>"
      ]
     },
     "metadata": {
      "needs_background": "light"
     },
     "output_type": "display_data"
    }
   ],
   "source": [
    "sns.barplot(x='application_date',y='case_count',data=FinanceOfferingCaseSegment2GroupByDateJan2018)"
   ]
  },
  {
   "cell_type": "code",
   "execution_count": 98,
   "metadata": {},
   "outputs": [
    {
     "data": {
      "text/plain": [
       "<matplotlib.axes._subplots.AxesSubplot at 0x299ad8fc108>"
      ]
     },
     "execution_count": 98,
     "metadata": {},
     "output_type": "execute_result"
    },
    {
     "data": {
      "image/png": "[encoded data removed]",
      "text/plain": [
       "<Figure size 432x288 with 1 Axes>"
      ]
     },
     "metadata": {
      "needs_background": "light"
     },
     "output_type": "display_data"
    }
   ],
   "source": [
    "sns.barplot(x='application_date',y='case_count',data=FinanceOfferingCaseSegment2GroupByDateFeb2018)"
   ]
  },
  {
   "cell_type": "code",
   "execution_count": 99,
   "metadata": {},
   "outputs": [
    {
     "data": {
      "text/plain": [
       "<matplotlib.axes._subplots.AxesSubplot at 0x299ada30488>"
      ]
     },
     "execution_count": 99,
     "metadata": {},
     "output_type": "execute_result"
    },
    {
     "data": {
      "image/png": "[encoded data removed]",
      "text/plain": [
       "<Figure size 432x288 with 1 Axes>"
      ]
     },
     "metadata": {
      "needs_background": "light"
     },
     "output_type": "display_data"
    }
   ],
   "source": [
    "sns.barplot(x='application_date',y='case_count',data=FinanceOfferingCaseSegment2GroupByDateMar2018)"
   ]
  },
  {
   "cell_type": "code",
   "execution_count": 100,
   "metadata": {},
   "outputs": [
    {
     "data": {
      "text/plain": [
       "<matplotlib.axes._subplots.AxesSubplot at 0x299aeb60108>"
      ]
     },
     "execution_count": 100,
     "metadata": {},
     "output_type": "execute_result"
    },
    {
     "data": {
      "image/png": "[encoded data removed]",
      "text/plain": [
       "<Figure size 432x288 with 1 Axes>"
      ]
     },
     "metadata": {
      "needs_background": "light"
     },
     "output_type": "display_data"
    }
   ],
   "source": [
    "sns.barplot(x='application_date',y='case_count',data=FinanceOfferingCaseSegment2GroupByDateApr2018)"
   ]
  },
  {
   "cell_type": "code",
   "execution_count": 101,
   "metadata": {},
   "outputs": [
    {
     "data": {
      "text/plain": [
       "<matplotlib.axes._subplots.AxesSubplot at 0x299aec96508>"
      ]
     },
     "execution_count": 101,
     "metadata": {},
     "output_type": "execute_result"
    },
    {
     "data": {
      "image/png": "[encoded data removed]",
      "text/plain": [
       "<Figure size 432x288 with 1 Axes>"
      ]
     },
     "metadata": {
      "needs_background": "light"
     },
     "output_type": "display_data"
    }
   ],
   "source": [
    "sns.barplot(x='application_date',y='case_count',data=FinanceOfferingCaseSegment2GroupByDateMay2018)"
   ]
  },
  {
   "cell_type": "code",
   "execution_count": 102,
   "metadata": {},
   "outputs": [
    {
     "data": {
      "text/plain": [
       "<matplotlib.axes._subplots.AxesSubplot at 0x299aecaf3c8>"
      ]
     },
     "execution_count": 102,
     "metadata": {},
     "output_type": "execute_result"
    },
    {
     "data": {
      "image/png": "[encoded data removed]",
      "text/plain": [
       "<Figure size 432x288 with 1 Axes>"
      ]
     },
     "metadata": {
      "needs_background": "light"
     },
     "output_type": "display_data"
    }
   ],
   "source": [
    "sns.barplot(x='application_date',y='case_count',data=FinanceOfferingCaseSegment2GroupByDateJun2018)"
   ]
  },
  {
   "cell_type": "code",
   "execution_count": 103,
   "metadata": {},
   "outputs": [
    {
     "data": {
      "text/plain": [
       "<matplotlib.axes._subplots.AxesSubplot at 0x299aef62708>"
      ]
     },
     "execution_count": 103,
     "metadata": {},
     "output_type": "execute_result"
    },
    {
     "data": {
      "image/png": "[encoded data removed]",
      "text/plain": [
       "<Figure size 432x288 with 1 Axes>"
      ]
     },
     "metadata": {
      "needs_background": "light"
     },
     "output_type": "display_data"
    }
   ],
   "source": [
    "sns.barplot(x='application_date',y='case_count',data=FinanceOfferingCaseSegment2GroupByDateJul2018)"
   ]
  },
  {
   "cell_type": "code",
   "execution_count": 104,
   "metadata": {},
   "outputs": [
    {
     "data": {
      "text/plain": [
       "<matplotlib.axes._subplots.AxesSubplot at 0x299af0c3b08>"
      ]
     },
     "execution_count": 104,
     "metadata": {},
     "output_type": "execute_result"
    },
    {
     "data": {
      "image/png": "[encoded data removed]",
      "text/plain": [
       "<Figure size 432x288 with 1 Axes>"
      ]
     },
     "metadata": {
      "needs_background": "light"
     },
     "output_type": "display_data"
    }
   ],
   "source": [
    "sns.barplot(x='application_date',y='case_count',data=FinanceOfferingCaseSegment2GroupByDateAug2018)"
   ]
  },
  {
   "cell_type": "code",
   "execution_count": 105,
   "metadata": {},
   "outputs": [
    {
     "data": {
      "text/plain": [
       "<matplotlib.axes._subplots.AxesSubplot at 0x299af225108>"
      ]
     },
     "execution_count": 105,
     "metadata": {},
     "output_type": "execute_result"
    },
    {
     "data": {
      "image/png": "[encoded data removed]",
      "text/plain": [
       "<Figure size 432x288 with 1 Axes>"
      ]
     },
     "metadata": {
      "needs_background": "light"
     },
     "output_type": "display_data"
    }
   ],
   "source": [
    "sns.barplot(x='application_date',y='case_count',data=FinanceOfferingCaseSegment2GroupByDateSep2018)"
   ]
  },
  {
   "cell_type": "code",
   "execution_count": 106,
   "metadata": {},
   "outputs": [
    {
     "data": {
      "text/plain": [
       "<matplotlib.axes._subplots.AxesSubplot at 0x299af340e48>"
      ]
     },
     "execution_count": 106,
     "metadata": {},
     "output_type": "execute_result"
    },
    {
     "data": {
      "image/png": "[encoded data removed]",
      "text/plain": [
       "<Figure size 432x288 with 1 Axes>"
      ]
     },
     "metadata": {
      "needs_background": "light"
     },
     "output_type": "display_data"
    }
   ],
   "source": [
    "sns.barplot(x='application_date',y='case_count',data=FinanceOfferingCaseSegment2GroupByDateOct2018)"
   ]
  },
  {
   "cell_type": "code",
   "execution_count": 107,
   "metadata": {},
   "outputs": [
    {
     "data": {
      "text/plain": [
       "<matplotlib.axes._subplots.AxesSubplot at 0x299af4d35c8>"
      ]
     },
     "execution_count": 107,
     "metadata": {},
     "output_type": "execute_result"
    },
    {
     "data": {
      "image/png": "[encoded data removed]",
      "text/plain": [
       "<Figure size 432x288 with 1 Axes>"
      ]
     },
     "metadata": {
      "needs_background": "light"
     },
     "output_type": "display_data"
    }
   ],
   "source": [
    "sns.barplot(x='application_date',y='case_count',data=FinanceOfferingCaseSegment2GroupByDateNov2018)"
   ]
  },
  {
   "cell_type": "code",
   "execution_count": 108,
   "metadata": {},
   "outputs": [
    {
     "data": {
      "text/plain": [
       "<matplotlib.axes._subplots.AxesSubplot at 0x299af4c0688>"
      ]
     },
     "execution_count": 108,
     "metadata": {},
     "output_type": "execute_result"
    },
    {
     "data": {
      "image/png": "[encoded data removed]",
      "text/plain": [
       "<Figure size 432x288 with 1 Axes>"
      ]
     },
     "metadata": {
      "needs_background": "light"
     },
     "output_type": "display_data"
    }
   ],
   "source": [
    "sns.barplot(x='application_date',y='case_count',data=FinanceOfferingCaseSegment2GroupByDateDec2018)"
   ]
  },
  {
   "cell_type": "code",
   "execution_count": 109,
   "metadata": {},
   "outputs": [
    {
     "data": {
      "text/plain": [
       "<matplotlib.axes._subplots.AxesSubplot at 0x299af75a648>"
      ]
     },
     "execution_count": 109,
     "metadata": {},
     "output_type": "execute_result"
    },
    {
     "data": {
      "image/png": "[encoded data removed]",
      "text/plain": [
       "<Figure size 432x288 with 1 Axes>"
      ]
     },
     "metadata": {
      "needs_background": "light"
     },
     "output_type": "display_data"
    }
   ],
   "source": [
    "sns.barplot(x='application_date',y='case_count',data=FinanceOfferingCaseSegment2GroupByDateJan2019)"
   ]
  },
  {
   "cell_type": "code",
   "execution_count": 110,
   "metadata": {},
   "outputs": [
    {
     "data": {
      "text/plain": [
       "<matplotlib.axes._subplots.AxesSubplot at 0x299af8a2d88>"
      ]
     },
     "execution_count": 110,
     "metadata": {},
     "output_type": "execute_result"
    },
    {
     "data": {
      "image/png": "[encoded data removed]",
      "text/plain": [
       "<Figure size 432x288 with 1 Axes>"
      ]
     },
     "metadata": {
      "needs_background": "light"
     },
     "output_type": "display_data"
    }
   ],
   "source": [
    "sns.barplot(x='application_date',y='case_count',data=FinanceOfferingCaseSegment2GroupByDateFeb2019)"
   ]
  },
  {
   "cell_type": "code",
   "execution_count": 111,
   "metadata": {},
   "outputs": [
    {
     "data": {
      "text/plain": [
       "<matplotlib.axes._subplots.AxesSubplot at 0x299af9f6088>"
      ]
     },
     "execution_count": 111,
     "metadata": {},
     "output_type": "execute_result"
    },
    {
     "data": {
      "image/png": "[encoded data removed]",
      "text/plain": [
       "<Figure size 432x288 with 1 Axes>"
      ]
     },
     "metadata": {
      "needs_background": "light"
     },
     "output_type": "display_data"
    }
   ],
   "source": [
    "sns.barplot(x='application_date',y='case_count',data=FinanceOfferingCaseSegment2GroupByDateMar2019)"
   ]
  },
  {
   "cell_type": "code",
   "execution_count": 112,
   "metadata": {},
   "outputs": [
    {
     "data": {
      "text/plain": [
       "<matplotlib.axes._subplots.AxesSubplot at 0x299a69eb448>"
      ]
     },
     "execution_count": 112,
     "metadata": {},
     "output_type": "execute_result"
    },
    {
     "data": {
      "image/png": "[encoded data removed]",
      "text/plain": [
       "<Figure size 432x288 with 1 Axes>"
      ]
     },
     "metadata": {
      "needs_background": "light"
     },
     "output_type": "display_data"
    }
   ],
   "source": [
    "sns.barplot(x='application_date',y='case_count',data=FinanceOfferingCaseSegment2GroupByDateApr2019)"
   ]
  },
  {
   "cell_type": "code",
   "execution_count": 113,
   "metadata": {},
   "outputs": [
    {
     "data": {
      "text/plain": [
       "<matplotlib.axes._subplots.AxesSubplot at 0x299afb43388>"
      ]
     },
     "execution_count": 113,
     "metadata": {},
     "output_type": "execute_result"
    },
    {
     "data": {
      "image/png": "[encoded data removed]",
      "text/plain": [
       "<Figure size 432x288 with 1 Axes>"
      ]
     },
     "metadata": {
      "needs_background": "light"
     },
     "output_type": "display_data"
    }
   ],
   "source": [
    "sns.barplot(x='application_date',y='case_count',data=FinanceOfferingCaseSegment2GroupByDateMay2019)"
   ]
  },
  {
   "cell_type": "code",
   "execution_count": 114,
   "metadata": {},
   "outputs": [
    {
     "data": {
      "text/plain": [
       "<matplotlib.axes._subplots.AxesSubplot at 0x299a7780188>"
      ]
     },
     "execution_count": 114,
     "metadata": {},
     "output_type": "execute_result"
    },
    {
     "data": {
      "image/png": "[encoded data removed]",
      "text/plain": [
       "<Figure size 432x288 with 1 Axes>"
      ]
     },
     "metadata": {
      "needs_background": "light"
     },
     "output_type": "display_data"
    }
   ],
   "source": [
    "sns.barplot(x='application_date',y='case_count',data=FinanceOfferingCaseSegment2GroupByDateJun2019)"
   ]
  },
  {
   "cell_type": "code",
   "execution_count": null,
   "metadata": {},
   "outputs": [],
   "source": [
    "# from sklearn.linear_model import LogisticRegression\n",
    "# from sklearn.tree import DecisionTreeClassifier\n",
    "# from sklearn.ensemble.forest import RandomForestClassifier,ExtraTreesClassifier\n",
    "# from sklearn.ensemble.bagging import BaggingClassifier\n",
    "# from sklearn.ensemble.gradient_boosting import GradientBoostingClassifier\n",
    "# from sklearn.neighbors import KNeighborsClassifier\n",
    "# from sklearn.naive_bayes import GaussianNB\n",
    "# from sklearn.discriminant_analysis import LinearDiscriminantAnalysis\n",
    "\n",
    "\n",
    "# model_gbc=GradientBoostingClassifier();\n",
    "# model_dt=DecisionTreeClassifier()\n",
    "# model_lr=LogisticRegression()\n",
    "# model_rf=RandomForestClassifier()\n",
    "# model_lda=LinearDiscriminantAnalysis()\n",
    "# model_etr=ExtraTreesClassifier()\n",
    "# model_n=KNeighborsClassifier()\n",
    "# model_gnb=GaussianNB()\n",
    "# model_bca=BaggingClassifier()\n",
    "\n",
    "# model_gbc.fit(X_train,y_train)\n",
    "# model_dt.fit(X_train,y_train)\n",
    "# model_lr.fit(X_train,y_train)\n",
    "# model_rf.fit(X_train,y_train)\n",
    "# model_lda.fit(X_train,y_train)\n",
    "# model_etr.fit(X_train,y_train)\n",
    "# model_n.fit(X_train,y_train)\n",
    "# model_gnb.fit(X_train,y_train)\n",
    "# model_bca.fit(X_train,y_train)\n",
    "\n",
    "\n",
    "# print(model_gbc.score(X_test,y_test),' gbc')\n",
    "# print(model_dt.score(X_test,y_test),' dt')\n",
    "# print(model_lr.score(X_test,y_test),' lr')\n",
    "# print(model_rf.score(X_test,y_test),' rf')\n",
    "# print(model_lda.score(X_test,y_test),' lda')\n",
    "# print(model_etr.score(X_test,y_test),' etr')\n",
    "# print(model_n.score(X_test,y_test),' n')\n",
    "# print(model_gnb.score(X_test,y_test),' gnb')\n",
    "# print(model_bca.score(X_test,y_test),' bca')"
   ]
  }
 ],
 "metadata": {
  "kernelspec": {
   "display_name": "Python 3",
   "language": "python",
   "name": "python3"
  },
  "language_info": {
   "codemirror_mode": {
    "name": "ipython",
    "version": 3
   },
   "file_extension": ".py",
   "mimetype": "text/x-python",
   "name": "python",
   "nbconvert_exporter": "python",
   "pygments_lexer": "ipython3",
   "version": "3.7.4"
  }
 },
 "nbformat": 4,
 "nbformat_minor": 2
}
